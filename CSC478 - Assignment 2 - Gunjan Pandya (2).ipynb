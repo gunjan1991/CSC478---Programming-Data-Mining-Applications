{
 "cells": [
  {
   "cell_type": "markdown",
   "metadata": {},
   "source": [
    "# CSC478 - Assignment 2 - Gunjan Pandya"
   ]
  },
  {
   "cell_type": "code",
   "execution_count": 286,
   "metadata": {
    "collapsed": false
   },
   "outputs": [
    {
     "data": {
      "text/plain": [
       "'C:\\\\Users\\\\GunjanPandya\\\\Downloads\\\\CSC478'"
      ]
     },
     "execution_count": 286,
     "metadata": {},
     "output_type": "execute_result"
    }
   ],
   "source": [
    "pwd"
   ]
  },
  {
   "cell_type": "code",
   "execution_count": 3,
   "metadata": {
    "collapsed": false
   },
   "outputs": [
    {
     "name": "stdout",
     "output_type": "stream",
     "text": [
      "C:\\Users\\GunjanPandya\\Downloads\\CSC478\\newsgroups\n"
     ]
    }
   ],
   "source": [
    "cd C:\\Users\\GunjanPandya\\Downloads\\CSC478\\newsgroups"
   ]
  },
  {
   "cell_type": "code",
   "execution_count": 4,
   "metadata": {
    "collapsed": true
   },
   "outputs": [],
   "source": [
    "# Importing Libraries\n",
    "\n",
    "import pandas as pd\n",
    "import numpy as np\n",
    "import matplotlib.pyplot as plt\n",
    "%matplotlib inline"
   ]
  },
  {
   "cell_type": "markdown",
   "metadata": {},
   "source": [
    "# 1. K-Nearest-Neighbor (KNN) classification on Newsgroups [Dataset: newsgroups.zip]\n",
    "For this problem you will use a subset of the 20 Newsgroup data set. The full data set contains 20,000 newsgroup documents, partitioned (nearly) evenly across 20 different newsgroups and has been often used for experiments in text applications of machine learning techniques, such as text classification and text clustering (see the description of the full dataset). The assignment data set contains a subset of 1000 documents and a vocabulary of  terms. Each document belongs to one of two classes Hockey (class label 1) and Microsoft Windows (class label 0). The data has already been split (80%, 20%) into training and test data. The class labels for the training and test data are also provided in separate files. The training and test data contain a row for each term in the vocabulary and a column for each document. The values in the table represent raw term frequencies. The data has already been preprocessed to extract terms, remove stop words and perform stemming (so, the vocabulary contains stems not full terms). Please be sure to read the readme.txt file in the distribution.\n",
    "\n",
    "Your tasks in this problem are the following [Note: for this problem you should not use scikit-learn or other external libraries other than Pandas, NumPy, standard Python libraries, and Matplotlib (if you would like to add some visualizations to your answers.]"
   ]
  },
  {
   "cell_type": "code",
   "execution_count": 211,
   "metadata": {
    "collapsed": false
   },
   "outputs": [],
   "source": [
    "# Loading the data\n",
    "\n",
    "train_data = pd.read_table('trainMatrixModified.txt',header=None)"
   ]
  },
  {
   "cell_type": "code",
   "execution_count": 212,
   "metadata": {
    "collapsed": false
   },
   "outputs": [
    {
     "data": {
      "text/html": [
       "<div>\n",
       "<table border=\"1\" class=\"dataframe\">\n",
       "  <thead>\n",
       "    <tr style=\"text-align: right;\">\n",
       "      <th></th>\n",
       "      <th>0</th>\n",
       "      <th>1</th>\n",
       "      <th>2</th>\n",
       "      <th>3</th>\n",
       "      <th>4</th>\n",
       "      <th>5</th>\n",
       "      <th>6</th>\n",
       "      <th>7</th>\n",
       "      <th>8</th>\n",
       "      <th>9</th>\n",
       "      <th>...</th>\n",
       "      <th>790</th>\n",
       "      <th>791</th>\n",
       "      <th>792</th>\n",
       "      <th>793</th>\n",
       "      <th>794</th>\n",
       "      <th>795</th>\n",
       "      <th>796</th>\n",
       "      <th>797</th>\n",
       "      <th>798</th>\n",
       "      <th>799</th>\n",
       "    </tr>\n",
       "  </thead>\n",
       "  <tbody>\n",
       "    <tr>\n",
       "      <th>0</th>\n",
       "      <td>2.0</td>\n",
       "      <td>0.0</td>\n",
       "      <td>0.0</td>\n",
       "      <td>2.0</td>\n",
       "      <td>2.0</td>\n",
       "      <td>0.0</td>\n",
       "      <td>0.0</td>\n",
       "      <td>0.0</td>\n",
       "      <td>0.0</td>\n",
       "      <td>0.0</td>\n",
       "      <td>...</td>\n",
       "      <td>0.0</td>\n",
       "      <td>0.0</td>\n",
       "      <td>0.0</td>\n",
       "      <td>0.0</td>\n",
       "      <td>0.0</td>\n",
       "      <td>0.0</td>\n",
       "      <td>0.0</td>\n",
       "      <td>0.0</td>\n",
       "      <td>0.0</td>\n",
       "      <td>0.0</td>\n",
       "    </tr>\n",
       "    <tr>\n",
       "      <th>1</th>\n",
       "      <td>2.0</td>\n",
       "      <td>0.0</td>\n",
       "      <td>0.0</td>\n",
       "      <td>0.0</td>\n",
       "      <td>0.0</td>\n",
       "      <td>0.0</td>\n",
       "      <td>0.0</td>\n",
       "      <td>0.0</td>\n",
       "      <td>0.0</td>\n",
       "      <td>0.0</td>\n",
       "      <td>...</td>\n",
       "      <td>0.0</td>\n",
       "      <td>0.0</td>\n",
       "      <td>3.0</td>\n",
       "      <td>0.0</td>\n",
       "      <td>0.0</td>\n",
       "      <td>0.0</td>\n",
       "      <td>0.0</td>\n",
       "      <td>0.0</td>\n",
       "      <td>0.0</td>\n",
       "      <td>0.0</td>\n",
       "    </tr>\n",
       "    <tr>\n",
       "      <th>2</th>\n",
       "      <td>2.0</td>\n",
       "      <td>0.0</td>\n",
       "      <td>0.0</td>\n",
       "      <td>0.0</td>\n",
       "      <td>0.0</td>\n",
       "      <td>0.0</td>\n",
       "      <td>0.0</td>\n",
       "      <td>0.0</td>\n",
       "      <td>0.0</td>\n",
       "      <td>0.0</td>\n",
       "      <td>...</td>\n",
       "      <td>0.0</td>\n",
       "      <td>0.0</td>\n",
       "      <td>0.0</td>\n",
       "      <td>0.0</td>\n",
       "      <td>0.0</td>\n",
       "      <td>0.0</td>\n",
       "      <td>0.0</td>\n",
       "      <td>0.0</td>\n",
       "      <td>0.0</td>\n",
       "      <td>0.0</td>\n",
       "    </tr>\n",
       "    <tr>\n",
       "      <th>3</th>\n",
       "      <td>1.0</td>\n",
       "      <td>1.0</td>\n",
       "      <td>1.0</td>\n",
       "      <td>1.0</td>\n",
       "      <td>1.0</td>\n",
       "      <td>1.0</td>\n",
       "      <td>2.0</td>\n",
       "      <td>1.0</td>\n",
       "      <td>1.0</td>\n",
       "      <td>1.0</td>\n",
       "      <td>...</td>\n",
       "      <td>1.0</td>\n",
       "      <td>1.0</td>\n",
       "      <td>1.0</td>\n",
       "      <td>1.0</td>\n",
       "      <td>1.0</td>\n",
       "      <td>1.0</td>\n",
       "      <td>1.0</td>\n",
       "      <td>1.0</td>\n",
       "      <td>1.0</td>\n",
       "      <td>1.0</td>\n",
       "    </tr>\n",
       "    <tr>\n",
       "      <th>4</th>\n",
       "      <td>8.0</td>\n",
       "      <td>1.0</td>\n",
       "      <td>0.0</td>\n",
       "      <td>0.0</td>\n",
       "      <td>0.0</td>\n",
       "      <td>0.0</td>\n",
       "      <td>0.0</td>\n",
       "      <td>0.0</td>\n",
       "      <td>0.0</td>\n",
       "      <td>0.0</td>\n",
       "      <td>...</td>\n",
       "      <td>0.0</td>\n",
       "      <td>0.0</td>\n",
       "      <td>2.0</td>\n",
       "      <td>0.0</td>\n",
       "      <td>0.0</td>\n",
       "      <td>0.0</td>\n",
       "      <td>0.0</td>\n",
       "      <td>0.0</td>\n",
       "      <td>0.0</td>\n",
       "      <td>1.0</td>\n",
       "    </tr>\n",
       "  </tbody>\n",
       "</table>\n",
       "<p>5 rows × 800 columns</p>\n",
       "</div>"
      ],
      "text/plain": [
       "   0    1    2    3    4    5    6    7    8    9   ...   790  791  792  793  \\\n",
       "0  2.0  0.0  0.0  2.0  2.0  0.0  0.0  0.0  0.0  0.0 ...   0.0  0.0  0.0  0.0   \n",
       "1  2.0  0.0  0.0  0.0  0.0  0.0  0.0  0.0  0.0  0.0 ...   0.0  0.0  3.0  0.0   \n",
       "2  2.0  0.0  0.0  0.0  0.0  0.0  0.0  0.0  0.0  0.0 ...   0.0  0.0  0.0  0.0   \n",
       "3  1.0  1.0  1.0  1.0  1.0  1.0  2.0  1.0  1.0  1.0 ...   1.0  1.0  1.0  1.0   \n",
       "4  8.0  1.0  0.0  0.0  0.0  0.0  0.0  0.0  0.0  0.0 ...   0.0  0.0  2.0  0.0   \n",
       "\n",
       "   794  795  796  797  798  799  \n",
       "0  0.0  0.0  0.0  0.0  0.0  0.0  \n",
       "1  0.0  0.0  0.0  0.0  0.0  0.0  \n",
       "2  0.0  0.0  0.0  0.0  0.0  0.0  \n",
       "3  1.0  1.0  1.0  1.0  1.0  1.0  \n",
       "4  0.0  0.0  0.0  0.0  0.0  1.0  \n",
       "\n",
       "[5 rows x 800 columns]"
      ]
     },
     "execution_count": 212,
     "metadata": {},
     "output_type": "execute_result"
    }
   ],
   "source": [
    "train_data.head()"
   ]
  },
  {
   "cell_type": "code",
   "execution_count": 213,
   "metadata": {
    "collapsed": false
   },
   "outputs": [
    {
     "data": {
      "text/plain": [
       "(5500, 800)"
      ]
     },
     "execution_count": 213,
     "metadata": {},
     "output_type": "execute_result"
    }
   ],
   "source": [
    "train_data.shape"
   ]
  },
  {
   "cell_type": "code",
   "execution_count": 214,
   "metadata": {
    "collapsed": true
   },
   "outputs": [],
   "source": [
    "test_data = pd.read_table('testMatrixModified.txt',header=None)"
   ]
  },
  {
   "cell_type": "code",
   "execution_count": 215,
   "metadata": {
    "collapsed": false
   },
   "outputs": [
    {
     "data": {
      "text/html": [
       "<div>\n",
       "<table border=\"1\" class=\"dataframe\">\n",
       "  <thead>\n",
       "    <tr style=\"text-align: right;\">\n",
       "      <th></th>\n",
       "      <th>0</th>\n",
       "      <th>1</th>\n",
       "      <th>2</th>\n",
       "      <th>3</th>\n",
       "      <th>4</th>\n",
       "      <th>5</th>\n",
       "      <th>6</th>\n",
       "      <th>7</th>\n",
       "      <th>8</th>\n",
       "      <th>9</th>\n",
       "      <th>...</th>\n",
       "      <th>190</th>\n",
       "      <th>191</th>\n",
       "      <th>192</th>\n",
       "      <th>193</th>\n",
       "      <th>194</th>\n",
       "      <th>195</th>\n",
       "      <th>196</th>\n",
       "      <th>197</th>\n",
       "      <th>198</th>\n",
       "      <th>199</th>\n",
       "    </tr>\n",
       "  </thead>\n",
       "  <tbody>\n",
       "    <tr>\n",
       "      <th>0</th>\n",
       "      <td>0.0</td>\n",
       "      <td>0.0</td>\n",
       "      <td>1.0</td>\n",
       "      <td>0.0</td>\n",
       "      <td>0.0</td>\n",
       "      <td>0.0</td>\n",
       "      <td>0.0</td>\n",
       "      <td>0.0</td>\n",
       "      <td>0.0</td>\n",
       "      <td>0.0</td>\n",
       "      <td>...</td>\n",
       "      <td>0.0</td>\n",
       "      <td>0.0</td>\n",
       "      <td>0.0</td>\n",
       "      <td>0.0</td>\n",
       "      <td>0.0</td>\n",
       "      <td>0.0</td>\n",
       "      <td>0.0</td>\n",
       "      <td>0.0</td>\n",
       "      <td>0.0</td>\n",
       "      <td>0.0</td>\n",
       "    </tr>\n",
       "    <tr>\n",
       "      <th>1</th>\n",
       "      <td>0.0</td>\n",
       "      <td>0.0</td>\n",
       "      <td>0.0</td>\n",
       "      <td>0.0</td>\n",
       "      <td>0.0</td>\n",
       "      <td>0.0</td>\n",
       "      <td>0.0</td>\n",
       "      <td>0.0</td>\n",
       "      <td>0.0</td>\n",
       "      <td>0.0</td>\n",
       "      <td>...</td>\n",
       "      <td>0.0</td>\n",
       "      <td>0.0</td>\n",
       "      <td>0.0</td>\n",
       "      <td>0.0</td>\n",
       "      <td>0.0</td>\n",
       "      <td>0.0</td>\n",
       "      <td>0.0</td>\n",
       "      <td>0.0</td>\n",
       "      <td>0.0</td>\n",
       "      <td>0.0</td>\n",
       "    </tr>\n",
       "    <tr>\n",
       "      <th>2</th>\n",
       "      <td>0.0</td>\n",
       "      <td>0.0</td>\n",
       "      <td>0.0</td>\n",
       "      <td>0.0</td>\n",
       "      <td>0.0</td>\n",
       "      <td>0.0</td>\n",
       "      <td>0.0</td>\n",
       "      <td>0.0</td>\n",
       "      <td>0.0</td>\n",
       "      <td>0.0</td>\n",
       "      <td>...</td>\n",
       "      <td>0.0</td>\n",
       "      <td>0.0</td>\n",
       "      <td>0.0</td>\n",
       "      <td>0.0</td>\n",
       "      <td>0.0</td>\n",
       "      <td>0.0</td>\n",
       "      <td>0.0</td>\n",
       "      <td>0.0</td>\n",
       "      <td>0.0</td>\n",
       "      <td>0.0</td>\n",
       "    </tr>\n",
       "    <tr>\n",
       "      <th>3</th>\n",
       "      <td>1.0</td>\n",
       "      <td>1.0</td>\n",
       "      <td>1.0</td>\n",
       "      <td>1.0</td>\n",
       "      <td>1.0</td>\n",
       "      <td>1.0</td>\n",
       "      <td>2.0</td>\n",
       "      <td>1.0</td>\n",
       "      <td>1.0</td>\n",
       "      <td>1.0</td>\n",
       "      <td>...</td>\n",
       "      <td>1.0</td>\n",
       "      <td>2.0</td>\n",
       "      <td>1.0</td>\n",
       "      <td>1.0</td>\n",
       "      <td>1.0</td>\n",
       "      <td>1.0</td>\n",
       "      <td>1.0</td>\n",
       "      <td>1.0</td>\n",
       "      <td>1.0</td>\n",
       "      <td>1.0</td>\n",
       "    </tr>\n",
       "    <tr>\n",
       "      <th>4</th>\n",
       "      <td>0.0</td>\n",
       "      <td>0.0</td>\n",
       "      <td>0.0</td>\n",
       "      <td>0.0</td>\n",
       "      <td>0.0</td>\n",
       "      <td>0.0</td>\n",
       "      <td>0.0</td>\n",
       "      <td>0.0</td>\n",
       "      <td>2.0</td>\n",
       "      <td>0.0</td>\n",
       "      <td>...</td>\n",
       "      <td>0.0</td>\n",
       "      <td>0.0</td>\n",
       "      <td>0.0</td>\n",
       "      <td>0.0</td>\n",
       "      <td>0.0</td>\n",
       "      <td>0.0</td>\n",
       "      <td>0.0</td>\n",
       "      <td>0.0</td>\n",
       "      <td>0.0</td>\n",
       "      <td>0.0</td>\n",
       "    </tr>\n",
       "  </tbody>\n",
       "</table>\n",
       "<p>5 rows × 200 columns</p>\n",
       "</div>"
      ],
      "text/plain": [
       "   0    1    2    3    4    5    6    7    8    9   ...   190  191  192  193  \\\n",
       "0  0.0  0.0  1.0  0.0  0.0  0.0  0.0  0.0  0.0  0.0 ...   0.0  0.0  0.0  0.0   \n",
       "1  0.0  0.0  0.0  0.0  0.0  0.0  0.0  0.0  0.0  0.0 ...   0.0  0.0  0.0  0.0   \n",
       "2  0.0  0.0  0.0  0.0  0.0  0.0  0.0  0.0  0.0  0.0 ...   0.0  0.0  0.0  0.0   \n",
       "3  1.0  1.0  1.0  1.0  1.0  1.0  2.0  1.0  1.0  1.0 ...   1.0  2.0  1.0  1.0   \n",
       "4  0.0  0.0  0.0  0.0  0.0  0.0  0.0  0.0  2.0  0.0 ...   0.0  0.0  0.0  0.0   \n",
       "\n",
       "   194  195  196  197  198  199  \n",
       "0  0.0  0.0  0.0  0.0  0.0  0.0  \n",
       "1  0.0  0.0  0.0  0.0  0.0  0.0  \n",
       "2  0.0  0.0  0.0  0.0  0.0  0.0  \n",
       "3  1.0  1.0  1.0  1.0  1.0  1.0  \n",
       "4  0.0  0.0  0.0  0.0  0.0  0.0  \n",
       "\n",
       "[5 rows x 200 columns]"
      ]
     },
     "execution_count": 215,
     "metadata": {},
     "output_type": "execute_result"
    }
   ],
   "source": [
    "test_data.head()"
   ]
  },
  {
   "cell_type": "code",
   "execution_count": 216,
   "metadata": {
    "collapsed": false
   },
   "outputs": [
    {
     "data": {
      "text/plain": [
       "(5500, 200)"
      ]
     },
     "execution_count": 216,
     "metadata": {},
     "output_type": "execute_result"
    }
   ],
   "source": [
    "test_data.shape"
   ]
  },
  {
   "cell_type": "code",
   "execution_count": 217,
   "metadata": {
    "collapsed": true
   },
   "outputs": [],
   "source": [
    "terms = pd.read_table('modifiedterms.txt',header=None)"
   ]
  },
  {
   "cell_type": "code",
   "execution_count": 218,
   "metadata": {
    "collapsed": false
   },
   "outputs": [
    {
     "data": {
      "text/html": [
       "<div>\n",
       "<table border=\"1\" class=\"dataframe\">\n",
       "  <thead>\n",
       "    <tr style=\"text-align: right;\">\n",
       "      <th></th>\n",
       "      <th>0</th>\n",
       "    </tr>\n",
       "  </thead>\n",
       "  <tbody>\n",
       "    <tr>\n",
       "      <th>0</th>\n",
       "      <td>david</td>\n",
       "    </tr>\n",
       "    <tr>\n",
       "      <th>1</th>\n",
       "      <td>rex</td>\n",
       "    </tr>\n",
       "    <tr>\n",
       "      <th>2</th>\n",
       "      <td>wood</td>\n",
       "    </tr>\n",
       "    <tr>\n",
       "      <th>3</th>\n",
       "      <td>subject</td>\n",
       "    </tr>\n",
       "    <tr>\n",
       "      <th>4</th>\n",
       "      <td>call</td>\n",
       "    </tr>\n",
       "  </tbody>\n",
       "</table>\n",
       "</div>"
      ],
      "text/plain": [
       "         0\n",
       "0    david\n",
       "1      rex\n",
       "2     wood\n",
       "3  subject\n",
       "4     call"
      ]
     },
     "execution_count": 218,
     "metadata": {},
     "output_type": "execute_result"
    }
   ],
   "source": [
    "terms.head()"
   ]
  },
  {
   "cell_type": "code",
   "execution_count": 219,
   "metadata": {
    "collapsed": false
   },
   "outputs": [
    {
     "data": {
      "text/plain": [
       "(5500, 1)"
      ]
     },
     "execution_count": 219,
     "metadata": {},
     "output_type": "execute_result"
    }
   ],
   "source": [
    "terms.shape"
   ]
  },
  {
   "cell_type": "code",
   "execution_count": 220,
   "metadata": {
    "collapsed": true
   },
   "outputs": [],
   "source": [
    "train_classes = pd.read_table('trainClasses.txt',header=None)"
   ]
  },
  {
   "cell_type": "code",
   "execution_count": 221,
   "metadata": {
    "collapsed": false
   },
   "outputs": [
    {
     "data": {
      "text/html": [
       "<div>\n",
       "<table border=\"1\" class=\"dataframe\">\n",
       "  <thead>\n",
       "    <tr style=\"text-align: right;\">\n",
       "      <th></th>\n",
       "      <th>0</th>\n",
       "      <th>1</th>\n",
       "    </tr>\n",
       "  </thead>\n",
       "  <tbody>\n",
       "    <tr>\n",
       "      <th>0</th>\n",
       "      <td>0</td>\n",
       "      <td>0</td>\n",
       "    </tr>\n",
       "    <tr>\n",
       "      <th>1</th>\n",
       "      <td>1</td>\n",
       "      <td>1</td>\n",
       "    </tr>\n",
       "    <tr>\n",
       "      <th>2</th>\n",
       "      <td>2</td>\n",
       "      <td>0</td>\n",
       "    </tr>\n",
       "    <tr>\n",
       "      <th>3</th>\n",
       "      <td>3</td>\n",
       "      <td>1</td>\n",
       "    </tr>\n",
       "    <tr>\n",
       "      <th>4</th>\n",
       "      <td>4</td>\n",
       "      <td>0</td>\n",
       "    </tr>\n",
       "  </tbody>\n",
       "</table>\n",
       "</div>"
      ],
      "text/plain": [
       "   0  1\n",
       "0  0  0\n",
       "1  1  1\n",
       "2  2  0\n",
       "3  3  1\n",
       "4  4  0"
      ]
     },
     "execution_count": 221,
     "metadata": {},
     "output_type": "execute_result"
    }
   ],
   "source": [
    "train_classes.head()"
   ]
  },
  {
   "cell_type": "code",
   "execution_count": 237,
   "metadata": {
    "collapsed": false
   },
   "outputs": [
    {
     "data": {
      "text/html": [
       "<div>\n",
       "<table border=\"1\" class=\"dataframe\">\n",
       "  <thead>\n",
       "    <tr style=\"text-align: right;\">\n",
       "      <th></th>\n",
       "      <th>1</th>\n",
       "    </tr>\n",
       "  </thead>\n",
       "  <tbody>\n",
       "    <tr>\n",
       "      <th>0</th>\n",
       "      <td>0</td>\n",
       "    </tr>\n",
       "    <tr>\n",
       "      <th>1</th>\n",
       "      <td>1</td>\n",
       "    </tr>\n",
       "    <tr>\n",
       "      <th>2</th>\n",
       "      <td>0</td>\n",
       "    </tr>\n",
       "    <tr>\n",
       "      <th>3</th>\n",
       "      <td>1</td>\n",
       "    </tr>\n",
       "    <tr>\n",
       "      <th>4</th>\n",
       "      <td>0</td>\n",
       "    </tr>\n",
       "  </tbody>\n",
       "</table>\n",
       "</div>"
      ],
      "text/plain": [
       "   1\n",
       "0  0\n",
       "1  1\n",
       "2  0\n",
       "3  1\n",
       "4  0"
      ]
     },
     "execution_count": 237,
     "metadata": {},
     "output_type": "execute_result"
    }
   ],
   "source": [
    "train_labels = train_classes.drop(train_classes.columns[0], axis=1)\n",
    "train_labels.head()"
   ]
  },
  {
   "cell_type": "code",
   "execution_count": 233,
   "metadata": {
    "collapsed": true
   },
   "outputs": [],
   "source": [
    "test_classes = pd.read_table('testClasses.txt',header=None)"
   ]
  },
  {
   "cell_type": "code",
   "execution_count": 234,
   "metadata": {
    "collapsed": false
   },
   "outputs": [
    {
     "data": {
      "text/html": [
       "<div>\n",
       "<table border=\"1\" class=\"dataframe\">\n",
       "  <thead>\n",
       "    <tr style=\"text-align: right;\">\n",
       "      <th></th>\n",
       "      <th>0</th>\n",
       "      <th>1</th>\n",
       "    </tr>\n",
       "  </thead>\n",
       "  <tbody>\n",
       "    <tr>\n",
       "      <th>0</th>\n",
       "      <td>0</td>\n",
       "      <td>1</td>\n",
       "    </tr>\n",
       "    <tr>\n",
       "      <th>1</th>\n",
       "      <td>1</td>\n",
       "      <td>0</td>\n",
       "    </tr>\n",
       "    <tr>\n",
       "      <th>2</th>\n",
       "      <td>2</td>\n",
       "      <td>0</td>\n",
       "    </tr>\n",
       "    <tr>\n",
       "      <th>3</th>\n",
       "      <td>3</td>\n",
       "      <td>1</td>\n",
       "    </tr>\n",
       "    <tr>\n",
       "      <th>4</th>\n",
       "      <td>4</td>\n",
       "      <td>1</td>\n",
       "    </tr>\n",
       "  </tbody>\n",
       "</table>\n",
       "</div>"
      ],
      "text/plain": [
       "   0  1\n",
       "0  0  1\n",
       "1  1  0\n",
       "2  2  0\n",
       "3  3  1\n",
       "4  4  1"
      ]
     },
     "execution_count": 234,
     "metadata": {},
     "output_type": "execute_result"
    }
   ],
   "source": [
    "test_classes.head()"
   ]
  },
  {
   "cell_type": "code",
   "execution_count": 236,
   "metadata": {
    "collapsed": false
   },
   "outputs": [
    {
     "data": {
      "text/html": [
       "<div>\n",
       "<table border=\"1\" class=\"dataframe\">\n",
       "  <thead>\n",
       "    <tr style=\"text-align: right;\">\n",
       "      <th></th>\n",
       "      <th>1</th>\n",
       "    </tr>\n",
       "  </thead>\n",
       "  <tbody>\n",
       "    <tr>\n",
       "      <th>0</th>\n",
       "      <td>1</td>\n",
       "    </tr>\n",
       "    <tr>\n",
       "      <th>1</th>\n",
       "      <td>0</td>\n",
       "    </tr>\n",
       "    <tr>\n",
       "      <th>2</th>\n",
       "      <td>0</td>\n",
       "    </tr>\n",
       "    <tr>\n",
       "      <th>3</th>\n",
       "      <td>1</td>\n",
       "    </tr>\n",
       "    <tr>\n",
       "      <th>4</th>\n",
       "      <td>1</td>\n",
       "    </tr>\n",
       "    <tr>\n",
       "      <th>5</th>\n",
       "      <td>0</td>\n",
       "    </tr>\n",
       "    <tr>\n",
       "      <th>6</th>\n",
       "      <td>1</td>\n",
       "    </tr>\n",
       "    <tr>\n",
       "      <th>7</th>\n",
       "      <td>1</td>\n",
       "    </tr>\n",
       "    <tr>\n",
       "      <th>8</th>\n",
       "      <td>0</td>\n",
       "    </tr>\n",
       "    <tr>\n",
       "      <th>9</th>\n",
       "      <td>1</td>\n",
       "    </tr>\n",
       "    <tr>\n",
       "      <th>10</th>\n",
       "      <td>0</td>\n",
       "    </tr>\n",
       "    <tr>\n",
       "      <th>11</th>\n",
       "      <td>1</td>\n",
       "    </tr>\n",
       "    <tr>\n",
       "      <th>12</th>\n",
       "      <td>0</td>\n",
       "    </tr>\n",
       "    <tr>\n",
       "      <th>13</th>\n",
       "      <td>0</td>\n",
       "    </tr>\n",
       "    <tr>\n",
       "      <th>14</th>\n",
       "      <td>1</td>\n",
       "    </tr>\n",
       "    <tr>\n",
       "      <th>15</th>\n",
       "      <td>1</td>\n",
       "    </tr>\n",
       "    <tr>\n",
       "      <th>16</th>\n",
       "      <td>0</td>\n",
       "    </tr>\n",
       "    <tr>\n",
       "      <th>17</th>\n",
       "      <td>1</td>\n",
       "    </tr>\n",
       "    <tr>\n",
       "      <th>18</th>\n",
       "      <td>0</td>\n",
       "    </tr>\n",
       "    <tr>\n",
       "      <th>19</th>\n",
       "      <td>0</td>\n",
       "    </tr>\n",
       "    <tr>\n",
       "      <th>20</th>\n",
       "      <td>0</td>\n",
       "    </tr>\n",
       "    <tr>\n",
       "      <th>21</th>\n",
       "      <td>0</td>\n",
       "    </tr>\n",
       "    <tr>\n",
       "      <th>22</th>\n",
       "      <td>0</td>\n",
       "    </tr>\n",
       "    <tr>\n",
       "      <th>23</th>\n",
       "      <td>0</td>\n",
       "    </tr>\n",
       "    <tr>\n",
       "      <th>24</th>\n",
       "      <td>1</td>\n",
       "    </tr>\n",
       "    <tr>\n",
       "      <th>25</th>\n",
       "      <td>1</td>\n",
       "    </tr>\n",
       "    <tr>\n",
       "      <th>26</th>\n",
       "      <td>1</td>\n",
       "    </tr>\n",
       "    <tr>\n",
       "      <th>27</th>\n",
       "      <td>0</td>\n",
       "    </tr>\n",
       "    <tr>\n",
       "      <th>28</th>\n",
       "      <td>1</td>\n",
       "    </tr>\n",
       "    <tr>\n",
       "      <th>29</th>\n",
       "      <td>1</td>\n",
       "    </tr>\n",
       "    <tr>\n",
       "      <th>...</th>\n",
       "      <td>...</td>\n",
       "    </tr>\n",
       "    <tr>\n",
       "      <th>170</th>\n",
       "      <td>1</td>\n",
       "    </tr>\n",
       "    <tr>\n",
       "      <th>171</th>\n",
       "      <td>1</td>\n",
       "    </tr>\n",
       "    <tr>\n",
       "      <th>172</th>\n",
       "      <td>1</td>\n",
       "    </tr>\n",
       "    <tr>\n",
       "      <th>173</th>\n",
       "      <td>0</td>\n",
       "    </tr>\n",
       "    <tr>\n",
       "      <th>174</th>\n",
       "      <td>1</td>\n",
       "    </tr>\n",
       "    <tr>\n",
       "      <th>175</th>\n",
       "      <td>1</td>\n",
       "    </tr>\n",
       "    <tr>\n",
       "      <th>176</th>\n",
       "      <td>0</td>\n",
       "    </tr>\n",
       "    <tr>\n",
       "      <th>177</th>\n",
       "      <td>1</td>\n",
       "    </tr>\n",
       "    <tr>\n",
       "      <th>178</th>\n",
       "      <td>0</td>\n",
       "    </tr>\n",
       "    <tr>\n",
       "      <th>179</th>\n",
       "      <td>1</td>\n",
       "    </tr>\n",
       "    <tr>\n",
       "      <th>180</th>\n",
       "      <td>1</td>\n",
       "    </tr>\n",
       "    <tr>\n",
       "      <th>181</th>\n",
       "      <td>1</td>\n",
       "    </tr>\n",
       "    <tr>\n",
       "      <th>182</th>\n",
       "      <td>1</td>\n",
       "    </tr>\n",
       "    <tr>\n",
       "      <th>183</th>\n",
       "      <td>0</td>\n",
       "    </tr>\n",
       "    <tr>\n",
       "      <th>184</th>\n",
       "      <td>1</td>\n",
       "    </tr>\n",
       "    <tr>\n",
       "      <th>185</th>\n",
       "      <td>0</td>\n",
       "    </tr>\n",
       "    <tr>\n",
       "      <th>186</th>\n",
       "      <td>1</td>\n",
       "    </tr>\n",
       "    <tr>\n",
       "      <th>187</th>\n",
       "      <td>0</td>\n",
       "    </tr>\n",
       "    <tr>\n",
       "      <th>188</th>\n",
       "      <td>1</td>\n",
       "    </tr>\n",
       "    <tr>\n",
       "      <th>189</th>\n",
       "      <td>1</td>\n",
       "    </tr>\n",
       "    <tr>\n",
       "      <th>190</th>\n",
       "      <td>0</td>\n",
       "    </tr>\n",
       "    <tr>\n",
       "      <th>191</th>\n",
       "      <td>0</td>\n",
       "    </tr>\n",
       "    <tr>\n",
       "      <th>192</th>\n",
       "      <td>0</td>\n",
       "    </tr>\n",
       "    <tr>\n",
       "      <th>193</th>\n",
       "      <td>0</td>\n",
       "    </tr>\n",
       "    <tr>\n",
       "      <th>194</th>\n",
       "      <td>0</td>\n",
       "    </tr>\n",
       "    <tr>\n",
       "      <th>195</th>\n",
       "      <td>1</td>\n",
       "    </tr>\n",
       "    <tr>\n",
       "      <th>196</th>\n",
       "      <td>1</td>\n",
       "    </tr>\n",
       "    <tr>\n",
       "      <th>197</th>\n",
       "      <td>0</td>\n",
       "    </tr>\n",
       "    <tr>\n",
       "      <th>198</th>\n",
       "      <td>1</td>\n",
       "    </tr>\n",
       "    <tr>\n",
       "      <th>199</th>\n",
       "      <td>1</td>\n",
       "    </tr>\n",
       "  </tbody>\n",
       "</table>\n",
       "<p>200 rows × 1 columns</p>\n",
       "</div>"
      ],
      "text/plain": [
       "     1\n",
       "0    1\n",
       "1    0\n",
       "2    0\n",
       "3    1\n",
       "4    1\n",
       "5    0\n",
       "6    1\n",
       "7    1\n",
       "8    0\n",
       "9    1\n",
       "10   0\n",
       "11   1\n",
       "12   0\n",
       "13   0\n",
       "14   1\n",
       "15   1\n",
       "16   0\n",
       "17   1\n",
       "18   0\n",
       "19   0\n",
       "20   0\n",
       "21   0\n",
       "22   0\n",
       "23   0\n",
       "24   1\n",
       "25   1\n",
       "26   1\n",
       "27   0\n",
       "28   1\n",
       "29   1\n",
       "..  ..\n",
       "170  1\n",
       "171  1\n",
       "172  1\n",
       "173  0\n",
       "174  1\n",
       "175  1\n",
       "176  0\n",
       "177  1\n",
       "178  0\n",
       "179  1\n",
       "180  1\n",
       "181  1\n",
       "182  1\n",
       "183  0\n",
       "184  1\n",
       "185  0\n",
       "186  1\n",
       "187  0\n",
       "188  1\n",
       "189  1\n",
       "190  0\n",
       "191  0\n",
       "192  0\n",
       "193  0\n",
       "194  0\n",
       "195  1\n",
       "196  1\n",
       "197  0\n",
       "198  1\n",
       "199  1\n",
       "\n",
       "[200 rows x 1 columns]"
      ]
     },
     "execution_count": 236,
     "metadata": {},
     "output_type": "execute_result"
    }
   ],
   "source": [
    "test_labels = test_classes.drop(test_classes.columns[0], axis=1)\n",
    "test_labels"
   ]
  },
  {
   "cell_type": "code",
   "execution_count": 239,
   "metadata": {
    "collapsed": false
   },
   "outputs": [],
   "source": [
    "#converting from TD to DT matrix\n",
    "\n",
    "DT_train = train_data.T\n",
    "DT_test = test_data.T"
   ]
  },
  {
   "cell_type": "code",
   "execution_count": 240,
   "metadata": {
    "collapsed": false
   },
   "outputs": [
    {
     "data": {
      "text/html": [
       "<div>\n",
       "<table border=\"1\" class=\"dataframe\">\n",
       "  <thead>\n",
       "    <tr style=\"text-align: right;\">\n",
       "      <th></th>\n",
       "      <th>0</th>\n",
       "      <th>1</th>\n",
       "      <th>2</th>\n",
       "      <th>3</th>\n",
       "      <th>4</th>\n",
       "      <th>5</th>\n",
       "      <th>6</th>\n",
       "      <th>7</th>\n",
       "      <th>8</th>\n",
       "      <th>9</th>\n",
       "      <th>...</th>\n",
       "      <th>5490</th>\n",
       "      <th>5491</th>\n",
       "      <th>5492</th>\n",
       "      <th>5493</th>\n",
       "      <th>5494</th>\n",
       "      <th>5495</th>\n",
       "      <th>5496</th>\n",
       "      <th>5497</th>\n",
       "      <th>5498</th>\n",
       "      <th>5499</th>\n",
       "    </tr>\n",
       "  </thead>\n",
       "  <tbody>\n",
       "    <tr>\n",
       "      <th>0</th>\n",
       "      <td>2.0</td>\n",
       "      <td>2.0</td>\n",
       "      <td>2.0</td>\n",
       "      <td>1.0</td>\n",
       "      <td>8.0</td>\n",
       "      <td>6.0</td>\n",
       "      <td>2.0</td>\n",
       "      <td>8.0</td>\n",
       "      <td>2.0</td>\n",
       "      <td>4.0</td>\n",
       "      <td>...</td>\n",
       "      <td>0.0</td>\n",
       "      <td>0.0</td>\n",
       "      <td>0.0</td>\n",
       "      <td>0.0</td>\n",
       "      <td>0.0</td>\n",
       "      <td>0.0</td>\n",
       "      <td>0.0</td>\n",
       "      <td>0.0</td>\n",
       "      <td>0.0</td>\n",
       "      <td>0.0</td>\n",
       "    </tr>\n",
       "    <tr>\n",
       "      <th>1</th>\n",
       "      <td>0.0</td>\n",
       "      <td>0.0</td>\n",
       "      <td>0.0</td>\n",
       "      <td>1.0</td>\n",
       "      <td>1.0</td>\n",
       "      <td>0.0</td>\n",
       "      <td>0.0</td>\n",
       "      <td>0.0</td>\n",
       "      <td>0.0</td>\n",
       "      <td>0.0</td>\n",
       "      <td>...</td>\n",
       "      <td>0.0</td>\n",
       "      <td>0.0</td>\n",
       "      <td>0.0</td>\n",
       "      <td>0.0</td>\n",
       "      <td>0.0</td>\n",
       "      <td>0.0</td>\n",
       "      <td>0.0</td>\n",
       "      <td>0.0</td>\n",
       "      <td>0.0</td>\n",
       "      <td>0.0</td>\n",
       "    </tr>\n",
       "    <tr>\n",
       "      <th>2</th>\n",
       "      <td>0.0</td>\n",
       "      <td>0.0</td>\n",
       "      <td>0.0</td>\n",
       "      <td>1.0</td>\n",
       "      <td>0.0</td>\n",
       "      <td>0.0</td>\n",
       "      <td>0.0</td>\n",
       "      <td>2.0</td>\n",
       "      <td>0.0</td>\n",
       "      <td>1.0</td>\n",
       "      <td>...</td>\n",
       "      <td>0.0</td>\n",
       "      <td>0.0</td>\n",
       "      <td>0.0</td>\n",
       "      <td>0.0</td>\n",
       "      <td>0.0</td>\n",
       "      <td>0.0</td>\n",
       "      <td>0.0</td>\n",
       "      <td>0.0</td>\n",
       "      <td>0.0</td>\n",
       "      <td>0.0</td>\n",
       "    </tr>\n",
       "    <tr>\n",
       "      <th>3</th>\n",
       "      <td>2.0</td>\n",
       "      <td>0.0</td>\n",
       "      <td>0.0</td>\n",
       "      <td>1.0</td>\n",
       "      <td>0.0</td>\n",
       "      <td>0.0</td>\n",
       "      <td>0.0</td>\n",
       "      <td>0.0</td>\n",
       "      <td>0.0</td>\n",
       "      <td>0.0</td>\n",
       "      <td>...</td>\n",
       "      <td>0.0</td>\n",
       "      <td>0.0</td>\n",
       "      <td>0.0</td>\n",
       "      <td>0.0</td>\n",
       "      <td>0.0</td>\n",
       "      <td>0.0</td>\n",
       "      <td>0.0</td>\n",
       "      <td>0.0</td>\n",
       "      <td>0.0</td>\n",
       "      <td>0.0</td>\n",
       "    </tr>\n",
       "    <tr>\n",
       "      <th>4</th>\n",
       "      <td>2.0</td>\n",
       "      <td>0.0</td>\n",
       "      <td>0.0</td>\n",
       "      <td>1.0</td>\n",
       "      <td>0.0</td>\n",
       "      <td>0.0</td>\n",
       "      <td>0.0</td>\n",
       "      <td>0.0</td>\n",
       "      <td>0.0</td>\n",
       "      <td>0.0</td>\n",
       "      <td>...</td>\n",
       "      <td>0.0</td>\n",
       "      <td>0.0</td>\n",
       "      <td>0.0</td>\n",
       "      <td>0.0</td>\n",
       "      <td>0.0</td>\n",
       "      <td>0.0</td>\n",
       "      <td>0.0</td>\n",
       "      <td>0.0</td>\n",
       "      <td>0.0</td>\n",
       "      <td>0.0</td>\n",
       "    </tr>\n",
       "    <tr>\n",
       "      <th>5</th>\n",
       "      <td>0.0</td>\n",
       "      <td>0.0</td>\n",
       "      <td>0.0</td>\n",
       "      <td>1.0</td>\n",
       "      <td>0.0</td>\n",
       "      <td>0.0</td>\n",
       "      <td>0.0</td>\n",
       "      <td>0.0</td>\n",
       "      <td>0.0</td>\n",
       "      <td>0.0</td>\n",
       "      <td>...</td>\n",
       "      <td>0.0</td>\n",
       "      <td>0.0</td>\n",
       "      <td>0.0</td>\n",
       "      <td>0.0</td>\n",
       "      <td>0.0</td>\n",
       "      <td>0.0</td>\n",
       "      <td>0.0</td>\n",
       "      <td>0.0</td>\n",
       "      <td>0.0</td>\n",
       "      <td>0.0</td>\n",
       "    </tr>\n",
       "    <tr>\n",
       "      <th>6</th>\n",
       "      <td>0.0</td>\n",
       "      <td>0.0</td>\n",
       "      <td>0.0</td>\n",
       "      <td>2.0</td>\n",
       "      <td>0.0</td>\n",
       "      <td>0.0</td>\n",
       "      <td>0.0</td>\n",
       "      <td>0.0</td>\n",
       "      <td>0.0</td>\n",
       "      <td>0.0</td>\n",
       "      <td>...</td>\n",
       "      <td>0.0</td>\n",
       "      <td>0.0</td>\n",
       "      <td>0.0</td>\n",
       "      <td>0.0</td>\n",
       "      <td>0.0</td>\n",
       "      <td>0.0</td>\n",
       "      <td>0.0</td>\n",
       "      <td>0.0</td>\n",
       "      <td>0.0</td>\n",
       "      <td>0.0</td>\n",
       "    </tr>\n",
       "    <tr>\n",
       "      <th>7</th>\n",
       "      <td>0.0</td>\n",
       "      <td>0.0</td>\n",
       "      <td>0.0</td>\n",
       "      <td>1.0</td>\n",
       "      <td>0.0</td>\n",
       "      <td>0.0</td>\n",
       "      <td>0.0</td>\n",
       "      <td>0.0</td>\n",
       "      <td>0.0</td>\n",
       "      <td>2.0</td>\n",
       "      <td>...</td>\n",
       "      <td>0.0</td>\n",
       "      <td>0.0</td>\n",
       "      <td>0.0</td>\n",
       "      <td>0.0</td>\n",
       "      <td>0.0</td>\n",
       "      <td>0.0</td>\n",
       "      <td>0.0</td>\n",
       "      <td>0.0</td>\n",
       "      <td>0.0</td>\n",
       "      <td>0.0</td>\n",
       "    </tr>\n",
       "    <tr>\n",
       "      <th>8</th>\n",
       "      <td>0.0</td>\n",
       "      <td>0.0</td>\n",
       "      <td>0.0</td>\n",
       "      <td>1.0</td>\n",
       "      <td>0.0</td>\n",
       "      <td>0.0</td>\n",
       "      <td>0.0</td>\n",
       "      <td>0.0</td>\n",
       "      <td>0.0</td>\n",
       "      <td>0.0</td>\n",
       "      <td>...</td>\n",
       "      <td>0.0</td>\n",
       "      <td>0.0</td>\n",
       "      <td>0.0</td>\n",
       "      <td>0.0</td>\n",
       "      <td>0.0</td>\n",
       "      <td>0.0</td>\n",
       "      <td>0.0</td>\n",
       "      <td>0.0</td>\n",
       "      <td>0.0</td>\n",
       "      <td>0.0</td>\n",
       "    </tr>\n",
       "    <tr>\n",
       "      <th>9</th>\n",
       "      <td>0.0</td>\n",
       "      <td>0.0</td>\n",
       "      <td>0.0</td>\n",
       "      <td>1.0</td>\n",
       "      <td>0.0</td>\n",
       "      <td>0.0</td>\n",
       "      <td>0.0</td>\n",
       "      <td>0.0</td>\n",
       "      <td>0.0</td>\n",
       "      <td>0.0</td>\n",
       "      <td>...</td>\n",
       "      <td>0.0</td>\n",
       "      <td>0.0</td>\n",
       "      <td>0.0</td>\n",
       "      <td>0.0</td>\n",
       "      <td>0.0</td>\n",
       "      <td>0.0</td>\n",
       "      <td>0.0</td>\n",
       "      <td>0.0</td>\n",
       "      <td>0.0</td>\n",
       "      <td>0.0</td>\n",
       "    </tr>\n",
       "    <tr>\n",
       "      <th>10</th>\n",
       "      <td>0.0</td>\n",
       "      <td>0.0</td>\n",
       "      <td>0.0</td>\n",
       "      <td>1.0</td>\n",
       "      <td>1.0</td>\n",
       "      <td>0.0</td>\n",
       "      <td>0.0</td>\n",
       "      <td>0.0</td>\n",
       "      <td>0.0</td>\n",
       "      <td>0.0</td>\n",
       "      <td>...</td>\n",
       "      <td>0.0</td>\n",
       "      <td>0.0</td>\n",
       "      <td>0.0</td>\n",
       "      <td>0.0</td>\n",
       "      <td>0.0</td>\n",
       "      <td>0.0</td>\n",
       "      <td>0.0</td>\n",
       "      <td>0.0</td>\n",
       "      <td>0.0</td>\n",
       "      <td>0.0</td>\n",
       "    </tr>\n",
       "    <tr>\n",
       "      <th>11</th>\n",
       "      <td>0.0</td>\n",
       "      <td>0.0</td>\n",
       "      <td>0.0</td>\n",
       "      <td>2.0</td>\n",
       "      <td>0.0</td>\n",
       "      <td>0.0</td>\n",
       "      <td>0.0</td>\n",
       "      <td>0.0</td>\n",
       "      <td>0.0</td>\n",
       "      <td>0.0</td>\n",
       "      <td>...</td>\n",
       "      <td>0.0</td>\n",
       "      <td>0.0</td>\n",
       "      <td>0.0</td>\n",
       "      <td>0.0</td>\n",
       "      <td>0.0</td>\n",
       "      <td>0.0</td>\n",
       "      <td>0.0</td>\n",
       "      <td>0.0</td>\n",
       "      <td>0.0</td>\n",
       "      <td>0.0</td>\n",
       "    </tr>\n",
       "    <tr>\n",
       "      <th>12</th>\n",
       "      <td>0.0</td>\n",
       "      <td>0.0</td>\n",
       "      <td>0.0</td>\n",
       "      <td>3.0</td>\n",
       "      <td>0.0</td>\n",
       "      <td>0.0</td>\n",
       "      <td>1.0</td>\n",
       "      <td>0.0</td>\n",
       "      <td>0.0</td>\n",
       "      <td>0.0</td>\n",
       "      <td>...</td>\n",
       "      <td>0.0</td>\n",
       "      <td>0.0</td>\n",
       "      <td>0.0</td>\n",
       "      <td>0.0</td>\n",
       "      <td>0.0</td>\n",
       "      <td>0.0</td>\n",
       "      <td>0.0</td>\n",
       "      <td>0.0</td>\n",
       "      <td>0.0</td>\n",
       "      <td>0.0</td>\n",
       "    </tr>\n",
       "    <tr>\n",
       "      <th>13</th>\n",
       "      <td>0.0</td>\n",
       "      <td>0.0</td>\n",
       "      <td>0.0</td>\n",
       "      <td>1.0</td>\n",
       "      <td>0.0</td>\n",
       "      <td>0.0</td>\n",
       "      <td>0.0</td>\n",
       "      <td>0.0</td>\n",
       "      <td>0.0</td>\n",
       "      <td>0.0</td>\n",
       "      <td>...</td>\n",
       "      <td>0.0</td>\n",
       "      <td>0.0</td>\n",
       "      <td>0.0</td>\n",
       "      <td>0.0</td>\n",
       "      <td>0.0</td>\n",
       "      <td>0.0</td>\n",
       "      <td>0.0</td>\n",
       "      <td>0.0</td>\n",
       "      <td>0.0</td>\n",
       "      <td>0.0</td>\n",
       "    </tr>\n",
       "    <tr>\n",
       "      <th>14</th>\n",
       "      <td>0.0</td>\n",
       "      <td>0.0</td>\n",
       "      <td>0.0</td>\n",
       "      <td>1.0</td>\n",
       "      <td>0.0</td>\n",
       "      <td>0.0</td>\n",
       "      <td>0.0</td>\n",
       "      <td>0.0</td>\n",
       "      <td>0.0</td>\n",
       "      <td>0.0</td>\n",
       "      <td>...</td>\n",
       "      <td>0.0</td>\n",
       "      <td>0.0</td>\n",
       "      <td>0.0</td>\n",
       "      <td>0.0</td>\n",
       "      <td>0.0</td>\n",
       "      <td>0.0</td>\n",
       "      <td>0.0</td>\n",
       "      <td>0.0</td>\n",
       "      <td>0.0</td>\n",
       "      <td>0.0</td>\n",
       "    </tr>\n",
       "    <tr>\n",
       "      <th>15</th>\n",
       "      <td>0.0</td>\n",
       "      <td>0.0</td>\n",
       "      <td>0.0</td>\n",
       "      <td>1.0</td>\n",
       "      <td>0.0</td>\n",
       "      <td>0.0</td>\n",
       "      <td>0.0</td>\n",
       "      <td>0.0</td>\n",
       "      <td>0.0</td>\n",
       "      <td>2.0</td>\n",
       "      <td>...</td>\n",
       "      <td>0.0</td>\n",
       "      <td>0.0</td>\n",
       "      <td>0.0</td>\n",
       "      <td>0.0</td>\n",
       "      <td>0.0</td>\n",
       "      <td>0.0</td>\n",
       "      <td>0.0</td>\n",
       "      <td>0.0</td>\n",
       "      <td>0.0</td>\n",
       "      <td>0.0</td>\n",
       "    </tr>\n",
       "    <tr>\n",
       "      <th>16</th>\n",
       "      <td>0.0</td>\n",
       "      <td>0.0</td>\n",
       "      <td>0.0</td>\n",
       "      <td>1.0</td>\n",
       "      <td>0.0</td>\n",
       "      <td>0.0</td>\n",
       "      <td>0.0</td>\n",
       "      <td>0.0</td>\n",
       "      <td>0.0</td>\n",
       "      <td>0.0</td>\n",
       "      <td>...</td>\n",
       "      <td>0.0</td>\n",
       "      <td>0.0</td>\n",
       "      <td>0.0</td>\n",
       "      <td>0.0</td>\n",
       "      <td>0.0</td>\n",
       "      <td>0.0</td>\n",
       "      <td>0.0</td>\n",
       "      <td>0.0</td>\n",
       "      <td>0.0</td>\n",
       "      <td>0.0</td>\n",
       "    </tr>\n",
       "    <tr>\n",
       "      <th>17</th>\n",
       "      <td>0.0</td>\n",
       "      <td>0.0</td>\n",
       "      <td>0.0</td>\n",
       "      <td>1.0</td>\n",
       "      <td>0.0</td>\n",
       "      <td>0.0</td>\n",
       "      <td>0.0</td>\n",
       "      <td>0.0</td>\n",
       "      <td>0.0</td>\n",
       "      <td>1.0</td>\n",
       "      <td>...</td>\n",
       "      <td>0.0</td>\n",
       "      <td>0.0</td>\n",
       "      <td>0.0</td>\n",
       "      <td>0.0</td>\n",
       "      <td>0.0</td>\n",
       "      <td>0.0</td>\n",
       "      <td>0.0</td>\n",
       "      <td>0.0</td>\n",
       "      <td>0.0</td>\n",
       "      <td>0.0</td>\n",
       "    </tr>\n",
       "    <tr>\n",
       "      <th>18</th>\n",
       "      <td>0.0</td>\n",
       "      <td>0.0</td>\n",
       "      <td>0.0</td>\n",
       "      <td>1.0</td>\n",
       "      <td>0.0</td>\n",
       "      <td>0.0</td>\n",
       "      <td>0.0</td>\n",
       "      <td>0.0</td>\n",
       "      <td>0.0</td>\n",
       "      <td>0.0</td>\n",
       "      <td>...</td>\n",
       "      <td>0.0</td>\n",
       "      <td>0.0</td>\n",
       "      <td>0.0</td>\n",
       "      <td>0.0</td>\n",
       "      <td>0.0</td>\n",
       "      <td>0.0</td>\n",
       "      <td>0.0</td>\n",
       "      <td>0.0</td>\n",
       "      <td>0.0</td>\n",
       "      <td>0.0</td>\n",
       "    </tr>\n",
       "    <tr>\n",
       "      <th>19</th>\n",
       "      <td>0.0</td>\n",
       "      <td>0.0</td>\n",
       "      <td>0.0</td>\n",
       "      <td>1.0</td>\n",
       "      <td>0.0</td>\n",
       "      <td>0.0</td>\n",
       "      <td>0.0</td>\n",
       "      <td>0.0</td>\n",
       "      <td>0.0</td>\n",
       "      <td>1.0</td>\n",
       "      <td>...</td>\n",
       "      <td>0.0</td>\n",
       "      <td>0.0</td>\n",
       "      <td>0.0</td>\n",
       "      <td>0.0</td>\n",
       "      <td>0.0</td>\n",
       "      <td>0.0</td>\n",
       "      <td>0.0</td>\n",
       "      <td>0.0</td>\n",
       "      <td>0.0</td>\n",
       "      <td>0.0</td>\n",
       "    </tr>\n",
       "    <tr>\n",
       "      <th>20</th>\n",
       "      <td>0.0</td>\n",
       "      <td>0.0</td>\n",
       "      <td>0.0</td>\n",
       "      <td>1.0</td>\n",
       "      <td>0.0</td>\n",
       "      <td>0.0</td>\n",
       "      <td>0.0</td>\n",
       "      <td>0.0</td>\n",
       "      <td>0.0</td>\n",
       "      <td>0.0</td>\n",
       "      <td>...</td>\n",
       "      <td>0.0</td>\n",
       "      <td>0.0</td>\n",
       "      <td>0.0</td>\n",
       "      <td>0.0</td>\n",
       "      <td>0.0</td>\n",
       "      <td>0.0</td>\n",
       "      <td>0.0</td>\n",
       "      <td>0.0</td>\n",
       "      <td>0.0</td>\n",
       "      <td>0.0</td>\n",
       "    </tr>\n",
       "    <tr>\n",
       "      <th>21</th>\n",
       "      <td>0.0</td>\n",
       "      <td>0.0</td>\n",
       "      <td>0.0</td>\n",
       "      <td>1.0</td>\n",
       "      <td>0.0</td>\n",
       "      <td>0.0</td>\n",
       "      <td>0.0</td>\n",
       "      <td>0.0</td>\n",
       "      <td>0.0</td>\n",
       "      <td>1.0</td>\n",
       "      <td>...</td>\n",
       "      <td>0.0</td>\n",
       "      <td>0.0</td>\n",
       "      <td>0.0</td>\n",
       "      <td>0.0</td>\n",
       "      <td>0.0</td>\n",
       "      <td>0.0</td>\n",
       "      <td>0.0</td>\n",
       "      <td>0.0</td>\n",
       "      <td>0.0</td>\n",
       "      <td>0.0</td>\n",
       "    </tr>\n",
       "    <tr>\n",
       "      <th>22</th>\n",
       "      <td>0.0</td>\n",
       "      <td>0.0</td>\n",
       "      <td>0.0</td>\n",
       "      <td>1.0</td>\n",
       "      <td>0.0</td>\n",
       "      <td>0.0</td>\n",
       "      <td>0.0</td>\n",
       "      <td>0.0</td>\n",
       "      <td>0.0</td>\n",
       "      <td>0.0</td>\n",
       "      <td>...</td>\n",
       "      <td>0.0</td>\n",
       "      <td>0.0</td>\n",
       "      <td>0.0</td>\n",
       "      <td>0.0</td>\n",
       "      <td>0.0</td>\n",
       "      <td>0.0</td>\n",
       "      <td>0.0</td>\n",
       "      <td>0.0</td>\n",
       "      <td>0.0</td>\n",
       "      <td>0.0</td>\n",
       "    </tr>\n",
       "    <tr>\n",
       "      <th>23</th>\n",
       "      <td>0.0</td>\n",
       "      <td>0.0</td>\n",
       "      <td>0.0</td>\n",
       "      <td>1.0</td>\n",
       "      <td>0.0</td>\n",
       "      <td>0.0</td>\n",
       "      <td>0.0</td>\n",
       "      <td>0.0</td>\n",
       "      <td>0.0</td>\n",
       "      <td>0.0</td>\n",
       "      <td>...</td>\n",
       "      <td>0.0</td>\n",
       "      <td>0.0</td>\n",
       "      <td>0.0</td>\n",
       "      <td>0.0</td>\n",
       "      <td>0.0</td>\n",
       "      <td>0.0</td>\n",
       "      <td>0.0</td>\n",
       "      <td>0.0</td>\n",
       "      <td>0.0</td>\n",
       "      <td>0.0</td>\n",
       "    </tr>\n",
       "    <tr>\n",
       "      <th>24</th>\n",
       "      <td>0.0</td>\n",
       "      <td>0.0</td>\n",
       "      <td>0.0</td>\n",
       "      <td>1.0</td>\n",
       "      <td>0.0</td>\n",
       "      <td>0.0</td>\n",
       "      <td>0.0</td>\n",
       "      <td>0.0</td>\n",
       "      <td>0.0</td>\n",
       "      <td>0.0</td>\n",
       "      <td>...</td>\n",
       "      <td>0.0</td>\n",
       "      <td>0.0</td>\n",
       "      <td>0.0</td>\n",
       "      <td>0.0</td>\n",
       "      <td>0.0</td>\n",
       "      <td>0.0</td>\n",
       "      <td>0.0</td>\n",
       "      <td>0.0</td>\n",
       "      <td>0.0</td>\n",
       "      <td>0.0</td>\n",
       "    </tr>\n",
       "    <tr>\n",
       "      <th>25</th>\n",
       "      <td>0.0</td>\n",
       "      <td>0.0</td>\n",
       "      <td>0.0</td>\n",
       "      <td>1.0</td>\n",
       "      <td>0.0</td>\n",
       "      <td>0.0</td>\n",
       "      <td>0.0</td>\n",
       "      <td>0.0</td>\n",
       "      <td>0.0</td>\n",
       "      <td>0.0</td>\n",
       "      <td>...</td>\n",
       "      <td>0.0</td>\n",
       "      <td>0.0</td>\n",
       "      <td>0.0</td>\n",
       "      <td>0.0</td>\n",
       "      <td>0.0</td>\n",
       "      <td>0.0</td>\n",
       "      <td>0.0</td>\n",
       "      <td>0.0</td>\n",
       "      <td>0.0</td>\n",
       "      <td>0.0</td>\n",
       "    </tr>\n",
       "    <tr>\n",
       "      <th>26</th>\n",
       "      <td>0.0</td>\n",
       "      <td>0.0</td>\n",
       "      <td>0.0</td>\n",
       "      <td>1.0</td>\n",
       "      <td>0.0</td>\n",
       "      <td>0.0</td>\n",
       "      <td>0.0</td>\n",
       "      <td>0.0</td>\n",
       "      <td>0.0</td>\n",
       "      <td>0.0</td>\n",
       "      <td>...</td>\n",
       "      <td>0.0</td>\n",
       "      <td>0.0</td>\n",
       "      <td>0.0</td>\n",
       "      <td>0.0</td>\n",
       "      <td>0.0</td>\n",
       "      <td>0.0</td>\n",
       "      <td>0.0</td>\n",
       "      <td>0.0</td>\n",
       "      <td>0.0</td>\n",
       "      <td>0.0</td>\n",
       "    </tr>\n",
       "    <tr>\n",
       "      <th>27</th>\n",
       "      <td>0.0</td>\n",
       "      <td>0.0</td>\n",
       "      <td>0.0</td>\n",
       "      <td>1.0</td>\n",
       "      <td>0.0</td>\n",
       "      <td>0.0</td>\n",
       "      <td>0.0</td>\n",
       "      <td>0.0</td>\n",
       "      <td>0.0</td>\n",
       "      <td>0.0</td>\n",
       "      <td>...</td>\n",
       "      <td>0.0</td>\n",
       "      <td>0.0</td>\n",
       "      <td>0.0</td>\n",
       "      <td>0.0</td>\n",
       "      <td>0.0</td>\n",
       "      <td>0.0</td>\n",
       "      <td>0.0</td>\n",
       "      <td>0.0</td>\n",
       "      <td>0.0</td>\n",
       "      <td>0.0</td>\n",
       "    </tr>\n",
       "    <tr>\n",
       "      <th>28</th>\n",
       "      <td>0.0</td>\n",
       "      <td>0.0</td>\n",
       "      <td>0.0</td>\n",
       "      <td>1.0</td>\n",
       "      <td>0.0</td>\n",
       "      <td>0.0</td>\n",
       "      <td>0.0</td>\n",
       "      <td>0.0</td>\n",
       "      <td>0.0</td>\n",
       "      <td>0.0</td>\n",
       "      <td>...</td>\n",
       "      <td>0.0</td>\n",
       "      <td>0.0</td>\n",
       "      <td>0.0</td>\n",
       "      <td>0.0</td>\n",
       "      <td>0.0</td>\n",
       "      <td>0.0</td>\n",
       "      <td>0.0</td>\n",
       "      <td>0.0</td>\n",
       "      <td>0.0</td>\n",
       "      <td>0.0</td>\n",
       "    </tr>\n",
       "    <tr>\n",
       "      <th>29</th>\n",
       "      <td>0.0</td>\n",
       "      <td>0.0</td>\n",
       "      <td>0.0</td>\n",
       "      <td>1.0</td>\n",
       "      <td>0.0</td>\n",
       "      <td>0.0</td>\n",
       "      <td>0.0</td>\n",
       "      <td>0.0</td>\n",
       "      <td>0.0</td>\n",
       "      <td>0.0</td>\n",
       "      <td>...</td>\n",
       "      <td>0.0</td>\n",
       "      <td>0.0</td>\n",
       "      <td>0.0</td>\n",
       "      <td>0.0</td>\n",
       "      <td>0.0</td>\n",
       "      <td>0.0</td>\n",
       "      <td>0.0</td>\n",
       "      <td>0.0</td>\n",
       "      <td>0.0</td>\n",
       "      <td>0.0</td>\n",
       "    </tr>\n",
       "    <tr>\n",
       "      <th>...</th>\n",
       "      <td>...</td>\n",
       "      <td>...</td>\n",
       "      <td>...</td>\n",
       "      <td>...</td>\n",
       "      <td>...</td>\n",
       "      <td>...</td>\n",
       "      <td>...</td>\n",
       "      <td>...</td>\n",
       "      <td>...</td>\n",
       "      <td>...</td>\n",
       "      <td>...</td>\n",
       "      <td>...</td>\n",
       "      <td>...</td>\n",
       "      <td>...</td>\n",
       "      <td>...</td>\n",
       "      <td>...</td>\n",
       "      <td>...</td>\n",
       "      <td>...</td>\n",
       "      <td>...</td>\n",
       "      <td>...</td>\n",
       "      <td>...</td>\n",
       "    </tr>\n",
       "    <tr>\n",
       "      <th>770</th>\n",
       "      <td>0.0</td>\n",
       "      <td>0.0</td>\n",
       "      <td>0.0</td>\n",
       "      <td>1.0</td>\n",
       "      <td>2.0</td>\n",
       "      <td>0.0</td>\n",
       "      <td>0.0</td>\n",
       "      <td>0.0</td>\n",
       "      <td>0.0</td>\n",
       "      <td>0.0</td>\n",
       "      <td>...</td>\n",
       "      <td>0.0</td>\n",
       "      <td>0.0</td>\n",
       "      <td>0.0</td>\n",
       "      <td>0.0</td>\n",
       "      <td>0.0</td>\n",
       "      <td>0.0</td>\n",
       "      <td>0.0</td>\n",
       "      <td>0.0</td>\n",
       "      <td>0.0</td>\n",
       "      <td>0.0</td>\n",
       "    </tr>\n",
       "    <tr>\n",
       "      <th>771</th>\n",
       "      <td>0.0</td>\n",
       "      <td>0.0</td>\n",
       "      <td>0.0</td>\n",
       "      <td>1.0</td>\n",
       "      <td>0.0</td>\n",
       "      <td>0.0</td>\n",
       "      <td>0.0</td>\n",
       "      <td>0.0</td>\n",
       "      <td>0.0</td>\n",
       "      <td>0.0</td>\n",
       "      <td>...</td>\n",
       "      <td>0.0</td>\n",
       "      <td>0.0</td>\n",
       "      <td>0.0</td>\n",
       "      <td>0.0</td>\n",
       "      <td>0.0</td>\n",
       "      <td>0.0</td>\n",
       "      <td>0.0</td>\n",
       "      <td>0.0</td>\n",
       "      <td>0.0</td>\n",
       "      <td>0.0</td>\n",
       "    </tr>\n",
       "    <tr>\n",
       "      <th>772</th>\n",
       "      <td>0.0</td>\n",
       "      <td>0.0</td>\n",
       "      <td>0.0</td>\n",
       "      <td>1.0</td>\n",
       "      <td>0.0</td>\n",
       "      <td>0.0</td>\n",
       "      <td>0.0</td>\n",
       "      <td>0.0</td>\n",
       "      <td>0.0</td>\n",
       "      <td>2.0</td>\n",
       "      <td>...</td>\n",
       "      <td>0.0</td>\n",
       "      <td>0.0</td>\n",
       "      <td>0.0</td>\n",
       "      <td>0.0</td>\n",
       "      <td>0.0</td>\n",
       "      <td>0.0</td>\n",
       "      <td>0.0</td>\n",
       "      <td>0.0</td>\n",
       "      <td>0.0</td>\n",
       "      <td>0.0</td>\n",
       "    </tr>\n",
       "    <tr>\n",
       "      <th>773</th>\n",
       "      <td>0.0</td>\n",
       "      <td>0.0</td>\n",
       "      <td>0.0</td>\n",
       "      <td>1.0</td>\n",
       "      <td>0.0</td>\n",
       "      <td>0.0</td>\n",
       "      <td>0.0</td>\n",
       "      <td>0.0</td>\n",
       "      <td>0.0</td>\n",
       "      <td>0.0</td>\n",
       "      <td>...</td>\n",
       "      <td>0.0</td>\n",
       "      <td>0.0</td>\n",
       "      <td>0.0</td>\n",
       "      <td>0.0</td>\n",
       "      <td>0.0</td>\n",
       "      <td>0.0</td>\n",
       "      <td>0.0</td>\n",
       "      <td>0.0</td>\n",
       "      <td>0.0</td>\n",
       "      <td>0.0</td>\n",
       "    </tr>\n",
       "    <tr>\n",
       "      <th>774</th>\n",
       "      <td>0.0</td>\n",
       "      <td>0.0</td>\n",
       "      <td>0.0</td>\n",
       "      <td>1.0</td>\n",
       "      <td>0.0</td>\n",
       "      <td>0.0</td>\n",
       "      <td>0.0</td>\n",
       "      <td>0.0</td>\n",
       "      <td>0.0</td>\n",
       "      <td>1.0</td>\n",
       "      <td>...</td>\n",
       "      <td>0.0</td>\n",
       "      <td>0.0</td>\n",
       "      <td>0.0</td>\n",
       "      <td>0.0</td>\n",
       "      <td>0.0</td>\n",
       "      <td>0.0</td>\n",
       "      <td>0.0</td>\n",
       "      <td>0.0</td>\n",
       "      <td>0.0</td>\n",
       "      <td>0.0</td>\n",
       "    </tr>\n",
       "    <tr>\n",
       "      <th>775</th>\n",
       "      <td>0.0</td>\n",
       "      <td>0.0</td>\n",
       "      <td>0.0</td>\n",
       "      <td>1.0</td>\n",
       "      <td>0.0</td>\n",
       "      <td>0.0</td>\n",
       "      <td>0.0</td>\n",
       "      <td>0.0</td>\n",
       "      <td>0.0</td>\n",
       "      <td>1.0</td>\n",
       "      <td>...</td>\n",
       "      <td>0.0</td>\n",
       "      <td>0.0</td>\n",
       "      <td>0.0</td>\n",
       "      <td>0.0</td>\n",
       "      <td>0.0</td>\n",
       "      <td>0.0</td>\n",
       "      <td>0.0</td>\n",
       "      <td>0.0</td>\n",
       "      <td>0.0</td>\n",
       "      <td>0.0</td>\n",
       "    </tr>\n",
       "    <tr>\n",
       "      <th>776</th>\n",
       "      <td>0.0</td>\n",
       "      <td>0.0</td>\n",
       "      <td>0.0</td>\n",
       "      <td>1.0</td>\n",
       "      <td>0.0</td>\n",
       "      <td>0.0</td>\n",
       "      <td>0.0</td>\n",
       "      <td>0.0</td>\n",
       "      <td>0.0</td>\n",
       "      <td>0.0</td>\n",
       "      <td>...</td>\n",
       "      <td>0.0</td>\n",
       "      <td>0.0</td>\n",
       "      <td>0.0</td>\n",
       "      <td>0.0</td>\n",
       "      <td>0.0</td>\n",
       "      <td>0.0</td>\n",
       "      <td>0.0</td>\n",
       "      <td>0.0</td>\n",
       "      <td>0.0</td>\n",
       "      <td>0.0</td>\n",
       "    </tr>\n",
       "    <tr>\n",
       "      <th>777</th>\n",
       "      <td>0.0</td>\n",
       "      <td>0.0</td>\n",
       "      <td>0.0</td>\n",
       "      <td>1.0</td>\n",
       "      <td>0.0</td>\n",
       "      <td>0.0</td>\n",
       "      <td>0.0</td>\n",
       "      <td>0.0</td>\n",
       "      <td>0.0</td>\n",
       "      <td>0.0</td>\n",
       "      <td>...</td>\n",
       "      <td>0.0</td>\n",
       "      <td>0.0</td>\n",
       "      <td>0.0</td>\n",
       "      <td>0.0</td>\n",
       "      <td>0.0</td>\n",
       "      <td>0.0</td>\n",
       "      <td>0.0</td>\n",
       "      <td>0.0</td>\n",
       "      <td>0.0</td>\n",
       "      <td>0.0</td>\n",
       "    </tr>\n",
       "    <tr>\n",
       "      <th>778</th>\n",
       "      <td>0.0</td>\n",
       "      <td>0.0</td>\n",
       "      <td>0.0</td>\n",
       "      <td>1.0</td>\n",
       "      <td>0.0</td>\n",
       "      <td>0.0</td>\n",
       "      <td>0.0</td>\n",
       "      <td>0.0</td>\n",
       "      <td>0.0</td>\n",
       "      <td>0.0</td>\n",
       "      <td>...</td>\n",
       "      <td>0.0</td>\n",
       "      <td>0.0</td>\n",
       "      <td>0.0</td>\n",
       "      <td>0.0</td>\n",
       "      <td>0.0</td>\n",
       "      <td>0.0</td>\n",
       "      <td>0.0</td>\n",
       "      <td>0.0</td>\n",
       "      <td>0.0</td>\n",
       "      <td>0.0</td>\n",
       "    </tr>\n",
       "    <tr>\n",
       "      <th>779</th>\n",
       "      <td>4.0</td>\n",
       "      <td>0.0</td>\n",
       "      <td>0.0</td>\n",
       "      <td>36.0</td>\n",
       "      <td>33.0</td>\n",
       "      <td>5.0</td>\n",
       "      <td>17.0</td>\n",
       "      <td>37.0</td>\n",
       "      <td>3.0</td>\n",
       "      <td>8.0</td>\n",
       "      <td>...</td>\n",
       "      <td>0.0</td>\n",
       "      <td>0.0</td>\n",
       "      <td>0.0</td>\n",
       "      <td>1.0</td>\n",
       "      <td>0.0</td>\n",
       "      <td>1.0</td>\n",
       "      <td>0.0</td>\n",
       "      <td>0.0</td>\n",
       "      <td>0.0</td>\n",
       "      <td>0.0</td>\n",
       "    </tr>\n",
       "    <tr>\n",
       "      <th>780</th>\n",
       "      <td>0.0</td>\n",
       "      <td>0.0</td>\n",
       "      <td>0.0</td>\n",
       "      <td>1.0</td>\n",
       "      <td>0.0</td>\n",
       "      <td>0.0</td>\n",
       "      <td>0.0</td>\n",
       "      <td>0.0</td>\n",
       "      <td>0.0</td>\n",
       "      <td>0.0</td>\n",
       "      <td>...</td>\n",
       "      <td>0.0</td>\n",
       "      <td>0.0</td>\n",
       "      <td>0.0</td>\n",
       "      <td>0.0</td>\n",
       "      <td>0.0</td>\n",
       "      <td>0.0</td>\n",
       "      <td>0.0</td>\n",
       "      <td>0.0</td>\n",
       "      <td>0.0</td>\n",
       "      <td>0.0</td>\n",
       "    </tr>\n",
       "    <tr>\n",
       "      <th>781</th>\n",
       "      <td>0.0</td>\n",
       "      <td>0.0</td>\n",
       "      <td>0.0</td>\n",
       "      <td>1.0</td>\n",
       "      <td>0.0</td>\n",
       "      <td>0.0</td>\n",
       "      <td>0.0</td>\n",
       "      <td>2.0</td>\n",
       "      <td>0.0</td>\n",
       "      <td>0.0</td>\n",
       "      <td>...</td>\n",
       "      <td>0.0</td>\n",
       "      <td>0.0</td>\n",
       "      <td>0.0</td>\n",
       "      <td>0.0</td>\n",
       "      <td>0.0</td>\n",
       "      <td>0.0</td>\n",
       "      <td>0.0</td>\n",
       "      <td>0.0</td>\n",
       "      <td>0.0</td>\n",
       "      <td>0.0</td>\n",
       "    </tr>\n",
       "    <tr>\n",
       "      <th>782</th>\n",
       "      <td>0.0</td>\n",
       "      <td>0.0</td>\n",
       "      <td>0.0</td>\n",
       "      <td>1.0</td>\n",
       "      <td>0.0</td>\n",
       "      <td>0.0</td>\n",
       "      <td>0.0</td>\n",
       "      <td>0.0</td>\n",
       "      <td>0.0</td>\n",
       "      <td>0.0</td>\n",
       "      <td>...</td>\n",
       "      <td>0.0</td>\n",
       "      <td>0.0</td>\n",
       "      <td>0.0</td>\n",
       "      <td>0.0</td>\n",
       "      <td>0.0</td>\n",
       "      <td>0.0</td>\n",
       "      <td>0.0</td>\n",
       "      <td>0.0</td>\n",
       "      <td>0.0</td>\n",
       "      <td>0.0</td>\n",
       "    </tr>\n",
       "    <tr>\n",
       "      <th>783</th>\n",
       "      <td>0.0</td>\n",
       "      <td>0.0</td>\n",
       "      <td>0.0</td>\n",
       "      <td>1.0</td>\n",
       "      <td>0.0</td>\n",
       "      <td>0.0</td>\n",
       "      <td>0.0</td>\n",
       "      <td>0.0</td>\n",
       "      <td>0.0</td>\n",
       "      <td>0.0</td>\n",
       "      <td>...</td>\n",
       "      <td>0.0</td>\n",
       "      <td>0.0</td>\n",
       "      <td>0.0</td>\n",
       "      <td>0.0</td>\n",
       "      <td>0.0</td>\n",
       "      <td>0.0</td>\n",
       "      <td>0.0</td>\n",
       "      <td>0.0</td>\n",
       "      <td>0.0</td>\n",
       "      <td>0.0</td>\n",
       "    </tr>\n",
       "    <tr>\n",
       "      <th>784</th>\n",
       "      <td>0.0</td>\n",
       "      <td>0.0</td>\n",
       "      <td>0.0</td>\n",
       "      <td>1.0</td>\n",
       "      <td>0.0</td>\n",
       "      <td>1.0</td>\n",
       "      <td>0.0</td>\n",
       "      <td>0.0</td>\n",
       "      <td>0.0</td>\n",
       "      <td>0.0</td>\n",
       "      <td>...</td>\n",
       "      <td>0.0</td>\n",
       "      <td>0.0</td>\n",
       "      <td>0.0</td>\n",
       "      <td>0.0</td>\n",
       "      <td>0.0</td>\n",
       "      <td>0.0</td>\n",
       "      <td>1.0</td>\n",
       "      <td>0.0</td>\n",
       "      <td>0.0</td>\n",
       "      <td>0.0</td>\n",
       "    </tr>\n",
       "    <tr>\n",
       "      <th>785</th>\n",
       "      <td>0.0</td>\n",
       "      <td>0.0</td>\n",
       "      <td>0.0</td>\n",
       "      <td>1.0</td>\n",
       "      <td>0.0</td>\n",
       "      <td>0.0</td>\n",
       "      <td>0.0</td>\n",
       "      <td>0.0</td>\n",
       "      <td>0.0</td>\n",
       "      <td>0.0</td>\n",
       "      <td>...</td>\n",
       "      <td>0.0</td>\n",
       "      <td>0.0</td>\n",
       "      <td>0.0</td>\n",
       "      <td>0.0</td>\n",
       "      <td>1.0</td>\n",
       "      <td>0.0</td>\n",
       "      <td>0.0</td>\n",
       "      <td>0.0</td>\n",
       "      <td>0.0</td>\n",
       "      <td>0.0</td>\n",
       "    </tr>\n",
       "    <tr>\n",
       "      <th>786</th>\n",
       "      <td>0.0</td>\n",
       "      <td>0.0</td>\n",
       "      <td>0.0</td>\n",
       "      <td>1.0</td>\n",
       "      <td>0.0</td>\n",
       "      <td>0.0</td>\n",
       "      <td>0.0</td>\n",
       "      <td>0.0</td>\n",
       "      <td>0.0</td>\n",
       "      <td>1.0</td>\n",
       "      <td>...</td>\n",
       "      <td>0.0</td>\n",
       "      <td>0.0</td>\n",
       "      <td>0.0</td>\n",
       "      <td>0.0</td>\n",
       "      <td>0.0</td>\n",
       "      <td>0.0</td>\n",
       "      <td>0.0</td>\n",
       "      <td>0.0</td>\n",
       "      <td>0.0</td>\n",
       "      <td>0.0</td>\n",
       "    </tr>\n",
       "    <tr>\n",
       "      <th>787</th>\n",
       "      <td>0.0</td>\n",
       "      <td>0.0</td>\n",
       "      <td>0.0</td>\n",
       "      <td>1.0</td>\n",
       "      <td>1.0</td>\n",
       "      <td>0.0</td>\n",
       "      <td>0.0</td>\n",
       "      <td>0.0</td>\n",
       "      <td>0.0</td>\n",
       "      <td>2.0</td>\n",
       "      <td>...</td>\n",
       "      <td>0.0</td>\n",
       "      <td>0.0</td>\n",
       "      <td>0.0</td>\n",
       "      <td>0.0</td>\n",
       "      <td>0.0</td>\n",
       "      <td>0.0</td>\n",
       "      <td>0.0</td>\n",
       "      <td>0.0</td>\n",
       "      <td>0.0</td>\n",
       "      <td>0.0</td>\n",
       "    </tr>\n",
       "    <tr>\n",
       "      <th>788</th>\n",
       "      <td>0.0</td>\n",
       "      <td>0.0</td>\n",
       "      <td>0.0</td>\n",
       "      <td>1.0</td>\n",
       "      <td>5.0</td>\n",
       "      <td>0.0</td>\n",
       "      <td>0.0</td>\n",
       "      <td>0.0</td>\n",
       "      <td>0.0</td>\n",
       "      <td>1.0</td>\n",
       "      <td>...</td>\n",
       "      <td>0.0</td>\n",
       "      <td>0.0</td>\n",
       "      <td>0.0</td>\n",
       "      <td>0.0</td>\n",
       "      <td>0.0</td>\n",
       "      <td>0.0</td>\n",
       "      <td>0.0</td>\n",
       "      <td>0.0</td>\n",
       "      <td>0.0</td>\n",
       "      <td>0.0</td>\n",
       "    </tr>\n",
       "    <tr>\n",
       "      <th>789</th>\n",
       "      <td>0.0</td>\n",
       "      <td>0.0</td>\n",
       "      <td>0.0</td>\n",
       "      <td>1.0</td>\n",
       "      <td>0.0</td>\n",
       "      <td>0.0</td>\n",
       "      <td>0.0</td>\n",
       "      <td>0.0</td>\n",
       "      <td>0.0</td>\n",
       "      <td>0.0</td>\n",
       "      <td>...</td>\n",
       "      <td>0.0</td>\n",
       "      <td>0.0</td>\n",
       "      <td>0.0</td>\n",
       "      <td>0.0</td>\n",
       "      <td>0.0</td>\n",
       "      <td>0.0</td>\n",
       "      <td>0.0</td>\n",
       "      <td>0.0</td>\n",
       "      <td>0.0</td>\n",
       "      <td>0.0</td>\n",
       "    </tr>\n",
       "    <tr>\n",
       "      <th>790</th>\n",
       "      <td>0.0</td>\n",
       "      <td>0.0</td>\n",
       "      <td>0.0</td>\n",
       "      <td>1.0</td>\n",
       "      <td>0.0</td>\n",
       "      <td>0.0</td>\n",
       "      <td>2.0</td>\n",
       "      <td>2.0</td>\n",
       "      <td>0.0</td>\n",
       "      <td>0.0</td>\n",
       "      <td>...</td>\n",
       "      <td>0.0</td>\n",
       "      <td>0.0</td>\n",
       "      <td>0.0</td>\n",
       "      <td>0.0</td>\n",
       "      <td>0.0</td>\n",
       "      <td>0.0</td>\n",
       "      <td>0.0</td>\n",
       "      <td>0.0</td>\n",
       "      <td>0.0</td>\n",
       "      <td>0.0</td>\n",
       "    </tr>\n",
       "    <tr>\n",
       "      <th>791</th>\n",
       "      <td>0.0</td>\n",
       "      <td>0.0</td>\n",
       "      <td>0.0</td>\n",
       "      <td>1.0</td>\n",
       "      <td>0.0</td>\n",
       "      <td>0.0</td>\n",
       "      <td>0.0</td>\n",
       "      <td>0.0</td>\n",
       "      <td>0.0</td>\n",
       "      <td>0.0</td>\n",
       "      <td>...</td>\n",
       "      <td>0.0</td>\n",
       "      <td>0.0</td>\n",
       "      <td>0.0</td>\n",
       "      <td>0.0</td>\n",
       "      <td>0.0</td>\n",
       "      <td>0.0</td>\n",
       "      <td>0.0</td>\n",
       "      <td>0.0</td>\n",
       "      <td>0.0</td>\n",
       "      <td>0.0</td>\n",
       "    </tr>\n",
       "    <tr>\n",
       "      <th>792</th>\n",
       "      <td>0.0</td>\n",
       "      <td>3.0</td>\n",
       "      <td>0.0</td>\n",
       "      <td>1.0</td>\n",
       "      <td>2.0</td>\n",
       "      <td>0.0</td>\n",
       "      <td>0.0</td>\n",
       "      <td>0.0</td>\n",
       "      <td>0.0</td>\n",
       "      <td>1.0</td>\n",
       "      <td>...</td>\n",
       "      <td>0.0</td>\n",
       "      <td>0.0</td>\n",
       "      <td>0.0</td>\n",
       "      <td>0.0</td>\n",
       "      <td>0.0</td>\n",
       "      <td>0.0</td>\n",
       "      <td>0.0</td>\n",
       "      <td>0.0</td>\n",
       "      <td>0.0</td>\n",
       "      <td>0.0</td>\n",
       "    </tr>\n",
       "    <tr>\n",
       "      <th>793</th>\n",
       "      <td>0.0</td>\n",
       "      <td>0.0</td>\n",
       "      <td>0.0</td>\n",
       "      <td>1.0</td>\n",
       "      <td>0.0</td>\n",
       "      <td>0.0</td>\n",
       "      <td>0.0</td>\n",
       "      <td>0.0</td>\n",
       "      <td>0.0</td>\n",
       "      <td>0.0</td>\n",
       "      <td>...</td>\n",
       "      <td>0.0</td>\n",
       "      <td>0.0</td>\n",
       "      <td>0.0</td>\n",
       "      <td>0.0</td>\n",
       "      <td>0.0</td>\n",
       "      <td>0.0</td>\n",
       "      <td>0.0</td>\n",
       "      <td>0.0</td>\n",
       "      <td>0.0</td>\n",
       "      <td>0.0</td>\n",
       "    </tr>\n",
       "    <tr>\n",
       "      <th>794</th>\n",
       "      <td>0.0</td>\n",
       "      <td>0.0</td>\n",
       "      <td>0.0</td>\n",
       "      <td>1.0</td>\n",
       "      <td>0.0</td>\n",
       "      <td>0.0</td>\n",
       "      <td>0.0</td>\n",
       "      <td>0.0</td>\n",
       "      <td>0.0</td>\n",
       "      <td>1.0</td>\n",
       "      <td>...</td>\n",
       "      <td>0.0</td>\n",
       "      <td>0.0</td>\n",
       "      <td>0.0</td>\n",
       "      <td>0.0</td>\n",
       "      <td>0.0</td>\n",
       "      <td>0.0</td>\n",
       "      <td>0.0</td>\n",
       "      <td>0.0</td>\n",
       "      <td>0.0</td>\n",
       "      <td>0.0</td>\n",
       "    </tr>\n",
       "    <tr>\n",
       "      <th>795</th>\n",
       "      <td>0.0</td>\n",
       "      <td>0.0</td>\n",
       "      <td>0.0</td>\n",
       "      <td>1.0</td>\n",
       "      <td>0.0</td>\n",
       "      <td>0.0</td>\n",
       "      <td>0.0</td>\n",
       "      <td>0.0</td>\n",
       "      <td>0.0</td>\n",
       "      <td>0.0</td>\n",
       "      <td>...</td>\n",
       "      <td>0.0</td>\n",
       "      <td>0.0</td>\n",
       "      <td>0.0</td>\n",
       "      <td>0.0</td>\n",
       "      <td>0.0</td>\n",
       "      <td>0.0</td>\n",
       "      <td>0.0</td>\n",
       "      <td>0.0</td>\n",
       "      <td>0.0</td>\n",
       "      <td>0.0</td>\n",
       "    </tr>\n",
       "    <tr>\n",
       "      <th>796</th>\n",
       "      <td>0.0</td>\n",
       "      <td>0.0</td>\n",
       "      <td>0.0</td>\n",
       "      <td>1.0</td>\n",
       "      <td>0.0</td>\n",
       "      <td>0.0</td>\n",
       "      <td>0.0</td>\n",
       "      <td>0.0</td>\n",
       "      <td>0.0</td>\n",
       "      <td>0.0</td>\n",
       "      <td>...</td>\n",
       "      <td>0.0</td>\n",
       "      <td>0.0</td>\n",
       "      <td>0.0</td>\n",
       "      <td>0.0</td>\n",
       "      <td>0.0</td>\n",
       "      <td>0.0</td>\n",
       "      <td>0.0</td>\n",
       "      <td>0.0</td>\n",
       "      <td>0.0</td>\n",
       "      <td>0.0</td>\n",
       "    </tr>\n",
       "    <tr>\n",
       "      <th>797</th>\n",
       "      <td>0.0</td>\n",
       "      <td>0.0</td>\n",
       "      <td>0.0</td>\n",
       "      <td>1.0</td>\n",
       "      <td>0.0</td>\n",
       "      <td>0.0</td>\n",
       "      <td>0.0</td>\n",
       "      <td>0.0</td>\n",
       "      <td>0.0</td>\n",
       "      <td>0.0</td>\n",
       "      <td>...</td>\n",
       "      <td>0.0</td>\n",
       "      <td>0.0</td>\n",
       "      <td>0.0</td>\n",
       "      <td>0.0</td>\n",
       "      <td>0.0</td>\n",
       "      <td>0.0</td>\n",
       "      <td>0.0</td>\n",
       "      <td>0.0</td>\n",
       "      <td>0.0</td>\n",
       "      <td>0.0</td>\n",
       "    </tr>\n",
       "    <tr>\n",
       "      <th>798</th>\n",
       "      <td>0.0</td>\n",
       "      <td>0.0</td>\n",
       "      <td>0.0</td>\n",
       "      <td>1.0</td>\n",
       "      <td>0.0</td>\n",
       "      <td>0.0</td>\n",
       "      <td>0.0</td>\n",
       "      <td>0.0</td>\n",
       "      <td>0.0</td>\n",
       "      <td>0.0</td>\n",
       "      <td>...</td>\n",
       "      <td>0.0</td>\n",
       "      <td>0.0</td>\n",
       "      <td>0.0</td>\n",
       "      <td>0.0</td>\n",
       "      <td>0.0</td>\n",
       "      <td>0.0</td>\n",
       "      <td>0.0</td>\n",
       "      <td>0.0</td>\n",
       "      <td>0.0</td>\n",
       "      <td>0.0</td>\n",
       "    </tr>\n",
       "    <tr>\n",
       "      <th>799</th>\n",
       "      <td>0.0</td>\n",
       "      <td>0.0</td>\n",
       "      <td>0.0</td>\n",
       "      <td>1.0</td>\n",
       "      <td>1.0</td>\n",
       "      <td>0.0</td>\n",
       "      <td>0.0</td>\n",
       "      <td>0.0</td>\n",
       "      <td>0.0</td>\n",
       "      <td>0.0</td>\n",
       "      <td>...</td>\n",
       "      <td>0.0</td>\n",
       "      <td>0.0</td>\n",
       "      <td>0.0</td>\n",
       "      <td>0.0</td>\n",
       "      <td>0.0</td>\n",
       "      <td>0.0</td>\n",
       "      <td>0.0</td>\n",
       "      <td>0.0</td>\n",
       "      <td>0.0</td>\n",
       "      <td>0.0</td>\n",
       "    </tr>\n",
       "  </tbody>\n",
       "</table>\n",
       "<p>800 rows × 5500 columns</p>\n",
       "</div>"
      ],
      "text/plain": [
       "     0     1     2     3     4     5     6     7     8     9     ...   5490  \\\n",
       "0     2.0   2.0   2.0   1.0   8.0   6.0   2.0   8.0   2.0   4.0  ...    0.0   \n",
       "1     0.0   0.0   0.0   1.0   1.0   0.0   0.0   0.0   0.0   0.0  ...    0.0   \n",
       "2     0.0   0.0   0.0   1.0   0.0   0.0   0.0   2.0   0.0   1.0  ...    0.0   \n",
       "3     2.0   0.0   0.0   1.0   0.0   0.0   0.0   0.0   0.0   0.0  ...    0.0   \n",
       "4     2.0   0.0   0.0   1.0   0.0   0.0   0.0   0.0   0.0   0.0  ...    0.0   \n",
       "5     0.0   0.0   0.0   1.0   0.0   0.0   0.0   0.0   0.0   0.0  ...    0.0   \n",
       "6     0.0   0.0   0.0   2.0   0.0   0.0   0.0   0.0   0.0   0.0  ...    0.0   \n",
       "7     0.0   0.0   0.0   1.0   0.0   0.0   0.0   0.0   0.0   2.0  ...    0.0   \n",
       "8     0.0   0.0   0.0   1.0   0.0   0.0   0.0   0.0   0.0   0.0  ...    0.0   \n",
       "9     0.0   0.0   0.0   1.0   0.0   0.0   0.0   0.0   0.0   0.0  ...    0.0   \n",
       "10    0.0   0.0   0.0   1.0   1.0   0.0   0.0   0.0   0.0   0.0  ...    0.0   \n",
       "11    0.0   0.0   0.0   2.0   0.0   0.0   0.0   0.0   0.0   0.0  ...    0.0   \n",
       "12    0.0   0.0   0.0   3.0   0.0   0.0   1.0   0.0   0.0   0.0  ...    0.0   \n",
       "13    0.0   0.0   0.0   1.0   0.0   0.0   0.0   0.0   0.0   0.0  ...    0.0   \n",
       "14    0.0   0.0   0.0   1.0   0.0   0.0   0.0   0.0   0.0   0.0  ...    0.0   \n",
       "15    0.0   0.0   0.0   1.0   0.0   0.0   0.0   0.0   0.0   2.0  ...    0.0   \n",
       "16    0.0   0.0   0.0   1.0   0.0   0.0   0.0   0.0   0.0   0.0  ...    0.0   \n",
       "17    0.0   0.0   0.0   1.0   0.0   0.0   0.0   0.0   0.0   1.0  ...    0.0   \n",
       "18    0.0   0.0   0.0   1.0   0.0   0.0   0.0   0.0   0.0   0.0  ...    0.0   \n",
       "19    0.0   0.0   0.0   1.0   0.0   0.0   0.0   0.0   0.0   1.0  ...    0.0   \n",
       "20    0.0   0.0   0.0   1.0   0.0   0.0   0.0   0.0   0.0   0.0  ...    0.0   \n",
       "21    0.0   0.0   0.0   1.0   0.0   0.0   0.0   0.0   0.0   1.0  ...    0.0   \n",
       "22    0.0   0.0   0.0   1.0   0.0   0.0   0.0   0.0   0.0   0.0  ...    0.0   \n",
       "23    0.0   0.0   0.0   1.0   0.0   0.0   0.0   0.0   0.0   0.0  ...    0.0   \n",
       "24    0.0   0.0   0.0   1.0   0.0   0.0   0.0   0.0   0.0   0.0  ...    0.0   \n",
       "25    0.0   0.0   0.0   1.0   0.0   0.0   0.0   0.0   0.0   0.0  ...    0.0   \n",
       "26    0.0   0.0   0.0   1.0   0.0   0.0   0.0   0.0   0.0   0.0  ...    0.0   \n",
       "27    0.0   0.0   0.0   1.0   0.0   0.0   0.0   0.0   0.0   0.0  ...    0.0   \n",
       "28    0.0   0.0   0.0   1.0   0.0   0.0   0.0   0.0   0.0   0.0  ...    0.0   \n",
       "29    0.0   0.0   0.0   1.0   0.0   0.0   0.0   0.0   0.0   0.0  ...    0.0   \n",
       "..    ...   ...   ...   ...   ...   ...   ...   ...   ...   ...  ...    ...   \n",
       "770   0.0   0.0   0.0   1.0   2.0   0.0   0.0   0.0   0.0   0.0  ...    0.0   \n",
       "771   0.0   0.0   0.0   1.0   0.0   0.0   0.0   0.0   0.0   0.0  ...    0.0   \n",
       "772   0.0   0.0   0.0   1.0   0.0   0.0   0.0   0.0   0.0   2.0  ...    0.0   \n",
       "773   0.0   0.0   0.0   1.0   0.0   0.0   0.0   0.0   0.0   0.0  ...    0.0   \n",
       "774   0.0   0.0   0.0   1.0   0.0   0.0   0.0   0.0   0.0   1.0  ...    0.0   \n",
       "775   0.0   0.0   0.0   1.0   0.0   0.0   0.0   0.0   0.0   1.0  ...    0.0   \n",
       "776   0.0   0.0   0.0   1.0   0.0   0.0   0.0   0.0   0.0   0.0  ...    0.0   \n",
       "777   0.0   0.0   0.0   1.0   0.0   0.0   0.0   0.0   0.0   0.0  ...    0.0   \n",
       "778   0.0   0.0   0.0   1.0   0.0   0.0   0.0   0.0   0.0   0.0  ...    0.0   \n",
       "779   4.0   0.0   0.0  36.0  33.0   5.0  17.0  37.0   3.0   8.0  ...    0.0   \n",
       "780   0.0   0.0   0.0   1.0   0.0   0.0   0.0   0.0   0.0   0.0  ...    0.0   \n",
       "781   0.0   0.0   0.0   1.0   0.0   0.0   0.0   2.0   0.0   0.0  ...    0.0   \n",
       "782   0.0   0.0   0.0   1.0   0.0   0.0   0.0   0.0   0.0   0.0  ...    0.0   \n",
       "783   0.0   0.0   0.0   1.0   0.0   0.0   0.0   0.0   0.0   0.0  ...    0.0   \n",
       "784   0.0   0.0   0.0   1.0   0.0   1.0   0.0   0.0   0.0   0.0  ...    0.0   \n",
       "785   0.0   0.0   0.0   1.0   0.0   0.0   0.0   0.0   0.0   0.0  ...    0.0   \n",
       "786   0.0   0.0   0.0   1.0   0.0   0.0   0.0   0.0   0.0   1.0  ...    0.0   \n",
       "787   0.0   0.0   0.0   1.0   1.0   0.0   0.0   0.0   0.0   2.0  ...    0.0   \n",
       "788   0.0   0.0   0.0   1.0   5.0   0.0   0.0   0.0   0.0   1.0  ...    0.0   \n",
       "789   0.0   0.0   0.0   1.0   0.0   0.0   0.0   0.0   0.0   0.0  ...    0.0   \n",
       "790   0.0   0.0   0.0   1.0   0.0   0.0   2.0   2.0   0.0   0.0  ...    0.0   \n",
       "791   0.0   0.0   0.0   1.0   0.0   0.0   0.0   0.0   0.0   0.0  ...    0.0   \n",
       "792   0.0   3.0   0.0   1.0   2.0   0.0   0.0   0.0   0.0   1.0  ...    0.0   \n",
       "793   0.0   0.0   0.0   1.0   0.0   0.0   0.0   0.0   0.0   0.0  ...    0.0   \n",
       "794   0.0   0.0   0.0   1.0   0.0   0.0   0.0   0.0   0.0   1.0  ...    0.0   \n",
       "795   0.0   0.0   0.0   1.0   0.0   0.0   0.0   0.0   0.0   0.0  ...    0.0   \n",
       "796   0.0   0.0   0.0   1.0   0.0   0.0   0.0   0.0   0.0   0.0  ...    0.0   \n",
       "797   0.0   0.0   0.0   1.0   0.0   0.0   0.0   0.0   0.0   0.0  ...    0.0   \n",
       "798   0.0   0.0   0.0   1.0   0.0   0.0   0.0   0.0   0.0   0.0  ...    0.0   \n",
       "799   0.0   0.0   0.0   1.0   1.0   0.0   0.0   0.0   0.0   0.0  ...    0.0   \n",
       "\n",
       "     5491  5492  5493  5494  5495  5496  5497  5498  5499  \n",
       "0     0.0   0.0   0.0   0.0   0.0   0.0   0.0   0.0   0.0  \n",
       "1     0.0   0.0   0.0   0.0   0.0   0.0   0.0   0.0   0.0  \n",
       "2     0.0   0.0   0.0   0.0   0.0   0.0   0.0   0.0   0.0  \n",
       "3     0.0   0.0   0.0   0.0   0.0   0.0   0.0   0.0   0.0  \n",
       "4     0.0   0.0   0.0   0.0   0.0   0.0   0.0   0.0   0.0  \n",
       "5     0.0   0.0   0.0   0.0   0.0   0.0   0.0   0.0   0.0  \n",
       "6     0.0   0.0   0.0   0.0   0.0   0.0   0.0   0.0   0.0  \n",
       "7     0.0   0.0   0.0   0.0   0.0   0.0   0.0   0.0   0.0  \n",
       "8     0.0   0.0   0.0   0.0   0.0   0.0   0.0   0.0   0.0  \n",
       "9     0.0   0.0   0.0   0.0   0.0   0.0   0.0   0.0   0.0  \n",
       "10    0.0   0.0   0.0   0.0   0.0   0.0   0.0   0.0   0.0  \n",
       "11    0.0   0.0   0.0   0.0   0.0   0.0   0.0   0.0   0.0  \n",
       "12    0.0   0.0   0.0   0.0   0.0   0.0   0.0   0.0   0.0  \n",
       "13    0.0   0.0   0.0   0.0   0.0   0.0   0.0   0.0   0.0  \n",
       "14    0.0   0.0   0.0   0.0   0.0   0.0   0.0   0.0   0.0  \n",
       "15    0.0   0.0   0.0   0.0   0.0   0.0   0.0   0.0   0.0  \n",
       "16    0.0   0.0   0.0   0.0   0.0   0.0   0.0   0.0   0.0  \n",
       "17    0.0   0.0   0.0   0.0   0.0   0.0   0.0   0.0   0.0  \n",
       "18    0.0   0.0   0.0   0.0   0.0   0.0   0.0   0.0   0.0  \n",
       "19    0.0   0.0   0.0   0.0   0.0   0.0   0.0   0.0   0.0  \n",
       "20    0.0   0.0   0.0   0.0   0.0   0.0   0.0   0.0   0.0  \n",
       "21    0.0   0.0   0.0   0.0   0.0   0.0   0.0   0.0   0.0  \n",
       "22    0.0   0.0   0.0   0.0   0.0   0.0   0.0   0.0   0.0  \n",
       "23    0.0   0.0   0.0   0.0   0.0   0.0   0.0   0.0   0.0  \n",
       "24    0.0   0.0   0.0   0.0   0.0   0.0   0.0   0.0   0.0  \n",
       "25    0.0   0.0   0.0   0.0   0.0   0.0   0.0   0.0   0.0  \n",
       "26    0.0   0.0   0.0   0.0   0.0   0.0   0.0   0.0   0.0  \n",
       "27    0.0   0.0   0.0   0.0   0.0   0.0   0.0   0.0   0.0  \n",
       "28    0.0   0.0   0.0   0.0   0.0   0.0   0.0   0.0   0.0  \n",
       "29    0.0   0.0   0.0   0.0   0.0   0.0   0.0   0.0   0.0  \n",
       "..    ...   ...   ...   ...   ...   ...   ...   ...   ...  \n",
       "770   0.0   0.0   0.0   0.0   0.0   0.0   0.0   0.0   0.0  \n",
       "771   0.0   0.0   0.0   0.0   0.0   0.0   0.0   0.0   0.0  \n",
       "772   0.0   0.0   0.0   0.0   0.0   0.0   0.0   0.0   0.0  \n",
       "773   0.0   0.0   0.0   0.0   0.0   0.0   0.0   0.0   0.0  \n",
       "774   0.0   0.0   0.0   0.0   0.0   0.0   0.0   0.0   0.0  \n",
       "775   0.0   0.0   0.0   0.0   0.0   0.0   0.0   0.0   0.0  \n",
       "776   0.0   0.0   0.0   0.0   0.0   0.0   0.0   0.0   0.0  \n",
       "777   0.0   0.0   0.0   0.0   0.0   0.0   0.0   0.0   0.0  \n",
       "778   0.0   0.0   0.0   0.0   0.0   0.0   0.0   0.0   0.0  \n",
       "779   0.0   0.0   1.0   0.0   1.0   0.0   0.0   0.0   0.0  \n",
       "780   0.0   0.0   0.0   0.0   0.0   0.0   0.0   0.0   0.0  \n",
       "781   0.0   0.0   0.0   0.0   0.0   0.0   0.0   0.0   0.0  \n",
       "782   0.0   0.0   0.0   0.0   0.0   0.0   0.0   0.0   0.0  \n",
       "783   0.0   0.0   0.0   0.0   0.0   0.0   0.0   0.0   0.0  \n",
       "784   0.0   0.0   0.0   0.0   0.0   1.0   0.0   0.0   0.0  \n",
       "785   0.0   0.0   0.0   1.0   0.0   0.0   0.0   0.0   0.0  \n",
       "786   0.0   0.0   0.0   0.0   0.0   0.0   0.0   0.0   0.0  \n",
       "787   0.0   0.0   0.0   0.0   0.0   0.0   0.0   0.0   0.0  \n",
       "788   0.0   0.0   0.0   0.0   0.0   0.0   0.0   0.0   0.0  \n",
       "789   0.0   0.0   0.0   0.0   0.0   0.0   0.0   0.0   0.0  \n",
       "790   0.0   0.0   0.0   0.0   0.0   0.0   0.0   0.0   0.0  \n",
       "791   0.0   0.0   0.0   0.0   0.0   0.0   0.0   0.0   0.0  \n",
       "792   0.0   0.0   0.0   0.0   0.0   0.0   0.0   0.0   0.0  \n",
       "793   0.0   0.0   0.0   0.0   0.0   0.0   0.0   0.0   0.0  \n",
       "794   0.0   0.0   0.0   0.0   0.0   0.0   0.0   0.0   0.0  \n",
       "795   0.0   0.0   0.0   0.0   0.0   0.0   0.0   0.0   0.0  \n",
       "796   0.0   0.0   0.0   0.0   0.0   0.0   0.0   0.0   0.0  \n",
       "797   0.0   0.0   0.0   0.0   0.0   0.0   0.0   0.0   0.0  \n",
       "798   0.0   0.0   0.0   0.0   0.0   0.0   0.0   0.0   0.0  \n",
       "799   0.0   0.0   0.0   0.0   0.0   0.0   0.0   0.0   0.0  \n",
       "\n",
       "[800 rows x 5500 columns]"
      ]
     },
     "execution_count": 240,
     "metadata": {},
     "output_type": "execute_result"
    }
   ],
   "source": [
    "DT_train"
   ]
  },
  {
   "cell_type": "code",
   "execution_count": 419,
   "metadata": {
    "collapsed": false
   },
   "outputs": [
    {
     "name": "stdout",
     "output_type": "stream",
     "text": [
      "[('00', 159.0), ('10', 254.0), ('1010', 105.0), ('125', 74.0), ('14', 100.0), ('1990', 73.0), ('1991', 159.0), ('1992', 23.0), ('1993', 80.0), ('1st', 67.0), ('20', 32.0), ('21', 61.0), ('25', 136.0), ('2nd', 24.0), ('30', 59.0), ('4324219', 24.0), ('50', 78.0), ('5000', 286.0), ('63', 44.0), ('635', 42.0), ('705', 78.0), ('89', 204.0), ('919', 113.0), ('999', 32.0), ('abc', 172.0), ('abl', 73.0), ('accept', 195.0), ('access', 53.0), ('act', 168.0), ('activ', 107.0), ('actual', 485.0), ('adam', 81.0), ('add', 205.0), ('addit', 53.0), ('address', 31.0), ('admit', 81.0), ('admittedli', 202.0), ('advanc', 125.0), ('advantag', 45.0), ('advic', 75.0), ('afternoon', 102.0), ('ago', 78.0), ('allstar', 47.0), ('altern', 2.0), ('amount', 330.0), ('analyst', 51.0), ('anderson', 99.0), ('andrewcmuedu', 28.0), ('angel', 253.0), ('angelo', 72.0), ('announc', 48.0), ('anonym', 28.0), ('anybodi', 89.0), ('anymor', 89.0), ('anywai', 792.0), ('app', 50.0), ('appear', 214.0), ('appropri', 74.0), ('archiv', 169.0), ('area', 109.0), ('argument', 7.0), ('arrang', 2754.0), ('articl', 75.0), ('audett', 59.0), ('automat', 79.0), ('avail', 51.0), ('averag', 28.0), ('awai', 41.0), ('back', 22.0), ('bad', 89.0), ('bai', 97.0), ('baker', 119.0), ('balanc', 50.0), ('base', 108.0), ('basic', 114.0), ('bassen', 66.0), ('beat', 109.0), ('behind', 96.0), ('belfour', 79.0), ('bell', 23.0), ('berth', 142.0), ('best', 44.0), ('better', 122.0), ('biggest', 48.0), ('bill', 29.0), ('binari', 45.0), ('blackhawk', 57.0), ('blame', 45.0), ('blow', 82.0), ('blown', 225.0), ('blue', 110.0), ('bodi', 43.0), ('bondra', 72.0), ('bonehead', 35.0), ('boora', 79.0), ('boston', 59.0), ('boulder', 48.0), ('bounc', 46.0), ('bourqu', 244.0), ('box', 39.0), ('bradlei', 27.0), ('brian', 99.0), ('broadcast', 67.0), ('broten', 84.0), ('brought', 51.0), ('bruin', 74.0), ('brutal', 104.0), ('bryan', 49.0), ('buchberg', 67.0), ('buffalo', 80.0), ('buffer', 53.0), ('bure', 209.0), ('busi', 40.0), ('button', 11.0), ('calgari', 58.0), ('call', 33.0), ('canada', 55.0), ('canadian', 40.0), ('canadien', 1465.0), ('canuck', 49.0), ('cap', 75.0), ('capit', 89.0), ('care', 180.0), ('carri', 49.0), ('cassel', 76.0), ('caught', 48.0), ('cbc', 145.0), ('ccdb', 126.0), ('cha', 75.0), ('chaisson', 55.0), ('champion', 53.0), ('chanc', 102.0), ('chang', 88.0), ('cheap', 82.0), ('cheaper', 82.0), ('check', 101.0), ('chest', 49.0), ('chicago', 50.0), ('choic', 70.0), ('chri', 219.0), ('class', 105.0), ('clement', 51.0), ('click', 40.0), ('close', 32.0), ('closer', 127.0), ('coach', 13.0), ('code', 55.0), ('colorado', 190.0), ('come', 6.0), ('comeback', 48.0), ('command', 90.0), ('competit', 127.0), ('compil', 115.0), ('conach', 113.0), ('connect', 74.0), ('content', 93.0), ('contribut', 93.0), ('contributor', 71.0), ('control', 434.0), ('convent', 68.0), ('cote', 116.0), ('cours', 52.0), ('cover', 38.0), ('creat', 119.0), ('creighton', 56.0), ('crosscheck', 46.0), ('cscoloradoedu', 86.0), ('cup', 32.0), ('current', 14.0), ('cut', 48.0), ('dahlquist', 139.0), ('dai', 109.0), ('dan', 102.0), ('date', 60.0), ('david', 196.0), ('davidson', 228.0), ('dead', 34.0), ('dec', 39.0), ('decis', 59.0), ('decstat', 75.0), ('decwindow', 52.0), ('deep', 32.0), ('defens', 44.0), ('demand', 134.0), ('demer', 90.0), ('demo', 87.0), ('demonstr', 48.0), ('deni', 132.0), ('denni', 22.0), ('desktop', 200.0), ('desper', 93.0), ('despit', 171.0), ('detroit', 123.0), ('devil', 46.0), ('dg', 140.0), ('di', 14.0), ('differ', 110.0), ('difficulti', 73.0), ('disappoint', 94.0), ('discuss', 58.0), ('displai', 68.0), ('divis', 51.0), ('domin', 45.0), ('done', 25.0), ('donnelli', 87.0), ('doubl', 66.0), ('doublehead', 115.0), ('doubt', 130.0), ('dress', 47.0), ('drop', 109.0), ('druce', 67.0), ('dsweenei', 356.0), ('due', 121.0), ('dump', 34.0), ('easili', 142.0), ('east', 513.0), ('ed', 32.0), ('edit', 86.0), ('edmonton', 25.0), ('eklund', 28.0), ('elbow', 243.0), ('ellett', 119.0), ('elynuik', 14.0), ('email', 141.0), ('encourag', 127.0), ('end', 60.0), ('enjoi', 29.0), ('entertain', 15.0), ('error', 69.0), ('especi', 62.0), ('espn', 69.0), ('establish', 12.0), ('event', 68.0), ('everyon', 37.0), ('everyth', 103.0), ('exampl', 162.0), ('except', 36.0), ('exit', 134.0), ('expect', 167.0), ('explor', 34.0), ('extens', 67.0), ('fact', 55.0), ('fail', 45.0), ('fan', 220.0), ('faq', 20.0), ('far', 78.0), ('fat', 64.0), ('fax', 151.0), ('fedyk', 72.0), ('feed', 115.0), ('felt', 30.0), ('figur', 94.0), ('file', 41.0), ('final', 57.0), ('finish', 38.0), ('first', 32.0), ('five', 28.0), ('fix', 220.0), ('flame', 104.0), ('fleuri', 97.0), ('flyer', 52.0), ('folk', 124.0), ('follow', 115.0), ('forget', 68.0), ('form', 70.0), ('format', 135.0), ('former', 54.0), ('forum', 118.0), ('freenetcarletonca', 113.0), ('frustrat', 33.0), ('ftp', 74.0), ('fuhr', 30.0), ('fulli', 26.0), ('fun', 28.0), ('function', 94.0), ('gallei', 52.0), ('game', 28.0), ('gari', 48.0), ('gaudreau', 64.0), ('gaussmedharvardedu', 35.0), ('gener', 56.0), ('get', 269.0), ('ghostscript', 29.0), ('gibson', 35.0), ('gilmour', 114.0), ('give', 76.0), ('given', 175.0), ('glenn', 28.0), ('gnu', 103.0), ('go', 197.0), ('goal', 112.0), ('goaltend', 100.0), ('godfath', 72.0), ('goe', 705.0), ('good', 113.0), ('got', 25.0), ('gotta', 93.0), ('goulet', 82.0), ('grab', 25.0), ('grant', 54.0), ('great', 38.0), ('gretzki', 123.0), ('group', 215.0), ('guess', 33.0), ('gui', 536.0), ('hab', 87.0), ('half', 74.0), ('hardli', 127.0), ('harri', 27.0), ('hartford', 55.0), ('hatcher', 77.0), ('have', 142.0), ('hawk', 53.0), ('head', 17.0), ('header', 73.0), ('headlin', 111.0), ('healthyuwaterlooca', 119.0), ('heck', 30.0), ('hei', 520.0), ('height', 72.0), ('help', 16.0), ('hextal', 90.0), ('hi', 84.0), ('hierarchi', 199.0), ('highstick', 119.0), ('histori', 48.0), ('hit', 293.0), ('hockei', 4367.0), ('hope', 50.0), ('host', 26.0), ('hot', 140.0), ('hrudei', 59.0), ('hsdndevharvardedu', 68.0), ('ic', 124.0), ('icon', 27.0), ('idea', 2715.0), ('imho', 102.0), ('impal', 254.0), ('impress', 137.0), ('improv', 337.0), ('includ', 124.0), ('inclus', 88.0), ('increas', 57.0), ('inform', 45.0), ('initi', 69.0), ('insert', 49.0), ('instal', 70.0), ('institut', 248.0), ('int', 35.0), ('integr', 55.0), ('interact', 94.0), ('interfac', 25.0), ('internet', 26.0), ('involv', 78.0), ('ipc', 82.0), ('isl', 122.0), ('island', 73.0), ('jacqu', 134.0), ('jagr', 48.0), ('jbrown', 95.0), ('jersei', 20.0), ('jet', 31.0), ('johansson', 64.0), ('john', 76.0), ('jose', 111.0), ('june', 71.0), ('just', 94.0), ('keep', 26.0), ('kept', 183.0), ('kick', 41.0), ('king', 17.0), ('kisio', 66.0), ('kitssfuca', 297.0), ('know', 54.0), ('kovalenko', 161.0), ('kovalev', 61.0), ('kozlov', 70.0), ('la', 32.0), ('laboratori', 49.0), ('lack', 148.0), ('ladi', 31.0), ('lafontain', 119.0), ('lead', 106.0), ('leadership', 63.0), ('leaf', 45.0), ('least', 61.0), ('lebeau', 44.0), ('left', 206.0), ('lemieux', 47.0), ('level', 431.0), ('lib', 236.0), ('librari', 245.0), ('linden', 144.0), ('lindro', 53.0), ('line', 35.0), ('link', 216.0), ('list', 13.0), ('littl', 33.0), ('lo', 96.0), ('load', 47.0), ('local', 17.0), ('long', 57.0), ('look', 36.0), ('lose', 73.0), ('loss', 310.0), ('lost', 37.0), ('loui', 135.0), ('love', 92.0), ('maciv', 68.0), ('maclean', 44.0), ('magazin', 447.0), ('mail', 195.0), ('main', 70.0), ('major', 47.0), ('makarov', 75.0), ('manag', 131.0), ('manson', 40.0), ('mapl', 31.0), ('mark', 168.0), ('match', 110.0), ('mclean', 66.0), ('mean', 98.0), ('mechan', 44.0), ('mee', 45.0), ('mellanbi', 105.0), ('member', 28.0), ('mention', 161.0), ('messag', 143.0), ('messier', 87.0), ('min', 44.0), ('mind', 33.0), ('minnesota', 11.0), ('minor', 36.0), ('minut', 49.0), ('misconduct', 9.0), ('miss', 185.0), ('mit', 58.0), ('mo', 778.0), ('modano', 16.0), ('model', 58.0), ('moder', 4.0), ('mogilni', 56.0), ('momesso', 22.0), ('montreal', 129.0), ('moog', 217.0), ('morn', 46.0), ('move', 136.0), ('muller', 64.0), ('multipl', 62.0), ('musicamcgillca', 19.0), ('mvp', 98.0), ('name', 47.0), ('nation', 42.0), ('natur', 28.0), ('ncd', 46.0), ('necessarili', 58.0), ('nedv', 17.0), ('need', 357.0), ('neglect', 244.0), ('network', 21.0), ('new', 14.0), ('newsdisplai', 27.0), ('newsgroup', 42.0), ('newspap', 118.0), ('nhl', 205.0), ('nhma', 24.0), ('night', 95.0), ('nord', 227.0), ('nordiqu', 40.0), ('north', 31.0), ('noth', 302.0), ('notic', 82.0), ('null', 128.0), ('ny', 68.0), ('oat', 70.0), ('observ', 101.0), ('obtain', 195.0), ('odd', 63.0), ('offenc', 61.0), ('offens', 70.0), ('offer', 56.0), ('oh', 303.0), ('oiler', 187.0), ('ok', 28.0), ('okai', 57.0), ('old', 203.0), ('on', 81.0), ('ontario', 151.0), ('open', 60.0), ('opinion', 51.0), ('opportun', 24.0), ('option', 64.0), ('ot', 26.0), ('ottawa', 173.0), ('outlin', 74.0), ('output', 31.0), ('outset', 75.0), ('outsid', 65.0), ('pair', 55.0), ('particip', 172.0), ('particular', 35.0), ('past', 152.0), ('pat', 27.0), ('patch', 57.0), ('pathet', 68.0), ('patrick', 177.0), ('paul', 72.0), ('pearson', 95.0), ('pen', 21.0), ('penalti', 63.0), ('penguin', 50.0), ('peopl', 89.0), ('perform', 27.0), ('period', 13.0), ('petit', 55.0), ('pgh', 91.0), ('philadelphia', 21.0), ('phone', 17.0), ('physic', 67.0), ('pick', 217.0), ('pie', 40.0), ('pine', 40.0), ('pittsburgh', 61.0), ('place', 58.0), ('plai', 47.0), ('plan', 30.0), ('player', 68.0), ('playoff', 44.0), ('pleas', 31.0), ('pleshar', 99.0), ('plu', 109.0), ('po', 28.0), ('point', 132.0), ('polici', 72.0), ('possibl', 71.0), ('post', 413.0), ('postscript', 65.0), ('potvin', 29.0), ('ppv', 17.0), ('previou', 84.0), ('printf', 366.0), ('probabl', 108.0), ('problem', 21.0), ('procedur', 15.0), ('product', 3740.0), ('prog', 25.0), ('program', 89.0), ('programm', 62.0), ('propag', 116.0), ('proper', 70.0), ('prove', 154.0), ('provid', 298.0), ('psuvmpsuedu', 71.0), ('publish', 135.0), ('pull', 73.0), ('punch', 69.0), ('put', 55.0), ('quebec', 127.0), ('question', 95.0), ('r4', 226.0), ('r5', 36.0), ('rais', 42.0), ('ralph', 182.0), ('ranger', 43.0), ('rap115', 19.0), ('reader', 105.0), ('real', 51.0), ('realli', 48.0), ('recchi', 1051.0), ('receiv', 131.0), ('record', 54.0), ('recov', 68.0), ('red', 232.0), ('reichel', 318.0), ('rel', 101.0), ('relat', 33.0), ('rememb', 147.0), ('repres', 155.0), ('request', 25.0), ('requir', 31.0), ('resembl', 60.0), ('resourc', 92.0), ('respect', 13.0), ('respond', 63.0), ('rest', 33.0), ('return', 64.0), ('rex', 79.0), ('ricci', 133.0), ('right', 101.0), ('ring', 77.0), ('rm', 268.0), ('robbi', 101.0), ('robert', 38.0), ('robitail', 121.0), ('roenick', 22.0), ('roger', 46.0), ('roi', 46.0), ('ron', 78.0), ('room', 57.0), ('rose', 36.0), ('round', 122.0), ('rout', 81.0), ('rp16', 24.0), ('rub', 37.0), ('run', 52.0), ('rush', 129.0), ('ruuttu', 130.0), ('rychel', 27.0), ('sa', 94.0), ('sabr', 115.0), ('sai', 29.0), ('sakic', 44.0), ('san', 57.0), ('sanderson', 62.0), ('saturdai', 66.0), ('savard', 37.0), ('save', 46.0), ('saw', 117.0), ('schedul', 24.0), ('sco', 93.0), ('score', 155.0), ('scott', 7.0), ('screen', 17.0), ('screw', 54.0), ('season', 77.0), ('second', 109.0), ('see', 86.0), ('seen', 187.0), ('selann', 27.0), ('select', 107.0), ('semak', 31.0), ('semi', 194.0), ('senat', 34.0), ('send', 174.0), ('sergei', 235.0), ('seri', 237.0), ('seriou', 128.0), ('serv', 123.0), ('set', 49.0), ('setup', 58.0), ('sfuca', 80.0), ('shanahan', 157.0), ('shark', 92.0), ('shift', 156.0), ('shneyder', 36.0), ('shot', 268.0), ('show', 57.0), ('similarli', 160.0), ('sit', 71.0), ('site', 48.0), ('sleep', 101.0), ('smale', 43.0), ('softwar', 32.0), ('someth', 62.0), ('sourc', 30.0), ('southern', 93.0), ('speak', 86.0), ('specif', 86.0), ('st', 78.0), ('stanlei', 146.0), ('star', 47.0), ('start', 84.0), ('static', 3468.0), ('stdioh', 94.0), ('steven', 38.0), ('stloui', 96.0), ('straight', 42.0), ('stride', 30.0), ('strong', 66.0), ('stronger', 99.0), ('strongli', 109.0), ('stuff', 5.0), ('subject', 39.0), ('submiss', 80.0), ('subscrib', 34.0), ('subscript', 74.0), ('suggest', 25.0), ('summer', 216.0), ('sun', 191.0), ('sundai', 39.0), ('superiorcarletonca', 166.0), ('support', 28.0), ('surpris', 32.0), ('suspens', 82.0), ('suter', 124.0), ('sutter', 105.0), ('symasussexacuk', 60.0), ('system', 194.0), ('take', 1464.0), ('talent', 91.0), ('tampa', 60.0), ('team', 41.0), ('technolog', 770.0), ('tee', 128.0), ('tell', 41.0), ('term', 1702.0), ('termin', 16.0), ('test', 94.0), ('thank', 46.0), ('thing', 41.0), ('think', 57.0), ('third', 41.0), ('thorn', 52.0), ('thought', 42.0), ('three', 49.0), ('thursdai', 97.0), ('time', 219.0), ('tocchet', 23.0), ('todai', 55.0), ('told', 55.0), ('tom', 21.0), ('tonight', 199.0), ('top', 15.0), ('toronto', 43.0), ('total', 85.0), ('tough', 31.0), ('tree', 87.0), ('tri', 194.0), ('troubl', 136.0), ('truli', 61.0), ('try', 51.0), ('tuesdai', 56.0), ('turgeon', 22.0), ('tv', 187.0), ('twm', 131.0), ('two', 143.0), ('unabl', 132.0), ('unfortun', 25.0), ('univers', 152.0), ('unix', 39.0), ('unusu', 104.0), ('upcom', 162.0), ('updat', 159.0), ('us', 6.0), ('usenet', 122.0), ('usual', 99.0), ('uucp', 145.0), ('uunetuunet', 98.0), ('vacat', 257.0), ('valuabl', 49.0), ('vancouv', 34.0), ('var', 180.0), ('variabl', 21.0), ('variant', 84.0), ('vaxcnsmuskingumedu', 28.0), ('vernon', 47.0), ('view', 83.0), ('vlad', 101.0), ('vladimir', 63.0), ('void', 55.0), ('vzhivov', 145.0), ('wai', 75.0), ('wait', 74.0), ('want', 40.0), ('warren', 27.0), ('washington', 54.0), ('watch', 31.0), ('wednesdai', 60.0), ('weight', 121.0), ('welcom', 66.0), ('went', 111.0), ('weslei', 258.0), ('west', 213.0), ('whaler', 62.0), ('widget', 55.0), ('win', 51.0), ('window', 106.0), ('wing', 64.0), ('winnipeg', 180.0), ('wm', 154.0), ('wood', 51.0), ('word', 40.0), ('work', 50.0), ('worldwid', 50.0), ('worst', 77.0), ('write', 82.0), ('writer', 38.0), ('wrong', 14.0), ('wrote', 129.0), ('x11', 37.0), ('x11r5', 61.0), ('xdm', 125.0), ('xevent', 53.0), ('xlibh', 47.0), ('xm', 168.0), ('xmh', 665.0), ('xtappcontext', 73.0), ('xtappiniti', 90.0), ('xtdestroywidget', 85.0), ('xtdispatchev', 89.0), ('xterm', 1477.0), ('xtermin', 64.0), ('xtrealizewidget', 95.0), ('xtvacreatemanagedwidget', 108.0), ('yawnei', 42.0), ('year', 92.0), ('york', 34.0), ('yzerman', 38.0), ('zhivov', 183.0), ('zone', 51.0)]\n"
     ]
    }
   ],
   "source": [
    "#Taking terms and Analyze term frequency by forming a dictionary of terms and their counts in the document-term matrix\n",
    "\n",
    "terms = np.genfromtxt(\"modifiedterms.txt\", dtype=str)\n",
    "terms[0:30]\n",
    "\n",
    "tFreq = DT_train.sum(axis=1)\n",
    "\n",
    "dictTF = {}\n",
    "for i in range(len(tFreq)):\n",
    "    dictTF[terms[i]] = tFreq[i]\n",
    "print(sorted(dictTF.items()))\n",
    "sorteddictTF = sorted(dictTF.values(), reverse=True)"
   ]
  },
  {
   "cell_type": "code",
   "execution_count": 420,
   "metadata": {
    "collapsed": false
   },
   "outputs": [
    {
     "data": {
      "image/png": "[encoded data removed]",
      "text/plain": [
       "<matplotlib.figure.Figure at 0x2a5b0e21dd8>"
      ]
     },
     "metadata": {},
     "output_type": "display_data"
    }
   ],
   "source": [
    "plt.plot(sorteddictTF)\n",
    "plt.show()"
   ]
  },
  {
   "cell_type": "markdown",
   "metadata": {},
   "source": [
    "# a. Create your own KNN classifier. Your classifier should allow as input the training data matrix, the training labels, the instance to be classified, the value of K, and should return the predicted class for the instance and the top K neighbors. Your classifier should work with Euclidean distance as well as Cosine Similarity (see class examples). You may create two separate classifiers, or add this capability as a parameter for the classifier function."
   ]
  },
  {
   "cell_type": "code",
   "execution_count": 432,
   "metadata": {
    "collapsed": true
   },
   "outputs": [],
   "source": [
    "DT_train = np.array(DT_train)\n",
    "DT_test = np.array(DT_test)\n",
    "train_labels = np.array(train_labels)\n",
    "test_labels = np.array(test_labels)"
   ]
  },
  {
   "cell_type": "code",
   "execution_count": 468,
   "metadata": {
    "collapsed": false
   },
   "outputs": [],
   "source": [
    "def knn_search(x, D, L, K, measure):\n",
    "    \"\"\" find K nearest neighbours of data among D \"\"\"\n",
    "    if measure == 0:\n",
    "        # euclidean distances from the other points\n",
    "        inX = x\n",
    "        diffMat = np.tile(inX, (D.shape[0],1)) - D\n",
    "        sqDiffMat = diffMat**2\n",
    "        sqDistances = sqDiffMat.sum(axis=1)\n",
    "        dists = sqDistances**0.5\n",
    "    elif measure == 1:\n",
    "        D_norm = np.array([np.linalg.norm(D[i]) for i in range(len(D))])\n",
    "        x_norm = np.linalg.norm(x)\n",
    "        sims = np.dot(D,x)/(D_norm * x_norm)\n",
    "        dists = 1 - sims\n",
    "    #print(dists)\n",
    "    idx = np.argsort(dists) # sorting\n",
    "    #print(idx[:K])\n",
    "    # return the indexes of K nearest neighbours\n",
    "    neigh_labels = L[idx[:K]]\n",
    "    class0 = 0\n",
    "    class1 = 0\n",
    "    for index in neigh_labels:\n",
    "        #print(L[index])\n",
    "        if L[index] == 0:\n",
    "            class0 = class0 + 1\n",
    "        else:\n",
    "            class1 = class1 + 1\n",
    "        if class0 > class1:\n",
    "            predicted_class = 0\n",
    "        else:\n",
    "            predicted_class = 1\n",
    "    #print(\"The \" + str(K) + \" Nearest Neighbours are:\" + str(idx[:K]))\n",
    "    #print(\"The predicted class is: \" + str(predicted_class))\n",
    "    return idx[:K], predicted_class"
   ]
  },
  {
   "cell_type": "markdown",
   "metadata": {},
   "source": [
    "I just thought of printing it as its same as returning but didn't wanted to lose any grades for printing and not returning the values as the problem said it should return, so commented printing and just returning values.\n",
    "\n",
    "Trying a few vectors from the test data and the results."
   ]
  },
  {
   "cell_type": "code",
   "execution_count": 469,
   "metadata": {
    "collapsed": false
   },
   "outputs": [
    {
     "name": "stdout",
     "output_type": "stream",
     "text": [
      "The Nearest Neighbours are:[685 628 667 152 427]\n",
      "The predicted class is: 1\n"
     ]
    }
   ],
   "source": [
    "neigh_idx, predicted_class = knn_search(DT_test[0], DT_train, train_labels, 5, 1)\n",
    "print(\"The Nearest Neighbours are:\" + str(neigh_idx))\n",
    "print(\"The predicted class is: \" + str(predicted_class))"
   ]
  },
  {
   "cell_type": "code",
   "execution_count": 470,
   "metadata": {
    "collapsed": false
   },
   "outputs": [
    {
     "name": "stdout",
     "output_type": "stream",
     "text": [
      "The Nearest Neighbours are:[685 628 703 266 510]\n",
      "The predicted class is: 1\n"
     ]
    }
   ],
   "source": [
    "neigh_idx, predicted_class = knn_search(DT_test[0], DT_train, train_labels, 5, 0)\n",
    "print(\"The Nearest Neighbours are:\" + str(neigh_idx))\n",
    "print(\"The predicted class is: \" + str(predicted_class))"
   ]
  },
  {
   "cell_type": "code",
   "execution_count": 471,
   "metadata": {
    "collapsed": false
   },
   "outputs": [
    {
     "name": "stdout",
     "output_type": "stream",
     "text": [
      "The Nearest Neighbours are:[382 775 163 587 550 127 485 651 767]\n",
      "The predicted class is: 0\n"
     ]
    }
   ],
   "source": [
    "neigh_idx, predicted_class = knn_search(DT_test[1], DT_train, train_labels, 9, 1)\n",
    "print(\"The Nearest Neighbours are:\" + str(neigh_idx))\n",
    "print(\"The predicted class is: \" + str(predicted_class))"
   ]
  },
  {
   "cell_type": "code",
   "execution_count": 472,
   "metadata": {
    "collapsed": false
   },
   "outputs": [
    {
     "name": "stdout",
     "output_type": "stream",
     "text": [
      "The Nearest Neighbours are:[798 554 757 224  38 119 711 398 608]\n",
      "The predicted class is: 0\n"
     ]
    }
   ],
   "source": [
    "neigh_idx, predicted_class = knn_search(DT_test[1], DT_train, train_labels, 9, 0)\n",
    "print(\"The Nearest Neighbours are:\" + str(neigh_idx))\n",
    "print(\"The predicted class is: \" + str(predicted_class))"
   ]
  },
  {
   "cell_type": "code",
   "execution_count": 473,
   "metadata": {
    "collapsed": false
   },
   "outputs": [
    {
     "name": "stdout",
     "output_type": "stream",
     "text": [
      "The Nearest Neighbours are:[255 405 556 744 170]\n",
      "The predicted class is: 1\n"
     ]
    }
   ],
   "source": [
    "neigh_idx, predicted_class = knn_search(DT_test[99], DT_train, train_labels, 5, 1)\n",
    "print(\"The Nearest Neighbours are:\" + str(neigh_idx))\n",
    "print(\"The predicted class is: \" + str(predicted_class))"
   ]
  },
  {
   "cell_type": "code",
   "execution_count": 474,
   "metadata": {
    "collapsed": false
   },
   "outputs": [
    {
     "name": "stdout",
     "output_type": "stream",
     "text": [
      "The Nearest Neighbours are:[744 405 556 170  49]\n",
      "The predicted class is: 1\n"
     ]
    }
   ],
   "source": [
    "neigh_idx, predicted_class = knn_search(DT_test[99], DT_train, train_labels, 5, 0)\n",
    "print(\"The Nearest Neighbours are:\" + str(neigh_idx))\n",
    "print(\"The predicted class is: \" + str(predicted_class))"
   ]
  },
  {
   "cell_type": "code",
   "execution_count": 475,
   "metadata": {
    "collapsed": false
   },
   "outputs": [
    {
     "name": "stdout",
     "output_type": "stream",
     "text": [
      "The Nearest Neighbours are:[322 664  14 145 440 792 232 254 546  52   5 246 203 618  73]\n",
      "The predicted class is: 1\n"
     ]
    }
   ],
   "source": [
    "neigh_idx, predicted_class = knn_search(DT_test[199], DT_train, train_labels, 15, 1)\n",
    "print(\"The Nearest Neighbours are:\" + str(neigh_idx))\n",
    "print(\"The predicted class is: \" + str(predicted_class))"
   ]
  },
  {
   "cell_type": "code",
   "execution_count": 476,
   "metadata": {
    "collapsed": false
   },
   "outputs": [
    {
     "name": "stdout",
     "output_type": "stream",
     "text": [
      "The Nearest Neighbours are:[798 757 224  38 119 711 398  69 751 342  53 644 706 551 464]\n",
      "The predicted class is: 0\n"
     ]
    }
   ],
   "source": [
    "neigh_idx, predicted_class = knn_search(DT_test[199], DT_train, train_labels, 15, 0)\n",
    "print(\"The Nearest Neighbours are:\" + str(neigh_idx))\n",
    "print(\"The predicted class is: \" + str(predicted_class))"
   ]
  },
  {
   "cell_type": "markdown",
   "metadata": {},
   "source": [
    "So looking at the results above in one case which is the last one we can see different predictions for Euclidean and Cosine distance/similarity measures. If we look at the test labels here Cosine similarity (measure=1) results into correct prediction for that particular test vector."
   ]
  },
  {
   "cell_type": "markdown",
   "metadata": {},
   "source": [
    "# b. Create a function to compute the classification accuracy over the test data set (ratio of correct predictions to the number of test instances). This function will call the classifier function on all the test instances and in each case compares the actual test class label to the predicted class label."
   ]
  },
  {
   "cell_type": "code",
   "execution_count": 496,
   "metadata": {
    "collapsed": false,
    "scrolled": true
   },
   "outputs": [],
   "source": [
    "def accuracy(x, D, train_L, test_L, K, measure):\n",
    "    count = 0\n",
    "    correct = 0\n",
    "    for i in range(x.shape[0]):\n",
    "        #Use the first i rows of the testing data, one-by-one, in the knn function\n",
    "        count += 1\n",
    "        neigh_idx, predicted_class = knn_search(x[i,:], D, train_L, K, measure)\n",
    "        #If the two classes match, add 1 to the correct count\n",
    "        if (predicted_class == test_L[i]):\n",
    "            correct += 1\n",
    "    accuracypercent = (correct/count)*100\n",
    "    print(\"Accuracy is: \" + str(accuracypercent) + \"%\")\n",
    "    return accuracypercent"
   ]
  },
  {
   "cell_type": "code",
   "execution_count": 482,
   "metadata": {
    "collapsed": false
   },
   "outputs": [
    {
     "name": "stdout",
     "output_type": "stream",
     "text": [
      "163\n",
      "200\n",
      "Accuracy is: 81.5%\n"
     ]
    }
   ],
   "source": [
    "accuracypercent = accuracy(DT_test, DT_train, train_labels, test_labels, 5, 0)"
   ]
  },
  {
   "cell_type": "markdown",
   "metadata": {},
   "source": [
    "# c. Run your accuracy function on a range of values for K in order to compare accuracy values for different numbers of neighbors. Do this both using Euclidean Distance as well as Cosine similarity measure. [For example, you can try evaluating your classifiers on a range of values of K from 1 through 20 and present the results as a table or a graph]."
   ]
  },
  {
   "cell_type": "code",
   "execution_count": 517,
   "metadata": {
    "collapsed": false
   },
   "outputs": [],
   "source": [
    "import matplotlib.pyplot as pyplot\n",
    "def plot_accuracy(x, D, train_L, test_L):\n",
    "    i = 1\n",
    "    accEuc = {}\n",
    "    accCos = {}\n",
    "    for i in range(20):\n",
    "        i += 1\n",
    "        accEuc[i] = accuracy(x, D, train_L, test_L, i, 0)\n",
    "        #print(accEuc)\n",
    "        accCos[i] = accuracy(x, D, train_L, test_L, i, 1)\n",
    "        #print(accCos)\n",
    "    df_toPlotEuc = pd.DataFrame(list(accEuc.items()))\n",
    "    df_toPlotCos = pd.DataFrame(list(accCos.items()))\n",
    "    plt.plot( df_toPlotEuc[0], df_toPlotEuc[1], 'r^--', label=\"Eucliudean\")\n",
    "    plt.plot( df_toPlotCos[0], df_toPlotCos[1], 'bs-', label=\"Cosine\")\n",
    "    plt.xlabel(\"Number of Neighbours\")\n",
    "    plt.ylabel(\"Accuracy\")\n",
    "    plt.title(\"Accuracy Comparison For k-Nearest Neighbours\")\n",
    "    plt.legend(loc=\"best\")\n",
    "    plt.show()\n",
    "   "
   ]
  },
  {
   "cell_type": "code",
   "execution_count": 518,
   "metadata": {
    "collapsed": false
   },
   "outputs": [
    {
     "name": "stdout",
     "output_type": "stream",
     "text": [
      "Accuracy is: 78.0%\n",
      "{1: 78.0}\n",
      "Accuracy is: 98.5%\n",
      "{1: 98.5}\n",
      "Accuracy is: 67.5%\n",
      "{1: 78.0, 2: 67.5}\n",
      "Accuracy is: 98.0%\n",
      "{1: 98.5, 2: 98.0}\n",
      "Accuracy is: 81.0%\n",
      "{1: 78.0, 2: 67.5, 3: 81.0}\n",
      "Accuracy is: 97.0%\n",
      "{1: 98.5, 2: 98.0, 3: 97.0}\n",
      "Accuracy is: 77.0%\n",
      "{1: 78.0, 2: 67.5, 3: 81.0, 4: 77.0}\n",
      "Accuracy is: 98.0%\n",
      "{1: 98.5, 2: 98.0, 3: 97.0, 4: 98.0}\n",
      "Accuracy is: 81.5%\n",
      "{1: 78.0, 2: 67.5, 3: 81.0, 4: 77.0, 5: 81.5}\n",
      "Accuracy is: 97.0%\n",
      "{1: 98.5, 2: 98.0, 3: 97.0, 4: 98.0, 5: 97.0}\n",
      "Accuracy is: 83.5%\n",
      "{1: 78.0, 2: 67.5, 3: 81.0, 4: 77.0, 5: 81.5, 6: 83.5}\n",
      "Accuracy is: 97.5%\n",
      "{1: 98.5, 2: 98.0, 3: 97.0, 4: 98.0, 5: 97.0, 6: 97.5}\n",
      "Accuracy is: 76.5%\n",
      "{1: 78.0, 2: 67.5, 3: 81.0, 4: 77.0, 5: 81.5, 6: 83.5, 7: 76.5}\n",
      "Accuracy is: 98.0%\n",
      "{1: 98.5, 2: 98.0, 3: 97.0, 4: 98.0, 5: 97.0, 6: 97.5, 7: 98.0}\n",
      "Accuracy is: 80.0%\n",
      "{1: 78.0, 2: 67.5, 3: 81.0, 4: 77.0, 5: 81.5, 6: 83.5, 7: 76.5, 8: 80.0}\n",
      "Accuracy is: 97.5%\n",
      "{1: 98.5, 2: 98.0, 3: 97.0, 4: 98.0, 5: 97.0, 6: 97.5, 7: 98.0, 8: 97.5}\n",
      "Accuracy is: 75.0%\n",
      "{1: 78.0, 2: 67.5, 3: 81.0, 4: 77.0, 5: 81.5, 6: 83.5, 7: 76.5, 8: 80.0, 9: 75.0}\n",
      "Accuracy is: 97.5%\n",
      "{1: 98.5, 2: 98.0, 3: 97.0, 4: 98.0, 5: 97.0, 6: 97.5, 7: 98.0, 8: 97.5, 9: 97.5}\n",
      "Accuracy is: 86.0%\n",
      "{1: 78.0, 2: 67.5, 3: 81.0, 4: 77.0, 5: 81.5, 6: 83.5, 7: 76.5, 8: 80.0, 9: 75.0, 10: 86.0}\n",
      "Accuracy is: 98.5%\n",
      "{1: 98.5, 2: 98.0, 3: 97.0, 4: 98.0, 5: 97.0, 6: 97.5, 7: 98.0, 8: 97.5, 9: 97.5, 10: 98.5}\n",
      "Accuracy is: 79.5%\n",
      "{1: 78.0, 2: 67.5, 3: 81.0, 4: 77.0, 5: 81.5, 6: 83.5, 7: 76.5, 8: 80.0, 9: 75.0, 10: 86.0, 11: 79.5}\n",
      "Accuracy is: 98.0%\n",
      "{1: 98.5, 2: 98.0, 3: 97.0, 4: 98.0, 5: 97.0, 6: 97.5, 7: 98.0, 8: 97.5, 9: 97.5, 10: 98.5, 11: 98.0}\n",
      "Accuracy is: 85.0%\n",
      "{1: 78.0, 2: 67.5, 3: 81.0, 4: 77.0, 5: 81.5, 6: 83.5, 7: 76.5, 8: 80.0, 9: 75.0, 10: 86.0, 11: 79.5, 12: 85.0}\n",
      "Accuracy is: 98.0%\n",
      "{1: 98.5, 2: 98.0, 3: 97.0, 4: 98.0, 5: 97.0, 6: 97.5, 7: 98.0, 8: 97.5, 9: 97.5, 10: 98.5, 11: 98.0, 12: 98.0}\n",
      "Accuracy is: 77.5%\n",
      "{1: 78.0, 2: 67.5, 3: 81.0, 4: 77.0, 5: 81.5, 6: 83.5, 7: 76.5, 8: 80.0, 9: 75.0, 10: 86.0, 11: 79.5, 12: 85.0, 13: 77.5}\n",
      "Accuracy is: 98.0%\n",
      "{1: 98.5, 2: 98.0, 3: 97.0, 4: 98.0, 5: 97.0, 6: 97.5, 7: 98.0, 8: 97.5, 9: 97.5, 10: 98.5, 11: 98.0, 12: 98.0, 13: 98.0}\n",
      "Accuracy is: 82.0%\n",
      "{1: 78.0, 2: 67.5, 3: 81.0, 4: 77.0, 5: 81.5, 6: 83.5, 7: 76.5, 8: 80.0, 9: 75.0, 10: 86.0, 11: 79.5, 12: 85.0, 13: 77.5, 14: 82.0}\n",
      "Accuracy is: 98.5%\n",
      "{1: 98.5, 2: 98.0, 3: 97.0, 4: 98.0, 5: 97.0, 6: 97.5, 7: 98.0, 8: 97.5, 9: 97.5, 10: 98.5, 11: 98.0, 12: 98.0, 13: 98.0, 14: 98.5}\n",
      "Accuracy is: 78.5%\n",
      "{1: 78.0, 2: 67.5, 3: 81.0, 4: 77.0, 5: 81.5, 6: 83.5, 7: 76.5, 8: 80.0, 9: 75.0, 10: 86.0, 11: 79.5, 12: 85.0, 13: 77.5, 14: 82.0, 15: 78.5}\n",
      "Accuracy is: 98.5%\n",
      "{1: 98.5, 2: 98.0, 3: 97.0, 4: 98.0, 5: 97.0, 6: 97.5, 7: 98.0, 8: 97.5, 9: 97.5, 10: 98.5, 11: 98.0, 12: 98.0, 13: 98.0, 14: 98.5, 15: 98.5}\n",
      "Accuracy is: 80.0%\n",
      "{1: 78.0, 2: 67.5, 3: 81.0, 4: 77.0, 5: 81.5, 6: 83.5, 7: 76.5, 8: 80.0, 9: 75.0, 10: 86.0, 11: 79.5, 12: 85.0, 13: 77.5, 14: 82.0, 15: 78.5, 16: 80.0}\n",
      "Accuracy is: 98.5%\n",
      "{1: 98.5, 2: 98.0, 3: 97.0, 4: 98.0, 5: 97.0, 6: 97.5, 7: 98.0, 8: 97.5, 9: 97.5, 10: 98.5, 11: 98.0, 12: 98.0, 13: 98.0, 14: 98.5, 15: 98.5, 16: 98.5}\n",
      "Accuracy is: 76.0%\n",
      "{1: 78.0, 2: 67.5, 3: 81.0, 4: 77.0, 5: 81.5, 6: 83.5, 7: 76.5, 8: 80.0, 9: 75.0, 10: 86.0, 11: 79.5, 12: 85.0, 13: 77.5, 14: 82.0, 15: 78.5, 16: 80.0, 17: 76.0}\n",
      "Accuracy is: 97.5%\n",
      "{1: 98.5, 2: 98.0, 3: 97.0, 4: 98.0, 5: 97.0, 6: 97.5, 7: 98.0, 8: 97.5, 9: 97.5, 10: 98.5, 11: 98.0, 12: 98.0, 13: 98.0, 14: 98.5, 15: 98.5, 16: 98.5, 17: 97.5}\n",
      "Accuracy is: 78.5%\n",
      "{1: 78.0, 2: 67.5, 3: 81.0, 4: 77.0, 5: 81.5, 6: 83.5, 7: 76.5, 8: 80.0, 9: 75.0, 10: 86.0, 11: 79.5, 12: 85.0, 13: 77.5, 14: 82.0, 15: 78.5, 16: 80.0, 17: 76.0, 18: 78.5}\n",
      "Accuracy is: 97.5%\n",
      "{1: 98.5, 2: 98.0, 3: 97.0, 4: 98.0, 5: 97.0, 6: 97.5, 7: 98.0, 8: 97.5, 9: 97.5, 10: 98.5, 11: 98.0, 12: 98.0, 13: 98.0, 14: 98.5, 15: 98.5, 16: 98.5, 17: 97.5, 18: 97.5}\n",
      "Accuracy is: 74.0%\n",
      "{1: 78.0, 2: 67.5, 3: 81.0, 4: 77.0, 5: 81.5, 6: 83.5, 7: 76.5, 8: 80.0, 9: 75.0, 10: 86.0, 11: 79.5, 12: 85.0, 13: 77.5, 14: 82.0, 15: 78.5, 16: 80.0, 17: 76.0, 18: 78.5, 19: 74.0}\n",
      "Accuracy is: 97.5%\n",
      "{1: 98.5, 2: 98.0, 3: 97.0, 4: 98.0, 5: 97.0, 6: 97.5, 7: 98.0, 8: 97.5, 9: 97.5, 10: 98.5, 11: 98.0, 12: 98.0, 13: 98.0, 14: 98.5, 15: 98.5, 16: 98.5, 17: 97.5, 18: 97.5, 19: 97.5}\n",
      "Accuracy is: 76.5%\n",
      "{1: 78.0, 2: 67.5, 3: 81.0, 4: 77.0, 5: 81.5, 6: 83.5, 7: 76.5, 8: 80.0, 9: 75.0, 10: 86.0, 11: 79.5, 12: 85.0, 13: 77.5, 14: 82.0, 15: 78.5, 16: 80.0, 17: 76.0, 18: 78.5, 19: 74.0, 20: 76.5}\n",
      "Accuracy is: 97.5%\n",
      "{1: 98.5, 2: 98.0, 3: 97.0, 4: 98.0, 5: 97.0, 6: 97.5, 7: 98.0, 8: 97.5, 9: 97.5, 10: 98.5, 11: 98.0, 12: 98.0, 13: 98.0, 14: 98.5, 15: 98.5, 16: 98.5, 17: 97.5, 18: 97.5, 19: 97.5, 20: 97.5}\n"
     ]
    },
    {
     "data": {
      "image/png": "[encoded data removed]",
      "text/plain": [
       "<matplotlib.figure.Figure at 0x2a5b0ea2da0>"
      ]
     },
     "metadata": {},
     "output_type": "display_data"
    }
   ],
   "source": [
    "plot_accuracy(DT_test, DT_train, train_labels, test_labels)"
   ]
  },
  {
   "cell_type": "markdown",
   "metadata": {},
   "source": [
    "So from the graph above we can see that the performance of the classifier is much better with Cosine similarity as similarity measure as compared to when we use Euclidean distance. \n",
    "\n",
    "The maximum accuracy achieved using Cosine similarity is 98.5% which is for k = 1, 10, 14, 15, 16.\n",
    "\n",
    "The maximum accuracy achieved using Euclidean distance is 86% which is for k = 10."
   ]
  },
  {
   "cell_type": "markdown",
   "metadata": {},
   "source": [
    "# d. Using Python, modify the training and test data sets so that term weights are converted to TFxIDF weights (instead of raw term frequencies). [See class notes on Text Categorization]. Then, rerun your evaluation on the range of K values (as above) and compare the results to the results without using TFxIDF weights."
   ]
  },
  {
   "cell_type": "code",
   "execution_count": 555,
   "metadata": {
    "collapsed": false
   },
   "outputs": [
    {
     "name": "stdout",
     "output_type": "stream",
     "text": [
      "5500\n",
      "800\n",
      "5500\n",
      "200\n"
     ]
    }
   ],
   "source": [
    "#Loading term-document data\n",
    "train_data = pd.read_table('trainMatrixModified.txt',header=None)\n",
    "test_data = pd.read_table('testMatrixModified.txt',header=None)\n",
    "\n",
    "TD_train = np.array(train_data)\n",
    "TD_test = np.array(test_data)\n",
    "\n",
    "numTerms_train = len(TD_train[:,0])\n",
    "NDocs_train = len(TD_train[0])\n",
    "print(numTerms_train)\n",
    "print(NDocs_train)\n",
    "\n",
    "numTerms_test = len(TD_test[:,0])\n",
    "NDocs_test = len(TD_test[0])\n",
    "print(numTerms_test)\n",
    "print(NDocs_test)\n",
    "\n",
    "#Finding document frequencies\n",
    "DF_train = np.array([(TD_train!=0).sum(1)]).T\n",
    "DF_test = np.array([(TD_test!=0).sum(1)]).T"
   ]
  },
  {
   "cell_type": "code",
   "execution_count": 556,
   "metadata": {
    "collapsed": false
   },
   "outputs": [
    {
     "name": "stdout",
     "output_type": "stream",
     "text": [
      "[[50]\n",
      " [ 7]\n",
      " [10]\n",
      " ..., \n",
      " [ 2]\n",
      " [ 2]\n",
      " [ 2]]\n"
     ]
    }
   ],
   "source": [
    "print(DF_train)"
   ]
  },
  {
   "cell_type": "code",
   "execution_count": 557,
   "metadata": {
    "collapsed": false
   },
   "outputs": [
    {
     "name": "stdout",
     "output_type": "stream",
     "text": [
      "[[15]\n",
      " [ 0]\n",
      " [ 1]\n",
      " ..., \n",
      " [ 1]\n",
      " [ 1]\n",
      " [ 1]]\n"
     ]
    }
   ],
   "source": [
    "print(DF_test)"
   ]
  },
  {
   "cell_type": "code",
   "execution_count": 558,
   "metadata": {
    "collapsed": false
   },
   "outputs": [
    {
     "name": "stdout",
     "output_type": "stream",
     "text": [
      "[[ 800.  800.  800. ...,  800.  800.  800.]\n",
      " [ 800.  800.  800. ...,  800.  800.  800.]\n",
      " [ 800.  800.  800. ...,  800.  800.  800.]\n",
      " ..., \n",
      " [ 800.  800.  800. ...,  800.  800.  800.]\n",
      " [ 800.  800.  800. ...,  800.  800.  800.]\n",
      " [ 800.  800.  800. ...,  800.  800.  800.]]\n",
      "[[ 200.  200.  200. ...,  200.  200.  200.]\n",
      " [ 200.  200.  200. ...,  200.  200.  200.]\n",
      " [ 200.  200.  200. ...,  200.  200.  200.]\n",
      " ..., \n",
      " [ 200.  200.  200. ...,  200.  200.  200.]\n",
      " [ 200.  200.  200. ...,  200.  200.  200.]\n",
      " [ 200.  200.  200. ...,  200.  200.  200.]]\n"
     ]
    }
   ],
   "source": [
    "#Create a matrix with all entries = NDocs\n",
    "NMatrix_train = np.ones(np.shape(TD_train), dtype=float)*NDocs_train\n",
    "print(NMatrix_train)\n",
    "\n",
    "NMatrix_test = np.ones(np.shape(TD_test), dtype=float)*NDocs_test\n",
    "print(NMatrix_test)"
   ]
  },
  {
   "cell_type": "code",
   "execution_count": 559,
   "metadata": {
    "collapsed": false
   },
   "outputs": [
    {
     "name": "stdout",
     "output_type": "stream",
     "text": [
      "[[ 4.          4.          4.         ...,  4.          4.          4.        ]\n",
      " [ 6.83650127  6.83650127  6.83650127 ...,  6.83650127  6.83650127\n",
      "   6.83650127]\n",
      " [ 6.32192809  6.32192809  6.32192809 ...,  6.32192809  6.32192809\n",
      "   6.32192809]\n",
      " ..., \n",
      " [ 8.64385619  8.64385619  8.64385619 ...,  8.64385619  8.64385619\n",
      "   8.64385619]\n",
      " [ 8.64385619  8.64385619  8.64385619 ...,  8.64385619  8.64385619\n",
      "   8.64385619]\n",
      " [ 8.64385619  8.64385619  8.64385619 ...,  8.64385619  8.64385619\n",
      "   8.64385619]]\n",
      "[[ 3.73696559  3.73696559  3.73696559 ...,  3.73696559  3.73696559\n",
      "   3.73696559]\n",
      " [        inf         inf         inf ...,         inf         inf\n",
      "          inf]\n",
      " [ 7.64385619  7.64385619  7.64385619 ...,  7.64385619  7.64385619\n",
      "   7.64385619]\n",
      " ..., \n",
      " [ 7.64385619  7.64385619  7.64385619 ...,  7.64385619  7.64385619\n",
      "   7.64385619]\n",
      " [ 7.64385619  7.64385619  7.64385619 ...,  7.64385619  7.64385619\n",
      "   7.64385619]\n",
      " [ 7.64385619  7.64385619  7.64385619 ...,  7.64385619  7.64385619\n",
      "   7.64385619]]\n"
     ]
    }
   ],
   "source": [
    "#Converting into IDF Values\n",
    "\n",
    "IDF_train = np.log2(np.divide(NMatrix_train, DF_train))\n",
    "print(IDF_train)\n",
    "\n",
    "IDF_test = np.log2(np.divide(NMatrix_test, DF_test))\n",
    "print(IDF_test)"
   ]
  },
  {
   "cell_type": "code",
   "execution_count": 561,
   "metadata": {
    "collapsed": false
   },
   "outputs": [
    {
     "name": "stdout",
     "output_type": "stream",
     "text": [
      "[[  8.           0.           0.         ...,   0.           0.           0.        ]\n",
      " [ 13.67300254   0.           0.         ...,   0.           0.           0.        ]\n",
      " [ 12.64385619   0.           0.         ...,   0.           0.           0.        ]\n",
      " ..., \n",
      " [  0.           0.           0.         ...,   0.           0.           0.        ]\n",
      " [  0.           0.           0.         ...,   0.           0.           0.        ]\n",
      " [  0.           0.           0.         ...,   0.           0.           0.        ]]\n",
      "[[ 0.          0.          3.73696559 ...,  0.          0.          0.        ]\n",
      " [        nan         nan         nan ...,         nan         nan\n",
      "          nan]\n",
      " [ 0.          0.          0.         ...,  0.          0.          0.        ]\n",
      " ..., \n",
      " [ 0.          0.          0.         ...,  0.          0.          0.        ]\n",
      " [ 0.          0.          0.         ...,  0.          0.          0.        ]\n",
      " [ 0.          0.          0.         ...,  0.          0.          0.        ]]\n"
     ]
    }
   ],
   "source": [
    "#Computing TFxIDF values for each document-term entry\n",
    "\n",
    "TF_IDF_train = TD_train*IDF_train\n",
    "print(TF_IDF_train)\n",
    "\n",
    "TF_IDF_test = TD_test*IDF_test\n",
    "print(TF_IDF_test)"
   ]
  },
  {
   "cell_type": "code",
   "execution_count": 564,
   "metadata": {
    "collapsed": false
   },
   "outputs": [
    {
     "name": "stdout",
     "output_type": "stream",
     "text": [
      "Accuracy is: 78.0%\n",
      "{1: 78.0}\n",
      "Accuracy is: 98.5%\n",
      "{1: 98.5}\n",
      "Accuracy is: 67.5%\n",
      "{1: 78.0, 2: 67.5}\n",
      "Accuracy is: 98.0%\n",
      "{1: 98.5, 2: 98.0}\n",
      "Accuracy is: 81.0%\n",
      "{1: 78.0, 2: 67.5, 3: 81.0}\n",
      "Accuracy is: 97.0%\n",
      "{1: 98.5, 2: 98.0, 3: 97.0}\n",
      "Accuracy is: 77.0%\n",
      "{1: 78.0, 2: 67.5, 3: 81.0, 4: 77.0}\n",
      "Accuracy is: 98.0%\n",
      "{1: 98.5, 2: 98.0, 3: 97.0, 4: 98.0}\n",
      "Accuracy is: 81.5%\n",
      "{1: 78.0, 2: 67.5, 3: 81.0, 4: 77.0, 5: 81.5}\n",
      "Accuracy is: 97.0%\n",
      "{1: 98.5, 2: 98.0, 3: 97.0, 4: 98.0, 5: 97.0}\n",
      "Accuracy is: 83.5%\n",
      "{1: 78.0, 2: 67.5, 3: 81.0, 4: 77.0, 5: 81.5, 6: 83.5}\n",
      "Accuracy is: 97.5%\n",
      "{1: 98.5, 2: 98.0, 3: 97.0, 4: 98.0, 5: 97.0, 6: 97.5}\n",
      "Accuracy is: 76.5%\n",
      "{1: 78.0, 2: 67.5, 3: 81.0, 4: 77.0, 5: 81.5, 6: 83.5, 7: 76.5}\n",
      "Accuracy is: 98.0%\n",
      "{1: 98.5, 2: 98.0, 3: 97.0, 4: 98.0, 5: 97.0, 6: 97.5, 7: 98.0}\n",
      "Accuracy is: 80.0%\n",
      "{1: 78.0, 2: 67.5, 3: 81.0, 4: 77.0, 5: 81.5, 6: 83.5, 7: 76.5, 8: 80.0}\n",
      "Accuracy is: 97.5%\n",
      "{1: 98.5, 2: 98.0, 3: 97.0, 4: 98.0, 5: 97.0, 6: 97.5, 7: 98.0, 8: 97.5}\n",
      "Accuracy is: 75.0%\n",
      "{1: 78.0, 2: 67.5, 3: 81.0, 4: 77.0, 5: 81.5, 6: 83.5, 7: 76.5, 8: 80.0, 9: 75.0}\n",
      "Accuracy is: 97.5%\n",
      "{1: 98.5, 2: 98.0, 3: 97.0, 4: 98.0, 5: 97.0, 6: 97.5, 7: 98.0, 8: 97.5, 9: 97.5}\n",
      "Accuracy is: 86.0%\n",
      "{1: 78.0, 2: 67.5, 3: 81.0, 4: 77.0, 5: 81.5, 6: 83.5, 7: 76.5, 8: 80.0, 9: 75.0, 10: 86.0}\n",
      "Accuracy is: 98.5%\n",
      "{1: 98.5, 2: 98.0, 3: 97.0, 4: 98.0, 5: 97.0, 6: 97.5, 7: 98.0, 8: 97.5, 9: 97.5, 10: 98.5}\n",
      "Accuracy is: 79.5%\n",
      "{1: 78.0, 2: 67.5, 3: 81.0, 4: 77.0, 5: 81.5, 6: 83.5, 7: 76.5, 8: 80.0, 9: 75.0, 10: 86.0, 11: 79.5}\n",
      "Accuracy is: 98.0%\n",
      "{1: 98.5, 2: 98.0, 3: 97.0, 4: 98.0, 5: 97.0, 6: 97.5, 7: 98.0, 8: 97.5, 9: 97.5, 10: 98.5, 11: 98.0}\n",
      "Accuracy is: 85.0%\n",
      "{1: 78.0, 2: 67.5, 3: 81.0, 4: 77.0, 5: 81.5, 6: 83.5, 7: 76.5, 8: 80.0, 9: 75.0, 10: 86.0, 11: 79.5, 12: 85.0}\n",
      "Accuracy is: 98.0%\n",
      "{1: 98.5, 2: 98.0, 3: 97.0, 4: 98.0, 5: 97.0, 6: 97.5, 7: 98.0, 8: 97.5, 9: 97.5, 10: 98.5, 11: 98.0, 12: 98.0}\n",
      "Accuracy is: 77.5%\n",
      "{1: 78.0, 2: 67.5, 3: 81.0, 4: 77.0, 5: 81.5, 6: 83.5, 7: 76.5, 8: 80.0, 9: 75.0, 10: 86.0, 11: 79.5, 12: 85.0, 13: 77.5}\n",
      "Accuracy is: 98.0%\n",
      "{1: 98.5, 2: 98.0, 3: 97.0, 4: 98.0, 5: 97.0, 6: 97.5, 7: 98.0, 8: 97.5, 9: 97.5, 10: 98.5, 11: 98.0, 12: 98.0, 13: 98.0}\n",
      "Accuracy is: 82.0%\n",
      "{1: 78.0, 2: 67.5, 3: 81.0, 4: 77.0, 5: 81.5, 6: 83.5, 7: 76.5, 8: 80.0, 9: 75.0, 10: 86.0, 11: 79.5, 12: 85.0, 13: 77.5, 14: 82.0}\n",
      "Accuracy is: 98.5%\n",
      "{1: 98.5, 2: 98.0, 3: 97.0, 4: 98.0, 5: 97.0, 6: 97.5, 7: 98.0, 8: 97.5, 9: 97.5, 10: 98.5, 11: 98.0, 12: 98.0, 13: 98.0, 14: 98.5}\n",
      "Accuracy is: 78.5%\n",
      "{1: 78.0, 2: 67.5, 3: 81.0, 4: 77.0, 5: 81.5, 6: 83.5, 7: 76.5, 8: 80.0, 9: 75.0, 10: 86.0, 11: 79.5, 12: 85.0, 13: 77.5, 14: 82.0, 15: 78.5}\n",
      "Accuracy is: 98.5%\n",
      "{1: 98.5, 2: 98.0, 3: 97.0, 4: 98.0, 5: 97.0, 6: 97.5, 7: 98.0, 8: 97.5, 9: 97.5, 10: 98.5, 11: 98.0, 12: 98.0, 13: 98.0, 14: 98.5, 15: 98.5}\n",
      "Accuracy is: 80.0%\n",
      "{1: 78.0, 2: 67.5, 3: 81.0, 4: 77.0, 5: 81.5, 6: 83.5, 7: 76.5, 8: 80.0, 9: 75.0, 10: 86.0, 11: 79.5, 12: 85.0, 13: 77.5, 14: 82.0, 15: 78.5, 16: 80.0}\n",
      "Accuracy is: 98.5%\n",
      "{1: 98.5, 2: 98.0, 3: 97.0, 4: 98.0, 5: 97.0, 6: 97.5, 7: 98.0, 8: 97.5, 9: 97.5, 10: 98.5, 11: 98.0, 12: 98.0, 13: 98.0, 14: 98.5, 15: 98.5, 16: 98.5}\n",
      "Accuracy is: 76.0%\n",
      "{1: 78.0, 2: 67.5, 3: 81.0, 4: 77.0, 5: 81.5, 6: 83.5, 7: 76.5, 8: 80.0, 9: 75.0, 10: 86.0, 11: 79.5, 12: 85.0, 13: 77.5, 14: 82.0, 15: 78.5, 16: 80.0, 17: 76.0}\n",
      "Accuracy is: 97.5%\n",
      "{1: 98.5, 2: 98.0, 3: 97.0, 4: 98.0, 5: 97.0, 6: 97.5, 7: 98.0, 8: 97.5, 9: 97.5, 10: 98.5, 11: 98.0, 12: 98.0, 13: 98.0, 14: 98.5, 15: 98.5, 16: 98.5, 17: 97.5}\n",
      "Accuracy is: 78.5%\n",
      "{1: 78.0, 2: 67.5, 3: 81.0, 4: 77.0, 5: 81.5, 6: 83.5, 7: 76.5, 8: 80.0, 9: 75.0, 10: 86.0, 11: 79.5, 12: 85.0, 13: 77.5, 14: 82.0, 15: 78.5, 16: 80.0, 17: 76.0, 18: 78.5}\n",
      "Accuracy is: 97.5%\n",
      "{1: 98.5, 2: 98.0, 3: 97.0, 4: 98.0, 5: 97.0, 6: 97.5, 7: 98.0, 8: 97.5, 9: 97.5, 10: 98.5, 11: 98.0, 12: 98.0, 13: 98.0, 14: 98.5, 15: 98.5, 16: 98.5, 17: 97.5, 18: 97.5}\n",
      "Accuracy is: 74.0%\n",
      "{1: 78.0, 2: 67.5, 3: 81.0, 4: 77.0, 5: 81.5, 6: 83.5, 7: 76.5, 8: 80.0, 9: 75.0, 10: 86.0, 11: 79.5, 12: 85.0, 13: 77.5, 14: 82.0, 15: 78.5, 16: 80.0, 17: 76.0, 18: 78.5, 19: 74.0}\n",
      "Accuracy is: 97.5%\n",
      "{1: 98.5, 2: 98.0, 3: 97.0, 4: 98.0, 5: 97.0, 6: 97.5, 7: 98.0, 8: 97.5, 9: 97.5, 10: 98.5, 11: 98.0, 12: 98.0, 13: 98.0, 14: 98.5, 15: 98.5, 16: 98.5, 17: 97.5, 18: 97.5, 19: 97.5}\n",
      "Accuracy is: 76.5%\n",
      "{1: 78.0, 2: 67.5, 3: 81.0, 4: 77.0, 5: 81.5, 6: 83.5, 7: 76.5, 8: 80.0, 9: 75.0, 10: 86.0, 11: 79.5, 12: 85.0, 13: 77.5, 14: 82.0, 15: 78.5, 16: 80.0, 17: 76.0, 18: 78.5, 19: 74.0, 20: 76.5}\n",
      "Accuracy is: 97.5%\n",
      "{1: 98.5, 2: 98.0, 3: 97.0, 4: 98.0, 5: 97.0, 6: 97.5, 7: 98.0, 8: 97.5, 9: 97.5, 10: 98.5, 11: 98.0, 12: 98.0, 13: 98.0, 14: 98.5, 15: 98.5, 16: 98.5, 17: 97.5, 18: 97.5, 19: 97.5, 20: 97.5}\n"
     ]
    },
    {
     "data": {
      "image/png": "[encoded data removed]",
      "text/plain": [
       "<matplotlib.figure.Figure at 0x2a5b1b7a048>"
      ]
     },
     "metadata": {},
     "output_type": "display_data"
    }
   ],
   "source": [
    "plot_accuracy(TF_IDF_test, TF_IDF_train, train_labels, test_labels)"
   ]
  },
  {
   "cell_type": "markdown",
   "metadata": {},
   "source": [
    "# e. Create a classifier based on the Rocchio Method adapted for text categorization. Your classifier should take as input the training data matrix, the training labels, and the instance to be classified. It should compute the prototype vectors for each of the categories and measure Cosine similarity of the test instance to each prototype. Your output should indicate the predicted class and include the similarity values of the instance to each of the category prototypes. Finally, compute the classification accuracy using the test instances and compare your results to the best KNN approach you tried earlier."
   ]
  },
  {
   "cell_type": "markdown",
   "metadata": {},
   "source": [
    "# 2. Classification using scikit-learn [Dataset: bank_data.csv]\n",
    "For this problem you will experiment with various classifiers provided as part of the scikit-learn (sklearn) machine learning module, as well as with some of its preprocessing and model evaluation capabilities.  [Note: This module is already part of the Anaconda distributions. However, if you are using standalone Python distributions, you will need to first obtain and install it]. You will work with a modified subset of a real data set of customers for a bank. This is the same data set used in Assignment 1. The data is provided in a CSV formatted file with the first row containing the attribute names. The description of the the different fields in the data are provided in this document.\n",
    "\n",
    "Your tasks in this problem are the following:"
   ]
  },
  {
   "cell_type": "markdown",
   "metadata": {},
   "source": [
    "# a. Load and preprocess the data using Numpy or Pandas and the preprocessing functions from scikit-learn. Specifically, you need to separate the target attribute (\"pep\") from the portion of the data to be used for training and testing. You will need to convert the selected dataset into the Standard Spreadsheet format (scikit-learn functions generally assume that all attributes are in numeric form). Finally, you need to split the transformed data into training and test sets (using 80%-20% randomized split). [Review Ipython Notebook examples from Week 4 for different ways to perform these tasks.]"
   ]
  },
  {
   "cell_type": "code",
   "execution_count": 6,
   "metadata": {
    "collapsed": false
   },
   "outputs": [
    {
     "data": {
      "text/plain": [
       "'C:\\\\Users\\\\GunjanPandya\\\\Downloads'"
      ]
     },
     "execution_count": 6,
     "metadata": {},
     "output_type": "execute_result"
    }
   ],
   "source": [
    "pwd"
   ]
  },
  {
   "cell_type": "code",
   "execution_count": 7,
   "metadata": {
    "collapsed": false
   },
   "outputs": [
    {
     "name": "stdout",
     "output_type": "stream",
     "text": [
      "C:\\Users\\GunjanPandya\\Downloads\\CSC478\n"
     ]
    }
   ],
   "source": [
    "cd C:\\Users\\GunjanPandya\\Downloads\\CSC478"
   ]
  },
  {
   "cell_type": "code",
   "execution_count": 8,
   "metadata": {
    "collapsed": true
   },
   "outputs": [],
   "source": [
    "# Importing Libraries\n",
    "\n",
    "import pandas as pd\n",
    "import numpy as np\n",
    "import matplotlib.pyplot as plt\n",
    "%matplotlib inline"
   ]
  },
  {
   "cell_type": "code",
   "execution_count": 9,
   "metadata": {
    "collapsed": false
   },
   "outputs": [],
   "source": [
    "df_bank_data = pd.read_csv('bank_data.csv',index_col=0)\n",
    "\n",
    "#We will not need ID anyways for classification, so rather then dropping it before converting it to CSV, storing it as IndexError"
   ]
  },
  {
   "cell_type": "code",
   "execution_count": 10,
   "metadata": {
    "collapsed": false
   },
   "outputs": [
    {
     "data": {
      "text/html": [
       "<div>\n",
       "<table border=\"1\" class=\"dataframe\">\n",
       "  <thead>\n",
       "    <tr style=\"text-align: right;\">\n",
       "      <th></th>\n",
       "      <th>age</th>\n",
       "      <th>income</th>\n",
       "      <th>children</th>\n",
       "      <th>gender</th>\n",
       "      <th>region</th>\n",
       "      <th>married</th>\n",
       "      <th>car</th>\n",
       "      <th>savings_acct</th>\n",
       "      <th>current_acct</th>\n",
       "      <th>mortgage</th>\n",
       "      <th>pep</th>\n",
       "    </tr>\n",
       "    <tr>\n",
       "      <th>id</th>\n",
       "      <th></th>\n",
       "      <th></th>\n",
       "      <th></th>\n",
       "      <th></th>\n",
       "      <th></th>\n",
       "      <th></th>\n",
       "      <th></th>\n",
       "      <th></th>\n",
       "      <th></th>\n",
       "      <th></th>\n",
       "      <th></th>\n",
       "    </tr>\n",
       "  </thead>\n",
       "  <tbody>\n",
       "    <tr>\n",
       "      <th>ID12101</th>\n",
       "      <td>48</td>\n",
       "      <td>17546.00</td>\n",
       "      <td>1</td>\n",
       "      <td>FEMALE</td>\n",
       "      <td>INNER_CITY</td>\n",
       "      <td>NO</td>\n",
       "      <td>NO</td>\n",
       "      <td>NO</td>\n",
       "      <td>NO</td>\n",
       "      <td>NO</td>\n",
       "      <td>YES</td>\n",
       "    </tr>\n",
       "    <tr>\n",
       "      <th>ID12102</th>\n",
       "      <td>40</td>\n",
       "      <td>30085.10</td>\n",
       "      <td>3</td>\n",
       "      <td>MALE</td>\n",
       "      <td>TOWN</td>\n",
       "      <td>YES</td>\n",
       "      <td>YES</td>\n",
       "      <td>NO</td>\n",
       "      <td>YES</td>\n",
       "      <td>YES</td>\n",
       "      <td>NO</td>\n",
       "    </tr>\n",
       "    <tr>\n",
       "      <th>ID12103</th>\n",
       "      <td>51</td>\n",
       "      <td>16575.40</td>\n",
       "      <td>0</td>\n",
       "      <td>FEMALE</td>\n",
       "      <td>INNER_CITY</td>\n",
       "      <td>YES</td>\n",
       "      <td>YES</td>\n",
       "      <td>YES</td>\n",
       "      <td>YES</td>\n",
       "      <td>NO</td>\n",
       "      <td>NO</td>\n",
       "    </tr>\n",
       "    <tr>\n",
       "      <th>ID12104</th>\n",
       "      <td>23</td>\n",
       "      <td>20375.40</td>\n",
       "      <td>3</td>\n",
       "      <td>FEMALE</td>\n",
       "      <td>TOWN</td>\n",
       "      <td>YES</td>\n",
       "      <td>NO</td>\n",
       "      <td>NO</td>\n",
       "      <td>YES</td>\n",
       "      <td>NO</td>\n",
       "      <td>NO</td>\n",
       "    </tr>\n",
       "    <tr>\n",
       "      <th>ID12105</th>\n",
       "      <td>57</td>\n",
       "      <td>50576.30</td>\n",
       "      <td>0</td>\n",
       "      <td>FEMALE</td>\n",
       "      <td>RURAL</td>\n",
       "      <td>YES</td>\n",
       "      <td>NO</td>\n",
       "      <td>YES</td>\n",
       "      <td>NO</td>\n",
       "      <td>NO</td>\n",
       "      <td>NO</td>\n",
       "    </tr>\n",
       "    <tr>\n",
       "      <th>ID12106</th>\n",
       "      <td>57</td>\n",
       "      <td>37869.60</td>\n",
       "      <td>2</td>\n",
       "      <td>FEMALE</td>\n",
       "      <td>TOWN</td>\n",
       "      <td>YES</td>\n",
       "      <td>NO</td>\n",
       "      <td>YES</td>\n",
       "      <td>YES</td>\n",
       "      <td>NO</td>\n",
       "      <td>YES</td>\n",
       "    </tr>\n",
       "    <tr>\n",
       "      <th>ID12107</th>\n",
       "      <td>22</td>\n",
       "      <td>8877.07</td>\n",
       "      <td>0</td>\n",
       "      <td>MALE</td>\n",
       "      <td>RURAL</td>\n",
       "      <td>NO</td>\n",
       "      <td>NO</td>\n",
       "      <td>NO</td>\n",
       "      <td>YES</td>\n",
       "      <td>NO</td>\n",
       "      <td>YES</td>\n",
       "    </tr>\n",
       "    <tr>\n",
       "      <th>ID12108</th>\n",
       "      <td>58</td>\n",
       "      <td>24946.60</td>\n",
       "      <td>0</td>\n",
       "      <td>MALE</td>\n",
       "      <td>TOWN</td>\n",
       "      <td>YES</td>\n",
       "      <td>YES</td>\n",
       "      <td>YES</td>\n",
       "      <td>YES</td>\n",
       "      <td>NO</td>\n",
       "      <td>NO</td>\n",
       "    </tr>\n",
       "    <tr>\n",
       "      <th>ID12109</th>\n",
       "      <td>37</td>\n",
       "      <td>25304.30</td>\n",
       "      <td>2</td>\n",
       "      <td>FEMALE</td>\n",
       "      <td>SUBURBAN</td>\n",
       "      <td>YES</td>\n",
       "      <td>YES</td>\n",
       "      <td>NO</td>\n",
       "      <td>NO</td>\n",
       "      <td>NO</td>\n",
       "      <td>NO</td>\n",
       "    </tr>\n",
       "    <tr>\n",
       "      <th>ID12110</th>\n",
       "      <td>54</td>\n",
       "      <td>24212.10</td>\n",
       "      <td>2</td>\n",
       "      <td>MALE</td>\n",
       "      <td>TOWN</td>\n",
       "      <td>YES</td>\n",
       "      <td>YES</td>\n",
       "      <td>YES</td>\n",
       "      <td>YES</td>\n",
       "      <td>NO</td>\n",
       "      <td>NO</td>\n",
       "    </tr>\n",
       "  </tbody>\n",
       "</table>\n",
       "</div>"
      ],
      "text/plain": [
       "         age    income  children  gender      region married  car  \\\n",
       "id                                                                  \n",
       "ID12101   48  17546.00         1  FEMALE  INNER_CITY      NO   NO   \n",
       "ID12102   40  30085.10         3    MALE        TOWN     YES  YES   \n",
       "ID12103   51  16575.40         0  FEMALE  INNER_CITY     YES  YES   \n",
       "ID12104   23  20375.40         3  FEMALE        TOWN     YES   NO   \n",
       "ID12105   57  50576.30         0  FEMALE       RURAL     YES   NO   \n",
       "ID12106   57  37869.60         2  FEMALE        TOWN     YES   NO   \n",
       "ID12107   22   8877.07         0    MALE       RURAL      NO   NO   \n",
       "ID12108   58  24946.60         0    MALE        TOWN     YES  YES   \n",
       "ID12109   37  25304.30         2  FEMALE    SUBURBAN     YES  YES   \n",
       "ID12110   54  24212.10         2    MALE        TOWN     YES  YES   \n",
       "\n",
       "        savings_acct current_acct mortgage  pep  \n",
       "id                                               \n",
       "ID12101           NO           NO       NO  YES  \n",
       "ID12102           NO          YES      YES   NO  \n",
       "ID12103          YES          YES       NO   NO  \n",
       "ID12104           NO          YES       NO   NO  \n",
       "ID12105          YES           NO       NO   NO  \n",
       "ID12106          YES          YES       NO  YES  \n",
       "ID12107           NO          YES       NO  YES  \n",
       "ID12108          YES          YES       NO   NO  \n",
       "ID12109           NO           NO       NO   NO  \n",
       "ID12110          YES          YES       NO   NO  "
      ]
     },
     "execution_count": 10,
     "metadata": {},
     "output_type": "execute_result"
    }
   ],
   "source": [
    "df_bank_data.head(10)"
   ]
  },
  {
   "cell_type": "code",
   "execution_count": 11,
   "metadata": {
    "collapsed": false
   },
   "outputs": [
    {
     "data": {
      "text/plain": [
       "(600, 11)"
      ]
     },
     "execution_count": 11,
     "metadata": {},
     "output_type": "execute_result"
    }
   ],
   "source": [
    "df_bank_data.shape"
   ]
  },
  {
   "cell_type": "markdown",
   "metadata": {},
   "source": [
    "Let's separate the target attribute and the attributes used for model training"
   ]
  },
  {
   "cell_type": "code",
   "execution_count": 12,
   "metadata": {
    "collapsed": false
   },
   "outputs": [
    {
     "data": {
      "text/html": [
       "<div>\n",
       "<table border=\"1\" class=\"dataframe\">\n",
       "  <thead>\n",
       "    <tr style=\"text-align: right;\">\n",
       "      <th></th>\n",
       "      <th>age</th>\n",
       "      <th>income</th>\n",
       "      <th>children</th>\n",
       "      <th>gender</th>\n",
       "      <th>region</th>\n",
       "      <th>married</th>\n",
       "      <th>car</th>\n",
       "      <th>savings_acct</th>\n",
       "      <th>current_acct</th>\n",
       "      <th>mortgage</th>\n",
       "    </tr>\n",
       "    <tr>\n",
       "      <th>id</th>\n",
       "      <th></th>\n",
       "      <th></th>\n",
       "      <th></th>\n",
       "      <th></th>\n",
       "      <th></th>\n",
       "      <th></th>\n",
       "      <th></th>\n",
       "      <th></th>\n",
       "      <th></th>\n",
       "      <th></th>\n",
       "    </tr>\n",
       "  </thead>\n",
       "  <tbody>\n",
       "    <tr>\n",
       "      <th>ID12101</th>\n",
       "      <td>48</td>\n",
       "      <td>17546.0</td>\n",
       "      <td>1</td>\n",
       "      <td>FEMALE</td>\n",
       "      <td>INNER_CITY</td>\n",
       "      <td>NO</td>\n",
       "      <td>NO</td>\n",
       "      <td>NO</td>\n",
       "      <td>NO</td>\n",
       "      <td>NO</td>\n",
       "    </tr>\n",
       "    <tr>\n",
       "      <th>ID12102</th>\n",
       "      <td>40</td>\n",
       "      <td>30085.1</td>\n",
       "      <td>3</td>\n",
       "      <td>MALE</td>\n",
       "      <td>TOWN</td>\n",
       "      <td>YES</td>\n",
       "      <td>YES</td>\n",
       "      <td>NO</td>\n",
       "      <td>YES</td>\n",
       "      <td>YES</td>\n",
       "    </tr>\n",
       "    <tr>\n",
       "      <th>ID12103</th>\n",
       "      <td>51</td>\n",
       "      <td>16575.4</td>\n",
       "      <td>0</td>\n",
       "      <td>FEMALE</td>\n",
       "      <td>INNER_CITY</td>\n",
       "      <td>YES</td>\n",
       "      <td>YES</td>\n",
       "      <td>YES</td>\n",
       "      <td>YES</td>\n",
       "      <td>NO</td>\n",
       "    </tr>\n",
       "    <tr>\n",
       "      <th>ID12104</th>\n",
       "      <td>23</td>\n",
       "      <td>20375.4</td>\n",
       "      <td>3</td>\n",
       "      <td>FEMALE</td>\n",
       "      <td>TOWN</td>\n",
       "      <td>YES</td>\n",
       "      <td>NO</td>\n",
       "      <td>NO</td>\n",
       "      <td>YES</td>\n",
       "      <td>NO</td>\n",
       "    </tr>\n",
       "    <tr>\n",
       "      <th>ID12105</th>\n",
       "      <td>57</td>\n",
       "      <td>50576.3</td>\n",
       "      <td>0</td>\n",
       "      <td>FEMALE</td>\n",
       "      <td>RURAL</td>\n",
       "      <td>YES</td>\n",
       "      <td>NO</td>\n",
       "      <td>YES</td>\n",
       "      <td>NO</td>\n",
       "      <td>NO</td>\n",
       "    </tr>\n",
       "  </tbody>\n",
       "</table>\n",
       "</div>"
      ],
      "text/plain": [
       "         age   income  children  gender      region married  car savings_acct  \\\n",
       "id                                                                              \n",
       "ID12101   48  17546.0         1  FEMALE  INNER_CITY      NO   NO           NO   \n",
       "ID12102   40  30085.1         3    MALE        TOWN     YES  YES           NO   \n",
       "ID12103   51  16575.4         0  FEMALE  INNER_CITY     YES  YES          YES   \n",
       "ID12104   23  20375.4         3  FEMALE        TOWN     YES   NO           NO   \n",
       "ID12105   57  50576.3         0  FEMALE       RURAL     YES   NO          YES   \n",
       "\n",
       "        current_acct mortgage  \n",
       "id                             \n",
       "ID12101           NO       NO  \n",
       "ID12102          YES      YES  \n",
       "ID12103          YES       NO  \n",
       "ID12104          YES       NO  \n",
       "ID12105           NO       NO  "
      ]
     },
     "execution_count": 12,
     "metadata": {},
     "output_type": "execute_result"
    }
   ],
   "source": [
    "df_records = df_bank_data[['age','income','children','gender','region','married','car','savings_acct','current_acct','mortgage']]\n",
    "df_records.head()"
   ]
  },
  {
   "cell_type": "code",
   "execution_count": 13,
   "metadata": {
    "collapsed": false
   },
   "outputs": [
    {
     "data": {
      "text/plain": [
       "id\n",
       "ID12101    YES\n",
       "ID12102     NO\n",
       "ID12103     NO\n",
       "ID12104     NO\n",
       "ID12105     NO\n",
       "Name: pep, dtype: object"
      ]
     },
     "execution_count": 13,
     "metadata": {},
     "output_type": "execute_result"
    }
   ],
   "source": [
    "df_target = df_bank_data.pep\n",
    "df_target.head()"
   ]
  },
  {
   "cell_type": "markdown",
   "metadata": {},
   "source": [
    "Next, we use Pandas \"get_dummies\" function to create dummy variables."
   ]
  },
  {
   "cell_type": "code",
   "execution_count": 14,
   "metadata": {
    "collapsed": true
   },
   "outputs": [],
   "source": [
    "data_ssf = pd.get_dummies(df_records, columns = [\"gender\",\"region\",\"married\",\"car\",\"savings_acct\",\"current_acct\",\"mortgage\"])"
   ]
  },
  {
   "cell_type": "code",
   "execution_count": 15,
   "metadata": {
    "collapsed": false
   },
   "outputs": [
    {
     "data": {
      "text/html": [
       "<div>\n",
       "<table border=\"1\" class=\"dataframe\">\n",
       "  <thead>\n",
       "    <tr style=\"text-align: right;\">\n",
       "      <th></th>\n",
       "      <th>age</th>\n",
       "      <th>income</th>\n",
       "      <th>children</th>\n",
       "      <th>gender_FEMALE</th>\n",
       "      <th>gender_MALE</th>\n",
       "      <th>region_INNER_CITY</th>\n",
       "      <th>region_RURAL</th>\n",
       "      <th>region_SUBURBAN</th>\n",
       "      <th>region_TOWN</th>\n",
       "      <th>married_NO</th>\n",
       "      <th>married_YES</th>\n",
       "      <th>car_NO</th>\n",
       "      <th>car_YES</th>\n",
       "      <th>savings_acct_NO</th>\n",
       "      <th>savings_acct_YES</th>\n",
       "      <th>current_acct_NO</th>\n",
       "      <th>current_acct_YES</th>\n",
       "      <th>mortgage_NO</th>\n",
       "      <th>mortgage_YES</th>\n",
       "    </tr>\n",
       "    <tr>\n",
       "      <th>id</th>\n",
       "      <th></th>\n",
       "      <th></th>\n",
       "      <th></th>\n",
       "      <th></th>\n",
       "      <th></th>\n",
       "      <th></th>\n",
       "      <th></th>\n",
       "      <th></th>\n",
       "      <th></th>\n",
       "      <th></th>\n",
       "      <th></th>\n",
       "      <th></th>\n",
       "      <th></th>\n",
       "      <th></th>\n",
       "      <th></th>\n",
       "      <th></th>\n",
       "      <th></th>\n",
       "      <th></th>\n",
       "      <th></th>\n",
       "    </tr>\n",
       "  </thead>\n",
       "  <tbody>\n",
       "    <tr>\n",
       "      <th>ID12101</th>\n",
       "      <td>48</td>\n",
       "      <td>17546.00</td>\n",
       "      <td>1</td>\n",
       "      <td>1.0</td>\n",
       "      <td>0.0</td>\n",
       "      <td>1.0</td>\n",
       "      <td>0.0</td>\n",
       "      <td>0.0</td>\n",
       "      <td>0.0</td>\n",
       "      <td>1.0</td>\n",
       "      <td>0.0</td>\n",
       "      <td>1.0</td>\n",
       "      <td>0.0</td>\n",
       "      <td>1.0</td>\n",
       "      <td>0.0</td>\n",
       "      <td>1.0</td>\n",
       "      <td>0.0</td>\n",
       "      <td>1.0</td>\n",
       "      <td>0.0</td>\n",
       "    </tr>\n",
       "    <tr>\n",
       "      <th>ID12102</th>\n",
       "      <td>40</td>\n",
       "      <td>30085.10</td>\n",
       "      <td>3</td>\n",
       "      <td>0.0</td>\n",
       "      <td>1.0</td>\n",
       "      <td>0.0</td>\n",
       "      <td>0.0</td>\n",
       "      <td>0.0</td>\n",
       "      <td>1.0</td>\n",
       "      <td>0.0</td>\n",
       "      <td>1.0</td>\n",
       "      <td>0.0</td>\n",
       "      <td>1.0</td>\n",
       "      <td>1.0</td>\n",
       "      <td>0.0</td>\n",
       "      <td>0.0</td>\n",
       "      <td>1.0</td>\n",
       "      <td>0.0</td>\n",
       "      <td>1.0</td>\n",
       "    </tr>\n",
       "    <tr>\n",
       "      <th>ID12103</th>\n",
       "      <td>51</td>\n",
       "      <td>16575.40</td>\n",
       "      <td>0</td>\n",
       "      <td>1.0</td>\n",
       "      <td>0.0</td>\n",
       "      <td>1.0</td>\n",
       "      <td>0.0</td>\n",
       "      <td>0.0</td>\n",
       "      <td>0.0</td>\n",
       "      <td>0.0</td>\n",
       "      <td>1.0</td>\n",
       "      <td>0.0</td>\n",
       "      <td>1.0</td>\n",
       "      <td>0.0</td>\n",
       "      <td>1.0</td>\n",
       "      <td>0.0</td>\n",
       "      <td>1.0</td>\n",
       "      <td>1.0</td>\n",
       "      <td>0.0</td>\n",
       "    </tr>\n",
       "    <tr>\n",
       "      <th>ID12104</th>\n",
       "      <td>23</td>\n",
       "      <td>20375.40</td>\n",
       "      <td>3</td>\n",
       "      <td>1.0</td>\n",
       "      <td>0.0</td>\n",
       "      <td>0.0</td>\n",
       "      <td>0.0</td>\n",
       "      <td>0.0</td>\n",
       "      <td>1.0</td>\n",
       "      <td>0.0</td>\n",
       "      <td>1.0</td>\n",
       "      <td>1.0</td>\n",
       "      <td>0.0</td>\n",
       "      <td>1.0</td>\n",
       "      <td>0.0</td>\n",
       "      <td>0.0</td>\n",
       "      <td>1.0</td>\n",
       "      <td>1.0</td>\n",
       "      <td>0.0</td>\n",
       "    </tr>\n",
       "    <tr>\n",
       "      <th>ID12105</th>\n",
       "      <td>57</td>\n",
       "      <td>50576.30</td>\n",
       "      <td>0</td>\n",
       "      <td>1.0</td>\n",
       "      <td>0.0</td>\n",
       "      <td>0.0</td>\n",
       "      <td>1.0</td>\n",
       "      <td>0.0</td>\n",
       "      <td>0.0</td>\n",
       "      <td>0.0</td>\n",
       "      <td>1.0</td>\n",
       "      <td>1.0</td>\n",
       "      <td>0.0</td>\n",
       "      <td>0.0</td>\n",
       "      <td>1.0</td>\n",
       "      <td>1.0</td>\n",
       "      <td>0.0</td>\n",
       "      <td>1.0</td>\n",
       "      <td>0.0</td>\n",
       "    </tr>\n",
       "    <tr>\n",
       "      <th>ID12106</th>\n",
       "      <td>57</td>\n",
       "      <td>37869.60</td>\n",
       "      <td>2</td>\n",
       "      <td>1.0</td>\n",
       "      <td>0.0</td>\n",
       "      <td>0.0</td>\n",
       "      <td>0.0</td>\n",
       "      <td>0.0</td>\n",
       "      <td>1.0</td>\n",
       "      <td>0.0</td>\n",
       "      <td>1.0</td>\n",
       "      <td>1.0</td>\n",
       "      <td>0.0</td>\n",
       "      <td>0.0</td>\n",
       "      <td>1.0</td>\n",
       "      <td>0.0</td>\n",
       "      <td>1.0</td>\n",
       "      <td>1.0</td>\n",
       "      <td>0.0</td>\n",
       "    </tr>\n",
       "    <tr>\n",
       "      <th>ID12107</th>\n",
       "      <td>22</td>\n",
       "      <td>8877.07</td>\n",
       "      <td>0</td>\n",
       "      <td>0.0</td>\n",
       "      <td>1.0</td>\n",
       "      <td>0.0</td>\n",
       "      <td>1.0</td>\n",
       "      <td>0.0</td>\n",
       "      <td>0.0</td>\n",
       "      <td>1.0</td>\n",
       "      <td>0.0</td>\n",
       "      <td>1.0</td>\n",
       "      <td>0.0</td>\n",
       "      <td>1.0</td>\n",
       "      <td>0.0</td>\n",
       "      <td>0.0</td>\n",
       "      <td>1.0</td>\n",
       "      <td>1.0</td>\n",
       "      <td>0.0</td>\n",
       "    </tr>\n",
       "    <tr>\n",
       "      <th>ID12108</th>\n",
       "      <td>58</td>\n",
       "      <td>24946.60</td>\n",
       "      <td>0</td>\n",
       "      <td>0.0</td>\n",
       "      <td>1.0</td>\n",
       "      <td>0.0</td>\n",
       "      <td>0.0</td>\n",
       "      <td>0.0</td>\n",
       "      <td>1.0</td>\n",
       "      <td>0.0</td>\n",
       "      <td>1.0</td>\n",
       "      <td>0.0</td>\n",
       "      <td>1.0</td>\n",
       "      <td>0.0</td>\n",
       "      <td>1.0</td>\n",
       "      <td>0.0</td>\n",
       "      <td>1.0</td>\n",
       "      <td>1.0</td>\n",
       "      <td>0.0</td>\n",
       "    </tr>\n",
       "    <tr>\n",
       "      <th>ID12109</th>\n",
       "      <td>37</td>\n",
       "      <td>25304.30</td>\n",
       "      <td>2</td>\n",
       "      <td>1.0</td>\n",
       "      <td>0.0</td>\n",
       "      <td>0.0</td>\n",
       "      <td>0.0</td>\n",
       "      <td>1.0</td>\n",
       "      <td>0.0</td>\n",
       "      <td>0.0</td>\n",
       "      <td>1.0</td>\n",
       "      <td>0.0</td>\n",
       "      <td>1.0</td>\n",
       "      <td>1.0</td>\n",
       "      <td>0.0</td>\n",
       "      <td>1.0</td>\n",
       "      <td>0.0</td>\n",
       "      <td>1.0</td>\n",
       "      <td>0.0</td>\n",
       "    </tr>\n",
       "    <tr>\n",
       "      <th>ID12110</th>\n",
       "      <td>54</td>\n",
       "      <td>24212.10</td>\n",
       "      <td>2</td>\n",
       "      <td>0.0</td>\n",
       "      <td>1.0</td>\n",
       "      <td>0.0</td>\n",
       "      <td>0.0</td>\n",
       "      <td>0.0</td>\n",
       "      <td>1.0</td>\n",
       "      <td>0.0</td>\n",
       "      <td>1.0</td>\n",
       "      <td>0.0</td>\n",
       "      <td>1.0</td>\n",
       "      <td>0.0</td>\n",
       "      <td>1.0</td>\n",
       "      <td>0.0</td>\n",
       "      <td>1.0</td>\n",
       "      <td>1.0</td>\n",
       "      <td>0.0</td>\n",
       "    </tr>\n",
       "  </tbody>\n",
       "</table>\n",
       "</div>"
      ],
      "text/plain": [
       "         age    income  children  gender_FEMALE  gender_MALE  \\\n",
       "id                                                             \n",
       "ID12101   48  17546.00         1            1.0          0.0   \n",
       "ID12102   40  30085.10         3            0.0          1.0   \n",
       "ID12103   51  16575.40         0            1.0          0.0   \n",
       "ID12104   23  20375.40         3            1.0          0.0   \n",
       "ID12105   57  50576.30         0            1.0          0.0   \n",
       "ID12106   57  37869.60         2            1.0          0.0   \n",
       "ID12107   22   8877.07         0            0.0          1.0   \n",
       "ID12108   58  24946.60         0            0.0          1.0   \n",
       "ID12109   37  25304.30         2            1.0          0.0   \n",
       "ID12110   54  24212.10         2            0.0          1.0   \n",
       "\n",
       "         region_INNER_CITY  region_RURAL  region_SUBURBAN  region_TOWN  \\\n",
       "id                                                                       \n",
       "ID12101                1.0           0.0              0.0          0.0   \n",
       "ID12102                0.0           0.0              0.0          1.0   \n",
       "ID12103                1.0           0.0              0.0          0.0   \n",
       "ID12104                0.0           0.0              0.0          1.0   \n",
       "ID12105                0.0           1.0              0.0          0.0   \n",
       "ID12106                0.0           0.0              0.0          1.0   \n",
       "ID12107                0.0           1.0              0.0          0.0   \n",
       "ID12108                0.0           0.0              0.0          1.0   \n",
       "ID12109                0.0           0.0              1.0          0.0   \n",
       "ID12110                0.0           0.0              0.0          1.0   \n",
       "\n",
       "         married_NO  married_YES  car_NO  car_YES  savings_acct_NO  \\\n",
       "id                                                                   \n",
       "ID12101         1.0          0.0     1.0      0.0              1.0   \n",
       "ID12102         0.0          1.0     0.0      1.0              1.0   \n",
       "ID12103         0.0          1.0     0.0      1.0              0.0   \n",
       "ID12104         0.0          1.0     1.0      0.0              1.0   \n",
       "ID12105         0.0          1.0     1.0      0.0              0.0   \n",
       "ID12106         0.0          1.0     1.0      0.0              0.0   \n",
       "ID12107         1.0          0.0     1.0      0.0              1.0   \n",
       "ID12108         0.0          1.0     0.0      1.0              0.0   \n",
       "ID12109         0.0          1.0     0.0      1.0              1.0   \n",
       "ID12110         0.0          1.0     0.0      1.0              0.0   \n",
       "\n",
       "         savings_acct_YES  current_acct_NO  current_acct_YES  mortgage_NO  \\\n",
       "id                                                                          \n",
       "ID12101               0.0              1.0               0.0          1.0   \n",
       "ID12102               0.0              0.0               1.0          0.0   \n",
       "ID12103               1.0              0.0               1.0          1.0   \n",
       "ID12104               0.0              0.0               1.0          1.0   \n",
       "ID12105               1.0              1.0               0.0          1.0   \n",
       "ID12106               1.0              0.0               1.0          1.0   \n",
       "ID12107               0.0              0.0               1.0          1.0   \n",
       "ID12108               1.0              0.0               1.0          1.0   \n",
       "ID12109               0.0              1.0               0.0          1.0   \n",
       "ID12110               1.0              0.0               1.0          1.0   \n",
       "\n",
       "         mortgage_YES  \n",
       "id                     \n",
       "ID12101           0.0  \n",
       "ID12102           1.0  \n",
       "ID12103           0.0  \n",
       "ID12104           0.0  \n",
       "ID12105           0.0  \n",
       "ID12106           0.0  \n",
       "ID12107           0.0  \n",
       "ID12108           0.0  \n",
       "ID12109           0.0  \n",
       "ID12110           0.0  "
      ]
     },
     "execution_count": 15,
     "metadata": {},
     "output_type": "execute_result"
    }
   ],
   "source": [
    "data_ssf.head(10)"
   ]
  },
  {
   "cell_type": "markdown",
   "metadata": {},
   "source": [
    "Next, we divide the data into randomized training and test partitions (note that the same split should also be perfromed on the target attribute). The easiest way to do this is to use the \"train_test_split\" module of \"sklearn.cross_validation\"."
   ]
  },
  {
   "cell_type": "code",
   "execution_count": 16,
   "metadata": {
    "collapsed": false
   },
   "outputs": [],
   "source": [
    "from sklearn.cross_validation import train_test_split\n",
    "\n",
    "df_train, df_test, df_target_train, df_target_test = train_test_split(data_ssf, df_target, test_size=0.2, random_state=33)"
   ]
  },
  {
   "cell_type": "code",
   "execution_count": 17,
   "metadata": {
    "collapsed": false
   },
   "outputs": [
    {
     "data": {
      "text/plain": [
       "(480, 19)"
      ]
     },
     "execution_count": 17,
     "metadata": {},
     "output_type": "execute_result"
    }
   ],
   "source": [
    "df_train.shape"
   ]
  },
  {
   "cell_type": "code",
   "execution_count": 18,
   "metadata": {
    "collapsed": false
   },
   "outputs": [
    {
     "data": {
      "text/plain": [
       "(120, 19)"
      ]
     },
     "execution_count": 18,
     "metadata": {},
     "output_type": "execute_result"
    }
   ],
   "source": [
    "df_test.shape"
   ]
  },
  {
   "cell_type": "code",
   "execution_count": 19,
   "metadata": {
    "collapsed": false
   },
   "outputs": [
    {
     "data": {
      "text/plain": [
       "(480,)"
      ]
     },
     "execution_count": 19,
     "metadata": {},
     "output_type": "execute_result"
    }
   ],
   "source": [
    "df_target_train.shape"
   ]
  },
  {
   "cell_type": "code",
   "execution_count": 20,
   "metadata": {
    "collapsed": false
   },
   "outputs": [
    {
     "data": {
      "text/plain": [
       "(120,)"
      ]
     },
     "execution_count": 20,
     "metadata": {},
     "output_type": "execute_result"
    }
   ],
   "source": [
    "df_target_test.shape"
   ]
  },
  {
   "cell_type": "markdown",
   "metadata": {},
   "source": [
    "# b. Run scikit-learn's KNN classifier on the test set. Note: in the case of KNN, you must first normalize the data so that all attributes are in the same scale (normalize so that the values are between 0 and 1). Generate the confusion matrix (visualize it using Matplotlib), as well as the classification report. Also, computing the average accuracy score. Experiment with different values of K and the weight parameter for KNN to see if you can improve accuracy (you do not need to provide the details of all of your experimentation, but provide a short discussion what parameters worked best)."
   ]
  },
  {
   "cell_type": "markdown",
   "metadata": {},
   "source": [
    "Normalizing the data to be used in the KNN classifier."
   ]
  },
  {
   "cell_type": "code",
   "execution_count": 21,
   "metadata": {
    "collapsed": false
   },
   "outputs": [],
   "source": [
    "from sklearn import preprocessing\n",
    "\n",
    "min_max_scaler = preprocessing.MinMaxScaler().fit(df_train)\n",
    "df_train_norm = min_max_scaler.transform(df_train)\n",
    "\n",
    "min_max_scaler = preprocessing.MinMaxScaler().fit(df_test)\n",
    "df_test_norm = min_max_scaler.transform(df_test)"
   ]
  },
  {
   "cell_type": "code",
   "execution_count": 22,
   "metadata": {
    "collapsed": false
   },
   "outputs": [
    {
     "data": {
      "text/plain": [
       "array([[ 0.57,  0.46,  0.67,  1.  ,  0.  ,  1.  ,  0.  ,  0.  ,  0.  ,  0.  ,\n",
       "         1.  ,  0.  ,  1.  ,  0.  ,  1.  ,  0.  ,  1.  ,  1.  ,  0.  ],\n",
       "       [ 0.8 ,  0.78,  0.  ,  1.  ,  0.  ,  0.  ,  1.  ,  0.  ,  0.  ,  0.  ,\n",
       "         1.  ,  1.  ,  0.  ,  0.  ,  1.  ,  1.  ,  0.  ,  1.  ,  0.  ],\n",
       "       [ 0.14,  0.16,  0.  ,  1.  ,  0.  ,  1.  ,  0.  ,  0.  ,  0.  ,  0.  ,\n",
       "         1.  ,  1.  ,  0.  ,  0.  ,  1.  ,  0.  ,  1.  ,  1.  ,  0.  ],\n",
       "       [ 0.35,  0.18,  0.33,  0.  ,  1.  ,  1.  ,  0.  ,  0.  ,  0.  ,  0.  ,\n",
       "         1.  ,  1.  ,  0.  ,  0.  ,  1.  ,  0.  ,  1.  ,  1.  ,  0.  ],\n",
       "       [ 0.33,  0.18,  0.  ,  1.  ,  0.  ,  0.  ,  0.  ,  0.  ,  1.  ,  0.  ,\n",
       "         1.  ,  0.  ,  1.  ,  0.  ,  1.  ,  1.  ,  0.  ,  0.  ,  1.  ]])"
      ]
     },
     "execution_count": 22,
     "metadata": {},
     "output_type": "execute_result"
    }
   ],
   "source": [
    "np.set_printoptions(precision=2, linewidth=80, suppress=True)\n",
    "df_train_norm[0:5]"
   ]
  },
  {
   "cell_type": "code",
   "execution_count": 23,
   "metadata": {
    "collapsed": false
   },
   "outputs": [
    {
     "data": {
      "text/plain": [
       "array([[ 0.29,  0.15,  0.  ,  1.  ,  0.  ,  0.  ,  0.  ,  0.  ,  1.  ,  0.  ,\n",
       "         1.  ,  0.  ,  1.  ,  0.  ,  1.  ,  0.  ,  1.  ,  0.  ,  1.  ],\n",
       "       [ 0.84,  0.45,  0.33,  1.  ,  0.  ,  1.  ,  0.  ,  0.  ,  0.  ,  1.  ,\n",
       "         0.  ,  0.  ,  1.  ,  1.  ,  0.  ,  0.  ,  1.  ,  1.  ,  0.  ],\n",
       "       [ 0.88,  0.67,  1.  ,  0.  ,  1.  ,  0.  ,  1.  ,  0.  ,  0.  ,  0.  ,\n",
       "         1.  ,  1.  ,  0.  ,  0.  ,  1.  ,  0.  ,  1.  ,  0.  ,  1.  ],\n",
       "       [ 0.71,  0.8 ,  1.  ,  0.  ,  1.  ,  0.  ,  1.  ,  0.  ,  0.  ,  0.  ,\n",
       "         1.  ,  0.  ,  1.  ,  0.  ,  1.  ,  1.  ,  0.  ,  1.  ,  0.  ],\n",
       "       [ 0.96,  0.6 ,  0.33,  0.  ,  1.  ,  1.  ,  0.  ,  0.  ,  0.  ,  0.  ,\n",
       "         1.  ,  0.  ,  1.  ,  0.  ,  1.  ,  1.  ,  0.  ,  0.  ,  1.  ]])"
      ]
     },
     "execution_count": 23,
     "metadata": {},
     "output_type": "execute_result"
    }
   ],
   "source": [
    "df_test_norm[0:5]"
   ]
  },
  {
   "cell_type": "code",
   "execution_count": 24,
   "metadata": {
    "collapsed": false
   },
   "outputs": [
    {
     "data": {
      "text/plain": [
       "KNeighborsClassifier(algorithm='auto', leaf_size=30, metric='euclidean',\n",
       "           metric_params=None, n_jobs=1, n_neighbors=4, p=2,\n",
       "           weights='uniform')"
      ]
     },
     "execution_count": 24,
     "metadata": {},
     "output_type": "execute_result"
    }
   ],
   "source": [
    "#k-nearest neighbors classifier\n",
    "\n",
    "from sklearn.neighbors import KNeighborsClassifier\n",
    "\n",
    "bank_data_knn = KNeighborsClassifier(n_neighbors = 4, metric='euclidean')\n",
    "bank_data_knn.fit(df_train_norm, df_target_train)"
   ]
  },
  {
   "cell_type": "code",
   "execution_count": 25,
   "metadata": {
    "collapsed": false
   },
   "outputs": [
    {
     "data": {
      "text/plain": [
       "array(['YES', 'YES', 'NO', 'NO', 'YES', 'YES', 'YES', 'NO', 'NO', 'YES', 'NO',\n",
       "       'NO', 'NO', 'NO', 'NO', 'NO', 'YES', 'NO', 'YES', 'NO', 'NO', 'YES',\n",
       "       'NO', 'NO', 'YES', 'NO', 'YES', 'YES', 'NO', 'YES', 'NO', 'NO', 'NO',\n",
       "       'NO', 'NO', 'YES', 'NO', 'YES', 'NO', 'NO', 'NO', 'NO', 'YES', 'NO',\n",
       "       'YES', 'NO', 'YES', 'YES', 'NO', 'YES', 'YES', 'YES', 'YES', 'NO', 'YES',\n",
       "       'YES', 'YES', 'NO', 'NO', 'NO', 'NO', 'NO', 'YES', 'YES', 'NO', 'NO',\n",
       "       'NO', 'NO', 'NO', 'YES', 'YES', 'NO', 'YES', 'NO', 'NO', 'NO', 'NO',\n",
       "       'YES', 'YES', 'NO', 'NO', 'YES', 'NO', 'YES', 'NO', 'YES', 'YES', 'YES',\n",
       "       'NO', 'YES', 'NO', 'NO', 'NO', 'NO', 'NO', 'NO', 'NO', 'NO', 'NO', 'NO',\n",
       "       'NO', 'NO', 'NO', 'NO', 'NO', 'NO', 'NO', 'NO', 'YES', 'NO', 'YES', 'NO',\n",
       "       'NO', 'YES', 'NO', 'NO', 'NO', 'NO', 'NO', 'NO'], dtype=object)"
      ]
     },
     "execution_count": 25,
     "metadata": {},
     "output_type": "execute_result"
    }
   ],
   "source": [
    "df_target_predict = bank_data_knn.predict(df_test_norm)\n",
    "df_target_predict"
   ]
  },
  {
   "cell_type": "markdown",
   "metadata": {},
   "source": [
    "Classification report"
   ]
  },
  {
   "cell_type": "code",
   "execution_count": 26,
   "metadata": {
    "collapsed": false
   },
   "outputs": [
    {
     "name": "stdout",
     "output_type": "stream",
     "text": [
      "             precision    recall  f1-score   support\n",
      "\n",
      "         NO       0.65      0.77      0.71        66\n",
      "        YES       0.64      0.50      0.56        54\n",
      "\n",
      "avg / total       0.65      0.65      0.64       120\n",
      "\n"
     ]
    }
   ],
   "source": [
    "from sklearn.metrics import classification_report\n",
    "\n",
    "print(classification_report(df_target_test, df_target_predict))"
   ]
  },
  {
   "cell_type": "markdown",
   "metadata": {},
   "source": [
    "Confusion matrix - And its visualization using matplotlib"
   ]
  },
  {
   "cell_type": "code",
   "execution_count": 27,
   "metadata": {
    "collapsed": false
   },
   "outputs": [
    {
     "name": "stdout",
     "output_type": "stream",
     "text": [
      "[[51 15]\n",
      " [27 27]]\n"
     ]
    },
    {
     "data": {
      "image/png": "[encoded data removed]",
      "text/plain": [
       "<matplotlib.figure.Figure at 0x2e727079cc0>"
      ]
     },
     "metadata": {},
     "output_type": "display_data"
    }
   ],
   "source": [
    "from sklearn.metrics import confusion_matrix\n",
    "\n",
    "knn_confusion_matrix = confusion_matrix(y_true = df_target_test, y_pred = df_target_predict)\n",
    "\n",
    "print(knn_confusion_matrix)\n",
    "\n",
    "plt.matshow(knn_confusion_matrix)\n",
    "plt.title('Confusion matrix')\n",
    "plt.colorbar()\n",
    "plt.ylabel('Actual')\n",
    "plt.xlabel('Predicted')\n",
    "plt.show()"
   ]
  },
  {
   "cell_type": "markdown",
   "metadata": {},
   "source": [
    "Average Accuracy Score (over test data)"
   ]
  },
  {
   "cell_type": "code",
   "execution_count": 28,
   "metadata": {
    "collapsed": false
   },
   "outputs": [
    {
     "data": {
      "text/plain": [
       "0.65000000000000002"
      ]
     },
     "execution_count": 28,
     "metadata": {},
     "output_type": "execute_result"
    }
   ],
   "source": [
    "bank_data_knn.score(df_test_norm, df_target_test)"
   ]
  },
  {
   "cell_type": "markdown",
   "metadata": {},
   "source": [
    "Average Accuracy Score (over training data)"
   ]
  },
  {
   "cell_type": "code",
   "execution_count": 29,
   "metadata": {
    "collapsed": false
   },
   "outputs": [
    {
     "data": {
      "text/plain": [
       "0.75624999999999998"
      ]
     },
     "execution_count": 29,
     "metadata": {},
     "output_type": "execute_result"
    }
   ],
   "source": [
    "bank_data_knn.score(df_train_norm, df_target_train)"
   ]
  },
  {
   "cell_type": "code",
   "execution_count": 30,
   "metadata": {
    "collapsed": false
   },
   "outputs": [
    {
     "name": "stdout",
     "output_type": "stream",
     "text": [
      "             precision    recall  f1-score   support\n",
      "\n",
      "         NO       0.67      0.71      0.69        66\n",
      "        YES       0.62      0.57      0.60        54\n",
      "\n",
      "avg / total       0.65      0.65      0.65       120\n",
      "\n",
      "[[47 19]\n",
      " [23 31]]\n",
      "Accuracy on test data:0.65\n",
      "Accuracy on training data:1.0\n"
     ]
    }
   ],
   "source": [
    "#Changing the kNN parameters (k, metric, weights)\n",
    "\n",
    "bank_data_knn = KNeighborsClassifier(n_neighbors = 5, weights = 'distance', metric='euclidean')\n",
    "bank_data_knn.fit(df_train_norm, df_target_train)\n",
    "df_target_predict = bank_data_knn.predict(df_test_norm)\n",
    "\n",
    "from sklearn.metrics import classification_report\n",
    "print(classification_report(df_target_test, df_target_predict))\n",
    "\n",
    "from sklearn.metrics import confusion_matrix\n",
    "knn_confusion_matrix = confusion_matrix(y_true = df_target_test, y_pred = df_target_predict)\n",
    "print(knn_confusion_matrix)\n",
    "\n",
    "print(\"Accuracy on test data:\" + str(bank_data_knn.score(df_test_norm, df_target_test)))\n",
    "print(\"Accuracy on training data:\" + str(bank_data_knn.score(df_train_norm, df_target_train)))"
   ]
  },
  {
   "cell_type": "code",
   "execution_count": 31,
   "metadata": {
    "collapsed": false
   },
   "outputs": [
    {
     "name": "stdout",
     "output_type": "stream",
     "text": [
      "             precision    recall  f1-score   support\n",
      "\n",
      "         NO       0.67      0.73      0.70        66\n",
      "        YES       0.62      0.56      0.59        54\n",
      "\n",
      "avg / total       0.65      0.65      0.65       120\n",
      "\n",
      "[[48 18]\n",
      " [24 30]]\n",
      "Accuracy on test data:0.65\n",
      "Accuracy on training data:1.0\n"
     ]
    }
   ],
   "source": [
    "bank_data_knn = KNeighborsClassifier(n_neighbors = 7, weights = 'distance', metric='euclidean')\n",
    "bank_data_knn.fit(df_train_norm, df_target_train)\n",
    "df_target_predict = bank_data_knn.predict(df_test_norm)\n",
    "\n",
    "from sklearn.metrics import classification_report\n",
    "print(classification_report(df_target_test, df_target_predict))\n",
    "\n",
    "from sklearn.metrics import confusion_matrix\n",
    "knn_confusion_matrix = confusion_matrix(y_true = df_target_test, y_pred = df_target_predict)\n",
    "print(knn_confusion_matrix)\n",
    "\n",
    "print(\"Accuracy on test data:\" + str(bank_data_knn.score(df_test_norm, df_target_test)))\n",
    "print(\"Accuracy on training data:\" + str(bank_data_knn.score(df_train_norm, df_target_train)))"
   ]
  },
  {
   "cell_type": "code",
   "execution_count": 32,
   "metadata": {
    "collapsed": false
   },
   "outputs": [
    {
     "name": "stdout",
     "output_type": "stream",
     "text": [
      "             precision    recall  f1-score   support\n",
      "\n",
      "         NO       0.68      0.70      0.69        66\n",
      "        YES       0.62      0.59      0.60        54\n",
      "\n",
      "avg / total       0.65      0.65      0.65       120\n",
      "\n",
      "[[46 20]\n",
      " [22 32]]\n",
      "Accuracy on test data:0.65\n",
      "Accuracy on training data:1.0\n"
     ]
    }
   ],
   "source": [
    "bank_data_knn = KNeighborsClassifier(n_neighbors = 9, weights = 'distance', metric='euclidean')\n",
    "bank_data_knn.fit(df_train_norm, df_target_train)\n",
    "df_target_predict = bank_data_knn.predict(df_test_norm)\n",
    "\n",
    "from sklearn.metrics import classification_report\n",
    "print(classification_report(df_target_test, df_target_predict))\n",
    "\n",
    "from sklearn.metrics import confusion_matrix\n",
    "knn_confusion_matrix = confusion_matrix(y_true = df_target_test, y_pred = df_target_predict)\n",
    "print(knn_confusion_matrix)\n",
    "\n",
    "print(\"Accuracy on test data:\" + str(bank_data_knn.score(df_test_norm, df_target_test)))\n",
    "print(\"Accuracy on training data:\" + str(bank_data_knn.score(df_train_norm, df_target_train)))"
   ]
  },
  {
   "cell_type": "code",
   "execution_count": 33,
   "metadata": {
    "collapsed": false
   },
   "outputs": [
    {
     "name": "stdout",
     "output_type": "stream",
     "text": [
      "             precision    recall  f1-score   support\n",
      "\n",
      "         NO       0.68      0.71      0.70        66\n",
      "        YES       0.63      0.59      0.61        54\n",
      "\n",
      "avg / total       0.66      0.66      0.66       120\n",
      "\n",
      "[[47 19]\n",
      " [22 32]]\n",
      "Accuracy on test data:0.658333333333\n",
      "Accuracy on training data:1.0\n"
     ]
    }
   ],
   "source": [
    "bank_data_knn = KNeighborsClassifier(n_neighbors = 11, weights = 'distance',metric='euclidean')\n",
    "bank_data_knn.fit(df_train_norm, df_target_train)\n",
    "df_target_predict = bank_data_knn.predict(df_test_norm)\n",
    "\n",
    "from sklearn.metrics import classification_report\n",
    "print(classification_report(df_target_test, df_target_predict))\n",
    "\n",
    "from sklearn.metrics import confusion_matrix\n",
    "knn_confusion_matrix = confusion_matrix(y_true = df_target_test, y_pred = df_target_predict)\n",
    "print(knn_confusion_matrix)\n",
    "\n",
    "print(\"Accuracy on test data:\" + str(bank_data_knn.score(df_test_norm, df_target_test)))\n",
    "print(\"Accuracy on training data:\" + str(bank_data_knn.score(df_train_norm, df_target_train)))"
   ]
  },
  {
   "cell_type": "code",
   "execution_count": 34,
   "metadata": {
    "collapsed": false
   },
   "outputs": [
    {
     "name": "stdout",
     "output_type": "stream",
     "text": [
      "             precision    recall  f1-score   support\n",
      "\n",
      "         NO       0.64      0.67      0.65        66\n",
      "        YES       0.57      0.54      0.55        54\n",
      "\n",
      "avg / total       0.61      0.61      0.61       120\n",
      "\n",
      "[[44 22]\n",
      " [25 29]]\n",
      "Accuracy on test data:0.608333333333\n",
      "Accuracy on training data:1.0\n"
     ]
    }
   ],
   "source": [
    "bank_data_knn = KNeighborsClassifier(n_neighbors = 13, weights = 'distance',metric='euclidean')\n",
    "bank_data_knn.fit(df_train_norm, df_target_train)\n",
    "df_target_predict = bank_data_knn.predict(df_test_norm)\n",
    "\n",
    "from sklearn.metrics import classification_report\n",
    "print(classification_report(df_target_test, df_target_predict))\n",
    "\n",
    "from sklearn.metrics import confusion_matrix\n",
    "knn_confusion_matrix = confusion_matrix(y_true = df_target_test, y_pred = df_target_predict)\n",
    "print(knn_confusion_matrix)\n",
    "\n",
    "print(\"Accuracy on test data:\" + str(bank_data_knn.score(df_test_norm, df_target_test)))\n",
    "print(\"Accuracy on training data:\" + str(bank_data_knn.score(df_train_norm, df_target_train)))"
   ]
  },
  {
   "cell_type": "code",
   "execution_count": 35,
   "metadata": {
    "collapsed": false
   },
   "outputs": [
    {
     "name": "stdout",
     "output_type": "stream",
     "text": [
      "             precision    recall  f1-score   support\n",
      "\n",
      "         NO       0.64      0.67      0.65        66\n",
      "        YES       0.57      0.54      0.55        54\n",
      "\n",
      "avg / total       0.61      0.61      0.61       120\n",
      "\n",
      "[[44 22]\n",
      " [25 29]]\n",
      "Accuracy on test data:0.608333333333\n",
      "Accuracy on training data:1.0\n"
     ]
    }
   ],
   "source": [
    "bank_data_knn = KNeighborsClassifier(n_neighbors = 15, weights = 'distance', metric='euclidean')\n",
    "bank_data_knn.fit(df_train_norm, df_target_train)\n",
    "df_target_predict = bank_data_knn.predict(df_test_norm)\n",
    "\n",
    "from sklearn.metrics import classification_report\n",
    "print(classification_report(df_target_test, df_target_predict))\n",
    "\n",
    "from sklearn.metrics import confusion_matrix\n",
    "knn_confusion_matrix = confusion_matrix(y_true = df_target_test, y_pred = df_target_predict)\n",
    "print(knn_confusion_matrix)\n",
    "\n",
    "print(\"Accuracy on test data:\" + str(bank_data_knn.score(df_test_norm, df_target_test)))\n",
    "print(\"Accuracy on training data:\" + str(bank_data_knn.score(df_train_norm, df_target_train)))"
   ]
  },
  {
   "cell_type": "markdown",
   "metadata": {},
   "source": [
    "Changing the value of k in the model parameters we can see that the maximum accuracy we achieve on test data is 65.08% or 0.6583 for k = 11 and then it starts decreasing if we increase the value of k."
   ]
  },
  {
   "cell_type": "markdown",
   "metadata": {},
   "source": [
    "Changing the weights parameter."
   ]
  },
  {
   "cell_type": "code",
   "execution_count": 36,
   "metadata": {
    "collapsed": false
   },
   "outputs": [
    {
     "name": "stdout",
     "output_type": "stream",
     "text": [
      "             precision    recall  f1-score   support\n",
      "\n",
      "         NO       0.67      0.70      0.68        66\n",
      "        YES       0.61      0.57      0.59        54\n",
      "\n",
      "avg / total       0.64      0.64      0.64       120\n",
      "\n",
      "[[46 20]\n",
      " [23 31]]\n",
      "Accuracy on test data:0.641666666667\n",
      "Accuracy on training data:0.783333333333\n"
     ]
    }
   ],
   "source": [
    "bank_data_knn = KNeighborsClassifier(n_neighbors = 5, weights = 'uniform', metric='euclidean')\n",
    "bank_data_knn.fit(df_train_norm, df_target_train)\n",
    "df_target_predict = bank_data_knn.predict(df_test_norm)\n",
    "\n",
    "from sklearn.metrics import classification_report\n",
    "print(classification_report(df_target_test, df_target_predict))\n",
    "\n",
    "from sklearn.metrics import confusion_matrix\n",
    "knn_confusion_matrix = confusion_matrix(y_true = df_target_test, y_pred = df_target_predict)\n",
    "print(knn_confusion_matrix)\n",
    "\n",
    "print(\"Accuracy on test data:\" + str(bank_data_knn.score(df_test_norm, df_target_test)))\n",
    "print(\"Accuracy on training data:\" + str(bank_data_knn.score(df_train_norm, df_target_train)))"
   ]
  },
  {
   "cell_type": "code",
   "execution_count": 37,
   "metadata": {
    "collapsed": false
   },
   "outputs": [
    {
     "name": "stdout",
     "output_type": "stream",
     "text": [
      "             precision    recall  f1-score   support\n",
      "\n",
      "         NO       0.69      0.73      0.71        66\n",
      "        YES       0.64      0.59      0.62        54\n",
      "\n",
      "avg / total       0.67      0.67      0.67       120\n",
      "\n",
      "[[48 18]\n",
      " [22 32]]\n",
      "Accuracy on test data:0.666666666667\n",
      "Accuracy on training data:0.777083333333\n"
     ]
    }
   ],
   "source": [
    "bank_data_knn = KNeighborsClassifier(n_neighbors = 7, weights = 'uniform', metric='euclidean')\n",
    "bank_data_knn.fit(df_train_norm, df_target_train)\n",
    "df_target_predict = bank_data_knn.predict(df_test_norm)\n",
    "\n",
    "from sklearn.metrics import classification_report\n",
    "print(classification_report(df_target_test, df_target_predict))\n",
    "\n",
    "from sklearn.metrics import confusion_matrix\n",
    "knn_confusion_matrix = confusion_matrix(y_true = df_target_test, y_pred = df_target_predict)\n",
    "print(knn_confusion_matrix)\n",
    "\n",
    "print(\"Accuracy on test data:\" + str(bank_data_knn.score(df_test_norm, df_target_test)))\n",
    "print(\"Accuracy on training data:\" + str(bank_data_knn.score(df_train_norm, df_target_train)))"
   ]
  },
  {
   "cell_type": "code",
   "execution_count": 38,
   "metadata": {
    "collapsed": false
   },
   "outputs": [
    {
     "name": "stdout",
     "output_type": "stream",
     "text": [
      "             precision    recall  f1-score   support\n",
      "\n",
      "         NO       0.69      0.77      0.73        66\n",
      "        YES       0.67      0.57      0.62        54\n",
      "\n",
      "avg / total       0.68      0.68      0.68       120\n",
      "\n",
      "[[51 15]\n",
      " [23 31]]\n",
      "Accuracy on test data:0.683333333333\n",
      "Accuracy on training data:0.770833333333\n"
     ]
    }
   ],
   "source": [
    "bank_data_knn = KNeighborsClassifier(n_neighbors = 9, weights = 'uniform', metric='euclidean')\n",
    "bank_data_knn.fit(df_train_norm, df_target_train)\n",
    "df_target_predict = bank_data_knn.predict(df_test_norm)\n",
    "\n",
    "from sklearn.metrics import classification_report\n",
    "print(classification_report(df_target_test, df_target_predict))\n",
    "\n",
    "from sklearn.metrics import confusion_matrix\n",
    "knn_confusion_matrix = confusion_matrix(y_true = df_target_test, y_pred = df_target_predict)\n",
    "print(knn_confusion_matrix)\n",
    "\n",
    "print(\"Accuracy on test data:\" + str(bank_data_knn.score(df_test_norm, df_target_test)))\n",
    "print(\"Accuracy on training data:\" + str(bank_data_knn.score(df_train_norm, df_target_train)))"
   ]
  },
  {
   "cell_type": "code",
   "execution_count": 39,
   "metadata": {
    "collapsed": false
   },
   "outputs": [
    {
     "name": "stdout",
     "output_type": "stream",
     "text": [
      "             precision    recall  f1-score   support\n",
      "\n",
      "         NO       0.66      0.71      0.69        66\n",
      "        YES       0.61      0.56      0.58        54\n",
      "\n",
      "avg / total       0.64      0.64      0.64       120\n",
      "\n",
      "[[47 19]\n",
      " [24 30]]\n",
      "Accuracy on test data:0.641666666667\n",
      "Accuracy on training data:0.770833333333\n"
     ]
    }
   ],
   "source": [
    "bank_data_knn = KNeighborsClassifier(n_neighbors = 11, weights = 'uniform', metric='euclidean')\n",
    "bank_data_knn.fit(df_train_norm, df_target_train)\n",
    "df_target_predict = bank_data_knn.predict(df_test_norm)\n",
    "\n",
    "from sklearn.metrics import classification_report\n",
    "print(classification_report(df_target_test, df_target_predict))\n",
    "\n",
    "from sklearn.metrics import confusion_matrix\n",
    "knn_confusion_matrix = confusion_matrix(y_true = df_target_test, y_pred = df_target_predict)\n",
    "print(knn_confusion_matrix)\n",
    "\n",
    "print(\"Accuracy on test data:\" + str(bank_data_knn.score(df_test_norm, df_target_test)))\n",
    "print(\"Accuracy on training data:\" + str(bank_data_knn.score(df_train_norm, df_target_train)))"
   ]
  },
  {
   "cell_type": "code",
   "execution_count": 40,
   "metadata": {
    "collapsed": false
   },
   "outputs": [
    {
     "name": "stdout",
     "output_type": "stream",
     "text": [
      "             precision    recall  f1-score   support\n",
      "\n",
      "         NO       0.66      0.71      0.69        66\n",
      "        YES       0.61      0.56      0.58        54\n",
      "\n",
      "avg / total       0.64      0.64      0.64       120\n",
      "\n",
      "[[47 19]\n",
      " [24 30]]\n",
      "Accuracy on test data:0.641666666667\n",
      "Accuracy on training data:0.745833333333\n"
     ]
    }
   ],
   "source": [
    "bank_data_knn = KNeighborsClassifier(n_neighbors = 13, weights = 'uniform', metric='euclidean')\n",
    "bank_data_knn.fit(df_train_norm, df_target_train)\n",
    "df_target_predict = bank_data_knn.predict(df_test_norm)\n",
    "\n",
    "from sklearn.metrics import classification_report\n",
    "print(classification_report(df_target_test, df_target_predict))\n",
    "\n",
    "from sklearn.metrics import confusion_matrix\n",
    "knn_confusion_matrix = confusion_matrix(y_true = df_target_test, y_pred = df_target_predict)\n",
    "print(knn_confusion_matrix)\n",
    "\n",
    "print(\"Accuracy on test data:\" + str(bank_data_knn.score(df_test_norm, df_target_test)))\n",
    "print(\"Accuracy on training data:\" + str(bank_data_knn.score(df_train_norm, df_target_train)))"
   ]
  },
  {
   "cell_type": "code",
   "execution_count": 41,
   "metadata": {
    "collapsed": false
   },
   "outputs": [
    {
     "name": "stdout",
     "output_type": "stream",
     "text": [
      "             precision    recall  f1-score   support\n",
      "\n",
      "         NO       0.67      0.68      0.68        66\n",
      "        YES       0.60      0.59      0.60        54\n",
      "\n",
      "avg / total       0.64      0.64      0.64       120\n",
      "\n",
      "[[45 21]\n",
      " [22 32]]\n",
      "Accuracy on test data:0.641666666667\n",
      "Accuracy on training data:0.735416666667\n"
     ]
    }
   ],
   "source": [
    "bank_data_knn = KNeighborsClassifier(n_neighbors = 15, weights = 'uniform', metric='euclidean')\n",
    "bank_data_knn.fit(df_train_norm, df_target_train)\n",
    "df_target_predict = bank_data_knn.predict(df_test_norm)\n",
    "\n",
    "from sklearn.metrics import classification_report\n",
    "print(classification_report(df_target_test, df_target_predict))\n",
    "\n",
    "from sklearn.metrics import confusion_matrix\n",
    "knn_confusion_matrix = confusion_matrix(y_true = df_target_test, y_pred = df_target_predict)\n",
    "print(knn_confusion_matrix)\n",
    "\n",
    "print(\"Accuracy on test data:\" + str(bank_data_knn.score(df_test_norm, df_target_test)))\n",
    "print(\"Accuracy on training data:\" + str(bank_data_knn.score(df_train_norm, df_target_train)))"
   ]
  },
  {
   "cell_type": "markdown",
   "metadata": {},
   "source": [
    "Changing the value of weights in the model parameters we can see that the maximum accuracy we achieve on test data is 68.33% or 0.6833 for k = 9 and then it starts decreasing. Also changing the weights to \"uniform\" improves precision."
   ]
  },
  {
   "cell_type": "markdown",
   "metadata": {},
   "source": [
    "Changing the metric parameter."
   ]
  },
  {
   "cell_type": "code",
   "execution_count": 48,
   "metadata": {
    "collapsed": false
   },
   "outputs": [
    {
     "name": "stdout",
     "output_type": "stream",
     "text": [
      "             precision    recall  f1-score   support\n",
      "\n",
      "         NO       0.65      0.70      0.67        66\n",
      "        YES       0.59      0.54      0.56        54\n",
      "\n",
      "avg / total       0.62      0.62      0.62       120\n",
      "\n",
      "[[46 20]\n",
      " [25 29]]\n",
      "Accuracy on test data:0.625\n",
      "Accuracy on training data:1.0\n"
     ]
    }
   ],
   "source": [
    "bank_data_knn = KNeighborsClassifier(n_neighbors = 5, weights = 'distance', metric='manhattan')\n",
    "bank_data_knn.fit(df_train_norm, df_target_train)\n",
    "df_target_predict = bank_data_knn.predict(df_test_norm)\n",
    "\n",
    "from sklearn.metrics import classification_report\n",
    "print(classification_report(df_target_test, df_target_predict))\n",
    "\n",
    "from sklearn.metrics import confusion_matrix\n",
    "knn_confusion_matrix = confusion_matrix(y_true = df_target_test, y_pred = df_target_predict)\n",
    "print(knn_confusion_matrix)\n",
    "\n",
    "print(\"Accuracy on test data:\" + str(bank_data_knn.score(df_test_norm, df_target_test)))\n",
    "print(\"Accuracy on training data:\" + str(bank_data_knn.score(df_train_norm, df_target_train)))"
   ]
  },
  {
   "cell_type": "code",
   "execution_count": 53,
   "metadata": {
    "collapsed": false
   },
   "outputs": [
    {
     "name": "stdout",
     "output_type": "stream",
     "text": [
      "             precision    recall  f1-score   support\n",
      "\n",
      "         NO       0.61      0.65      0.63        66\n",
      "        YES       0.54      0.50      0.52        54\n",
      "\n",
      "avg / total       0.58      0.58      0.58       120\n",
      "\n",
      "[[43 23]\n",
      " [27 27]]\n",
      "Accuracy on test data:0.583333333333\n",
      "Accuracy on training data:1.0\n"
     ]
    }
   ],
   "source": [
    "bank_data_knn = KNeighborsClassifier(n_neighbors = 7, weights = 'distance', metric='manhattan')\n",
    "bank_data_knn.fit(df_train_norm, df_target_train)\n",
    "df_target_predict = bank_data_knn.predict(df_test_norm)\n",
    "\n",
    "from sklearn.metrics import classification_report\n",
    "print(classification_report(df_target_test, df_target_predict))\n",
    "\n",
    "from sklearn.metrics import confusion_matrix\n",
    "knn_confusion_matrix = confusion_matrix(y_true = df_target_test, y_pred = df_target_predict)\n",
    "print(knn_confusion_matrix)\n",
    "\n",
    "print(\"Accuracy on test data:\" + str(bank_data_knn.score(df_test_norm, df_target_test)))\n",
    "print(\"Accuracy on training data:\" + str(bank_data_knn.score(df_train_norm, df_target_train)))"
   ]
  },
  {
   "cell_type": "code",
   "execution_count": 49,
   "metadata": {
    "collapsed": false
   },
   "outputs": [
    {
     "name": "stdout",
     "output_type": "stream",
     "text": [
      "             precision    recall  f1-score   support\n",
      "\n",
      "         NO       0.66      0.70      0.68        66\n",
      "        YES       0.60      0.56      0.58        54\n",
      "\n",
      "avg / total       0.63      0.63      0.63       120\n",
      "\n",
      "[[46 20]\n",
      " [24 30]]\n",
      "Accuracy on test data:0.633333333333\n",
      "Accuracy on training data:1.0\n"
     ]
    }
   ],
   "source": [
    "bank_data_knn = KNeighborsClassifier(n_neighbors = 9, weights = 'distance', metric='manhattan')\n",
    "bank_data_knn.fit(df_train_norm, df_target_train)\n",
    "df_target_predict = bank_data_knn.predict(df_test_norm)\n",
    "\n",
    "from sklearn.metrics import classification_report\n",
    "print(classification_report(df_target_test, df_target_predict))\n",
    "\n",
    "from sklearn.metrics import confusion_matrix\n",
    "knn_confusion_matrix = confusion_matrix(y_true = df_target_test, y_pred = df_target_predict)\n",
    "print(knn_confusion_matrix)\n",
    "\n",
    "print(\"Accuracy on test data:\" + str(bank_data_knn.score(df_test_norm, df_target_test)))\n",
    "print(\"Accuracy on training data:\" + str(bank_data_knn.score(df_train_norm, df_target_train)))"
   ]
  },
  {
   "cell_type": "code",
   "execution_count": 50,
   "metadata": {
    "collapsed": false
   },
   "outputs": [
    {
     "name": "stdout",
     "output_type": "stream",
     "text": [
      "             precision    recall  f1-score   support\n",
      "\n",
      "         NO       0.68      0.76      0.71        66\n",
      "        YES       0.65      0.56      0.60        54\n",
      "\n",
      "avg / total       0.67      0.67      0.66       120\n",
      "\n",
      "[[50 16]\n",
      " [24 30]]\n",
      "Accuracy on test data:0.666666666667\n",
      "Accuracy on training data:1.0\n"
     ]
    }
   ],
   "source": [
    "bank_data_knn = KNeighborsClassifier(n_neighbors = 11, weights = 'distance', metric='manhattan')\n",
    "bank_data_knn.fit(df_train_norm, df_target_train)\n",
    "df_target_predict = bank_data_knn.predict(df_test_norm)\n",
    "\n",
    "from sklearn.metrics import classification_report\n",
    "print(classification_report(df_target_test, df_target_predict))\n",
    "\n",
    "from sklearn.metrics import confusion_matrix\n",
    "knn_confusion_matrix = confusion_matrix(y_true = df_target_test, y_pred = df_target_predict)\n",
    "print(knn_confusion_matrix)\n",
    "\n",
    "print(\"Accuracy on test data:\" + str(bank_data_knn.score(df_test_norm, df_target_test)))\n",
    "print(\"Accuracy on training data:\" + str(bank_data_knn.score(df_train_norm, df_target_train)))"
   ]
  },
  {
   "cell_type": "code",
   "execution_count": 51,
   "metadata": {
    "collapsed": false
   },
   "outputs": [
    {
     "name": "stdout",
     "output_type": "stream",
     "text": [
      "             precision    recall  f1-score   support\n",
      "\n",
      "         NO       0.65      0.70      0.67        66\n",
      "        YES       0.59      0.54      0.56        54\n",
      "\n",
      "avg / total       0.62      0.62      0.62       120\n",
      "\n",
      "[[46 20]\n",
      " [25 29]]\n",
      "Accuracy on test data:0.625\n",
      "Accuracy on training data:1.0\n"
     ]
    }
   ],
   "source": [
    "bank_data_knn = KNeighborsClassifier(n_neighbors = 13, weights = 'distance', metric='manhattan')\n",
    "bank_data_knn.fit(df_train_norm, df_target_train)\n",
    "df_target_predict = bank_data_knn.predict(df_test_norm)\n",
    "\n",
    "from sklearn.metrics import classification_report\n",
    "print(classification_report(df_target_test, df_target_predict))\n",
    "\n",
    "from sklearn.metrics import confusion_matrix\n",
    "knn_confusion_matrix = confusion_matrix(y_true = df_target_test, y_pred = df_target_predict)\n",
    "print(knn_confusion_matrix)\n",
    "\n",
    "print(\"Accuracy on test data:\" + str(bank_data_knn.score(df_test_norm, df_target_test)))\n",
    "print(\"Accuracy on training data:\" + str(bank_data_knn.score(df_train_norm, df_target_train)))"
   ]
  },
  {
   "cell_type": "code",
   "execution_count": 52,
   "metadata": {
    "collapsed": false
   },
   "outputs": [
    {
     "name": "stdout",
     "output_type": "stream",
     "text": [
      "             precision    recall  f1-score   support\n",
      "\n",
      "         NO       0.65      0.67      0.66        66\n",
      "        YES       0.58      0.56      0.57        54\n",
      "\n",
      "avg / total       0.62      0.62      0.62       120\n",
      "\n",
      "[[44 22]\n",
      " [24 30]]\n",
      "Accuracy on test data:0.616666666667\n",
      "Accuracy on training data:1.0\n"
     ]
    }
   ],
   "source": [
    "bank_data_knn = KNeighborsClassifier(n_neighbors = 15, weights = 'distance', metric='manhattan')\n",
    "bank_data_knn.fit(df_train_norm, df_target_train)\n",
    "df_target_predict = bank_data_knn.predict(df_test_norm)\n",
    "\n",
    "from sklearn.metrics import classification_report\n",
    "print(classification_report(df_target_test, df_target_predict))\n",
    "\n",
    "from sklearn.metrics import confusion_matrix\n",
    "knn_confusion_matrix = confusion_matrix(y_true = df_target_test, y_pred = df_target_predict)\n",
    "print(knn_confusion_matrix)\n",
    "\n",
    "print(\"Accuracy on test data:\" + str(bank_data_knn.score(df_test_norm, df_target_test)))\n",
    "print(\"Accuracy on training data:\" + str(bank_data_knn.score(df_train_norm, df_target_train)))"
   ]
  },
  {
   "cell_type": "markdown",
   "metadata": {},
   "source": [
    "Changing the value of distance metric in the model parameters we can see that the maximum accuracy we achieve on test data is 66.66% or 0.6666 for k = 11 and then it starts decreasing. So maximum accuracy achieved using \"manhattan\" distance is slightly more than what we achieved using \"euclidean\", so we can say for classification in this dataset manhattan seems to have better accuracy than euclidean.\n",
    "\n",
    "So the parameters that worked best are:\n",
    "Accuracy peaks at k value of 9-11 with distance measure as manhattan and uniform weights."
   ]
  },
  {
   "cell_type": "markdown",
   "metadata": {},
   "source": [
    "# c. Repeat the classification using scikit-learn's decision tree classifier (using the default parameters) and the naive Bayes (Gaussian) classifier. As above, generate the confusion matrix, classification report, and average accuracy score for each classifier. For each model, compare the average accuracry scores on the test and the training data sets. What does the comparison tell you in terms of bias-variance trade-off?"
   ]
  },
  {
   "cell_type": "code",
   "execution_count": 121,
   "metadata": {
    "collapsed": true
   },
   "outputs": [],
   "source": [
    "#Decision tree classifier  - scikit-learn (default paramters)\n",
    "\n",
    "from sklearn.tree import tree\n",
    "\n",
    "treeclf = tree.DecisionTreeClassifier(random_state = 9)\n",
    "#Fit the model to the training data\n",
    "treeclf = treeclf.fit(df_train_norm, df_target_train)\n",
    "\n",
    "treepreds_test = treeclf.predict(df_test_norm)"
   ]
  },
  {
   "cell_type": "code",
   "execution_count": 122,
   "metadata": {
    "collapsed": false
   },
   "outputs": [
    {
     "name": "stdout",
     "output_type": "stream",
     "text": [
      "0.8\n"
     ]
    }
   ],
   "source": [
    "#Accuracy on testing data\n",
    "\n",
    "print (treeclf.score(df_test_norm, df_target_test))"
   ]
  },
  {
   "cell_type": "code",
   "execution_count": 123,
   "metadata": {
    "collapsed": false
   },
   "outputs": [
    {
     "name": "stdout",
     "output_type": "stream",
     "text": [
      "1.0\n"
     ]
    }
   ],
   "source": [
    "#Accuracy on training data\n",
    "\n",
    "print (treeclf.score(df_train_norm, df_target_train))"
   ]
  },
  {
   "cell_type": "code",
   "execution_count": 124,
   "metadata": {
    "collapsed": false
   },
   "outputs": [
    {
     "name": "stdout",
     "output_type": "stream",
     "text": [
      "             precision    recall  f1-score   support\n",
      "\n",
      "         NO       0.82      0.82      0.82        66\n",
      "        YES       0.78      0.78      0.78        54\n",
      "\n",
      "avg / total       0.80      0.80      0.80       120\n",
      "\n"
     ]
    }
   ],
   "source": [
    "print(classification_report(df_target_test, treepreds_test))"
   ]
  },
  {
   "cell_type": "code",
   "execution_count": 125,
   "metadata": {
    "collapsed": false
   },
   "outputs": [
    {
     "name": "stdout",
     "output_type": "stream",
     "text": [
      "[[54 12]\n",
      " [12 42]]\n"
     ]
    },
    {
     "data": {
      "image/png": "[encoded data removed]",
      "text/plain": [
       "<matplotlib.figure.Figure at 0x2e727557550>"
      ]
     },
     "metadata": {},
     "output_type": "display_data"
    }
   ],
   "source": [
    "from sklearn.metrics import confusion_matrix\n",
    "\n",
    "dTree_confusion_matrix = confusion_matrix(y_true = df_target_test, y_pred = treepreds_test)\n",
    "\n",
    "print(dTree_confusion_matrix)\n",
    "\n",
    "plt.matshow(dTree_confusion_matrix)\n",
    "plt.title('Confusion matrix')\n",
    "plt.colorbar()\n",
    "plt.ylabel('Actual')\n",
    "plt.xlabel('Predicted')\n",
    "plt.show()"
   ]
  },
  {
   "cell_type": "code",
   "execution_count": 129,
   "metadata": {
    "collapsed": false
   },
   "outputs": [
    {
     "name": "stdout",
     "output_type": "stream",
     "text": [
      "0.833333333333\n",
      "0.885416666667\n",
      "             precision    recall  f1-score   support\n",
      "\n",
      "         NO       0.82      0.82      0.82        66\n",
      "        YES       0.78      0.78      0.78        54\n",
      "\n",
      "avg / total       0.80      0.80      0.80       120\n",
      "\n"
     ]
    }
   ],
   "source": [
    "#Decision tree with modified parameters\n",
    "\n",
    "treeclf = tree.DecisionTreeClassifier(min_samples_leaf = 12, random_state = 9)\n",
    "#Fit the model to the training data\n",
    "treeclf = treeclf.fit(df_train_norm, df_target_train)\n",
    "print (treeclf.score(df_test_norm, df_target_test))\n",
    "print (treeclf.score(df_train_norm, df_target_train))\n",
    "print(classification_report(df_target_test, treepreds_test))"
   ]
  },
  {
   "cell_type": "code",
   "execution_count": 133,
   "metadata": {
    "collapsed": false
   },
   "outputs": [
    {
     "name": "stdout",
     "output_type": "stream",
     "text": [
      "0.691666666667\n",
      "0.791666666667\n",
      "             precision    recall  f1-score   support\n",
      "\n",
      "         NO       0.82      0.82      0.82        66\n",
      "        YES       0.78      0.78      0.78        54\n",
      "\n",
      "avg / total       0.80      0.80      0.80       120\n",
      "\n"
     ]
    }
   ],
   "source": [
    "#Decision tree with modified parameters\n",
    "\n",
    "treeclf = tree.DecisionTreeClassifier(min_samples_leaf = 50, random_state = 9)\n",
    "#Fit the model to the training data\n",
    "treeclf = treeclf.fit(df_train_norm, df_target_train)\n",
    "print (treeclf.score(df_test_norm, df_target_test))\n",
    "print (treeclf.score(df_train_norm, df_target_train))\n",
    "print(classification_report(df_target_test, treepreds_test))"
   ]
  },
  {
   "cell_type": "markdown",
   "metadata": {},
   "source": [
    "If we keep the default parameters, that is minimum samples per leaf value to be 1 (very complex tree), we can see that we are getting 100% accuracy on training data but accuracy on testing data comes out to be 80% which shows that we are overfitting the data in our model and it performs very well on training set but its performance goes down on testing data and training and testing accuracies are not within acceptables ranges (more than 10% difference).\n",
    "\n",
    "So here we can see that the accuracy we get using decision tree when we change one of its parameters, is 83.33% on testing data and 88.54% on training data, so testing and training accuracy are within acceptable ranges (less than 10% difference) and there is no bias-variance trade off or in other words underfitting or overfitting.\n",
    "\n",
    "If we keep the miminum samples per leaf value to be high and equal to 50 (comparitively simple tree), we can see that the accuracy on both testing and training comes down to around 69% and 79%, which is probably we are underfitting the data and keeping the models too simple, which is resulting into high bias, which can cause an algorithm to miss the relevant relations between features and target outputs (in other words underfitting)."
   ]
  },
  {
   "cell_type": "code",
   "execution_count": 146,
   "metadata": {
    "collapsed": false
   },
   "outputs": [],
   "source": [
    "#(Gaussian) naive Bayes classifier\n",
    "from sklearn import naive_bayes\n",
    "\n",
    "nbclf = naive_bayes.GaussianNB()\n",
    "nbclf = nbclf.fit(df_train_norm, df_target_train)\n",
    "nbpreds_test = nbclf.predict(df_test_norm)"
   ]
  },
  {
   "cell_type": "code",
   "execution_count": 147,
   "metadata": {
    "collapsed": false
   },
   "outputs": [
    {
     "name": "stdout",
     "output_type": "stream",
     "text": [
      "0.6\n"
     ]
    }
   ],
   "source": [
    "#Accuracy on testing data\n",
    "\n",
    "print (nbclf.score(df_test_norm, df_target_test))"
   ]
  },
  {
   "cell_type": "code",
   "execution_count": 148,
   "metadata": {
    "collapsed": false
   },
   "outputs": [
    {
     "name": "stdout",
     "output_type": "stream",
     "text": [
      "0.670833333333\n"
     ]
    }
   ],
   "source": [
    "#Accuracy on training data\n",
    "\n",
    "print (nbclf.score(df_train_norm, df_target_train))"
   ]
  },
  {
   "cell_type": "code",
   "execution_count": 149,
   "metadata": {
    "collapsed": false
   },
   "outputs": [
    {
     "name": "stdout",
     "output_type": "stream",
     "text": [
      "             precision    recall  f1-score   support\n",
      "\n",
      "         NO       0.63      0.67      0.65        66\n",
      "        YES       0.56      0.52      0.54        54\n",
      "\n",
      "avg / total       0.60      0.60      0.60       120\n",
      "\n"
     ]
    }
   ],
   "source": [
    "print(classification_report(df_target_test, nbpreds_test))"
   ]
  },
  {
   "cell_type": "code",
   "execution_count": 150,
   "metadata": {
    "collapsed": false
   },
   "outputs": [
    {
     "name": "stdout",
     "output_type": "stream",
     "text": [
      "[[44 22]\n",
      " [26 28]]\n"
     ]
    },
    {
     "data": {
      "image/png": "[encoded data removed]",
      "text/plain": [
       "<matplotlib.figure.Figure at 0x2e7276707f0>"
      ]
     },
     "metadata": {},
     "output_type": "display_data"
    }
   ],
   "source": [
    "from sklearn.metrics import confusion_matrix\n",
    "\n",
    "nb_confusion_matrix = confusion_matrix(y_true = df_target_test, y_pred = nbpreds_test)\n",
    "\n",
    "print(nb_confusion_matrix)\n",
    "\n",
    "plt.matshow(nb_confusion_matrix)\n",
    "plt.title('Confusion matrix')\n",
    "plt.colorbar()\n",
    "plt.ylabel('Actual')\n",
    "plt.xlabel('Predicted')\n",
    "plt.show()"
   ]
  },
  {
   "cell_type": "markdown",
   "metadata": {},
   "source": [
    "So here we can see that the accuracy we get using naive bayes, is 60% on testing data and 67.08% on training data, so testing and training accuracy are within acceptable ranges (less than 10% difference) and there is no bias-variance trade off or in other words underfitting or overfitting."
   ]
  },
  {
   "cell_type": "markdown",
   "metadata": {},
   "source": [
    "# d. Discuss your observations based on the above experiments."
   ]
  },
  {
   "cell_type": "markdown",
   "metadata": {},
   "source": [
    "So here from the above experiments we can see that the Decision Tree works best on this given dataset in the task of classifying the records into whether they will buy PEP or not. The accuracy for decision tree with modified parameters comes out to be 83% on training data where as the peak accuracy achieved using k Nearest Neighbour classifier is around 68% and Naive Bayes classifies with 60% accuracy on testing data.\n",
    "\n",
    "Also by tweaking the parameters of the k Nearest Neighbour classifier we observed that:\n",
    "\n",
    "1) Changing the value of k in the model parameters we can see that the maximum accuracy we achieve on test data is 65.08% or 0.6583 for k = 11 and then it starts decreasing if we increase the value of k.\n",
    "\n",
    "2) Changing the value of weights in the model parameters we can see that the maximum accuracy we achieve on test data is 68.33% or 0.6833 for k = 9 and then it starts decreasing. Also changing the weights to \"uniform\" improves precision.\n",
    "\n",
    "3) Changing the value of distance metric in the model parameters we can see that the maximum accuracy we achieve on test data is 66.66% or 0.6666 for k = 11 and then it starts decreasing. So maximum accuracy achieved using \"manhattan\" distance is slightly more than what we achieved using \"euclidean\", so we can say for classification in this dataset manhattan seems to have better accuracy than euclidean.\n",
    "\n",
    "Modifying the parameters of decision tree we were able to see bias-variance trade off and how model underfits and overfits."
   ]
  },
  {
   "cell_type": "markdown",
   "metadata": {},
   "source": [
    "# 3. Data Analysis and Predictive Modeling on Census data [Dataset: adult-modified.csv]. For this problem you will use a simplified version of the Adult Census Data Set. In the subset provided here, some of the attributes have been removed and some preprocessing has been performed. Your tasks in this problem are the following:\n",
    "\n",
    "# a. Preprocessing and data analysis:\n",
    "\n",
    "# 1) Examine the data for missing values. In case of categorical attributes, remove instances with missing values. In the case of numeric attributes, impute and fill-in the missing values using the attribute mean."
   ]
  },
  {
   "cell_type": "code",
   "execution_count": 151,
   "metadata": {
    "collapsed": false
   },
   "outputs": [
    {
     "data": {
      "text/plain": [
       "'C:\\\\Users\\\\GunjanPandya\\\\Downloads\\\\CSC478'"
      ]
     },
     "execution_count": 151,
     "metadata": {},
     "output_type": "execute_result"
    }
   ],
   "source": [
    "pwd"
   ]
  },
  {
   "cell_type": "code",
   "execution_count": 152,
   "metadata": {
    "collapsed": true
   },
   "outputs": [],
   "source": [
    "# Importing Libraries\n",
    "\n",
    "import pandas as pd\n",
    "import numpy as np\n",
    "import matplotlib.pyplot as plt\n",
    "%matplotlib inline"
   ]
  },
  {
   "cell_type": "code",
   "execution_count": 165,
   "metadata": {
    "collapsed": true
   },
   "outputs": [],
   "source": [
    "df_adult = pd.read_csv('adult-modified.csv', na_values=['?'])\n",
    "\n",
    "#Replacing all \"?\" (missing values) with NaN"
   ]
  },
  {
   "cell_type": "code",
   "execution_count": 161,
   "metadata": {
    "collapsed": false
   },
   "outputs": [
    {
     "data": {
      "text/html": [
       "<div>\n",
       "<table border=\"1\" class=\"dataframe\">\n",
       "  <thead>\n",
       "    <tr style=\"text-align: right;\">\n",
       "      <th></th>\n",
       "      <th>age</th>\n",
       "      <th>workclass</th>\n",
       "      <th>education</th>\n",
       "      <th>marital-status</th>\n",
       "      <th>race</th>\n",
       "      <th>sex</th>\n",
       "      <th>hours-per-week</th>\n",
       "      <th>income</th>\n",
       "    </tr>\n",
       "  </thead>\n",
       "  <tbody>\n",
       "    <tr>\n",
       "      <th>0</th>\n",
       "      <td>39.0</td>\n",
       "      <td>Public</td>\n",
       "      <td>13</td>\n",
       "      <td>Single</td>\n",
       "      <td>White</td>\n",
       "      <td>Male</td>\n",
       "      <td>40</td>\n",
       "      <td>&lt;=50K</td>\n",
       "    </tr>\n",
       "    <tr>\n",
       "      <th>1</th>\n",
       "      <td>50.0</td>\n",
       "      <td>Self-emp</td>\n",
       "      <td>13</td>\n",
       "      <td>Married</td>\n",
       "      <td>White</td>\n",
       "      <td>Male</td>\n",
       "      <td>13</td>\n",
       "      <td>&lt;=50K</td>\n",
       "    </tr>\n",
       "    <tr>\n",
       "      <th>2</th>\n",
       "      <td>38.0</td>\n",
       "      <td>Private</td>\n",
       "      <td>9</td>\n",
       "      <td>Single</td>\n",
       "      <td>White</td>\n",
       "      <td>Male</td>\n",
       "      <td>40</td>\n",
       "      <td>&lt;=50K</td>\n",
       "    </tr>\n",
       "    <tr>\n",
       "      <th>3</th>\n",
       "      <td>53.0</td>\n",
       "      <td>Private</td>\n",
       "      <td>7</td>\n",
       "      <td>Married</td>\n",
       "      <td>Black</td>\n",
       "      <td>Male</td>\n",
       "      <td>40</td>\n",
       "      <td>&lt;=50K</td>\n",
       "    </tr>\n",
       "    <tr>\n",
       "      <th>4</th>\n",
       "      <td>28.0</td>\n",
       "      <td>Private</td>\n",
       "      <td>13</td>\n",
       "      <td>Married</td>\n",
       "      <td>Black</td>\n",
       "      <td>Female</td>\n",
       "      <td>40</td>\n",
       "      <td>&lt;=50K</td>\n",
       "    </tr>\n",
       "  </tbody>\n",
       "</table>\n",
       "</div>"
      ],
      "text/plain": [
       "    age workclass  education marital-status   race     sex  hours-per-week  \\\n",
       "0  39.0    Public         13         Single  White    Male              40   \n",
       "1  50.0  Self-emp         13        Married  White    Male              13   \n",
       "2  38.0   Private          9         Single  White    Male              40   \n",
       "3  53.0   Private          7        Married  Black    Male              40   \n",
       "4  28.0   Private         13        Married  Black  Female              40   \n",
       "\n",
       "  income  \n",
       "0  <=50K  \n",
       "1  <=50K  \n",
       "2  <=50K  \n",
       "3  <=50K  \n",
       "4  <=50K  "
      ]
     },
     "execution_count": 161,
     "metadata": {},
     "output_type": "execute_result"
    }
   ],
   "source": [
    "df_adult.head()"
   ]
  },
  {
   "cell_type": "code",
   "execution_count": 162,
   "metadata": {
    "collapsed": false
   },
   "outputs": [
    {
     "data": {
      "text/plain": [
       "(10000, 8)"
      ]
     },
     "execution_count": 162,
     "metadata": {},
     "output_type": "execute_result"
    }
   ],
   "source": [
    "df_adult.shape"
   ]
  },
  {
   "cell_type": "code",
   "execution_count": 176,
   "metadata": {
    "collapsed": false
   },
   "outputs": [
    {
     "data": {
      "text/plain": [
       "age               float64\n",
       "workclass          object\n",
       "education           int64\n",
       "marital-status     object\n",
       "race               object\n",
       "sex                object\n",
       "hours-per-week      int64\n",
       "income             object\n",
       "dtype: object"
      ]
     },
     "execution_count": 176,
     "metadata": {},
     "output_type": "execute_result"
    }
   ],
   "source": [
    "df_adult.dtypes"
   ]
  },
  {
   "cell_type": "code",
   "execution_count": 163,
   "metadata": {
    "collapsed": false
   },
   "outputs": [
    {
     "name": "stderr",
     "output_type": "stream",
     "text": [
      "C:\\Users\\GunjanPandya\\Anaconda3\\lib\\site-packages\\numpy\\lib\\function_base.py:3834: RuntimeWarning: Invalid value encountered in percentile\n",
      "  RuntimeWarning)\n"
     ]
    },
    {
     "data": {
      "text/html": [
       "<div>\n",
       "<table border=\"1\" class=\"dataframe\">\n",
       "  <thead>\n",
       "    <tr style=\"text-align: right;\">\n",
       "      <th></th>\n",
       "      <th>age</th>\n",
       "      <th>workclass</th>\n",
       "      <th>education</th>\n",
       "      <th>marital-status</th>\n",
       "      <th>race</th>\n",
       "      <th>sex</th>\n",
       "      <th>hours-per-week</th>\n",
       "      <th>income</th>\n",
       "    </tr>\n",
       "  </thead>\n",
       "  <tbody>\n",
       "    <tr>\n",
       "      <th>count</th>\n",
       "      <td>9802.000000</td>\n",
       "      <td>9412</td>\n",
       "      <td>10000.000000</td>\n",
       "      <td>10000</td>\n",
       "      <td>10000</td>\n",
       "      <td>10000</td>\n",
       "      <td>10000.000000</td>\n",
       "      <td>10000</td>\n",
       "    </tr>\n",
       "    <tr>\n",
       "      <th>unique</th>\n",
       "      <td>NaN</td>\n",
       "      <td>3</td>\n",
       "      <td>NaN</td>\n",
       "      <td>2</td>\n",
       "      <td>5</td>\n",
       "      <td>2</td>\n",
       "      <td>NaN</td>\n",
       "      <td>2</td>\n",
       "    </tr>\n",
       "    <tr>\n",
       "      <th>top</th>\n",
       "      <td>NaN</td>\n",
       "      <td>Private</td>\n",
       "      <td>NaN</td>\n",
       "      <td>Single</td>\n",
       "      <td>White</td>\n",
       "      <td>Male</td>\n",
       "      <td>NaN</td>\n",
       "      <td>&lt;=50K</td>\n",
       "    </tr>\n",
       "    <tr>\n",
       "      <th>freq</th>\n",
       "      <td>NaN</td>\n",
       "      <td>6947</td>\n",
       "      <td>NaN</td>\n",
       "      <td>5017</td>\n",
       "      <td>8556</td>\n",
       "      <td>6703</td>\n",
       "      <td>NaN</td>\n",
       "      <td>7621</td>\n",
       "    </tr>\n",
       "    <tr>\n",
       "      <th>mean</th>\n",
       "      <td>38.449806</td>\n",
       "      <td>NaN</td>\n",
       "      <td>10.076600</td>\n",
       "      <td>NaN</td>\n",
       "      <td>NaN</td>\n",
       "      <td>NaN</td>\n",
       "      <td>40.530300</td>\n",
       "      <td>NaN</td>\n",
       "    </tr>\n",
       "    <tr>\n",
       "      <th>std</th>\n",
       "      <td>13.611949</td>\n",
       "      <td>NaN</td>\n",
       "      <td>2.548172</td>\n",
       "      <td>NaN</td>\n",
       "      <td>NaN</td>\n",
       "      <td>NaN</td>\n",
       "      <td>12.277197</td>\n",
       "      <td>NaN</td>\n",
       "    </tr>\n",
       "    <tr>\n",
       "      <th>min</th>\n",
       "      <td>17.000000</td>\n",
       "      <td>NaN</td>\n",
       "      <td>1.000000</td>\n",
       "      <td>NaN</td>\n",
       "      <td>NaN</td>\n",
       "      <td>NaN</td>\n",
       "      <td>1.000000</td>\n",
       "      <td>NaN</td>\n",
       "    </tr>\n",
       "    <tr>\n",
       "      <th>25%</th>\n",
       "      <td>NaN</td>\n",
       "      <td>NaN</td>\n",
       "      <td>9.000000</td>\n",
       "      <td>NaN</td>\n",
       "      <td>NaN</td>\n",
       "      <td>NaN</td>\n",
       "      <td>40.000000</td>\n",
       "      <td>NaN</td>\n",
       "    </tr>\n",
       "    <tr>\n",
       "      <th>50%</th>\n",
       "      <td>NaN</td>\n",
       "      <td>NaN</td>\n",
       "      <td>10.000000</td>\n",
       "      <td>NaN</td>\n",
       "      <td>NaN</td>\n",
       "      <td>NaN</td>\n",
       "      <td>40.000000</td>\n",
       "      <td>NaN</td>\n",
       "    </tr>\n",
       "    <tr>\n",
       "      <th>75%</th>\n",
       "      <td>NaN</td>\n",
       "      <td>NaN</td>\n",
       "      <td>12.000000</td>\n",
       "      <td>NaN</td>\n",
       "      <td>NaN</td>\n",
       "      <td>NaN</td>\n",
       "      <td>45.000000</td>\n",
       "      <td>NaN</td>\n",
       "    </tr>\n",
       "    <tr>\n",
       "      <th>max</th>\n",
       "      <td>90.000000</td>\n",
       "      <td>NaN</td>\n",
       "      <td>16.000000</td>\n",
       "      <td>NaN</td>\n",
       "      <td>NaN</td>\n",
       "      <td>NaN</td>\n",
       "      <td>99.000000</td>\n",
       "      <td>NaN</td>\n",
       "    </tr>\n",
       "  </tbody>\n",
       "</table>\n",
       "</div>"
      ],
      "text/plain": [
       "                age workclass     education marital-status   race    sex  \\\n",
       "count   9802.000000      9412  10000.000000          10000  10000  10000   \n",
       "unique          NaN         3           NaN              2      5      2   \n",
       "top             NaN   Private           NaN         Single  White   Male   \n",
       "freq            NaN      6947           NaN           5017   8556   6703   \n",
       "mean      38.449806       NaN     10.076600            NaN    NaN    NaN   \n",
       "std       13.611949       NaN      2.548172            NaN    NaN    NaN   \n",
       "min       17.000000       NaN      1.000000            NaN    NaN    NaN   \n",
       "25%             NaN       NaN      9.000000            NaN    NaN    NaN   \n",
       "50%             NaN       NaN     10.000000            NaN    NaN    NaN   \n",
       "75%             NaN       NaN     12.000000            NaN    NaN    NaN   \n",
       "max       90.000000       NaN     16.000000            NaN    NaN    NaN   \n",
       "\n",
       "        hours-per-week income  \n",
       "count     10000.000000  10000  \n",
       "unique             NaN      2  \n",
       "top                NaN  <=50K  \n",
       "freq               NaN   7621  \n",
       "mean         40.530300    NaN  \n",
       "std          12.277197    NaN  \n",
       "min           1.000000    NaN  \n",
       "25%          40.000000    NaN  \n",
       "50%          40.000000    NaN  \n",
       "75%          45.000000    NaN  \n",
       "max          99.000000    NaN  "
      ]
     },
     "execution_count": 163,
     "metadata": {},
     "output_type": "execute_result"
    }
   ],
   "source": [
    "df_adult.describe(include='all')"
   ]
  },
  {
   "cell_type": "code",
   "execution_count": 164,
   "metadata": {
    "collapsed": false
   },
   "outputs": [
    {
     "data": {
      "text/html": [
       "<div>\n",
       "<table border=\"1\" class=\"dataframe\">\n",
       "  <thead>\n",
       "    <tr style=\"text-align: right;\">\n",
       "      <th></th>\n",
       "      <th>age</th>\n",
       "      <th>workclass</th>\n",
       "      <th>education</th>\n",
       "      <th>marital-status</th>\n",
       "      <th>race</th>\n",
       "      <th>sex</th>\n",
       "      <th>hours-per-week</th>\n",
       "      <th>income</th>\n",
       "    </tr>\n",
       "  </thead>\n",
       "  <tbody>\n",
       "    <tr>\n",
       "      <th>19</th>\n",
       "      <td>NaN</td>\n",
       "      <td>Self-emp</td>\n",
       "      <td>14</td>\n",
       "      <td>Single</td>\n",
       "      <td>White</td>\n",
       "      <td>Female</td>\n",
       "      <td>45</td>\n",
       "      <td>&gt;50K</td>\n",
       "    </tr>\n",
       "    <tr>\n",
       "      <th>27</th>\n",
       "      <td>NaN</td>\n",
       "      <td>NaN</td>\n",
       "      <td>10</td>\n",
       "      <td>Married</td>\n",
       "      <td>Asian</td>\n",
       "      <td>Male</td>\n",
       "      <td>60</td>\n",
       "      <td>&gt;50K</td>\n",
       "    </tr>\n",
       "    <tr>\n",
       "      <th>40</th>\n",
       "      <td>NaN</td>\n",
       "      <td>Private</td>\n",
       "      <td>5</td>\n",
       "      <td>Married</td>\n",
       "      <td>White</td>\n",
       "      <td>Male</td>\n",
       "      <td>43</td>\n",
       "      <td>&lt;=50K</td>\n",
       "    </tr>\n",
       "    <tr>\n",
       "      <th>65</th>\n",
       "      <td>NaN</td>\n",
       "      <td>Private</td>\n",
       "      <td>9</td>\n",
       "      <td>Married</td>\n",
       "      <td>White</td>\n",
       "      <td>Male</td>\n",
       "      <td>40</td>\n",
       "      <td>&lt;=50K</td>\n",
       "    </tr>\n",
       "    <tr>\n",
       "      <th>80</th>\n",
       "      <td>NaN</td>\n",
       "      <td>Private</td>\n",
       "      <td>9</td>\n",
       "      <td>Single</td>\n",
       "      <td>White</td>\n",
       "      <td>Male</td>\n",
       "      <td>30</td>\n",
       "      <td>&lt;=50K</td>\n",
       "    </tr>\n",
       "    <tr>\n",
       "      <th>89</th>\n",
       "      <td>NaN</td>\n",
       "      <td>Public</td>\n",
       "      <td>16</td>\n",
       "      <td>Single</td>\n",
       "      <td>White</td>\n",
       "      <td>Female</td>\n",
       "      <td>50</td>\n",
       "      <td>&gt;50K</td>\n",
       "    </tr>\n",
       "    <tr>\n",
       "      <th>95</th>\n",
       "      <td>NaN</td>\n",
       "      <td>Public</td>\n",
       "      <td>10</td>\n",
       "      <td>Single</td>\n",
       "      <td>White</td>\n",
       "      <td>Male</td>\n",
       "      <td>50</td>\n",
       "      <td>&lt;=50K</td>\n",
       "    </tr>\n",
       "    <tr>\n",
       "      <th>113</th>\n",
       "      <td>NaN</td>\n",
       "      <td>Private</td>\n",
       "      <td>10</td>\n",
       "      <td>Married</td>\n",
       "      <td>White</td>\n",
       "      <td>Female</td>\n",
       "      <td>25</td>\n",
       "      <td>&lt;=50K</td>\n",
       "    </tr>\n",
       "    <tr>\n",
       "      <th>132</th>\n",
       "      <td>NaN</td>\n",
       "      <td>Self-emp</td>\n",
       "      <td>9</td>\n",
       "      <td>Married</td>\n",
       "      <td>White</td>\n",
       "      <td>Male</td>\n",
       "      <td>35</td>\n",
       "      <td>&lt;=50K</td>\n",
       "    </tr>\n",
       "    <tr>\n",
       "      <th>147</th>\n",
       "      <td>NaN</td>\n",
       "      <td>Private</td>\n",
       "      <td>9</td>\n",
       "      <td>Married</td>\n",
       "      <td>White</td>\n",
       "      <td>Female</td>\n",
       "      <td>24</td>\n",
       "      <td>&lt;=50K</td>\n",
       "    </tr>\n",
       "    <tr>\n",
       "      <th>159</th>\n",
       "      <td>NaN</td>\n",
       "      <td>Private</td>\n",
       "      <td>13</td>\n",
       "      <td>Single</td>\n",
       "      <td>Black</td>\n",
       "      <td>Male</td>\n",
       "      <td>50</td>\n",
       "      <td>&lt;=50K</td>\n",
       "    </tr>\n",
       "    <tr>\n",
       "      <th>180</th>\n",
       "      <td>NaN</td>\n",
       "      <td>Public</td>\n",
       "      <td>10</td>\n",
       "      <td>Married</td>\n",
       "      <td>Black</td>\n",
       "      <td>Male</td>\n",
       "      <td>38</td>\n",
       "      <td>&gt;50K</td>\n",
       "    </tr>\n",
       "    <tr>\n",
       "      <th>192</th>\n",
       "      <td>NaN</td>\n",
       "      <td>Public</td>\n",
       "      <td>13</td>\n",
       "      <td>Married</td>\n",
       "      <td>Black</td>\n",
       "      <td>Male</td>\n",
       "      <td>40</td>\n",
       "      <td>&lt;=50K</td>\n",
       "    </tr>\n",
       "    <tr>\n",
       "      <th>210</th>\n",
       "      <td>NaN</td>\n",
       "      <td>Public</td>\n",
       "      <td>9</td>\n",
       "      <td>Married</td>\n",
       "      <td>Black</td>\n",
       "      <td>Male</td>\n",
       "      <td>40</td>\n",
       "      <td>&lt;=50K</td>\n",
       "    </tr>\n",
       "    <tr>\n",
       "      <th>234</th>\n",
       "      <td>NaN</td>\n",
       "      <td>Private</td>\n",
       "      <td>15</td>\n",
       "      <td>Single</td>\n",
       "      <td>White</td>\n",
       "      <td>Male</td>\n",
       "      <td>55</td>\n",
       "      <td>&gt;50K</td>\n",
       "    </tr>\n",
       "    <tr>\n",
       "      <th>255</th>\n",
       "      <td>NaN</td>\n",
       "      <td>Self-emp</td>\n",
       "      <td>9</td>\n",
       "      <td>Married</td>\n",
       "      <td>Asian</td>\n",
       "      <td>Male</td>\n",
       "      <td>40</td>\n",
       "      <td>&gt;50K</td>\n",
       "    </tr>\n",
       "    <tr>\n",
       "      <th>273</th>\n",
       "      <td>NaN</td>\n",
       "      <td>Public</td>\n",
       "      <td>14</td>\n",
       "      <td>Single</td>\n",
       "      <td>White</td>\n",
       "      <td>Male</td>\n",
       "      <td>35</td>\n",
       "      <td>&lt;=50K</td>\n",
       "    </tr>\n",
       "    <tr>\n",
       "      <th>294</th>\n",
       "      <td>NaN</td>\n",
       "      <td>Private</td>\n",
       "      <td>13</td>\n",
       "      <td>Single</td>\n",
       "      <td>Black</td>\n",
       "      <td>Female</td>\n",
       "      <td>40</td>\n",
       "      <td>&lt;=50K</td>\n",
       "    </tr>\n",
       "    <tr>\n",
       "      <th>300</th>\n",
       "      <td>NaN</td>\n",
       "      <td>Private</td>\n",
       "      <td>13</td>\n",
       "      <td>Married</td>\n",
       "      <td>White</td>\n",
       "      <td>Male</td>\n",
       "      <td>40</td>\n",
       "      <td>&gt;50K</td>\n",
       "    </tr>\n",
       "    <tr>\n",
       "      <th>301</th>\n",
       "      <td>NaN</td>\n",
       "      <td>Private</td>\n",
       "      <td>10</td>\n",
       "      <td>Single</td>\n",
       "      <td>Asian</td>\n",
       "      <td>Female</td>\n",
       "      <td>25</td>\n",
       "      <td>&lt;=50K</td>\n",
       "    </tr>\n",
       "    <tr>\n",
       "      <th>319</th>\n",
       "      <td>NaN</td>\n",
       "      <td>Private</td>\n",
       "      <td>9</td>\n",
       "      <td>Married</td>\n",
       "      <td>White</td>\n",
       "      <td>Female</td>\n",
       "      <td>24</td>\n",
       "      <td>&lt;=50K</td>\n",
       "    </tr>\n",
       "    <tr>\n",
       "      <th>499</th>\n",
       "      <td>NaN</td>\n",
       "      <td>NaN</td>\n",
       "      <td>9</td>\n",
       "      <td>Married</td>\n",
       "      <td>White</td>\n",
       "      <td>Male</td>\n",
       "      <td>20</td>\n",
       "      <td>&lt;=50K</td>\n",
       "    </tr>\n",
       "    <tr>\n",
       "      <th>520</th>\n",
       "      <td>NaN</td>\n",
       "      <td>Self-emp</td>\n",
       "      <td>13</td>\n",
       "      <td>Married</td>\n",
       "      <td>White</td>\n",
       "      <td>Male</td>\n",
       "      <td>80</td>\n",
       "      <td>&gt;50K</td>\n",
       "    </tr>\n",
       "    <tr>\n",
       "      <th>592</th>\n",
       "      <td>NaN</td>\n",
       "      <td>Private</td>\n",
       "      <td>4</td>\n",
       "      <td>Single</td>\n",
       "      <td>White</td>\n",
       "      <td>Male</td>\n",
       "      <td>48</td>\n",
       "      <td>&gt;50K</td>\n",
       "    </tr>\n",
       "    <tr>\n",
       "      <th>625</th>\n",
       "      <td>NaN</td>\n",
       "      <td>Private</td>\n",
       "      <td>9</td>\n",
       "      <td>Single</td>\n",
       "      <td>Black</td>\n",
       "      <td>Male</td>\n",
       "      <td>60</td>\n",
       "      <td>&lt;=50K</td>\n",
       "    </tr>\n",
       "    <tr>\n",
       "      <th>661</th>\n",
       "      <td>NaN</td>\n",
       "      <td>Private</td>\n",
       "      <td>14</td>\n",
       "      <td>Single</td>\n",
       "      <td>White</td>\n",
       "      <td>Male</td>\n",
       "      <td>60</td>\n",
       "      <td>&lt;=50K</td>\n",
       "    </tr>\n",
       "    <tr>\n",
       "      <th>697</th>\n",
       "      <td>NaN</td>\n",
       "      <td>Private</td>\n",
       "      <td>14</td>\n",
       "      <td>Married</td>\n",
       "      <td>White</td>\n",
       "      <td>Male</td>\n",
       "      <td>40</td>\n",
       "      <td>&gt;50K</td>\n",
       "    </tr>\n",
       "    <tr>\n",
       "      <th>940</th>\n",
       "      <td>NaN</td>\n",
       "      <td>Private</td>\n",
       "      <td>12</td>\n",
       "      <td>Single</td>\n",
       "      <td>Amer-Indian</td>\n",
       "      <td>Female</td>\n",
       "      <td>40</td>\n",
       "      <td>&lt;=50K</td>\n",
       "    </tr>\n",
       "    <tr>\n",
       "      <th>961</th>\n",
       "      <td>NaN</td>\n",
       "      <td>Private</td>\n",
       "      <td>9</td>\n",
       "      <td>Single</td>\n",
       "      <td>White</td>\n",
       "      <td>Female</td>\n",
       "      <td>38</td>\n",
       "      <td>&lt;=50K</td>\n",
       "    </tr>\n",
       "    <tr>\n",
       "      <th>979</th>\n",
       "      <td>NaN</td>\n",
       "      <td>Private</td>\n",
       "      <td>9</td>\n",
       "      <td>Single</td>\n",
       "      <td>White</td>\n",
       "      <td>Male</td>\n",
       "      <td>40</td>\n",
       "      <td>&lt;=50K</td>\n",
       "    </tr>\n",
       "    <tr>\n",
       "      <th>...</th>\n",
       "      <td>...</td>\n",
       "      <td>...</td>\n",
       "      <td>...</td>\n",
       "      <td>...</td>\n",
       "      <td>...</td>\n",
       "      <td>...</td>\n",
       "      <td>...</td>\n",
       "      <td>...</td>\n",
       "    </tr>\n",
       "    <tr>\n",
       "      <th>8289</th>\n",
       "      <td>NaN</td>\n",
       "      <td>Self-emp</td>\n",
       "      <td>9</td>\n",
       "      <td>Married</td>\n",
       "      <td>White</td>\n",
       "      <td>Male</td>\n",
       "      <td>40</td>\n",
       "      <td>&lt;=50K</td>\n",
       "    </tr>\n",
       "    <tr>\n",
       "      <th>8315</th>\n",
       "      <td>NaN</td>\n",
       "      <td>Private</td>\n",
       "      <td>10</td>\n",
       "      <td>Single</td>\n",
       "      <td>White</td>\n",
       "      <td>Male</td>\n",
       "      <td>40</td>\n",
       "      <td>&lt;=50K</td>\n",
       "    </tr>\n",
       "    <tr>\n",
       "      <th>8399</th>\n",
       "      <td>NaN</td>\n",
       "      <td>Private</td>\n",
       "      <td>9</td>\n",
       "      <td>Single</td>\n",
       "      <td>White</td>\n",
       "      <td>Male</td>\n",
       "      <td>40</td>\n",
       "      <td>&lt;=50K</td>\n",
       "    </tr>\n",
       "    <tr>\n",
       "      <th>8406</th>\n",
       "      <td>NaN</td>\n",
       "      <td>Public</td>\n",
       "      <td>10</td>\n",
       "      <td>Single</td>\n",
       "      <td>White</td>\n",
       "      <td>Female</td>\n",
       "      <td>28</td>\n",
       "      <td>&lt;=50K</td>\n",
       "    </tr>\n",
       "    <tr>\n",
       "      <th>8517</th>\n",
       "      <td>NaN</td>\n",
       "      <td>Private</td>\n",
       "      <td>9</td>\n",
       "      <td>Single</td>\n",
       "      <td>White</td>\n",
       "      <td>Male</td>\n",
       "      <td>40</td>\n",
       "      <td>&lt;=50K</td>\n",
       "    </tr>\n",
       "    <tr>\n",
       "      <th>8540</th>\n",
       "      <td>NaN</td>\n",
       "      <td>Public</td>\n",
       "      <td>9</td>\n",
       "      <td>Married</td>\n",
       "      <td>White</td>\n",
       "      <td>Male</td>\n",
       "      <td>40</td>\n",
       "      <td>&gt;50K</td>\n",
       "    </tr>\n",
       "    <tr>\n",
       "      <th>8621</th>\n",
       "      <td>NaN</td>\n",
       "      <td>Private</td>\n",
       "      <td>10</td>\n",
       "      <td>Married</td>\n",
       "      <td>White</td>\n",
       "      <td>Male</td>\n",
       "      <td>65</td>\n",
       "      <td>&lt;=50K</td>\n",
       "    </tr>\n",
       "    <tr>\n",
       "      <th>8660</th>\n",
       "      <td>NaN</td>\n",
       "      <td>Self-emp</td>\n",
       "      <td>9</td>\n",
       "      <td>Married</td>\n",
       "      <td>White</td>\n",
       "      <td>Male</td>\n",
       "      <td>40</td>\n",
       "      <td>&lt;=50K</td>\n",
       "    </tr>\n",
       "    <tr>\n",
       "      <th>8687</th>\n",
       "      <td>NaN</td>\n",
       "      <td>Private</td>\n",
       "      <td>13</td>\n",
       "      <td>Single</td>\n",
       "      <td>White</td>\n",
       "      <td>Female</td>\n",
       "      <td>20</td>\n",
       "      <td>&lt;=50K</td>\n",
       "    </tr>\n",
       "    <tr>\n",
       "      <th>8774</th>\n",
       "      <td>NaN</td>\n",
       "      <td>Private</td>\n",
       "      <td>9</td>\n",
       "      <td>Married</td>\n",
       "      <td>White</td>\n",
       "      <td>Male</td>\n",
       "      <td>40</td>\n",
       "      <td>&gt;50K</td>\n",
       "    </tr>\n",
       "    <tr>\n",
       "      <th>8876</th>\n",
       "      <td>NaN</td>\n",
       "      <td>Self-emp</td>\n",
       "      <td>9</td>\n",
       "      <td>Single</td>\n",
       "      <td>White</td>\n",
       "      <td>Male</td>\n",
       "      <td>11</td>\n",
       "      <td>&lt;=50K</td>\n",
       "    </tr>\n",
       "    <tr>\n",
       "      <th>8954</th>\n",
       "      <td>NaN</td>\n",
       "      <td>NaN</td>\n",
       "      <td>11</td>\n",
       "      <td>Married</td>\n",
       "      <td>White</td>\n",
       "      <td>Male</td>\n",
       "      <td>50</td>\n",
       "      <td>&gt;50K</td>\n",
       "    </tr>\n",
       "    <tr>\n",
       "      <th>8957</th>\n",
       "      <td>NaN</td>\n",
       "      <td>Self-emp</td>\n",
       "      <td>10</td>\n",
       "      <td>Married</td>\n",
       "      <td>White</td>\n",
       "      <td>Male</td>\n",
       "      <td>50</td>\n",
       "      <td>&lt;=50K</td>\n",
       "    </tr>\n",
       "    <tr>\n",
       "      <th>8992</th>\n",
       "      <td>NaN</td>\n",
       "      <td>Private</td>\n",
       "      <td>10</td>\n",
       "      <td>Single</td>\n",
       "      <td>Asian</td>\n",
       "      <td>Male</td>\n",
       "      <td>20</td>\n",
       "      <td>&lt;=50K</td>\n",
       "    </tr>\n",
       "    <tr>\n",
       "      <th>9001</th>\n",
       "      <td>NaN</td>\n",
       "      <td>Self-emp</td>\n",
       "      <td>9</td>\n",
       "      <td>Single</td>\n",
       "      <td>White</td>\n",
       "      <td>Male</td>\n",
       "      <td>40</td>\n",
       "      <td>&lt;=50K</td>\n",
       "    </tr>\n",
       "    <tr>\n",
       "      <th>9025</th>\n",
       "      <td>NaN</td>\n",
       "      <td>Private</td>\n",
       "      <td>7</td>\n",
       "      <td>Married</td>\n",
       "      <td>White</td>\n",
       "      <td>Male</td>\n",
       "      <td>42</td>\n",
       "      <td>&lt;=50K</td>\n",
       "    </tr>\n",
       "    <tr>\n",
       "      <th>9049</th>\n",
       "      <td>NaN</td>\n",
       "      <td>Private</td>\n",
       "      <td>9</td>\n",
       "      <td>Single</td>\n",
       "      <td>Black</td>\n",
       "      <td>Female</td>\n",
       "      <td>40</td>\n",
       "      <td>&lt;=50K</td>\n",
       "    </tr>\n",
       "    <tr>\n",
       "      <th>9097</th>\n",
       "      <td>NaN</td>\n",
       "      <td>Public</td>\n",
       "      <td>14</td>\n",
       "      <td>Single</td>\n",
       "      <td>White</td>\n",
       "      <td>Female</td>\n",
       "      <td>40</td>\n",
       "      <td>&lt;=50K</td>\n",
       "    </tr>\n",
       "    <tr>\n",
       "      <th>9164</th>\n",
       "      <td>NaN</td>\n",
       "      <td>Private</td>\n",
       "      <td>13</td>\n",
       "      <td>Married</td>\n",
       "      <td>White</td>\n",
       "      <td>Male</td>\n",
       "      <td>6</td>\n",
       "      <td>&lt;=50K</td>\n",
       "    </tr>\n",
       "    <tr>\n",
       "      <th>9201</th>\n",
       "      <td>NaN</td>\n",
       "      <td>Private</td>\n",
       "      <td>13</td>\n",
       "      <td>Married</td>\n",
       "      <td>White</td>\n",
       "      <td>Female</td>\n",
       "      <td>24</td>\n",
       "      <td>&lt;=50K</td>\n",
       "    </tr>\n",
       "    <tr>\n",
       "      <th>9228</th>\n",
       "      <td>NaN</td>\n",
       "      <td>Private</td>\n",
       "      <td>13</td>\n",
       "      <td>Married</td>\n",
       "      <td>White</td>\n",
       "      <td>Male</td>\n",
       "      <td>40</td>\n",
       "      <td>&gt;50K</td>\n",
       "    </tr>\n",
       "    <tr>\n",
       "      <th>9288</th>\n",
       "      <td>NaN</td>\n",
       "      <td>Public</td>\n",
       "      <td>9</td>\n",
       "      <td>Married</td>\n",
       "      <td>White</td>\n",
       "      <td>Male</td>\n",
       "      <td>40</td>\n",
       "      <td>&lt;=50K</td>\n",
       "    </tr>\n",
       "    <tr>\n",
       "      <th>9465</th>\n",
       "      <td>NaN</td>\n",
       "      <td>Private</td>\n",
       "      <td>9</td>\n",
       "      <td>Married</td>\n",
       "      <td>White</td>\n",
       "      <td>Male</td>\n",
       "      <td>49</td>\n",
       "      <td>&gt;50K</td>\n",
       "    </tr>\n",
       "    <tr>\n",
       "      <th>9472</th>\n",
       "      <td>NaN</td>\n",
       "      <td>Private</td>\n",
       "      <td>10</td>\n",
       "      <td>Single</td>\n",
       "      <td>White</td>\n",
       "      <td>Male</td>\n",
       "      <td>50</td>\n",
       "      <td>&lt;=50K</td>\n",
       "    </tr>\n",
       "    <tr>\n",
       "      <th>9936</th>\n",
       "      <td>NaN</td>\n",
       "      <td>Self-emp</td>\n",
       "      <td>9</td>\n",
       "      <td>Married</td>\n",
       "      <td>White</td>\n",
       "      <td>Male</td>\n",
       "      <td>35</td>\n",
       "      <td>&lt;=50K</td>\n",
       "    </tr>\n",
       "    <tr>\n",
       "      <th>9944</th>\n",
       "      <td>NaN</td>\n",
       "      <td>Private</td>\n",
       "      <td>12</td>\n",
       "      <td>Single</td>\n",
       "      <td>White</td>\n",
       "      <td>Female</td>\n",
       "      <td>45</td>\n",
       "      <td>&lt;=50K</td>\n",
       "    </tr>\n",
       "    <tr>\n",
       "      <th>9965</th>\n",
       "      <td>NaN</td>\n",
       "      <td>Private</td>\n",
       "      <td>10</td>\n",
       "      <td>Married</td>\n",
       "      <td>Amer-Indian</td>\n",
       "      <td>Female</td>\n",
       "      <td>40</td>\n",
       "      <td>&lt;=50K</td>\n",
       "    </tr>\n",
       "    <tr>\n",
       "      <th>9966</th>\n",
       "      <td>NaN</td>\n",
       "      <td>Private</td>\n",
       "      <td>13</td>\n",
       "      <td>Married</td>\n",
       "      <td>White</td>\n",
       "      <td>Male</td>\n",
       "      <td>50</td>\n",
       "      <td>&gt;50K</td>\n",
       "    </tr>\n",
       "    <tr>\n",
       "      <th>9993</th>\n",
       "      <td>NaN</td>\n",
       "      <td>Private</td>\n",
       "      <td>9</td>\n",
       "      <td>Married</td>\n",
       "      <td>White</td>\n",
       "      <td>Female</td>\n",
       "      <td>15</td>\n",
       "      <td>&lt;=50K</td>\n",
       "    </tr>\n",
       "    <tr>\n",
       "      <th>9998</th>\n",
       "      <td>NaN</td>\n",
       "      <td>Private</td>\n",
       "      <td>2</td>\n",
       "      <td>Married</td>\n",
       "      <td>White</td>\n",
       "      <td>Male</td>\n",
       "      <td>53</td>\n",
       "      <td>&lt;=50K</td>\n",
       "    </tr>\n",
       "  </tbody>\n",
       "</table>\n",
       "<p>198 rows × 8 columns</p>\n",
       "</div>"
      ],
      "text/plain": [
       "      age workclass  education marital-status         race     sex  \\\n",
       "19    NaN  Self-emp         14         Single        White  Female   \n",
       "27    NaN       NaN         10        Married        Asian    Male   \n",
       "40    NaN   Private          5        Married        White    Male   \n",
       "65    NaN   Private          9        Married        White    Male   \n",
       "80    NaN   Private          9         Single        White    Male   \n",
       "89    NaN    Public         16         Single        White  Female   \n",
       "95    NaN    Public         10         Single        White    Male   \n",
       "113   NaN   Private         10        Married        White  Female   \n",
       "132   NaN  Self-emp          9        Married        White    Male   \n",
       "147   NaN   Private          9        Married        White  Female   \n",
       "159   NaN   Private         13         Single        Black    Male   \n",
       "180   NaN    Public         10        Married        Black    Male   \n",
       "192   NaN    Public         13        Married        Black    Male   \n",
       "210   NaN    Public          9        Married        Black    Male   \n",
       "234   NaN   Private         15         Single        White    Male   \n",
       "255   NaN  Self-emp          9        Married        Asian    Male   \n",
       "273   NaN    Public         14         Single        White    Male   \n",
       "294   NaN   Private         13         Single        Black  Female   \n",
       "300   NaN   Private         13        Married        White    Male   \n",
       "301   NaN   Private         10         Single        Asian  Female   \n",
       "319   NaN   Private          9        Married        White  Female   \n",
       "499   NaN       NaN          9        Married        White    Male   \n",
       "520   NaN  Self-emp         13        Married        White    Male   \n",
       "592   NaN   Private          4         Single        White    Male   \n",
       "625   NaN   Private          9         Single        Black    Male   \n",
       "661   NaN   Private         14         Single        White    Male   \n",
       "697   NaN   Private         14        Married        White    Male   \n",
       "940   NaN   Private         12         Single  Amer-Indian  Female   \n",
       "961   NaN   Private          9         Single        White  Female   \n",
       "979   NaN   Private          9         Single        White    Male   \n",
       "...   ...       ...        ...            ...          ...     ...   \n",
       "8289  NaN  Self-emp          9        Married        White    Male   \n",
       "8315  NaN   Private         10         Single        White    Male   \n",
       "8399  NaN   Private          9         Single        White    Male   \n",
       "8406  NaN    Public         10         Single        White  Female   \n",
       "8517  NaN   Private          9         Single        White    Male   \n",
       "8540  NaN    Public          9        Married        White    Male   \n",
       "8621  NaN   Private         10        Married        White    Male   \n",
       "8660  NaN  Self-emp          9        Married        White    Male   \n",
       "8687  NaN   Private         13         Single        White  Female   \n",
       "8774  NaN   Private          9        Married        White    Male   \n",
       "8876  NaN  Self-emp          9         Single        White    Male   \n",
       "8954  NaN       NaN         11        Married        White    Male   \n",
       "8957  NaN  Self-emp         10        Married        White    Male   \n",
       "8992  NaN   Private         10         Single        Asian    Male   \n",
       "9001  NaN  Self-emp          9         Single        White    Male   \n",
       "9025  NaN   Private          7        Married        White    Male   \n",
       "9049  NaN   Private          9         Single        Black  Female   \n",
       "9097  NaN    Public         14         Single        White  Female   \n",
       "9164  NaN   Private         13        Married        White    Male   \n",
       "9201  NaN   Private         13        Married        White  Female   \n",
       "9228  NaN   Private         13        Married        White    Male   \n",
       "9288  NaN    Public          9        Married        White    Male   \n",
       "9465  NaN   Private          9        Married        White    Male   \n",
       "9472  NaN   Private         10         Single        White    Male   \n",
       "9936  NaN  Self-emp          9        Married        White    Male   \n",
       "9944  NaN   Private         12         Single        White  Female   \n",
       "9965  NaN   Private         10        Married  Amer-Indian  Female   \n",
       "9966  NaN   Private         13        Married        White    Male   \n",
       "9993  NaN   Private          9        Married        White  Female   \n",
       "9998  NaN   Private          2        Married        White    Male   \n",
       "\n",
       "      hours-per-week income  \n",
       "19                45   >50K  \n",
       "27                60   >50K  \n",
       "40                43  <=50K  \n",
       "65                40  <=50K  \n",
       "80                30  <=50K  \n",
       "89                50   >50K  \n",
       "95                50  <=50K  \n",
       "113               25  <=50K  \n",
       "132               35  <=50K  \n",
       "147               24  <=50K  \n",
       "159               50  <=50K  \n",
       "180               38   >50K  \n",
       "192               40  <=50K  \n",
       "210               40  <=50K  \n",
       "234               55   >50K  \n",
       "255               40   >50K  \n",
       "273               35  <=50K  \n",
       "294               40  <=50K  \n",
       "300               40   >50K  \n",
       "301               25  <=50K  \n",
       "319               24  <=50K  \n",
       "499               20  <=50K  \n",
       "520               80   >50K  \n",
       "592               48   >50K  \n",
       "625               60  <=50K  \n",
       "661               60  <=50K  \n",
       "697               40   >50K  \n",
       "940               40  <=50K  \n",
       "961               38  <=50K  \n",
       "979               40  <=50K  \n",
       "...              ...    ...  \n",
       "8289              40  <=50K  \n",
       "8315              40  <=50K  \n",
       "8399              40  <=50K  \n",
       "8406              28  <=50K  \n",
       "8517              40  <=50K  \n",
       "8540              40   >50K  \n",
       "8621              65  <=50K  \n",
       "8660              40  <=50K  \n",
       "8687              20  <=50K  \n",
       "8774              40   >50K  \n",
       "8876              11  <=50K  \n",
       "8954              50   >50K  \n",
       "8957              50  <=50K  \n",
       "8992              20  <=50K  \n",
       "9001              40  <=50K  \n",
       "9025              42  <=50K  \n",
       "9049              40  <=50K  \n",
       "9097              40  <=50K  \n",
       "9164               6  <=50K  \n",
       "9201              24  <=50K  \n",
       "9228              40   >50K  \n",
       "9288              40  <=50K  \n",
       "9465              49   >50K  \n",
       "9472              50  <=50K  \n",
       "9936              35  <=50K  \n",
       "9944              45  <=50K  \n",
       "9965              40  <=50K  \n",
       "9966              50   >50K  \n",
       "9993              15  <=50K  \n",
       "9998              53  <=50K  \n",
       "\n",
       "[198 rows x 8 columns]"
      ]
     },
     "execution_count": 164,
     "metadata": {},
     "output_type": "execute_result"
    }
   ],
   "source": [
    "df_adult[df_adult.age.isnull()]"
   ]
  },
  {
   "cell_type": "markdown",
   "metadata": {},
   "source": [
    "198 missing values in Age column."
   ]
  },
  {
   "cell_type": "code",
   "execution_count": 168,
   "metadata": {
    "collapsed": false
   },
   "outputs": [
    {
     "data": {
      "text/html": [
       "<div>\n",
       "<table border=\"1\" class=\"dataframe\">\n",
       "  <thead>\n",
       "    <tr style=\"text-align: right;\">\n",
       "      <th></th>\n",
       "      <th>age</th>\n",
       "      <th>workclass</th>\n",
       "      <th>education</th>\n",
       "      <th>marital-status</th>\n",
       "      <th>race</th>\n",
       "      <th>sex</th>\n",
       "      <th>hours-per-week</th>\n",
       "      <th>income</th>\n",
       "    </tr>\n",
       "  </thead>\n",
       "  <tbody>\n",
       "    <tr>\n",
       "      <th>27</th>\n",
       "      <td>NaN</td>\n",
       "      <td>NaN</td>\n",
       "      <td>10</td>\n",
       "      <td>Married</td>\n",
       "      <td>Asian</td>\n",
       "      <td>Male</td>\n",
       "      <td>60</td>\n",
       "      <td>&gt;50K</td>\n",
       "    </tr>\n",
       "    <tr>\n",
       "      <th>61</th>\n",
       "      <td>32.0</td>\n",
       "      <td>NaN</td>\n",
       "      <td>4</td>\n",
       "      <td>Married</td>\n",
       "      <td>White</td>\n",
       "      <td>Male</td>\n",
       "      <td>40</td>\n",
       "      <td>&lt;=50K</td>\n",
       "    </tr>\n",
       "    <tr>\n",
       "      <th>69</th>\n",
       "      <td>25.0</td>\n",
       "      <td>NaN</td>\n",
       "      <td>10</td>\n",
       "      <td>Single</td>\n",
       "      <td>White</td>\n",
       "      <td>Male</td>\n",
       "      <td>40</td>\n",
       "      <td>&lt;=50K</td>\n",
       "    </tr>\n",
       "    <tr>\n",
       "      <th>77</th>\n",
       "      <td>67.0</td>\n",
       "      <td>NaN</td>\n",
       "      <td>6</td>\n",
       "      <td>Married</td>\n",
       "      <td>White</td>\n",
       "      <td>Male</td>\n",
       "      <td>2</td>\n",
       "      <td>&lt;=50K</td>\n",
       "    </tr>\n",
       "    <tr>\n",
       "      <th>106</th>\n",
       "      <td>17.0</td>\n",
       "      <td>NaN</td>\n",
       "      <td>6</td>\n",
       "      <td>Single</td>\n",
       "      <td>White</td>\n",
       "      <td>Female</td>\n",
       "      <td>32</td>\n",
       "      <td>&lt;=50K</td>\n",
       "    </tr>\n",
       "    <tr>\n",
       "      <th>128</th>\n",
       "      <td>35.0</td>\n",
       "      <td>NaN</td>\n",
       "      <td>9</td>\n",
       "      <td>Married</td>\n",
       "      <td>White</td>\n",
       "      <td>Male</td>\n",
       "      <td>40</td>\n",
       "      <td>&lt;=50K</td>\n",
       "    </tr>\n",
       "    <tr>\n",
       "      <th>149</th>\n",
       "      <td>43.0</td>\n",
       "      <td>NaN</td>\n",
       "      <td>10</td>\n",
       "      <td>Single</td>\n",
       "      <td>White</td>\n",
       "      <td>Female</td>\n",
       "      <td>40</td>\n",
       "      <td>&lt;=50K</td>\n",
       "    </tr>\n",
       "    <tr>\n",
       "      <th>154</th>\n",
       "      <td>52.0</td>\n",
       "      <td>NaN</td>\n",
       "      <td>9</td>\n",
       "      <td>Single</td>\n",
       "      <td>White</td>\n",
       "      <td>Male</td>\n",
       "      <td>45</td>\n",
       "      <td>&gt;50K</td>\n",
       "    </tr>\n",
       "    <tr>\n",
       "      <th>160</th>\n",
       "      <td>68.0</td>\n",
       "      <td>NaN</td>\n",
       "      <td>2</td>\n",
       "      <td>Single</td>\n",
       "      <td>White</td>\n",
       "      <td>Female</td>\n",
       "      <td>20</td>\n",
       "      <td>&lt;=50K</td>\n",
       "    </tr>\n",
       "    <tr>\n",
       "      <th>187</th>\n",
       "      <td>53.0</td>\n",
       "      <td>NaN</td>\n",
       "      <td>13</td>\n",
       "      <td>Single</td>\n",
       "      <td>White</td>\n",
       "      <td>Female</td>\n",
       "      <td>50</td>\n",
       "      <td>&lt;=50K</td>\n",
       "    </tr>\n",
       "    <tr>\n",
       "      <th>201</th>\n",
       "      <td>19.0</td>\n",
       "      <td>NaN</td>\n",
       "      <td>9</td>\n",
       "      <td>Single</td>\n",
       "      <td>White</td>\n",
       "      <td>Male</td>\n",
       "      <td>40</td>\n",
       "      <td>&lt;=50K</td>\n",
       "    </tr>\n",
       "    <tr>\n",
       "      <th>221</th>\n",
       "      <td>64.0</td>\n",
       "      <td>NaN</td>\n",
       "      <td>2</td>\n",
       "      <td>Single</td>\n",
       "      <td>White</td>\n",
       "      <td>Male</td>\n",
       "      <td>40</td>\n",
       "      <td>&lt;=50K</td>\n",
       "    </tr>\n",
       "    <tr>\n",
       "      <th>226</th>\n",
       "      <td>60.0</td>\n",
       "      <td>NaN</td>\n",
       "      <td>6</td>\n",
       "      <td>Single</td>\n",
       "      <td>Amer-Indian</td>\n",
       "      <td>Female</td>\n",
       "      <td>10</td>\n",
       "      <td>&lt;=50K</td>\n",
       "    </tr>\n",
       "    <tr>\n",
       "      <th>243</th>\n",
       "      <td>20.0</td>\n",
       "      <td>NaN</td>\n",
       "      <td>10</td>\n",
       "      <td>Single</td>\n",
       "      <td>White</td>\n",
       "      <td>Male</td>\n",
       "      <td>20</td>\n",
       "      <td>&lt;=50K</td>\n",
       "    </tr>\n",
       "    <tr>\n",
       "      <th>266</th>\n",
       "      <td>19.0</td>\n",
       "      <td>NaN</td>\n",
       "      <td>10</td>\n",
       "      <td>Single</td>\n",
       "      <td>White</td>\n",
       "      <td>Male</td>\n",
       "      <td>24</td>\n",
       "      <td>&lt;=50K</td>\n",
       "    </tr>\n",
       "    <tr>\n",
       "      <th>297</th>\n",
       "      <td>39.0</td>\n",
       "      <td>NaN</td>\n",
       "      <td>14</td>\n",
       "      <td>Married</td>\n",
       "      <td>Asian</td>\n",
       "      <td>Female</td>\n",
       "      <td>40</td>\n",
       "      <td>&lt;=50K</td>\n",
       "    </tr>\n",
       "    <tr>\n",
       "      <th>312</th>\n",
       "      <td>19.0</td>\n",
       "      <td>NaN</td>\n",
       "      <td>10</td>\n",
       "      <td>Single</td>\n",
       "      <td>Black</td>\n",
       "      <td>Female</td>\n",
       "      <td>25</td>\n",
       "      <td>&lt;=50K</td>\n",
       "    </tr>\n",
       "    <tr>\n",
       "      <th>326</th>\n",
       "      <td>23.0</td>\n",
       "      <td>NaN</td>\n",
       "      <td>11</td>\n",
       "      <td>Single</td>\n",
       "      <td>Black</td>\n",
       "      <td>Female</td>\n",
       "      <td>15</td>\n",
       "      <td>&lt;=50K</td>\n",
       "    </tr>\n",
       "    <tr>\n",
       "      <th>346</th>\n",
       "      <td>67.0</td>\n",
       "      <td>NaN</td>\n",
       "      <td>7</td>\n",
       "      <td>Married</td>\n",
       "      <td>White</td>\n",
       "      <td>Male</td>\n",
       "      <td>8</td>\n",
       "      <td>&lt;=50K</td>\n",
       "    </tr>\n",
       "    <tr>\n",
       "      <th>347</th>\n",
       "      <td>30.0</td>\n",
       "      <td>NaN</td>\n",
       "      <td>11</td>\n",
       "      <td>Single</td>\n",
       "      <td>White</td>\n",
       "      <td>Female</td>\n",
       "      <td>40</td>\n",
       "      <td>&lt;=50K</td>\n",
       "    </tr>\n",
       "    <tr>\n",
       "      <th>354</th>\n",
       "      <td>59.0</td>\n",
       "      <td>NaN</td>\n",
       "      <td>13</td>\n",
       "      <td>Married</td>\n",
       "      <td>White</td>\n",
       "      <td>Male</td>\n",
       "      <td>40</td>\n",
       "      <td>&gt;50K</td>\n",
       "    </tr>\n",
       "    <tr>\n",
       "      <th>397</th>\n",
       "      <td>20.0</td>\n",
       "      <td>NaN</td>\n",
       "      <td>9</td>\n",
       "      <td>Single</td>\n",
       "      <td>White</td>\n",
       "      <td>Female</td>\n",
       "      <td>35</td>\n",
       "      <td>&lt;=50K</td>\n",
       "    </tr>\n",
       "    <tr>\n",
       "      <th>408</th>\n",
       "      <td>28.0</td>\n",
       "      <td>NaN</td>\n",
       "      <td>10</td>\n",
       "      <td>Married</td>\n",
       "      <td>White</td>\n",
       "      <td>Female</td>\n",
       "      <td>40</td>\n",
       "      <td>&gt;50K</td>\n",
       "    </tr>\n",
       "    <tr>\n",
       "      <th>430</th>\n",
       "      <td>80.0</td>\n",
       "      <td>NaN</td>\n",
       "      <td>9</td>\n",
       "      <td>Married</td>\n",
       "      <td>White</td>\n",
       "      <td>Male</td>\n",
       "      <td>24</td>\n",
       "      <td>&lt;=50K</td>\n",
       "    </tr>\n",
       "    <tr>\n",
       "      <th>431</th>\n",
       "      <td>17.0</td>\n",
       "      <td>NaN</td>\n",
       "      <td>7</td>\n",
       "      <td>Single</td>\n",
       "      <td>White</td>\n",
       "      <td>Male</td>\n",
       "      <td>40</td>\n",
       "      <td>&lt;=50K</td>\n",
       "    </tr>\n",
       "    <tr>\n",
       "      <th>449</th>\n",
       "      <td>17.0</td>\n",
       "      <td>NaN</td>\n",
       "      <td>7</td>\n",
       "      <td>Single</td>\n",
       "      <td>White</td>\n",
       "      <td>Female</td>\n",
       "      <td>5</td>\n",
       "      <td>&lt;=50K</td>\n",
       "    </tr>\n",
       "    <tr>\n",
       "      <th>459</th>\n",
       "      <td>32.0</td>\n",
       "      <td>NaN</td>\n",
       "      <td>10</td>\n",
       "      <td>Married</td>\n",
       "      <td>White</td>\n",
       "      <td>Male</td>\n",
       "      <td>40</td>\n",
       "      <td>&lt;=50K</td>\n",
       "    </tr>\n",
       "    <tr>\n",
       "      <th>471</th>\n",
       "      <td>22.0</td>\n",
       "      <td>NaN</td>\n",
       "      <td>10</td>\n",
       "      <td>Single</td>\n",
       "      <td>White</td>\n",
       "      <td>Male</td>\n",
       "      <td>40</td>\n",
       "      <td>&lt;=50K</td>\n",
       "    </tr>\n",
       "    <tr>\n",
       "      <th>484</th>\n",
       "      <td>52.0</td>\n",
       "      <td>NaN</td>\n",
       "      <td>8</td>\n",
       "      <td>Single</td>\n",
       "      <td>Black</td>\n",
       "      <td>Male</td>\n",
       "      <td>40</td>\n",
       "      <td>&lt;=50K</td>\n",
       "    </tr>\n",
       "    <tr>\n",
       "      <th>486</th>\n",
       "      <td>63.0</td>\n",
       "      <td>NaN</td>\n",
       "      <td>2</td>\n",
       "      <td>Married</td>\n",
       "      <td>White</td>\n",
       "      <td>Male</td>\n",
       "      <td>35</td>\n",
       "      <td>&lt;=50K</td>\n",
       "    </tr>\n",
       "    <tr>\n",
       "      <th>...</th>\n",
       "      <td>...</td>\n",
       "      <td>...</td>\n",
       "      <td>...</td>\n",
       "      <td>...</td>\n",
       "      <td>...</td>\n",
       "      <td>...</td>\n",
       "      <td>...</td>\n",
       "      <td>...</td>\n",
       "    </tr>\n",
       "    <tr>\n",
       "      <th>9358</th>\n",
       "      <td>18.0</td>\n",
       "      <td>NaN</td>\n",
       "      <td>9</td>\n",
       "      <td>Single</td>\n",
       "      <td>White</td>\n",
       "      <td>Female</td>\n",
       "      <td>35</td>\n",
       "      <td>&lt;=50K</td>\n",
       "    </tr>\n",
       "    <tr>\n",
       "      <th>9367</th>\n",
       "      <td>17.0</td>\n",
       "      <td>NaN</td>\n",
       "      <td>6</td>\n",
       "      <td>Single</td>\n",
       "      <td>White</td>\n",
       "      <td>Male</td>\n",
       "      <td>40</td>\n",
       "      <td>&lt;=50K</td>\n",
       "    </tr>\n",
       "    <tr>\n",
       "      <th>9409</th>\n",
       "      <td>22.0</td>\n",
       "      <td>NaN</td>\n",
       "      <td>10</td>\n",
       "      <td>Single</td>\n",
       "      <td>White</td>\n",
       "      <td>Male</td>\n",
       "      <td>40</td>\n",
       "      <td>&lt;=50K</td>\n",
       "    </tr>\n",
       "    <tr>\n",
       "      <th>9452</th>\n",
       "      <td>19.0</td>\n",
       "      <td>NaN</td>\n",
       "      <td>10</td>\n",
       "      <td>Single</td>\n",
       "      <td>White</td>\n",
       "      <td>Female</td>\n",
       "      <td>30</td>\n",
       "      <td>&lt;=50K</td>\n",
       "    </tr>\n",
       "    <tr>\n",
       "      <th>9477</th>\n",
       "      <td>19.0</td>\n",
       "      <td>NaN</td>\n",
       "      <td>10</td>\n",
       "      <td>Single</td>\n",
       "      <td>White</td>\n",
       "      <td>Female</td>\n",
       "      <td>40</td>\n",
       "      <td>&lt;=50K</td>\n",
       "    </tr>\n",
       "    <tr>\n",
       "      <th>9484</th>\n",
       "      <td>48.0</td>\n",
       "      <td>NaN</td>\n",
       "      <td>9</td>\n",
       "      <td>Married</td>\n",
       "      <td>White</td>\n",
       "      <td>Male</td>\n",
       "      <td>40</td>\n",
       "      <td>&lt;=50K</td>\n",
       "    </tr>\n",
       "    <tr>\n",
       "      <th>9490</th>\n",
       "      <td>18.0</td>\n",
       "      <td>NaN</td>\n",
       "      <td>10</td>\n",
       "      <td>Single</td>\n",
       "      <td>White</td>\n",
       "      <td>Female</td>\n",
       "      <td>40</td>\n",
       "      <td>&lt;=50K</td>\n",
       "    </tr>\n",
       "    <tr>\n",
       "      <th>9500</th>\n",
       "      <td>27.0</td>\n",
       "      <td>NaN</td>\n",
       "      <td>9</td>\n",
       "      <td>Married</td>\n",
       "      <td>White</td>\n",
       "      <td>Female</td>\n",
       "      <td>40</td>\n",
       "      <td>&gt;50K</td>\n",
       "    </tr>\n",
       "    <tr>\n",
       "      <th>9531</th>\n",
       "      <td>65.0</td>\n",
       "      <td>NaN</td>\n",
       "      <td>9</td>\n",
       "      <td>Married</td>\n",
       "      <td>White</td>\n",
       "      <td>Male</td>\n",
       "      <td>40</td>\n",
       "      <td>&lt;=50K</td>\n",
       "    </tr>\n",
       "    <tr>\n",
       "      <th>9536</th>\n",
       "      <td>52.0</td>\n",
       "      <td>NaN</td>\n",
       "      <td>10</td>\n",
       "      <td>Married</td>\n",
       "      <td>White</td>\n",
       "      <td>Male</td>\n",
       "      <td>12</td>\n",
       "      <td>&lt;=50K</td>\n",
       "    </tr>\n",
       "    <tr>\n",
       "      <th>9549</th>\n",
       "      <td>69.0</td>\n",
       "      <td>NaN</td>\n",
       "      <td>13</td>\n",
       "      <td>Married</td>\n",
       "      <td>White</td>\n",
       "      <td>Male</td>\n",
       "      <td>20</td>\n",
       "      <td>&lt;=50K</td>\n",
       "    </tr>\n",
       "    <tr>\n",
       "      <th>9557</th>\n",
       "      <td>38.0</td>\n",
       "      <td>NaN</td>\n",
       "      <td>6</td>\n",
       "      <td>Single</td>\n",
       "      <td>White</td>\n",
       "      <td>Male</td>\n",
       "      <td>35</td>\n",
       "      <td>&lt;=50K</td>\n",
       "    </tr>\n",
       "    <tr>\n",
       "      <th>9577</th>\n",
       "      <td>35.0</td>\n",
       "      <td>NaN</td>\n",
       "      <td>9</td>\n",
       "      <td>Married</td>\n",
       "      <td>White</td>\n",
       "      <td>Female</td>\n",
       "      <td>38</td>\n",
       "      <td>&lt;=50K</td>\n",
       "    </tr>\n",
       "    <tr>\n",
       "      <th>9582</th>\n",
       "      <td>48.0</td>\n",
       "      <td>NaN</td>\n",
       "      <td>13</td>\n",
       "      <td>Married</td>\n",
       "      <td>White</td>\n",
       "      <td>Male</td>\n",
       "      <td>80</td>\n",
       "      <td>&gt;50K</td>\n",
       "    </tr>\n",
       "    <tr>\n",
       "      <th>9616</th>\n",
       "      <td>32.0</td>\n",
       "      <td>NaN</td>\n",
       "      <td>9</td>\n",
       "      <td>Married</td>\n",
       "      <td>White</td>\n",
       "      <td>Male</td>\n",
       "      <td>40</td>\n",
       "      <td>&lt;=50K</td>\n",
       "    </tr>\n",
       "    <tr>\n",
       "      <th>9626</th>\n",
       "      <td>52.0</td>\n",
       "      <td>NaN</td>\n",
       "      <td>15</td>\n",
       "      <td>Married</td>\n",
       "      <td>Asian</td>\n",
       "      <td>Female</td>\n",
       "      <td>40</td>\n",
       "      <td>&lt;=50K</td>\n",
       "    </tr>\n",
       "    <tr>\n",
       "      <th>9650</th>\n",
       "      <td>69.0</td>\n",
       "      <td>NaN</td>\n",
       "      <td>13</td>\n",
       "      <td>Married</td>\n",
       "      <td>White</td>\n",
       "      <td>Male</td>\n",
       "      <td>40</td>\n",
       "      <td>&lt;=50K</td>\n",
       "    </tr>\n",
       "    <tr>\n",
       "      <th>9703</th>\n",
       "      <td>55.0</td>\n",
       "      <td>NaN</td>\n",
       "      <td>14</td>\n",
       "      <td>Married</td>\n",
       "      <td>White</td>\n",
       "      <td>Male</td>\n",
       "      <td>18</td>\n",
       "      <td>&lt;=50K</td>\n",
       "    </tr>\n",
       "    <tr>\n",
       "      <th>9708</th>\n",
       "      <td>19.0</td>\n",
       "      <td>NaN</td>\n",
       "      <td>9</td>\n",
       "      <td>Single</td>\n",
       "      <td>White</td>\n",
       "      <td>Female</td>\n",
       "      <td>28</td>\n",
       "      <td>&lt;=50K</td>\n",
       "    </tr>\n",
       "    <tr>\n",
       "      <th>9712</th>\n",
       "      <td>30.0</td>\n",
       "      <td>NaN</td>\n",
       "      <td>7</td>\n",
       "      <td>Single</td>\n",
       "      <td>White</td>\n",
       "      <td>Male</td>\n",
       "      <td>40</td>\n",
       "      <td>&lt;=50K</td>\n",
       "    </tr>\n",
       "    <tr>\n",
       "      <th>9778</th>\n",
       "      <td>67.0</td>\n",
       "      <td>NaN</td>\n",
       "      <td>5</td>\n",
       "      <td>Married</td>\n",
       "      <td>White</td>\n",
       "      <td>Male</td>\n",
       "      <td>15</td>\n",
       "      <td>&lt;=50K</td>\n",
       "    </tr>\n",
       "    <tr>\n",
       "      <th>9787</th>\n",
       "      <td>49.0</td>\n",
       "      <td>NaN</td>\n",
       "      <td>10</td>\n",
       "      <td>Single</td>\n",
       "      <td>White</td>\n",
       "      <td>Male</td>\n",
       "      <td>35</td>\n",
       "      <td>&lt;=50K</td>\n",
       "    </tr>\n",
       "    <tr>\n",
       "      <th>9860</th>\n",
       "      <td>20.0</td>\n",
       "      <td>NaN</td>\n",
       "      <td>10</td>\n",
       "      <td>Single</td>\n",
       "      <td>Asian</td>\n",
       "      <td>Female</td>\n",
       "      <td>40</td>\n",
       "      <td>&lt;=50K</td>\n",
       "    </tr>\n",
       "    <tr>\n",
       "      <th>9872</th>\n",
       "      <td>63.0</td>\n",
       "      <td>NaN</td>\n",
       "      <td>9</td>\n",
       "      <td>Married</td>\n",
       "      <td>Black</td>\n",
       "      <td>Female</td>\n",
       "      <td>11</td>\n",
       "      <td>&lt;=50K</td>\n",
       "    </tr>\n",
       "    <tr>\n",
       "      <th>9885</th>\n",
       "      <td>68.0</td>\n",
       "      <td>NaN</td>\n",
       "      <td>9</td>\n",
       "      <td>Married</td>\n",
       "      <td>White</td>\n",
       "      <td>Male</td>\n",
       "      <td>35</td>\n",
       "      <td>&lt;=50K</td>\n",
       "    </tr>\n",
       "    <tr>\n",
       "      <th>9907</th>\n",
       "      <td>68.0</td>\n",
       "      <td>NaN</td>\n",
       "      <td>9</td>\n",
       "      <td>Married</td>\n",
       "      <td>White</td>\n",
       "      <td>Male</td>\n",
       "      <td>15</td>\n",
       "      <td>&lt;=50K</td>\n",
       "    </tr>\n",
       "    <tr>\n",
       "      <th>9926</th>\n",
       "      <td>73.0</td>\n",
       "      <td>NaN</td>\n",
       "      <td>7</td>\n",
       "      <td>Married</td>\n",
       "      <td>White</td>\n",
       "      <td>Male</td>\n",
       "      <td>8</td>\n",
       "      <td>&lt;=50K</td>\n",
       "    </tr>\n",
       "    <tr>\n",
       "      <th>9927</th>\n",
       "      <td>18.0</td>\n",
       "      <td>NaN</td>\n",
       "      <td>7</td>\n",
       "      <td>Single</td>\n",
       "      <td>White</td>\n",
       "      <td>Female</td>\n",
       "      <td>20</td>\n",
       "      <td>&lt;=50K</td>\n",
       "    </tr>\n",
       "    <tr>\n",
       "      <th>9938</th>\n",
       "      <td>36.0</td>\n",
       "      <td>NaN</td>\n",
       "      <td>10</td>\n",
       "      <td>Single</td>\n",
       "      <td>White</td>\n",
       "      <td>Female</td>\n",
       "      <td>25</td>\n",
       "      <td>&lt;=50K</td>\n",
       "    </tr>\n",
       "    <tr>\n",
       "      <th>9987</th>\n",
       "      <td>67.0</td>\n",
       "      <td>NaN</td>\n",
       "      <td>4</td>\n",
       "      <td>Married</td>\n",
       "      <td>White</td>\n",
       "      <td>Male</td>\n",
       "      <td>40</td>\n",
       "      <td>&lt;=50K</td>\n",
       "    </tr>\n",
       "  </tbody>\n",
       "</table>\n",
       "<p>588 rows × 8 columns</p>\n",
       "</div>"
      ],
      "text/plain": [
       "       age workclass  education marital-status         race     sex  \\\n",
       "27     NaN       NaN         10        Married        Asian    Male   \n",
       "61    32.0       NaN          4        Married        White    Male   \n",
       "69    25.0       NaN         10         Single        White    Male   \n",
       "77    67.0       NaN          6        Married        White    Male   \n",
       "106   17.0       NaN          6         Single        White  Female   \n",
       "128   35.0       NaN          9        Married        White    Male   \n",
       "149   43.0       NaN         10         Single        White  Female   \n",
       "154   52.0       NaN          9         Single        White    Male   \n",
       "160   68.0       NaN          2         Single        White  Female   \n",
       "187   53.0       NaN         13         Single        White  Female   \n",
       "201   19.0       NaN          9         Single        White    Male   \n",
       "221   64.0       NaN          2         Single        White    Male   \n",
       "226   60.0       NaN          6         Single  Amer-Indian  Female   \n",
       "243   20.0       NaN         10         Single        White    Male   \n",
       "266   19.0       NaN         10         Single        White    Male   \n",
       "297   39.0       NaN         14        Married        Asian  Female   \n",
       "312   19.0       NaN         10         Single        Black  Female   \n",
       "326   23.0       NaN         11         Single        Black  Female   \n",
       "346   67.0       NaN          7        Married        White    Male   \n",
       "347   30.0       NaN         11         Single        White  Female   \n",
       "354   59.0       NaN         13        Married        White    Male   \n",
       "397   20.0       NaN          9         Single        White  Female   \n",
       "408   28.0       NaN         10        Married        White  Female   \n",
       "430   80.0       NaN          9        Married        White    Male   \n",
       "431   17.0       NaN          7         Single        White    Male   \n",
       "449   17.0       NaN          7         Single        White  Female   \n",
       "459   32.0       NaN         10        Married        White    Male   \n",
       "471   22.0       NaN         10         Single        White    Male   \n",
       "484   52.0       NaN          8         Single        Black    Male   \n",
       "486   63.0       NaN          2        Married        White    Male   \n",
       "...    ...       ...        ...            ...          ...     ...   \n",
       "9358  18.0       NaN          9         Single        White  Female   \n",
       "9367  17.0       NaN          6         Single        White    Male   \n",
       "9409  22.0       NaN         10         Single        White    Male   \n",
       "9452  19.0       NaN         10         Single        White  Female   \n",
       "9477  19.0       NaN         10         Single        White  Female   \n",
       "9484  48.0       NaN          9        Married        White    Male   \n",
       "9490  18.0       NaN         10         Single        White  Female   \n",
       "9500  27.0       NaN          9        Married        White  Female   \n",
       "9531  65.0       NaN          9        Married        White    Male   \n",
       "9536  52.0       NaN         10        Married        White    Male   \n",
       "9549  69.0       NaN         13        Married        White    Male   \n",
       "9557  38.0       NaN          6         Single        White    Male   \n",
       "9577  35.0       NaN          9        Married        White  Female   \n",
       "9582  48.0       NaN         13        Married        White    Male   \n",
       "9616  32.0       NaN          9        Married        White    Male   \n",
       "9626  52.0       NaN         15        Married        Asian  Female   \n",
       "9650  69.0       NaN         13        Married        White    Male   \n",
       "9703  55.0       NaN         14        Married        White    Male   \n",
       "9708  19.0       NaN          9         Single        White  Female   \n",
       "9712  30.0       NaN          7         Single        White    Male   \n",
       "9778  67.0       NaN          5        Married        White    Male   \n",
       "9787  49.0       NaN         10         Single        White    Male   \n",
       "9860  20.0       NaN         10         Single        Asian  Female   \n",
       "9872  63.0       NaN          9        Married        Black  Female   \n",
       "9885  68.0       NaN          9        Married        White    Male   \n",
       "9907  68.0       NaN          9        Married        White    Male   \n",
       "9926  73.0       NaN          7        Married        White    Male   \n",
       "9927  18.0       NaN          7         Single        White  Female   \n",
       "9938  36.0       NaN         10         Single        White  Female   \n",
       "9987  67.0       NaN          4        Married        White    Male   \n",
       "\n",
       "      hours-per-week income  \n",
       "27                60   >50K  \n",
       "61                40  <=50K  \n",
       "69                40  <=50K  \n",
       "77                 2  <=50K  \n",
       "106               32  <=50K  \n",
       "128               40  <=50K  \n",
       "149               40  <=50K  \n",
       "154               45   >50K  \n",
       "160               20  <=50K  \n",
       "187               50  <=50K  \n",
       "201               40  <=50K  \n",
       "221               40  <=50K  \n",
       "226               10  <=50K  \n",
       "243               20  <=50K  \n",
       "266               24  <=50K  \n",
       "297               40  <=50K  \n",
       "312               25  <=50K  \n",
       "326               15  <=50K  \n",
       "346                8  <=50K  \n",
       "347               40  <=50K  \n",
       "354               40   >50K  \n",
       "397               35  <=50K  \n",
       "408               40   >50K  \n",
       "430               24  <=50K  \n",
       "431               40  <=50K  \n",
       "449                5  <=50K  \n",
       "459               40  <=50K  \n",
       "471               40  <=50K  \n",
       "484               40  <=50K  \n",
       "486               35  <=50K  \n",
       "...              ...    ...  \n",
       "9358              35  <=50K  \n",
       "9367              40  <=50K  \n",
       "9409              40  <=50K  \n",
       "9452              30  <=50K  \n",
       "9477              40  <=50K  \n",
       "9484              40  <=50K  \n",
       "9490              40  <=50K  \n",
       "9500              40   >50K  \n",
       "9531              40  <=50K  \n",
       "9536              12  <=50K  \n",
       "9549              20  <=50K  \n",
       "9557              35  <=50K  \n",
       "9577              38  <=50K  \n",
       "9582              80   >50K  \n",
       "9616              40  <=50K  \n",
       "9626              40  <=50K  \n",
       "9650              40  <=50K  \n",
       "9703              18  <=50K  \n",
       "9708              28  <=50K  \n",
       "9712              40  <=50K  \n",
       "9778              15  <=50K  \n",
       "9787              35  <=50K  \n",
       "9860              40  <=50K  \n",
       "9872              11  <=50K  \n",
       "9885              35  <=50K  \n",
       "9907              15  <=50K  \n",
       "9926               8  <=50K  \n",
       "9927              20  <=50K  \n",
       "9938              25  <=50K  \n",
       "9987              40  <=50K  \n",
       "\n",
       "[588 rows x 8 columns]"
      ]
     },
     "execution_count": 168,
     "metadata": {},
     "output_type": "execute_result"
    }
   ],
   "source": [
    "df_adult[df_adult.workclass.isnull()]"
   ]
  },
  {
   "cell_type": "markdown",
   "metadata": {},
   "source": [
    "588 missing values in workclass column."
   ]
  },
  {
   "cell_type": "code",
   "execution_count": 169,
   "metadata": {
    "collapsed": false
   },
   "outputs": [
    {
     "data": {
      "text/html": [
       "<div>\n",
       "<table border=\"1\" class=\"dataframe\">\n",
       "  <thead>\n",
       "    <tr style=\"text-align: right;\">\n",
       "      <th></th>\n",
       "      <th>age</th>\n",
       "      <th>workclass</th>\n",
       "      <th>education</th>\n",
       "      <th>marital-status</th>\n",
       "      <th>race</th>\n",
       "      <th>sex</th>\n",
       "      <th>hours-per-week</th>\n",
       "      <th>income</th>\n",
       "    </tr>\n",
       "  </thead>\n",
       "  <tbody>\n",
       "  </tbody>\n",
       "</table>\n",
       "</div>"
      ],
      "text/plain": [
       "Empty DataFrame\n",
       "Columns: [age, workclass, education, marital-status, race, sex, hours-per-week, income]\n",
       "Index: []"
      ]
     },
     "execution_count": 169,
     "metadata": {},
     "output_type": "execute_result"
    }
   ],
   "source": [
    "df_adult[df_adult.education.isnull()]"
   ]
  },
  {
   "cell_type": "code",
   "execution_count": 182,
   "metadata": {
    "collapsed": false
   },
   "outputs": [
    {
     "data": {
      "text/html": [
       "<div>\n",
       "<table border=\"1\" class=\"dataframe\">\n",
       "  <thead>\n",
       "    <tr style=\"text-align: right;\">\n",
       "      <th></th>\n",
       "      <th>age</th>\n",
       "      <th>workclass</th>\n",
       "      <th>education</th>\n",
       "      <th>maritalstatus</th>\n",
       "      <th>race</th>\n",
       "      <th>sex</th>\n",
       "      <th>hours-per-week</th>\n",
       "      <th>income</th>\n",
       "    </tr>\n",
       "  </thead>\n",
       "  <tbody>\n",
       "  </tbody>\n",
       "</table>\n",
       "</div>"
      ],
      "text/plain": [
       "Empty DataFrame\n",
       "Columns: [age, workclass, education, maritalstatus, race, sex, hours-per-week, income]\n",
       "Index: []"
      ]
     },
     "execution_count": 182,
     "metadata": {},
     "output_type": "execute_result"
    }
   ],
   "source": [
    "#Some issue reading the data from marital-status column due to - in column name so renaming it\n",
    "col_name =df_adult.columns[3]\n",
    "df_adult=df_adult.rename(columns = {col_name:'maritalstatus'})\n",
    "\n",
    "df_adult[df_adult.maritalstatus.isnull()]"
   ]
  },
  {
   "cell_type": "code",
   "execution_count": 179,
   "metadata": {
    "collapsed": false
   },
   "outputs": [
    {
     "data": {
      "text/html": [
       "<div>\n",
       "<table border=\"1\" class=\"dataframe\">\n",
       "  <thead>\n",
       "    <tr style=\"text-align: right;\">\n",
       "      <th></th>\n",
       "      <th>age</th>\n",
       "      <th>workclass</th>\n",
       "      <th>education</th>\n",
       "      <th>marital</th>\n",
       "      <th>race</th>\n",
       "      <th>sex</th>\n",
       "      <th>hours-per-week</th>\n",
       "      <th>income</th>\n",
       "    </tr>\n",
       "  </thead>\n",
       "  <tbody>\n",
       "  </tbody>\n",
       "</table>\n",
       "</div>"
      ],
      "text/plain": [
       "Empty DataFrame\n",
       "Columns: [age, workclass, education, marital, race, sex, hours-per-week, income]\n",
       "Index: []"
      ]
     },
     "execution_count": 179,
     "metadata": {},
     "output_type": "execute_result"
    }
   ],
   "source": [
    "df_adult[df_adult.race.isnull()]"
   ]
  },
  {
   "cell_type": "code",
   "execution_count": 180,
   "metadata": {
    "collapsed": false
   },
   "outputs": [
    {
     "data": {
      "text/html": [
       "<div>\n",
       "<table border=\"1\" class=\"dataframe\">\n",
       "  <thead>\n",
       "    <tr style=\"text-align: right;\">\n",
       "      <th></th>\n",
       "      <th>age</th>\n",
       "      <th>workclass</th>\n",
       "      <th>education</th>\n",
       "      <th>marital</th>\n",
       "      <th>race</th>\n",
       "      <th>sex</th>\n",
       "      <th>hours-per-week</th>\n",
       "      <th>income</th>\n",
       "    </tr>\n",
       "  </thead>\n",
       "  <tbody>\n",
       "  </tbody>\n",
       "</table>\n",
       "</div>"
      ],
      "text/plain": [
       "Empty DataFrame\n",
       "Columns: [age, workclass, education, marital, race, sex, hours-per-week, income]\n",
       "Index: []"
      ]
     },
     "execution_count": 180,
     "metadata": {},
     "output_type": "execute_result"
    }
   ],
   "source": [
    "df_adult[df_adult.sex.isnull()]"
   ]
  },
  {
   "cell_type": "code",
   "execution_count": 183,
   "metadata": {
    "collapsed": false
   },
   "outputs": [
    {
     "data": {
      "text/html": [
       "<div>\n",
       "<table border=\"1\" class=\"dataframe\">\n",
       "  <thead>\n",
       "    <tr style=\"text-align: right;\">\n",
       "      <th></th>\n",
       "      <th>age</th>\n",
       "      <th>workclass</th>\n",
       "      <th>education</th>\n",
       "      <th>maritalstatus</th>\n",
       "      <th>race</th>\n",
       "      <th>sex</th>\n",
       "      <th>hoursperweek</th>\n",
       "      <th>income</th>\n",
       "    </tr>\n",
       "  </thead>\n",
       "  <tbody>\n",
       "  </tbody>\n",
       "</table>\n",
       "</div>"
      ],
      "text/plain": [
       "Empty DataFrame\n",
       "Columns: [age, workclass, education, maritalstatus, race, sex, hoursperweek, income]\n",
       "Index: []"
      ]
     },
     "execution_count": 183,
     "metadata": {},
     "output_type": "execute_result"
    }
   ],
   "source": [
    "##Some issue reading the data from hours-per-week column due to - in column name so renaming it\n",
    "col_name =df_adult.columns[6]\n",
    "df_adult=df_adult.rename(columns = {col_name:'hoursperweek'})\n",
    "\n",
    "df_adult[df_adult.hoursperweek.isnull()]"
   ]
  },
  {
   "cell_type": "code",
   "execution_count": 184,
   "metadata": {
    "collapsed": false
   },
   "outputs": [
    {
     "data": {
      "text/html": [
       "<div>\n",
       "<table border=\"1\" class=\"dataframe\">\n",
       "  <thead>\n",
       "    <tr style=\"text-align: right;\">\n",
       "      <th></th>\n",
       "      <th>age</th>\n",
       "      <th>workclass</th>\n",
       "      <th>education</th>\n",
       "      <th>maritalstatus</th>\n",
       "      <th>race</th>\n",
       "      <th>sex</th>\n",
       "      <th>hoursperweek</th>\n",
       "      <th>income</th>\n",
       "    </tr>\n",
       "  </thead>\n",
       "  <tbody>\n",
       "  </tbody>\n",
       "</table>\n",
       "</div>"
      ],
      "text/plain": [
       "Empty DataFrame\n",
       "Columns: [age, workclass, education, maritalstatus, race, sex, hoursperweek, income]\n",
       "Index: []"
      ]
     },
     "execution_count": 184,
     "metadata": {},
     "output_type": "execute_result"
    }
   ],
   "source": [
    "df_adult[df_adult.income.isnull()]"
   ]
  },
  {
   "cell_type": "markdown",
   "metadata": {},
   "source": [
    "So we have missing values in \"age\" and \"workclass\" columns.\n",
    "\n",
    "We will replace missign values in \"age\" column by mean and will remove instances with missing values for \"workclass\" column."
   ]
  },
  {
   "cell_type": "code",
   "execution_count": 188,
   "metadata": {
    "collapsed": false
   },
   "outputs": [
    {
     "data": {
      "text/plain": [
       "(10000, 8)"
      ]
     },
     "execution_count": 188,
     "metadata": {},
     "output_type": "execute_result"
    }
   ],
   "source": [
    "#Replacing missing values in age by mean of age\n",
    "\n",
    "age_mean = df_adult.age.mean()\n",
    "df_adult.age.fillna(age_mean, axis=0, inplace=True)\n",
    "df_adult.shape"
   ]
  },
  {
   "cell_type": "code",
   "execution_count": 191,
   "metadata": {
    "collapsed": false
   },
   "outputs": [
    {
     "data": {
      "text/plain": [
       "(9412, 8)"
      ]
     },
     "execution_count": 191,
     "metadata": {},
     "output_type": "execute_result"
    }
   ],
   "source": [
    "#Dropping instances with missing values for \"workclass\" column\n",
    "\n",
    "df_adult.dropna(axis=0, inplace=True)\n",
    "df_adult.shape"
   ]
  },
  {
   "cell_type": "code",
   "execution_count": 195,
   "metadata": {
    "collapsed": false
   },
   "outputs": [
    {
     "data": {
      "text/html": [
       "<div>\n",
       "<table border=\"1\" class=\"dataframe\">\n",
       "  <thead>\n",
       "    <tr style=\"text-align: right;\">\n",
       "      <th></th>\n",
       "      <th>age</th>\n",
       "      <th>workclass</th>\n",
       "      <th>education</th>\n",
       "      <th>maritalstatus</th>\n",
       "      <th>race</th>\n",
       "      <th>sex</th>\n",
       "      <th>hoursperweek</th>\n",
       "      <th>income</th>\n",
       "    </tr>\n",
       "  </thead>\n",
       "  <tbody>\n",
       "  </tbody>\n",
       "</table>\n",
       "</div>"
      ],
      "text/plain": [
       "Empty DataFrame\n",
       "Columns: [age, workclass, education, maritalstatus, race, sex, hoursperweek, income]\n",
       "Index: []"
      ]
     },
     "execution_count": 195,
     "metadata": {},
     "output_type": "execute_result"
    }
   ],
   "source": [
    "df_adult[df_adult.workclass.isnull()]"
   ]
  },
  {
   "cell_type": "markdown",
   "metadata": {},
   "source": [
    "So no more missing values in dataframe."
   ]
  },
  {
   "cell_type": "markdown",
   "metadata": {},
   "source": [
    "# 2) Examine the characteristics of the attributes, including relevant statistics for each attribute, histograms illustrating the distribtions of numeric attributes, bar graphs showing value counts for categorical attributes, etc."
   ]
  },
  {
   "cell_type": "code",
   "execution_count": 193,
   "metadata": {
    "collapsed": false
   },
   "outputs": [
    {
     "data": {
      "text/plain": [
       "age              float64\n",
       "workclass         object\n",
       "education          int64\n",
       "maritalstatus     object\n",
       "race              object\n",
       "sex               object\n",
       "hoursperweek       int64\n",
       "income            object\n",
       "dtype: object"
      ]
     },
     "execution_count": 193,
     "metadata": {},
     "output_type": "execute_result"
    }
   ],
   "source": [
    "df_adult.dtypes"
   ]
  },
  {
   "cell_type": "code",
   "execution_count": 196,
   "metadata": {
    "collapsed": false
   },
   "outputs": [
    {
     "data": {
      "text/html": [
       "<div>\n",
       "<table border=\"1\" class=\"dataframe\">\n",
       "  <thead>\n",
       "    <tr style=\"text-align: right;\">\n",
       "      <th></th>\n",
       "      <th>age</th>\n",
       "      <th>workclass</th>\n",
       "      <th>education</th>\n",
       "      <th>maritalstatus</th>\n",
       "      <th>race</th>\n",
       "      <th>sex</th>\n",
       "      <th>hoursperweek</th>\n",
       "      <th>income</th>\n",
       "    </tr>\n",
       "  </thead>\n",
       "  <tbody>\n",
       "    <tr>\n",
       "      <th>count</th>\n",
       "      <td>9412.000000</td>\n",
       "      <td>9412</td>\n",
       "      <td>9412.000000</td>\n",
       "      <td>9412</td>\n",
       "      <td>9412</td>\n",
       "      <td>9412</td>\n",
       "      <td>9412.000000</td>\n",
       "      <td>9412</td>\n",
       "    </tr>\n",
       "    <tr>\n",
       "      <th>unique</th>\n",
       "      <td>NaN</td>\n",
       "      <td>3</td>\n",
       "      <td>NaN</td>\n",
       "      <td>2</td>\n",
       "      <td>5</td>\n",
       "      <td>2</td>\n",
       "      <td>NaN</td>\n",
       "      <td>2</td>\n",
       "    </tr>\n",
       "    <tr>\n",
       "      <th>top</th>\n",
       "      <td>NaN</td>\n",
       "      <td>Private</td>\n",
       "      <td>NaN</td>\n",
       "      <td>Married</td>\n",
       "      <td>White</td>\n",
       "      <td>Male</td>\n",
       "      <td>NaN</td>\n",
       "      <td>&lt;=50K</td>\n",
       "    </tr>\n",
       "    <tr>\n",
       "      <th>freq</th>\n",
       "      <td>NaN</td>\n",
       "      <td>6947</td>\n",
       "      <td>NaN</td>\n",
       "      <td>4737</td>\n",
       "      <td>8062</td>\n",
       "      <td>6383</td>\n",
       "      <td>NaN</td>\n",
       "      <td>7093</td>\n",
       "    </tr>\n",
       "    <tr>\n",
       "      <th>mean</th>\n",
       "      <td>38.366342</td>\n",
       "      <td>NaN</td>\n",
       "      <td>10.125266</td>\n",
       "      <td>NaN</td>\n",
       "      <td>NaN</td>\n",
       "      <td>NaN</td>\n",
       "      <td>41.080217</td>\n",
       "      <td>NaN</td>\n",
       "    </tr>\n",
       "    <tr>\n",
       "      <th>std</th>\n",
       "      <td>12.962039</td>\n",
       "      <td>NaN</td>\n",
       "      <td>2.542118</td>\n",
       "      <td>NaN</td>\n",
       "      <td>NaN</td>\n",
       "      <td>NaN</td>\n",
       "      <td>11.884590</td>\n",
       "      <td>NaN</td>\n",
       "    </tr>\n",
       "    <tr>\n",
       "      <th>min</th>\n",
       "      <td>17.000000</td>\n",
       "      <td>NaN</td>\n",
       "      <td>1.000000</td>\n",
       "      <td>NaN</td>\n",
       "      <td>NaN</td>\n",
       "      <td>NaN</td>\n",
       "      <td>1.000000</td>\n",
       "      <td>NaN</td>\n",
       "    </tr>\n",
       "    <tr>\n",
       "      <th>25%</th>\n",
       "      <td>28.000000</td>\n",
       "      <td>NaN</td>\n",
       "      <td>9.000000</td>\n",
       "      <td>NaN</td>\n",
       "      <td>NaN</td>\n",
       "      <td>NaN</td>\n",
       "      <td>40.000000</td>\n",
       "      <td>NaN</td>\n",
       "    </tr>\n",
       "    <tr>\n",
       "      <th>50%</th>\n",
       "      <td>37.000000</td>\n",
       "      <td>NaN</td>\n",
       "      <td>10.000000</td>\n",
       "      <td>NaN</td>\n",
       "      <td>NaN</td>\n",
       "      <td>NaN</td>\n",
       "      <td>40.000000</td>\n",
       "      <td>NaN</td>\n",
       "    </tr>\n",
       "    <tr>\n",
       "      <th>75%</th>\n",
       "      <td>47.000000</td>\n",
       "      <td>NaN</td>\n",
       "      <td>13.000000</td>\n",
       "      <td>NaN</td>\n",
       "      <td>NaN</td>\n",
       "      <td>NaN</td>\n",
       "      <td>45.000000</td>\n",
       "      <td>NaN</td>\n",
       "    </tr>\n",
       "    <tr>\n",
       "      <th>max</th>\n",
       "      <td>90.000000</td>\n",
       "      <td>NaN</td>\n",
       "      <td>16.000000</td>\n",
       "      <td>NaN</td>\n",
       "      <td>NaN</td>\n",
       "      <td>NaN</td>\n",
       "      <td>99.000000</td>\n",
       "      <td>NaN</td>\n",
       "    </tr>\n",
       "  </tbody>\n",
       "</table>\n",
       "</div>"
      ],
      "text/plain": [
       "                age workclass    education maritalstatus   race   sex  \\\n",
       "count   9412.000000      9412  9412.000000          9412   9412  9412   \n",
       "unique          NaN         3          NaN             2      5     2   \n",
       "top             NaN   Private          NaN       Married  White  Male   \n",
       "freq            NaN      6947          NaN          4737   8062  6383   \n",
       "mean      38.366342       NaN    10.125266           NaN    NaN   NaN   \n",
       "std       12.962039       NaN     2.542118           NaN    NaN   NaN   \n",
       "min       17.000000       NaN     1.000000           NaN    NaN   NaN   \n",
       "25%       28.000000       NaN     9.000000           NaN    NaN   NaN   \n",
       "50%       37.000000       NaN    10.000000           NaN    NaN   NaN   \n",
       "75%       47.000000       NaN    13.000000           NaN    NaN   NaN   \n",
       "max       90.000000       NaN    16.000000           NaN    NaN   NaN   \n",
       "\n",
       "        hoursperweek income  \n",
       "count    9412.000000   9412  \n",
       "unique           NaN      2  \n",
       "top              NaN  <=50K  \n",
       "freq             NaN   7093  \n",
       "mean       41.080217    NaN  \n",
       "std        11.884590    NaN  \n",
       "min         1.000000    NaN  \n",
       "25%        40.000000    NaN  \n",
       "50%        40.000000    NaN  \n",
       "75%        45.000000    NaN  \n",
       "max        99.000000    NaN  "
      ]
     },
     "execution_count": 196,
     "metadata": {},
     "output_type": "execute_result"
    }
   ],
   "source": [
    "df_adult.describe(include='all')"
   ]
  },
  {
   "cell_type": "markdown",
   "metadata": {},
   "source": [
    "So here we can see that the variables which have numeric values are Age, Education and Hours Per Week, rest are all categorical variables.\n",
    "\n",
    "Education can be considered as a ordinal variables as it has finite set of values from 1-16 and each level represents a particular education level."
   ]
  },
  {
   "cell_type": "code",
   "execution_count": 198,
   "metadata": {
    "collapsed": false
   },
   "outputs": [
    {
     "data": {
      "text/html": [
       "<div>\n",
       "<table border=\"1\" class=\"dataframe\">\n",
       "  <thead>\n",
       "    <tr style=\"text-align: right;\">\n",
       "      <th></th>\n",
       "      <th>age</th>\n",
       "      <th>education</th>\n",
       "      <th>hoursperweek</th>\n",
       "    </tr>\n",
       "  </thead>\n",
       "  <tbody>\n",
       "    <tr>\n",
       "      <th>count</th>\n",
       "      <td>9412.000000</td>\n",
       "      <td>9412.000000</td>\n",
       "      <td>9412.000000</td>\n",
       "    </tr>\n",
       "    <tr>\n",
       "      <th>mean</th>\n",
       "      <td>38.366342</td>\n",
       "      <td>10.125266</td>\n",
       "      <td>41.080217</td>\n",
       "    </tr>\n",
       "    <tr>\n",
       "      <th>std</th>\n",
       "      <td>12.962039</td>\n",
       "      <td>2.542118</td>\n",
       "      <td>11.884590</td>\n",
       "    </tr>\n",
       "    <tr>\n",
       "      <th>min</th>\n",
       "      <td>17.000000</td>\n",
       "      <td>1.000000</td>\n",
       "      <td>1.000000</td>\n",
       "    </tr>\n",
       "    <tr>\n",
       "      <th>25%</th>\n",
       "      <td>28.000000</td>\n",
       "      <td>9.000000</td>\n",
       "      <td>40.000000</td>\n",
       "    </tr>\n",
       "    <tr>\n",
       "      <th>50%</th>\n",
       "      <td>37.000000</td>\n",
       "      <td>10.000000</td>\n",
       "      <td>40.000000</td>\n",
       "    </tr>\n",
       "    <tr>\n",
       "      <th>75%</th>\n",
       "      <td>47.000000</td>\n",
       "      <td>13.000000</td>\n",
       "      <td>45.000000</td>\n",
       "    </tr>\n",
       "    <tr>\n",
       "      <th>max</th>\n",
       "      <td>90.000000</td>\n",
       "      <td>16.000000</td>\n",
       "      <td>99.000000</td>\n",
       "    </tr>\n",
       "  </tbody>\n",
       "</table>\n",
       "</div>"
      ],
      "text/plain": [
       "               age    education  hoursperweek\n",
       "count  9412.000000  9412.000000   9412.000000\n",
       "mean     38.366342    10.125266     41.080217\n",
       "std      12.962039     2.542118     11.884590\n",
       "min      17.000000     1.000000      1.000000\n",
       "25%      28.000000     9.000000     40.000000\n",
       "50%      37.000000    10.000000     40.000000\n",
       "75%      47.000000    13.000000     45.000000\n",
       "max      90.000000    16.000000     99.000000"
      ]
     },
     "execution_count": 198,
     "metadata": {},
     "output_type": "execute_result"
    }
   ],
   "source": [
    "# Descriptive Statistics for three Numerical Attributes\n",
    "\n",
    "df_adult[[\"age\",\"education\",\"hoursperweek\"]].describe()"
   ]
  },
  {
   "cell_type": "markdown",
   "metadata": {},
   "source": [
    "So the table shows us mean, standard deviation and five number summary of numerical attributes\n",
    "\n",
    "Age: Mean: 38.366 SD: 12.96 Min: 17 Max: 90\n",
    "\n",
    "Education: Mean: 10.125 SD: 2.54 Min: 1 Max: 16\n",
    "\n",
    "Hours Per Week: Mean: 41.080 SD: 11.88 Min: 1 Max: 99"
   ]
  },
  {
   "cell_type": "code",
   "execution_count": 200,
   "metadata": {
    "collapsed": false
   },
   "outputs": [
    {
     "data": {
      "text/plain": [
       "<matplotlib.axes._subplots.AxesSubplot at 0x2e7278ed358>"
      ]
     },
     "execution_count": 200,
     "metadata": {},
     "output_type": "execute_result"
    },
    {
     "data": {
      "image/png": "[encoded data removed]",
      "text/plain": [
       "<matplotlib.figure.Figure at 0x2e727881908>"
      ]
     },
     "metadata": {},
     "output_type": "display_data"
    }
   ],
   "source": [
    "df_adult.age.hist()"
   ]
  },
  {
   "cell_type": "markdown",
   "metadata": {},
   "source": [
    "So we can see that most of the people in the dataset has age less than 45 years and the histogram generated here and so the distribution is right skewed."
   ]
  },
  {
   "cell_type": "code",
   "execution_count": 209,
   "metadata": {
    "collapsed": false
   },
   "outputs": [
    {
     "data": {
      "text/plain": [
       "<matplotlib.axes._subplots.AxesSubplot at 0x2e727a2e208>"
      ]
     },
     "execution_count": 209,
     "metadata": {},
     "output_type": "execute_result"
    },
    {
     "data": {
      "image/png": "[encoded data removed]",
      "text/plain": [
       "<matplotlib.figure.Figure at 0x2e72797f128>"
      ]
     },
     "metadata": {},
     "output_type": "display_data"
    }
   ],
   "source": [
    "df_adult.education.hist()"
   ]
  },
  {
   "cell_type": "markdown",
   "metadata": {},
   "source": [
    "So we can see that most of the people in the data set has education level between 9 and 14."
   ]
  },
  {
   "cell_type": "code",
   "execution_count": 210,
   "metadata": {
    "collapsed": false
   },
   "outputs": [
    {
     "data": {
      "text/plain": [
       "<matplotlib.axes._subplots.AxesSubplot at 0x2e727977be0>"
      ]
     },
     "execution_count": 210,
     "metadata": {},
     "output_type": "execute_result"
    },
    {
     "data": {
      "image/png": "[encoded data removed]",
      "text/plain": [
       "<matplotlib.figure.Figure at 0x2e727a7ae10>"
      ]
     },
     "metadata": {},
     "output_type": "display_data"
    }
   ],
   "source": [
    "df_adult.hoursperweek.hist()"
   ]
  },
  {
   "cell_type": "markdown",
   "metadata": {},
   "source": [
    "So we can see that most of the people in data set have hours per week between 30-40."
   ]
  },
  {
   "cell_type": "code",
   "execution_count": 211,
   "metadata": {
    "collapsed": false
   },
   "outputs": [
    {
     "data": {
      "text/html": [
       "<div>\n",
       "<table border=\"1\" class=\"dataframe\">\n",
       "  <thead>\n",
       "    <tr style=\"text-align: right;\">\n",
       "      <th></th>\n",
       "      <th>age</th>\n",
       "      <th>education</th>\n",
       "      <th>hoursperweek</th>\n",
       "    </tr>\n",
       "    <tr>\n",
       "      <th>workclass</th>\n",
       "      <th></th>\n",
       "      <th></th>\n",
       "      <th></th>\n",
       "    </tr>\n",
       "  </thead>\n",
       "  <tbody>\n",
       "    <tr>\n",
       "      <th>Private</th>\n",
       "      <td>36.798284</td>\n",
       "      <td>9.890600</td>\n",
       "      <td>40.388225</td>\n",
       "    </tr>\n",
       "    <tr>\n",
       "      <th>Public</th>\n",
       "      <td>40.946806</td>\n",
       "      <td>11.098709</td>\n",
       "      <td>40.449506</td>\n",
       "    </tr>\n",
       "    <tr>\n",
       "      <th>Self-emp</th>\n",
       "      <td>44.894942</td>\n",
       "      <td>10.428571</td>\n",
       "      <td>45.991289</td>\n",
       "    </tr>\n",
       "  </tbody>\n",
       "</table>\n",
       "</div>"
      ],
      "text/plain": [
       "                 age  education  hoursperweek\n",
       "workclass                                    \n",
       "Private    36.798284   9.890600     40.388225\n",
       "Public     40.946806  11.098709     40.449506\n",
       "Self-emp   44.894942  10.428571     45.991289"
      ]
     },
     "execution_count": 211,
     "metadata": {},
     "output_type": "execute_result"
    }
   ],
   "source": [
    "#Taking a look at the distirbutions of numerical attributes when grouped over categorical attributes\n",
    "\n",
    "df_adult.groupby('workclass').mean()"
   ]
  },
  {
   "cell_type": "markdown",
   "metadata": {},
   "source": [
    "So we can see that the mean age of the self-employed workclass is highest among the mean age of all the workclasses and also the work class self-employed has highest mean hours per week. If we talk about education Public work class has highest mean education."
   ]
  },
  {
   "cell_type": "code",
   "execution_count": 205,
   "metadata": {
    "collapsed": false
   },
   "outputs": [
    {
     "data": {
      "text/html": [
       "<div>\n",
       "<table border=\"1\" class=\"dataframe\">\n",
       "  <thead>\n",
       "    <tr style=\"text-align: right;\">\n",
       "      <th></th>\n",
       "      <th>age</th>\n",
       "      <th>education</th>\n",
       "      <th>hoursperweek</th>\n",
       "    </tr>\n",
       "    <tr>\n",
       "      <th>maritalstatus</th>\n",
       "      <th></th>\n",
       "      <th></th>\n",
       "      <th></th>\n",
       "    </tr>\n",
       "  </thead>\n",
       "  <tbody>\n",
       "    <tr>\n",
       "      <th>Married</th>\n",
       "      <td>43.275328</td>\n",
       "      <td>10.253114</td>\n",
       "      <td>43.251847</td>\n",
       "    </tr>\n",
       "    <tr>\n",
       "      <th>Single</th>\n",
       "      <td>33.392253</td>\n",
       "      <td>9.995722</td>\n",
       "      <td>38.879786</td>\n",
       "    </tr>\n",
       "  </tbody>\n",
       "</table>\n",
       "</div>"
      ],
      "text/plain": [
       "                     age  education  hoursperweek\n",
       "maritalstatus                                    \n",
       "Married        43.275328  10.253114     43.251847\n",
       "Single         33.392253   9.995722     38.879786"
      ]
     },
     "execution_count": 205,
     "metadata": {},
     "output_type": "execute_result"
    }
   ],
   "source": [
    "df_adult.groupby('maritalstatus').mean()"
   ]
  },
  {
   "cell_type": "markdown",
   "metadata": {},
   "source": [
    "So we can see that the married people in this dataset have higher mean age, education and hoursperweek compared to those who are single."
   ]
  },
  {
   "cell_type": "code",
   "execution_count": 207,
   "metadata": {
    "collapsed": false
   },
   "outputs": [
    {
     "data": {
      "text/html": [
       "<div>\n",
       "<table border=\"1\" class=\"dataframe\">\n",
       "  <thead>\n",
       "    <tr style=\"text-align: right;\">\n",
       "      <th></th>\n",
       "      <th>age</th>\n",
       "      <th>education</th>\n",
       "      <th>hoursperweek</th>\n",
       "    </tr>\n",
       "    <tr>\n",
       "      <th>sex</th>\n",
       "      <th></th>\n",
       "      <th></th>\n",
       "      <th></th>\n",
       "    </tr>\n",
       "  </thead>\n",
       "  <tbody>\n",
       "    <tr>\n",
       "      <th>Female</th>\n",
       "      <td>37.013549</td>\n",
       "      <td>10.095081</td>\n",
       "      <td>37.257511</td>\n",
       "    </tr>\n",
       "    <tr>\n",
       "      <th>Male</th>\n",
       "      <td>39.008299</td>\n",
       "      <td>10.139590</td>\n",
       "      <td>42.894250</td>\n",
       "    </tr>\n",
       "  </tbody>\n",
       "</table>\n",
       "</div>"
      ],
      "text/plain": [
       "              age  education  hoursperweek\n",
       "sex                                       \n",
       "Female  37.013549  10.095081     37.257511\n",
       "Male    39.008299  10.139590     42.894250"
      ]
     },
     "execution_count": 207,
     "metadata": {},
     "output_type": "execute_result"
    }
   ],
   "source": [
    "df_adult.groupby('sex').mean()"
   ]
  },
  {
   "cell_type": "markdown",
   "metadata": {},
   "source": [
    "So here we can see that the mean age of males is more in this data set and the mean hours per week is also more. Mean education is almost same for males and females in this dataset."
   ]
  },
  {
   "cell_type": "code",
   "execution_count": 208,
   "metadata": {
    "collapsed": false
   },
   "outputs": [
    {
     "data": {
      "text/html": [
       "<div>\n",
       "<table border=\"1\" class=\"dataframe\">\n",
       "  <thead>\n",
       "    <tr style=\"text-align: right;\">\n",
       "      <th></th>\n",
       "      <th>age</th>\n",
       "      <th>education</th>\n",
       "      <th>hoursperweek</th>\n",
       "    </tr>\n",
       "    <tr>\n",
       "      <th>income</th>\n",
       "      <th></th>\n",
       "      <th></th>\n",
       "      <th></th>\n",
       "    </tr>\n",
       "  </thead>\n",
       "  <tbody>\n",
       "    <tr>\n",
       "      <th>&lt;=50K</th>\n",
       "      <td>36.644604</td>\n",
       "      <td>9.646976</td>\n",
       "      <td>39.567038</td>\n",
       "    </tr>\n",
       "    <tr>\n",
       "      <th>&gt;50K</th>\n",
       "      <td>43.632531</td>\n",
       "      <td>11.588185</td>\n",
       "      <td>45.708495</td>\n",
       "    </tr>\n",
       "  </tbody>\n",
       "</table>\n",
       "</div>"
      ],
      "text/plain": [
       "              age  education  hoursperweek\n",
       "income                                    \n",
       "<=50K   36.644604   9.646976     39.567038\n",
       ">50K    43.632531  11.588185     45.708495"
      ]
     },
     "execution_count": 208,
     "metadata": {},
     "output_type": "execute_result"
    }
   ],
   "source": [
    "df_adult.groupby('income').mean()"
   ]
  },
  {
   "cell_type": "markdown",
   "metadata": {},
   "source": [
    "So here we can say that the mean age of people with income more than 50k is higher than the mean of the other class. Also we can see that people who make more than 50k have higher mean working hours per week as compared to those with income less than 50k and mean education of people who makes more than 50k is also more."
   ]
  },
  {
   "cell_type": "code",
   "execution_count": 214,
   "metadata": {
    "collapsed": false
   },
   "outputs": [
    {
     "data": {
      "text/plain": [
       "<matplotlib.axes._subplots.AxesSubplot at 0x2e7270bfcc0>"
      ]
     },
     "execution_count": 214,
     "metadata": {},
     "output_type": "execute_result"
    },
    {
     "data": {
      "image/png": "[encoded data removed]",
      "text/plain": [
       "<matplotlib.figure.Figure at 0x2e72766a0f0>"
      ]
     },
     "metadata": {},
     "output_type": "display_data"
    }
   ],
   "source": [
    "#Plotting distributions of categorical variables\n",
    "df_adult[\"workclass\"].value_counts().plot(kind=\"bar\",grid= True, title=\"Work Class\")"
   ]
  },
  {
   "cell_type": "markdown",
   "metadata": {},
   "source": [
    "So we can see that most of the people in datatset have work class as private (around 80%)."
   ]
  },
  {
   "cell_type": "code",
   "execution_count": 215,
   "metadata": {
    "collapsed": false
   },
   "outputs": [
    {
     "data": {
      "text/plain": [
       "<matplotlib.axes._subplots.AxesSubplot at 0x2e7271150f0>"
      ]
     },
     "execution_count": 215,
     "metadata": {},
     "output_type": "execute_result"
    },
    {
     "data": {
      "image/png": "[encoded data removed]",
      "text/plain": [
       "<matplotlib.figure.Figure at 0x2e7242438d0>"
      ]
     },
     "metadata": {},
     "output_type": "display_data"
    }
   ],
   "source": [
    "df_adult[\"maritalstatus\"].value_counts().plot(kind=\"bar\",grid= True, title=\"Marital Status\")"
   ]
  },
  {
   "cell_type": "markdown",
   "metadata": {},
   "source": [
    "So we can see that there are equal number of Married and Single people in this dataset."
   ]
  },
  {
   "cell_type": "code",
   "execution_count": 216,
   "metadata": {
    "collapsed": false
   },
   "outputs": [
    {
     "data": {
      "text/plain": [
       "<matplotlib.axes._subplots.AxesSubplot at 0x2e7271cccc0>"
      ]
     },
     "execution_count": 216,
     "metadata": {},
     "output_type": "execute_result"
    },
    {
     "data": {
      "image/png": "[encoded data removed]",
      "text/plain": [
       "<matplotlib.figure.Figure at 0x2e7275e0828>"
      ]
     },
     "metadata": {},
     "output_type": "display_data"
    }
   ],
   "source": [
    "df_adult[\"race\"].value_counts().plot(kind=\"bar\",grid= True, title=\"Race\")"
   ]
  },
  {
   "cell_type": "markdown",
   "metadata": {},
   "source": [
    "So we can see there is unequal distirution of race in this data set."
   ]
  },
  {
   "cell_type": "code",
   "execution_count": 217,
   "metadata": {
    "collapsed": false
   },
   "outputs": [
    {
     "data": {
      "text/plain": [
       "<matplotlib.axes._subplots.AxesSubplot at 0x2e72778a160>"
      ]
     },
     "execution_count": 217,
     "metadata": {},
     "output_type": "execute_result"
    },
    {
     "data": {
      "image/png": "[encoded data removed]",
      "text/plain": [
       "<matplotlib.figure.Figure at 0x2e72765ca58>"
      ]
     },
     "metadata": {},
     "output_type": "display_data"
    }
   ],
   "source": [
    "df_adult[\"sex\"].value_counts().plot(kind=\"bar\",grid= True, title=\"Sex\")"
   ]
  },
  {
   "cell_type": "markdown",
   "metadata": {},
   "source": [
    "So we can see that there are more number of males in this data set as compared to females."
   ]
  },
  {
   "cell_type": "code",
   "execution_count": 218,
   "metadata": {
    "collapsed": false
   },
   "outputs": [
    {
     "data": {
      "text/plain": [
       "<matplotlib.axes._subplots.AxesSubplot at 0x2e72762c630>"
      ]
     },
     "execution_count": 218,
     "metadata": {},
     "output_type": "execute_result"
    },
    {
     "data": {
      "image/png": "[encoded data removed]",
      "text/plain": [
       "<matplotlib.figure.Figure at 0x2e72761a400>"
      ]
     },
     "metadata": {},
     "output_type": "display_data"
    }
   ],
   "source": [
    "df_adult[\"income\"].value_counts().plot(kind=\"bar\",grid= True, title=\"Income\")"
   ]
  },
  {
   "cell_type": "markdown",
   "metadata": {},
   "source": [
    "So here we can see that there are more instances of less than or equal to 50k class and less cases for more than 50k, so we can say that the class distribution is unequal and this might affect the performance of the classifiers and might introduce a bias in the models."
   ]
  },
  {
   "cell_type": "markdown",
   "metadata": {},
   "source": [
    "# 3) Perform the following cross-tabulations (including generating bar charts): education+race, work-class+income, work-class+race, and race+income. In the latter case (race+income) also create a table or chart showing percentages of each race category that fall in the low-income group. Discuss your observations from this analysis."
   ]
  },
  {
   "cell_type": "code",
   "execution_count": 220,
   "metadata": {
    "collapsed": false
   },
   "outputs": [
    {
     "data": {
      "text/html": [
       "<div>\n",
       "<table border=\"1\" class=\"dataframe\">\n",
       "  <thead>\n",
       "    <tr style=\"text-align: right;\">\n",
       "      <th>race</th>\n",
       "      <th>Amer-Indian</th>\n",
       "      <th>Asian</th>\n",
       "      <th>Black</th>\n",
       "      <th>Hispanic</th>\n",
       "      <th>White</th>\n",
       "    </tr>\n",
       "    <tr>\n",
       "      <th>education</th>\n",
       "      <th></th>\n",
       "      <th></th>\n",
       "      <th></th>\n",
       "      <th></th>\n",
       "      <th></th>\n",
       "    </tr>\n",
       "  </thead>\n",
       "  <tbody>\n",
       "    <tr>\n",
       "      <th>1</th>\n",
       "      <td>0</td>\n",
       "      <td>0</td>\n",
       "      <td>1</td>\n",
       "      <td>0</td>\n",
       "      <td>11</td>\n",
       "    </tr>\n",
       "    <tr>\n",
       "      <th>2</th>\n",
       "      <td>0</td>\n",
       "      <td>1</td>\n",
       "      <td>4</td>\n",
       "      <td>3</td>\n",
       "      <td>38</td>\n",
       "    </tr>\n",
       "    <tr>\n",
       "      <th>3</th>\n",
       "      <td>0</td>\n",
       "      <td>4</td>\n",
       "      <td>5</td>\n",
       "      <td>1</td>\n",
       "      <td>71</td>\n",
       "    </tr>\n",
       "    <tr>\n",
       "      <th>4</th>\n",
       "      <td>5</td>\n",
       "      <td>5</td>\n",
       "      <td>14</td>\n",
       "      <td>6</td>\n",
       "      <td>150</td>\n",
       "    </tr>\n",
       "    <tr>\n",
       "      <th>5</th>\n",
       "      <td>0</td>\n",
       "      <td>3</td>\n",
       "      <td>19</td>\n",
       "      <td>2</td>\n",
       "      <td>118</td>\n",
       "    </tr>\n",
       "    <tr>\n",
       "      <th>6</th>\n",
       "      <td>8</td>\n",
       "      <td>3</td>\n",
       "      <td>30</td>\n",
       "      <td>4</td>\n",
       "      <td>223</td>\n",
       "    </tr>\n",
       "    <tr>\n",
       "      <th>7</th>\n",
       "      <td>4</td>\n",
       "      <td>6</td>\n",
       "      <td>49</td>\n",
       "      <td>4</td>\n",
       "      <td>261</td>\n",
       "    </tr>\n",
       "    <tr>\n",
       "      <th>8</th>\n",
       "      <td>0</td>\n",
       "      <td>2</td>\n",
       "      <td>17</td>\n",
       "      <td>3</td>\n",
       "      <td>78</td>\n",
       "    </tr>\n",
       "    <tr>\n",
       "      <th>9</th>\n",
       "      <td>35</td>\n",
       "      <td>67</td>\n",
       "      <td>350</td>\n",
       "      <td>23</td>\n",
       "      <td>2590</td>\n",
       "    </tr>\n",
       "    <tr>\n",
       "      <th>10</th>\n",
       "      <td>26</td>\n",
       "      <td>64</td>\n",
       "      <td>206</td>\n",
       "      <td>11</td>\n",
       "      <td>1818</td>\n",
       "    </tr>\n",
       "    <tr>\n",
       "      <th>11</th>\n",
       "      <td>5</td>\n",
       "      <td>10</td>\n",
       "      <td>33</td>\n",
       "      <td>4</td>\n",
       "      <td>337</td>\n",
       "    </tr>\n",
       "    <tr>\n",
       "      <th>12</th>\n",
       "      <td>4</td>\n",
       "      <td>5</td>\n",
       "      <td>33</td>\n",
       "      <td>3</td>\n",
       "      <td>259</td>\n",
       "    </tr>\n",
       "    <tr>\n",
       "      <th>13</th>\n",
       "      <td>5</td>\n",
       "      <td>75</td>\n",
       "      <td>102</td>\n",
       "      <td>8</td>\n",
       "      <td>1387</td>\n",
       "    </tr>\n",
       "    <tr>\n",
       "      <th>14</th>\n",
       "      <td>0</td>\n",
       "      <td>27</td>\n",
       "      <td>20</td>\n",
       "      <td>1</td>\n",
       "      <td>467</td>\n",
       "    </tr>\n",
       "    <tr>\n",
       "      <th>15</th>\n",
       "      <td>0</td>\n",
       "      <td>11</td>\n",
       "      <td>5</td>\n",
       "      <td>2</td>\n",
       "      <td>153</td>\n",
       "    </tr>\n",
       "    <tr>\n",
       "      <th>16</th>\n",
       "      <td>0</td>\n",
       "      <td>8</td>\n",
       "      <td>4</td>\n",
       "      <td>0</td>\n",
       "      <td>101</td>\n",
       "    </tr>\n",
       "  </tbody>\n",
       "</table>\n",
       "</div>"
      ],
      "text/plain": [
       "race       Amer-Indian  Asian  Black  Hispanic  White\n",
       "education                                            \n",
       "1                    0      0      1         0     11\n",
       "2                    0      1      4         3     38\n",
       "3                    0      4      5         1     71\n",
       "4                    5      5     14         6    150\n",
       "5                    0      3     19         2    118\n",
       "6                    8      3     30         4    223\n",
       "7                    4      6     49         4    261\n",
       "8                    0      2     17         3     78\n",
       "9                   35     67    350        23   2590\n",
       "10                  26     64    206        11   1818\n",
       "11                   5     10     33         4    337\n",
       "12                   4      5     33         3    259\n",
       "13                   5     75    102         8   1387\n",
       "14                   0     27     20         1    467\n",
       "15                   0     11      5         2    153\n",
       "16                   0      8      4         0    101"
      ]
     },
     "execution_count": 220,
     "metadata": {},
     "output_type": "execute_result"
    }
   ],
   "source": [
    "#Crosstab of education + race and bar chart\n",
    "\n",
    "edu_race = pd.crosstab(df_adult[\"education\"], df_adult[\"race\"])\n",
    "edu_race"
   ]
  },
  {
   "cell_type": "code",
   "execution_count": 221,
   "metadata": {
    "collapsed": false
   },
   "outputs": [
    {
     "data": {
      "image/png": "[encoded data removed]",
      "text/plain": [
       "<matplotlib.figure.Figure at 0x2e72762c5c0>"
      ]
     },
     "metadata": {},
     "output_type": "display_data"
    }
   ],
   "source": [
    "plt.show(edu_race.plot(kind=\"bar\", title=\"Education - Race\"))"
   ]
  },
  {
   "cell_type": "markdown",
   "metadata": {},
   "source": [
    "So here from the crosstab and bar chart we can see that most of the people irrespective of the race have education between 9-13. Highest number of people from each of the individual race except Asians, have education value of 9 where as for Asians the highest number of poeple have education level of 13 followed by 9 and 10. If we look at the data set on UCI we can infer that level 9 and 10 are HS-grad and some college respectively and level 13 is Bachelors. So we can say that this data set has more number of people who just graduated High School and started working and didn't continued their education further. Most of the people in this data set belong to Race - White and so we can see it dominates all the education levels in terms of numbers and there are highest number of records with White race for each of the education level."
   ]
  },
  {
   "cell_type": "code",
   "execution_count": 222,
   "metadata": {
    "collapsed": false
   },
   "outputs": [
    {
     "data": {
      "text/html": [
       "<div>\n",
       "<table border=\"1\" class=\"dataframe\">\n",
       "  <thead>\n",
       "    <tr style=\"text-align: right;\">\n",
       "      <th>income</th>\n",
       "      <th>&lt;=50K</th>\n",
       "      <th>&gt;50K</th>\n",
       "    </tr>\n",
       "    <tr>\n",
       "      <th>workclass</th>\n",
       "      <th></th>\n",
       "      <th></th>\n",
       "    </tr>\n",
       "  </thead>\n",
       "  <tbody>\n",
       "    <tr>\n",
       "      <th>Private</th>\n",
       "      <td>5443</td>\n",
       "      <td>1504</td>\n",
       "    </tr>\n",
       "    <tr>\n",
       "      <th>Public</th>\n",
       "      <td>925</td>\n",
       "      <td>392</td>\n",
       "    </tr>\n",
       "    <tr>\n",
       "      <th>Self-emp</th>\n",
       "      <td>725</td>\n",
       "      <td>423</td>\n",
       "    </tr>\n",
       "  </tbody>\n",
       "</table>\n",
       "</div>"
      ],
      "text/plain": [
       "income     <=50K  >50K\n",
       "workclass             \n",
       "Private     5443  1504\n",
       "Public       925   392\n",
       "Self-emp     725   423"
      ]
     },
     "execution_count": 222,
     "metadata": {},
     "output_type": "execute_result"
    }
   ],
   "source": [
    "#Crosstab of work-class + income and bar chart\n",
    "\n",
    "workclass_income = pd.crosstab(df_adult[\"workclass\"], df_adult[\"income\"])\n",
    "workclass_income"
   ]
  },
  {
   "cell_type": "code",
   "execution_count": 223,
   "metadata": {
    "collapsed": false
   },
   "outputs": [
    {
     "data": {
      "image/png": "[encoded data removed]",
      "text/plain": [
       "<matplotlib.figure.Figure at 0x2e728c6df28>"
      ]
     },
     "metadata": {},
     "output_type": "display_data"
    }
   ],
   "source": [
    "plt.show(workclass_income.plot(kind=\"bar\", title=\"Workclass - Income\"))"
   ]
  },
  {
   "cell_type": "markdown",
   "metadata": {},
   "source": [
    "So here we can see that there is highly unequal distirbution among all three work classes in terms of income and most of the instances are such that their income is less than or equal to 50k and also most of the people belong to private work class."
   ]
  },
  {
   "cell_type": "code",
   "execution_count": 224,
   "metadata": {
    "collapsed": false
   },
   "outputs": [
    {
     "data": {
      "text/html": [
       "<div>\n",
       "<table border=\"1\" class=\"dataframe\">\n",
       "  <thead>\n",
       "    <tr style=\"text-align: right;\">\n",
       "      <th>race</th>\n",
       "      <th>Amer-Indian</th>\n",
       "      <th>Asian</th>\n",
       "      <th>Black</th>\n",
       "      <th>Hispanic</th>\n",
       "      <th>White</th>\n",
       "    </tr>\n",
       "    <tr>\n",
       "      <th>workclass</th>\n",
       "      <th></th>\n",
       "      <th></th>\n",
       "      <th></th>\n",
       "      <th></th>\n",
       "      <th></th>\n",
       "    </tr>\n",
       "  </thead>\n",
       "  <tbody>\n",
       "    <tr>\n",
       "      <th>Private</th>\n",
       "      <td>65</td>\n",
       "      <td>204</td>\n",
       "      <td>664</td>\n",
       "      <td>64</td>\n",
       "      <td>5950</td>\n",
       "    </tr>\n",
       "    <tr>\n",
       "      <th>Public</th>\n",
       "      <td>20</td>\n",
       "      <td>48</td>\n",
       "      <td>192</td>\n",
       "      <td>5</td>\n",
       "      <td>1052</td>\n",
       "    </tr>\n",
       "    <tr>\n",
       "      <th>Self-emp</th>\n",
       "      <td>7</td>\n",
       "      <td>39</td>\n",
       "      <td>36</td>\n",
       "      <td>6</td>\n",
       "      <td>1060</td>\n",
       "    </tr>\n",
       "  </tbody>\n",
       "</table>\n",
       "</div>"
      ],
      "text/plain": [
       "race       Amer-Indian  Asian  Black  Hispanic  White\n",
       "workclass                                            \n",
       "Private             65    204    664        64   5950\n",
       "Public              20     48    192         5   1052\n",
       "Self-emp             7     39     36         6   1060"
      ]
     },
     "execution_count": 224,
     "metadata": {},
     "output_type": "execute_result"
    }
   ],
   "source": [
    "#Crosstab of work-class + race and bar chart\n",
    "\n",
    "workclass_race = pd.crosstab(df_adult[\"workclass\"], df_adult[\"race\"])\n",
    "workclass_race"
   ]
  },
  {
   "cell_type": "code",
   "execution_count": 225,
   "metadata": {
    "collapsed": false
   },
   "outputs": [
    {
     "data": {
      "image/png": "[encoded data removed]",
      "text/plain": [
       "<matplotlib.figure.Figure at 0x2e728d0d518>"
      ]
     },
     "metadata": {},
     "output_type": "display_data"
    }
   ],
   "source": [
    "plt.show(workclass_race.plot(kind=\"bar\", title=\"Workclass - Race\"))"
   ]
  },
  {
   "cell_type": "markdown",
   "metadata": {},
   "source": [
    "As we know that the Race - White has highest number of records in dataset and here as well is dominates all three work classes and there are highest number of whites in all three work classes namely Private,Public and Self-employed followed by Race - Black. Also the number of self employed people belonging to race other than White are very less in number compared to White in that work class."
   ]
  },
  {
   "cell_type": "code",
   "execution_count": 226,
   "metadata": {
    "collapsed": false
   },
   "outputs": [
    {
     "data": {
      "text/html": [
       "<div>\n",
       "<table border=\"1\" class=\"dataframe\">\n",
       "  <thead>\n",
       "    <tr style=\"text-align: right;\">\n",
       "      <th>income</th>\n",
       "      <th>&lt;=50K</th>\n",
       "      <th>&gt;50K</th>\n",
       "    </tr>\n",
       "    <tr>\n",
       "      <th>race</th>\n",
       "      <th></th>\n",
       "      <th></th>\n",
       "    </tr>\n",
       "  </thead>\n",
       "  <tbody>\n",
       "    <tr>\n",
       "      <th>Amer-Indian</th>\n",
       "      <td>83</td>\n",
       "      <td>9</td>\n",
       "    </tr>\n",
       "    <tr>\n",
       "      <th>Asian</th>\n",
       "      <td>224</td>\n",
       "      <td>67</td>\n",
       "    </tr>\n",
       "    <tr>\n",
       "      <th>Black</th>\n",
       "      <td>773</td>\n",
       "      <td>119</td>\n",
       "    </tr>\n",
       "    <tr>\n",
       "      <th>Hispanic</th>\n",
       "      <td>69</td>\n",
       "      <td>6</td>\n",
       "    </tr>\n",
       "    <tr>\n",
       "      <th>White</th>\n",
       "      <td>5944</td>\n",
       "      <td>2118</td>\n",
       "    </tr>\n",
       "  </tbody>\n",
       "</table>\n",
       "</div>"
      ],
      "text/plain": [
       "income       <=50K  >50K\n",
       "race                    \n",
       "Amer-Indian     83     9\n",
       "Asian          224    67\n",
       "Black          773   119\n",
       "Hispanic        69     6\n",
       "White         5944  2118"
      ]
     },
     "execution_count": 226,
     "metadata": {},
     "output_type": "execute_result"
    }
   ],
   "source": [
    "#Crosstab of race + income and bar chart\n",
    "\n",
    "race_income = pd.crosstab(df_adult[\"race\"], df_adult[\"income\"])\n",
    "race_income"
   ]
  },
  {
   "cell_type": "code",
   "execution_count": 230,
   "metadata": {
    "collapsed": false
   },
   "outputs": [
    {
     "data": {
      "text/html": [
       "<div>\n",
       "<table border=\"1\" class=\"dataframe\">\n",
       "  <thead>\n",
       "    <tr style=\"text-align: right;\">\n",
       "      <th>income</th>\n",
       "      <th>&lt;=50K</th>\n",
       "      <th>&gt;50K</th>\n",
       "    </tr>\n",
       "    <tr>\n",
       "      <th>race</th>\n",
       "      <th></th>\n",
       "      <th></th>\n",
       "    </tr>\n",
       "  </thead>\n",
       "  <tbody>\n",
       "    <tr>\n",
       "      <th>Amer-Indian</th>\n",
       "      <td>90.217391</td>\n",
       "      <td>9.782609</td>\n",
       "    </tr>\n",
       "    <tr>\n",
       "      <th>Asian</th>\n",
       "      <td>76.975945</td>\n",
       "      <td>23.024055</td>\n",
       "    </tr>\n",
       "    <tr>\n",
       "      <th>Black</th>\n",
       "      <td>86.659193</td>\n",
       "      <td>13.340807</td>\n",
       "    </tr>\n",
       "    <tr>\n",
       "      <th>Hispanic</th>\n",
       "      <td>92.000000</td>\n",
       "      <td>8.000000</td>\n",
       "    </tr>\n",
       "    <tr>\n",
       "      <th>White</th>\n",
       "      <td>73.728603</td>\n",
       "      <td>26.271397</td>\n",
       "    </tr>\n",
       "  </tbody>\n",
       "</table>\n",
       "</div>"
      ],
      "text/plain": [
       "income           <=50K       >50K\n",
       "race                             \n",
       "Amer-Indian  90.217391   9.782609\n",
       "Asian        76.975945  23.024055\n",
       "Black        86.659193  13.340807\n",
       "Hispanic     92.000000   8.000000\n",
       "White        73.728603  26.271397"
      ]
     },
     "execution_count": 230,
     "metadata": {},
     "output_type": "execute_result"
    }
   ],
   "source": [
    "pd.crosstab(df_adult.race, df_adult.income).apply(lambda r: r/r.sum()*100, axis=1)"
   ]
  },
  {
   "cell_type": "markdown",
   "metadata": {},
   "source": [
    "So for each of the race we can see that most of the records n this data set are under low-income category. If we talk about each race, for the race Amer-Indian 90% of them are under low-income and around 10% are under high-income category, for Asians 77% of them are under low incme category while 23% of them are under high-income category, for Black 87% are under low-income group and 13% are under high-income, for Hispanic 92% have income less than or equal to 50k so they are under low-income group while only 8% are in high-income category, for White 73% are under low-income category and 27% are under high-income category. Among all the races, if we talk for each race, highest percentage of people in low-income category are for hispanics and highest percentage of people under high-income category are for White."
   ]
  },
  {
   "cell_type": "markdown",
   "metadata": {},
   "source": [
    "Creating two tables as not sure with the wording: \"In the latter case (race+income) also create a table or chart showing percentages of each race category that fall in the low-income group\"\n",
    "\n",
    "Below table is % in each income group."
   ]
  },
  {
   "cell_type": "code",
   "execution_count": 231,
   "metadata": {
    "collapsed": false
   },
   "outputs": [
    {
     "data": {
      "text/html": [
       "<div>\n",
       "<table border=\"1\" class=\"dataframe\">\n",
       "  <thead>\n",
       "    <tr style=\"text-align: right;\">\n",
       "      <th>income</th>\n",
       "      <th>&lt;=50K</th>\n",
       "      <th>&gt;50K</th>\n",
       "    </tr>\n",
       "    <tr>\n",
       "      <th>race</th>\n",
       "      <th></th>\n",
       "      <th></th>\n",
       "    </tr>\n",
       "  </thead>\n",
       "  <tbody>\n",
       "    <tr>\n",
       "      <th>Amer-Indian</th>\n",
       "      <td>1.170168</td>\n",
       "      <td>0.388098</td>\n",
       "    </tr>\n",
       "    <tr>\n",
       "      <th>Asian</th>\n",
       "      <td>3.158043</td>\n",
       "      <td>2.889176</td>\n",
       "    </tr>\n",
       "    <tr>\n",
       "      <th>Black</th>\n",
       "      <td>10.898069</td>\n",
       "      <td>5.131522</td>\n",
       "    </tr>\n",
       "    <tr>\n",
       "      <th>Hispanic</th>\n",
       "      <td>0.972790</td>\n",
       "      <td>0.258732</td>\n",
       "    </tr>\n",
       "    <tr>\n",
       "      <th>White</th>\n",
       "      <td>83.800930</td>\n",
       "      <td>91.332471</td>\n",
       "    </tr>\n",
       "  </tbody>\n",
       "</table>\n",
       "</div>"
      ],
      "text/plain": [
       "income           <=50K       >50K\n",
       "race                             \n",
       "Amer-Indian   1.170168   0.388098\n",
       "Asian         3.158043   2.889176\n",
       "Black        10.898069   5.131522\n",
       "Hispanic      0.972790   0.258732\n",
       "White        83.800930  91.332471"
      ]
     },
     "execution_count": 231,
     "metadata": {},
     "output_type": "execute_result"
    }
   ],
   "source": [
    "pd.crosstab(df_adult.race, df_adult.income).apply(lambda r: r/r.sum()*100, axis=0)"
   ]
  },
  {
   "cell_type": "markdown",
   "metadata": {},
   "source": [
    "So we can see that in the low-income group (i.e. income <= 50k), the dominant race is White and it is expected as the data set has higher number of instances where Race is White. White constitutes of 83% people in low-income group followed by Black, Asian, Amer-Indian and Hispanic which are 11%, 3%, 1% and 1% respectively. In the high-income group (i.e. income > 50k), the dominant race is White and it is expected as the data set has higher number of instances where Race is White. White constitutes of 91% people in high-income group followed by Black, Asian, Amer-Indian and Hispanic which are 5%, 2%, 0.4% and 0.25% respectively. Races other than white constitute a very small % in the high-income group which is only 9% while in low-income group other races constitute 17%."
   ]
  },
  {
   "cell_type": "markdown",
   "metadata": {},
   "source": [
    "# 4) Compare and contrast the characteristics of the low-income and high-income categories across the different attributes."
   ]
  },
  {
   "cell_type": "code",
   "execution_count": 233,
   "metadata": {
    "collapsed": false
   },
   "outputs": [
    {
     "data": {
      "text/html": [
       "<div>\n",
       "<table border=\"1\" class=\"dataframe\">\n",
       "  <thead>\n",
       "    <tr style=\"text-align: right;\">\n",
       "      <th></th>\n",
       "      <th></th>\n",
       "      <th>age</th>\n",
       "      <th>education</th>\n",
       "      <th>hoursperweek</th>\n",
       "    </tr>\n",
       "    <tr>\n",
       "      <th>income</th>\n",
       "      <th></th>\n",
       "      <th></th>\n",
       "      <th></th>\n",
       "      <th></th>\n",
       "    </tr>\n",
       "  </thead>\n",
       "  <tbody>\n",
       "    <tr>\n",
       "      <th rowspan=\"8\" valign=\"top\">&lt;=50K</th>\n",
       "      <th>count</th>\n",
       "      <td>7093.000000</td>\n",
       "      <td>7093.000000</td>\n",
       "      <td>7093.000000</td>\n",
       "    </tr>\n",
       "    <tr>\n",
       "      <th>mean</th>\n",
       "      <td>36.644604</td>\n",
       "      <td>9.646976</td>\n",
       "      <td>39.567038</td>\n",
       "    </tr>\n",
       "    <tr>\n",
       "      <th>std</th>\n",
       "      <td>13.340142</td>\n",
       "      <td>2.397358</td>\n",
       "      <td>11.868506</td>\n",
       "    </tr>\n",
       "    <tr>\n",
       "      <th>min</th>\n",
       "      <td>17.000000</td>\n",
       "      <td>1.000000</td>\n",
       "      <td>1.000000</td>\n",
       "    </tr>\n",
       "    <tr>\n",
       "      <th>25%</th>\n",
       "      <td>26.000000</td>\n",
       "      <td>9.000000</td>\n",
       "      <td>38.000000</td>\n",
       "    </tr>\n",
       "    <tr>\n",
       "      <th>50%</th>\n",
       "      <td>35.000000</td>\n",
       "      <td>9.000000</td>\n",
       "      <td>40.000000</td>\n",
       "    </tr>\n",
       "    <tr>\n",
       "      <th>75%</th>\n",
       "      <td>45.000000</td>\n",
       "      <td>10.000000</td>\n",
       "      <td>40.000000</td>\n",
       "    </tr>\n",
       "    <tr>\n",
       "      <th>max</th>\n",
       "      <td>90.000000</td>\n",
       "      <td>16.000000</td>\n",
       "      <td>99.000000</td>\n",
       "    </tr>\n",
       "    <tr>\n",
       "      <th rowspan=\"8\" valign=\"top\">&gt;50K</th>\n",
       "      <th>count</th>\n",
       "      <td>2319.000000</td>\n",
       "      <td>2319.000000</td>\n",
       "      <td>2319.000000</td>\n",
       "    </tr>\n",
       "    <tr>\n",
       "      <th>mean</th>\n",
       "      <td>43.632531</td>\n",
       "      <td>11.588185</td>\n",
       "      <td>45.708495</td>\n",
       "    </tr>\n",
       "    <tr>\n",
       "      <th>std</th>\n",
       "      <td>10.042135</td>\n",
       "      <td>2.410764</td>\n",
       "      <td>10.678794</td>\n",
       "    </tr>\n",
       "    <tr>\n",
       "      <th>min</th>\n",
       "      <td>19.000000</td>\n",
       "      <td>2.000000</td>\n",
       "      <td>1.000000</td>\n",
       "    </tr>\n",
       "    <tr>\n",
       "      <th>25%</th>\n",
       "      <td>36.000000</td>\n",
       "      <td>9.000000</td>\n",
       "      <td>40.000000</td>\n",
       "    </tr>\n",
       "    <tr>\n",
       "      <th>50%</th>\n",
       "      <td>43.000000</td>\n",
       "      <td>12.000000</td>\n",
       "      <td>40.000000</td>\n",
       "    </tr>\n",
       "    <tr>\n",
       "      <th>75%</th>\n",
       "      <td>50.000000</td>\n",
       "      <td>13.000000</td>\n",
       "      <td>50.000000</td>\n",
       "    </tr>\n",
       "    <tr>\n",
       "      <th>max</th>\n",
       "      <td>90.000000</td>\n",
       "      <td>16.000000</td>\n",
       "      <td>99.000000</td>\n",
       "    </tr>\n",
       "  </tbody>\n",
       "</table>\n",
       "</div>"
      ],
      "text/plain": [
       "                      age    education  hoursperweek\n",
       "income                                              \n",
       "<=50K  count  7093.000000  7093.000000   7093.000000\n",
       "       mean     36.644604     9.646976     39.567038\n",
       "       std      13.340142     2.397358     11.868506\n",
       "       min      17.000000     1.000000      1.000000\n",
       "       25%      26.000000     9.000000     38.000000\n",
       "       50%      35.000000     9.000000     40.000000\n",
       "       75%      45.000000    10.000000     40.000000\n",
       "       max      90.000000    16.000000     99.000000\n",
       ">50K   count  2319.000000  2319.000000   2319.000000\n",
       "       mean     43.632531    11.588185     45.708495\n",
       "       std      10.042135     2.410764     10.678794\n",
       "       min      19.000000     2.000000      1.000000\n",
       "       25%      36.000000     9.000000     40.000000\n",
       "       50%      43.000000    12.000000     40.000000\n",
       "       75%      50.000000    13.000000     50.000000\n",
       "       max      90.000000    16.000000     99.000000"
      ]
     },
     "execution_count": 233,
     "metadata": {},
     "output_type": "execute_result"
    }
   ],
   "source": [
    "df_adult.groupby(\"income\").describe()"
   ]
  },
  {
   "cell_type": "code",
   "execution_count": 234,
   "metadata": {
    "collapsed": false
   },
   "outputs": [
    {
     "data": {
      "text/html": [
       "<div>\n",
       "<table border=\"1\" class=\"dataframe\">\n",
       "  <thead>\n",
       "    <tr style=\"text-align: right;\">\n",
       "      <th></th>\n",
       "      <th>age</th>\n",
       "      <th>education</th>\n",
       "      <th>hoursperweek</th>\n",
       "    </tr>\n",
       "    <tr>\n",
       "      <th>income</th>\n",
       "      <th></th>\n",
       "      <th></th>\n",
       "      <th></th>\n",
       "    </tr>\n",
       "  </thead>\n",
       "  <tbody>\n",
       "    <tr>\n",
       "      <th>&lt;=50K</th>\n",
       "      <td>36.644604</td>\n",
       "      <td>9.646976</td>\n",
       "      <td>39.567038</td>\n",
       "    </tr>\n",
       "    <tr>\n",
       "      <th>&gt;50K</th>\n",
       "      <td>43.632531</td>\n",
       "      <td>11.588185</td>\n",
       "      <td>45.708495</td>\n",
       "    </tr>\n",
       "  </tbody>\n",
       "</table>\n",
       "</div>"
      ],
      "text/plain": [
       "              age  education  hoursperweek\n",
       "income                                    \n",
       "<=50K   36.644604   9.646976     39.567038\n",
       ">50K    43.632531  11.588185     45.708495"
      ]
     },
     "execution_count": 234,
     "metadata": {},
     "output_type": "execute_result"
    }
   ],
   "source": [
    "df_adult.groupby(\"income\").mean()"
   ]
  },
  {
   "cell_type": "markdown",
   "metadata": {},
   "source": [
    "So here we can say that the mean age of people with income more than 50k is higher than the mean of the other class. Also we can see that people who make more than 50k have higher mean working hours per week as compared to those with income less than 50k and mean education of people who makes more than 50k is also more."
   ]
  },
  {
   "cell_type": "code",
   "execution_count": 240,
   "metadata": {
    "collapsed": false
   },
   "outputs": [
    {
     "data": {
      "text/plain": [
       "income  workclass\n",
       "<=50K   Private      5443\n",
       "        Public        925\n",
       "        Self-emp      725\n",
       ">50K    Private      1504\n",
       "        Public        392\n",
       "        Self-emp      423\n",
       "Name: workclass, dtype: int64"
      ]
     },
     "execution_count": 240,
     "metadata": {},
     "output_type": "execute_result"
    }
   ],
   "source": [
    "df_adult.groupby([\"income\",\"workclass\"])[\"workclass\"].count()"
   ]
  },
  {
   "cell_type": "code",
   "execution_count": 241,
   "metadata": {
    "collapsed": false
   },
   "outputs": [
    {
     "data": {
      "image/png": "[encoded data removed]",
      "text/plain": [
       "<matplotlib.figure.Figure at 0x2e728d07d68>"
      ]
     },
     "metadata": {},
     "output_type": "display_data"
    }
   ],
   "source": [
    "inc_wc = pd.crosstab(df_adult[\"income\"], df_adult[\"workclass\"])\n",
    "plt.show(inc_wc.plot(kind=\"bar\", title=\"Income - Workclass\"))"
   ]
  },
  {
   "cell_type": "markdown",
   "metadata": {},
   "source": [
    "So we can see that highest number of people are from private work-class in both low-income (5443) and high-income (1504) categories. But we see that there are more number of self-employed (423) work-class people than public (392) work-class people for high-income category where as there are more number of public (925) work-class people than self-employed (725) work-class people for low-income category."
   ]
  },
  {
   "cell_type": "code",
   "execution_count": 236,
   "metadata": {
    "collapsed": false
   },
   "outputs": [
    {
     "data": {
      "text/plain": [
       "income  maritalstatus\n",
       "<=50K   Married          2730\n",
       "        Single           4363\n",
       ">50K    Married          2007\n",
       "        Single            312\n",
       "Name: maritalstatus, dtype: int64"
      ]
     },
     "execution_count": 236,
     "metadata": {},
     "output_type": "execute_result"
    }
   ],
   "source": [
    "df_adult.groupby([\"income\",\"maritalstatus\"])[\"maritalstatus\"].count()"
   ]
  },
  {
   "cell_type": "code",
   "execution_count": 242,
   "metadata": {
    "collapsed": false
   },
   "outputs": [
    {
     "data": {
      "image/png": "[encoded data removed]",
      "text/plain": [
       "<matplotlib.figure.Figure at 0x2e728d3f470>"
      ]
     },
     "metadata": {},
     "output_type": "display_data"
    }
   ],
   "source": [
    "inc_ms = pd.crosstab(df_adult[\"income\"], df_adult[\"maritalstatus\"])\n",
    "plt.show(inc_ms.plot(kind=\"bar\", title=\"Income - Marital Status\"))"
   ]
  },
  {
   "cell_type": "markdown",
   "metadata": {},
   "source": [
    "So we can see that for the low-income category there are more number of people with single marital status and less with married marital status, but for the high-income category most of them are with marital status as married and very less number of people with single marital status are in high-income category."
   ]
  },
  {
   "cell_type": "code",
   "execution_count": 243,
   "metadata": {
    "collapsed": false
   },
   "outputs": [
    {
     "data": {
      "text/plain": [
       "income  race       \n",
       "<=50K   Amer-Indian      83\n",
       "        Asian           224\n",
       "        Black           773\n",
       "        Hispanic         69\n",
       "        White          5944\n",
       ">50K    Amer-Indian       9\n",
       "        Asian            67\n",
       "        Black           119\n",
       "        Hispanic          6\n",
       "        White          2118\n",
       "Name: race, dtype: int64"
      ]
     },
     "execution_count": 243,
     "metadata": {},
     "output_type": "execute_result"
    }
   ],
   "source": [
    "df_adult.groupby([\"income\",\"race\"])[\"race\"].count()"
   ]
  },
  {
   "cell_type": "code",
   "execution_count": 244,
   "metadata": {
    "collapsed": false
   },
   "outputs": [
    {
     "data": {
      "image/png": "[encoded data removed]",
      "text/plain": [
       "<matplotlib.figure.Figure at 0x2e728b16f28>"
      ]
     },
     "metadata": {},
     "output_type": "display_data"
    }
   ],
   "source": [
    "inc_race = pd.crosstab(df_adult[\"income\"], df_adult[\"race\"])\n",
    "plt.show(inc_race.plot(kind=\"bar\", title=\"Income - Race\"))"
   ]
  },
  {
   "cell_type": "markdown",
   "metadata": {},
   "source": [
    "So we can see that in the low-income group (i.e. income <= 50k), the dominant race is White and it is expected as the data set has higher number of instances where Race is White. In the high-income group (i.e. income > 50k), the dominant race is White and it is expected as the data set has higher number of instances where Race is White. Races other than white constitute a very small number in the high-income group while in low-income group other races constitute a better number as compared to high-income group."
   ]
  },
  {
   "cell_type": "code",
   "execution_count": 245,
   "metadata": {
    "collapsed": false
   },
   "outputs": [
    {
     "data": {
      "text/plain": [
       "income  sex   \n",
       "<=50K   Female    2669\n",
       "        Male      4424\n",
       ">50K    Female     360\n",
       "        Male      1959\n",
       "Name: sex, dtype: int64"
      ]
     },
     "execution_count": 245,
     "metadata": {},
     "output_type": "execute_result"
    }
   ],
   "source": [
    "df_adult.groupby([\"income\",\"sex\"])[\"sex\"].count()"
   ]
  },
  {
   "cell_type": "code",
   "execution_count": 246,
   "metadata": {
    "collapsed": false
   },
   "outputs": [
    {
     "data": {
      "image/png": "[encoded data removed]",
      "text/plain": [
       "<matplotlib.figure.Figure at 0x2e728bce828>"
      ]
     },
     "metadata": {},
     "output_type": "display_data"
    }
   ],
   "source": [
    "inc_sex = pd.crosstab(df_adult[\"income\"], df_adult[\"sex\"])\n",
    "plt.show(inc_sex.plot(kind=\"bar\", title=\"Income - Sex\"))"
   ]
  },
  {
   "cell_type": "markdown",
   "metadata": {},
   "source": [
    "So here we can see that most of the records have sex Male and it is dominant class in this attribute. If we talk about low-income category we can see that 63% of them are males and rest 37% of them are females but for the high-income category 84% of them are males and females constitute only 16% in high-income category which is less than half of them in low-income category. So we can say that in this data set most of the records in the high-income category are males."
   ]
  },
  {
   "cell_type": "markdown",
   "metadata": {},
   "source": [
    "# b. Predictive Modeling and Model Evaluation:\n",
    "\n",
    "# 1) Using either Pandas or Scikit-learn, create dummy variables for the categorical attributes. Then separate the target attribute (\"income_>50K\") from the attributes used for training. [Note: you need to drop \"income_<=50K\" which is also created as a dummy variable in earlier steps)."
   ]
  },
  {
   "cell_type": "code",
   "execution_count": 256,
   "metadata": {
    "collapsed": false
   },
   "outputs": [
    {
     "data": {
      "text/html": [
       "<div>\n",
       "<table border=\"1\" class=\"dataframe\">\n",
       "  <thead>\n",
       "    <tr style=\"text-align: right;\">\n",
       "      <th></th>\n",
       "      <th>age</th>\n",
       "      <th>education</th>\n",
       "      <th>hoursperweek</th>\n",
       "      <th>workclass_Private</th>\n",
       "      <th>workclass_Public</th>\n",
       "      <th>workclass_Self-emp</th>\n",
       "      <th>maritalstatus_Married</th>\n",
       "      <th>maritalstatus_Single</th>\n",
       "      <th>race_Amer-Indian</th>\n",
       "      <th>race_Asian</th>\n",
       "      <th>race_Black</th>\n",
       "      <th>race_Hispanic</th>\n",
       "      <th>race_White</th>\n",
       "      <th>sex_Female</th>\n",
       "      <th>sex_Male</th>\n",
       "      <th>income_&lt;=50K</th>\n",
       "      <th>income_&gt;50K</th>\n",
       "    </tr>\n",
       "  </thead>\n",
       "  <tbody>\n",
       "    <tr>\n",
       "      <th>0</th>\n",
       "      <td>39.0</td>\n",
       "      <td>13</td>\n",
       "      <td>40</td>\n",
       "      <td>0.0</td>\n",
       "      <td>1.0</td>\n",
       "      <td>0.0</td>\n",
       "      <td>0.0</td>\n",
       "      <td>1.0</td>\n",
       "      <td>0.0</td>\n",
       "      <td>0.0</td>\n",
       "      <td>0.0</td>\n",
       "      <td>0.0</td>\n",
       "      <td>1.0</td>\n",
       "      <td>0.0</td>\n",
       "      <td>1.0</td>\n",
       "      <td>1.0</td>\n",
       "      <td>0.0</td>\n",
       "    </tr>\n",
       "    <tr>\n",
       "      <th>1</th>\n",
       "      <td>50.0</td>\n",
       "      <td>13</td>\n",
       "      <td>13</td>\n",
       "      <td>0.0</td>\n",
       "      <td>0.0</td>\n",
       "      <td>1.0</td>\n",
       "      <td>1.0</td>\n",
       "      <td>0.0</td>\n",
       "      <td>0.0</td>\n",
       "      <td>0.0</td>\n",
       "      <td>0.0</td>\n",
       "      <td>0.0</td>\n",
       "      <td>1.0</td>\n",
       "      <td>0.0</td>\n",
       "      <td>1.0</td>\n",
       "      <td>1.0</td>\n",
       "      <td>0.0</td>\n",
       "    </tr>\n",
       "    <tr>\n",
       "      <th>2</th>\n",
       "      <td>38.0</td>\n",
       "      <td>9</td>\n",
       "      <td>40</td>\n",
       "      <td>1.0</td>\n",
       "      <td>0.0</td>\n",
       "      <td>0.0</td>\n",
       "      <td>0.0</td>\n",
       "      <td>1.0</td>\n",
       "      <td>0.0</td>\n",
       "      <td>0.0</td>\n",
       "      <td>0.0</td>\n",
       "      <td>0.0</td>\n",
       "      <td>1.0</td>\n",
       "      <td>0.0</td>\n",
       "      <td>1.0</td>\n",
       "      <td>1.0</td>\n",
       "      <td>0.0</td>\n",
       "    </tr>\n",
       "    <tr>\n",
       "      <th>3</th>\n",
       "      <td>53.0</td>\n",
       "      <td>7</td>\n",
       "      <td>40</td>\n",
       "      <td>1.0</td>\n",
       "      <td>0.0</td>\n",
       "      <td>0.0</td>\n",
       "      <td>1.0</td>\n",
       "      <td>0.0</td>\n",
       "      <td>0.0</td>\n",
       "      <td>0.0</td>\n",
       "      <td>1.0</td>\n",
       "      <td>0.0</td>\n",
       "      <td>0.0</td>\n",
       "      <td>0.0</td>\n",
       "      <td>1.0</td>\n",
       "      <td>1.0</td>\n",
       "      <td>0.0</td>\n",
       "    </tr>\n",
       "    <tr>\n",
       "      <th>4</th>\n",
       "      <td>28.0</td>\n",
       "      <td>13</td>\n",
       "      <td>40</td>\n",
       "      <td>1.0</td>\n",
       "      <td>0.0</td>\n",
       "      <td>0.0</td>\n",
       "      <td>1.0</td>\n",
       "      <td>0.0</td>\n",
       "      <td>0.0</td>\n",
       "      <td>0.0</td>\n",
       "      <td>1.0</td>\n",
       "      <td>0.0</td>\n",
       "      <td>0.0</td>\n",
       "      <td>1.0</td>\n",
       "      <td>0.0</td>\n",
       "      <td>1.0</td>\n",
       "      <td>0.0</td>\n",
       "    </tr>\n",
       "  </tbody>\n",
       "</table>\n",
       "</div>"
      ],
      "text/plain": [
       "    age  education  hoursperweek  workclass_Private  workclass_Public  \\\n",
       "0  39.0         13            40                0.0               1.0   \n",
       "1  50.0         13            13                0.0               0.0   \n",
       "2  38.0          9            40                1.0               0.0   \n",
       "3  53.0          7            40                1.0               0.0   \n",
       "4  28.0         13            40                1.0               0.0   \n",
       "\n",
       "   workclass_Self-emp  maritalstatus_Married  maritalstatus_Single  \\\n",
       "0                 0.0                    0.0                   1.0   \n",
       "1                 1.0                    1.0                   0.0   \n",
       "2                 0.0                    0.0                   1.0   \n",
       "3                 0.0                    1.0                   0.0   \n",
       "4                 0.0                    1.0                   0.0   \n",
       "\n",
       "   race_Amer-Indian  race_Asian  race_Black  race_Hispanic  race_White  \\\n",
       "0               0.0         0.0         0.0            0.0         1.0   \n",
       "1               0.0         0.0         0.0            0.0         1.0   \n",
       "2               0.0         0.0         0.0            0.0         1.0   \n",
       "3               0.0         0.0         1.0            0.0         0.0   \n",
       "4               0.0         0.0         1.0            0.0         0.0   \n",
       "\n",
       "   sex_Female  sex_Male  income_<=50K  income_>50K  \n",
       "0         0.0       1.0           1.0          0.0  \n",
       "1         0.0       1.0           1.0          0.0  \n",
       "2         0.0       1.0           1.0          0.0  \n",
       "3         0.0       1.0           1.0          0.0  \n",
       "4         1.0       0.0           1.0          0.0  "
      ]
     },
     "execution_count": 256,
     "metadata": {},
     "output_type": "execute_result"
    }
   ],
   "source": [
    "df_ssf = pd.get_dummies(df_adult)\n",
    "df_ssf.head()"
   ]
  },
  {
   "cell_type": "code",
   "execution_count": 263,
   "metadata": {
    "collapsed": false
   },
   "outputs": [],
   "source": [
    "df_adult_X = df_ssf.drop(['income_<=50K','income_>50K'], axis=1, inplace = False)\n",
    "df_adult_Y = df_ssf['income_>50K']"
   ]
  },
  {
   "cell_type": "code",
   "execution_count": 264,
   "metadata": {
    "collapsed": false
   },
   "outputs": [
    {
     "data": {
      "text/html": [
       "<div>\n",
       "<table border=\"1\" class=\"dataframe\">\n",
       "  <thead>\n",
       "    <tr style=\"text-align: right;\">\n",
       "      <th></th>\n",
       "      <th>age</th>\n",
       "      <th>education</th>\n",
       "      <th>hoursperweek</th>\n",
       "      <th>workclass_Private</th>\n",
       "      <th>workclass_Public</th>\n",
       "      <th>workclass_Self-emp</th>\n",
       "      <th>maritalstatus_Married</th>\n",
       "      <th>maritalstatus_Single</th>\n",
       "      <th>race_Amer-Indian</th>\n",
       "      <th>race_Asian</th>\n",
       "      <th>race_Black</th>\n",
       "      <th>race_Hispanic</th>\n",
       "      <th>race_White</th>\n",
       "      <th>sex_Female</th>\n",
       "      <th>sex_Male</th>\n",
       "    </tr>\n",
       "  </thead>\n",
       "  <tbody>\n",
       "    <tr>\n",
       "      <th>0</th>\n",
       "      <td>39.0</td>\n",
       "      <td>13</td>\n",
       "      <td>40</td>\n",
       "      <td>0.0</td>\n",
       "      <td>1.0</td>\n",
       "      <td>0.0</td>\n",
       "      <td>0.0</td>\n",
       "      <td>1.0</td>\n",
       "      <td>0.0</td>\n",
       "      <td>0.0</td>\n",
       "      <td>0.0</td>\n",
       "      <td>0.0</td>\n",
       "      <td>1.0</td>\n",
       "      <td>0.0</td>\n",
       "      <td>1.0</td>\n",
       "    </tr>\n",
       "    <tr>\n",
       "      <th>1</th>\n",
       "      <td>50.0</td>\n",
       "      <td>13</td>\n",
       "      <td>13</td>\n",
       "      <td>0.0</td>\n",
       "      <td>0.0</td>\n",
       "      <td>1.0</td>\n",
       "      <td>1.0</td>\n",
       "      <td>0.0</td>\n",
       "      <td>0.0</td>\n",
       "      <td>0.0</td>\n",
       "      <td>0.0</td>\n",
       "      <td>0.0</td>\n",
       "      <td>1.0</td>\n",
       "      <td>0.0</td>\n",
       "      <td>1.0</td>\n",
       "    </tr>\n",
       "    <tr>\n",
       "      <th>2</th>\n",
       "      <td>38.0</td>\n",
       "      <td>9</td>\n",
       "      <td>40</td>\n",
       "      <td>1.0</td>\n",
       "      <td>0.0</td>\n",
       "      <td>0.0</td>\n",
       "      <td>0.0</td>\n",
       "      <td>1.0</td>\n",
       "      <td>0.0</td>\n",
       "      <td>0.0</td>\n",
       "      <td>0.0</td>\n",
       "      <td>0.0</td>\n",
       "      <td>1.0</td>\n",
       "      <td>0.0</td>\n",
       "      <td>1.0</td>\n",
       "    </tr>\n",
       "    <tr>\n",
       "      <th>3</th>\n",
       "      <td>53.0</td>\n",
       "      <td>7</td>\n",
       "      <td>40</td>\n",
       "      <td>1.0</td>\n",
       "      <td>0.0</td>\n",
       "      <td>0.0</td>\n",
       "      <td>1.0</td>\n",
       "      <td>0.0</td>\n",
       "      <td>0.0</td>\n",
       "      <td>0.0</td>\n",
       "      <td>1.0</td>\n",
       "      <td>0.0</td>\n",
       "      <td>0.0</td>\n",
       "      <td>0.0</td>\n",
       "      <td>1.0</td>\n",
       "    </tr>\n",
       "    <tr>\n",
       "      <th>4</th>\n",
       "      <td>28.0</td>\n",
       "      <td>13</td>\n",
       "      <td>40</td>\n",
       "      <td>1.0</td>\n",
       "      <td>0.0</td>\n",
       "      <td>0.0</td>\n",
       "      <td>1.0</td>\n",
       "      <td>0.0</td>\n",
       "      <td>0.0</td>\n",
       "      <td>0.0</td>\n",
       "      <td>1.0</td>\n",
       "      <td>0.0</td>\n",
       "      <td>0.0</td>\n",
       "      <td>1.0</td>\n",
       "      <td>0.0</td>\n",
       "    </tr>\n",
       "  </tbody>\n",
       "</table>\n",
       "</div>"
      ],
      "text/plain": [
       "    age  education  hoursperweek  workclass_Private  workclass_Public  \\\n",
       "0  39.0         13            40                0.0               1.0   \n",
       "1  50.0         13            13                0.0               0.0   \n",
       "2  38.0          9            40                1.0               0.0   \n",
       "3  53.0          7            40                1.0               0.0   \n",
       "4  28.0         13            40                1.0               0.0   \n",
       "\n",
       "   workclass_Self-emp  maritalstatus_Married  maritalstatus_Single  \\\n",
       "0                 0.0                    0.0                   1.0   \n",
       "1                 1.0                    1.0                   0.0   \n",
       "2                 0.0                    0.0                   1.0   \n",
       "3                 0.0                    1.0                   0.0   \n",
       "4                 0.0                    1.0                   0.0   \n",
       "\n",
       "   race_Amer-Indian  race_Asian  race_Black  race_Hispanic  race_White  \\\n",
       "0               0.0         0.0         0.0            0.0         1.0   \n",
       "1               0.0         0.0         0.0            0.0         1.0   \n",
       "2               0.0         0.0         0.0            0.0         1.0   \n",
       "3               0.0         0.0         1.0            0.0         0.0   \n",
       "4               0.0         0.0         1.0            0.0         0.0   \n",
       "\n",
       "   sex_Female  sex_Male  \n",
       "0         0.0       1.0  \n",
       "1         0.0       1.0  \n",
       "2         0.0       1.0  \n",
       "3         0.0       1.0  \n",
       "4         1.0       0.0  "
      ]
     },
     "execution_count": 264,
     "metadata": {},
     "output_type": "execute_result"
    }
   ],
   "source": [
    "df_adult_X.head()"
   ]
  },
  {
   "cell_type": "code",
   "execution_count": 265,
   "metadata": {
    "collapsed": false
   },
   "outputs": [
    {
     "data": {
      "text/plain": [
       "0    0.0\n",
       "1    0.0\n",
       "2    0.0\n",
       "3    0.0\n",
       "4    0.0\n",
       "Name: income_>50K, dtype: float64"
      ]
     },
     "execution_count": 265,
     "metadata": {},
     "output_type": "execute_result"
    }
   ],
   "source": [
    "df_adult_Y.head()"
   ]
  },
  {
   "cell_type": "markdown",
   "metadata": {},
   "source": [
    "# 2) Use scikit-learn to build classifiers uisng Naive Bayes (Gaussian), decision tree (using \"entropy\" as selection criteria), and linear discriminant analysis (LDA). For each of these perform 10-fold cross-validation (using cross-validation module in scikit-learn) and report the overall average accuracy."
   ]
  },
  {
   "cell_type": "code",
   "execution_count": 276,
   "metadata": {
    "collapsed": false
   },
   "outputs": [
    {
     "name": "stdout",
     "output_type": "stream",
     "text": [
      "Overall Accuracy Using Cross Validation: 0.72 (+/- 0.02)\n"
     ]
    }
   ],
   "source": [
    "#(Gaussian) naive Bayes classifier\n",
    "from sklearn import naive_bayes\n",
    "\n",
    "nbclf = naive_bayes.GaussianNB()\n",
    "nbclf = nbclf.fit(df_adult_X, df_adult_Y)\n",
    "\n",
    "from sklearn import cross_validation\n",
    "cv_scores = cross_validation.cross_val_score(nbclf, df_adult_X, df_adult_Y, cv=10)\n",
    "cv_scores\n",
    "print(\"Overall Accuracy Using Cross Validation: %0.2f (+/- %0.2f)\" % (cv_scores.mean(), cv_scores.std() * 2))"
   ]
  },
  {
   "cell_type": "code",
   "execution_count": 277,
   "metadata": {
    "collapsed": false
   },
   "outputs": [
    {
     "name": "stdout",
     "output_type": "stream",
     "text": [
      "Overall Accuracy Using Cross Validation: 0.77 (+/- 0.03)\n"
     ]
    }
   ],
   "source": [
    "#Decision tree\n",
    "from sklearn.tree import tree\n",
    "\n",
    "treeclf = tree.DecisionTreeClassifier(criterion='entropy',random_state=9)\n",
    "treeclf = treeclf.fit(df_adult_X, df_adult_Y)\n",
    "\n",
    "from sklearn import cross_validation\n",
    "cv_scores = cross_validation.cross_val_score(treeclf, df_adult_X, df_adult_Y, cv=10)\n",
    "cv_scores\n",
    "print(\"Overall Accuracy Using Cross Validation: %0.2f (+/- %0.2f)\" % (cv_scores.mean(), cv_scores.std() * 2))"
   ]
  },
  {
   "cell_type": "code",
   "execution_count": 278,
   "metadata": {
    "collapsed": false
   },
   "outputs": [
    {
     "name": "stderr",
     "output_type": "stream",
     "text": [
      "C:\\Users\\GunjanPandya\\Anaconda3\\lib\\site-packages\\sklearn\\discriminant_analysis.py:387: UserWarning: Variables are collinear.\n",
      "  warnings.warn(\"Variables are collinear.\")\n",
      "C:\\Users\\GunjanPandya\\Anaconda3\\lib\\site-packages\\sklearn\\discriminant_analysis.py:387: UserWarning: Variables are collinear.\n",
      "  warnings.warn(\"Variables are collinear.\")\n",
      "C:\\Users\\GunjanPandya\\Anaconda3\\lib\\site-packages\\sklearn\\discriminant_analysis.py:387: UserWarning: Variables are collinear.\n",
      "  warnings.warn(\"Variables are collinear.\")\n",
      "C:\\Users\\GunjanPandya\\Anaconda3\\lib\\site-packages\\sklearn\\discriminant_analysis.py:387: UserWarning: Variables are collinear.\n",
      "  warnings.warn(\"Variables are collinear.\")\n",
      "C:\\Users\\GunjanPandya\\Anaconda3\\lib\\site-packages\\sklearn\\discriminant_analysis.py:387: UserWarning: Variables are collinear.\n",
      "  warnings.warn(\"Variables are collinear.\")\n",
      "C:\\Users\\GunjanPandya\\Anaconda3\\lib\\site-packages\\sklearn\\discriminant_analysis.py:387: UserWarning: Variables are collinear.\n",
      "  warnings.warn(\"Variables are collinear.\")\n",
      "C:\\Users\\GunjanPandya\\Anaconda3\\lib\\site-packages\\sklearn\\discriminant_analysis.py:387: UserWarning: Variables are collinear.\n",
      "  warnings.warn(\"Variables are collinear.\")\n",
      "C:\\Users\\GunjanPandya\\Anaconda3\\lib\\site-packages\\sklearn\\discriminant_analysis.py:387: UserWarning: Variables are collinear.\n",
      "  warnings.warn(\"Variables are collinear.\")\n",
      "C:\\Users\\GunjanPandya\\Anaconda3\\lib\\site-packages\\sklearn\\discriminant_analysis.py:387: UserWarning: Variables are collinear.\n",
      "  warnings.warn(\"Variables are collinear.\")\n",
      "C:\\Users\\GunjanPandya\\Anaconda3\\lib\\site-packages\\sklearn\\discriminant_analysis.py:387: UserWarning: Variables are collinear.\n",
      "  warnings.warn(\"Variables are collinear.\")\n",
      "C:\\Users\\GunjanPandya\\Anaconda3\\lib\\site-packages\\sklearn\\discriminant_analysis.py:387: UserWarning: Variables are collinear.\n",
      "  warnings.warn(\"Variables are collinear.\")\n"
     ]
    },
    {
     "name": "stdout",
     "output_type": "stream",
     "text": [
      "Overall Accuracy Using Cross Validation: 0.81 (+/- 0.02)\n"
     ]
    }
   ],
   "source": [
    "#Linear Discriminant Analysis\n",
    "from sklearn.lda import LDA\n",
    "\n",
    "ldclf = LDA()\n",
    "ldclf = ldclf.fit(df_adult_X, df_adult_Y)\n",
    "\n",
    "from sklearn import cross_validation\n",
    "cv_scores = cross_validation.cross_val_score(ldclf, df_adult_X, df_adult_Y, cv=10)\n",
    "print(\"Overall Accuracy Using Cross Validation: %0.2f (+/- %0.2f)\" % (cv_scores.mean(), cv_scores.std() * 2))"
   ]
  },
  {
   "cell_type": "markdown",
   "metadata": {},
   "source": [
    "# 3) [Extra Credit] For the decision tree model (generated on the full training data), generate a visualization of tree and submit it as a separate file (png, jpg, or pdf)."
   ]
  },
  {
   "cell_type": "code",
   "execution_count": 285,
   "metadata": {
    "collapsed": false
   },
   "outputs": [
    {
     "ename": "ImportError",
     "evalue": "No module named 'pydot3'",
     "output_type": "error",
     "traceback": [
      "\u001b[1;31m---------------------------------------------------------------------------\u001b[0m",
      "\u001b[1;31mImportError\u001b[0m                               Traceback (most recent call last)",
      "\u001b[1;32m<ipython-input-285-dc14442484aa>\u001b[0m in \u001b[0;36m<module>\u001b[1;34m()\u001b[0m\n\u001b[0;32m      1\u001b[0m \u001b[1;32mfrom\u001b[0m \u001b[0msklearn\u001b[0m \u001b[1;32mimport\u001b[0m \u001b[0mtree\u001b[0m\u001b[1;33m\u001b[0m\u001b[0m\n\u001b[0;32m      2\u001b[0m \u001b[1;32mfrom\u001b[0m \u001b[0mio\u001b[0m \u001b[1;32mimport\u001b[0m \u001b[0mStringIO\u001b[0m\u001b[1;33m\u001b[0m\u001b[0m\n\u001b[1;32m----> 3\u001b[1;33m \u001b[1;32mimport\u001b[0m \u001b[0mpydot3\u001b[0m\u001b[1;33m\u001b[0m\u001b[0m\n\u001b[0m",
      "\u001b[1;31mImportError\u001b[0m: No module named 'pydot3'"
     ]
    }
   ],
   "source": [
    "from sklearn import tree\n",
    "from io import StringIO\n",
    "import pydot"
   ]
  },
  {
   "cell_type": "code",
   "execution_count": null,
   "metadata": {
    "collapsed": true
   },
   "outputs": [],
   "source": []
  }
 ],
 "metadata": {
  "kernelspec": {
   "display_name": "Python [Root]",
   "language": "python",
   "name": "Python [Root]"
  },
  "language_info": {
   "codemirror_mode": {
    "name": "ipython",
    "version": 3
   },
   "file_extension": ".py",
   "mimetype": "text/x-python",
   "name": "python",
   "nbconvert_exporter": "python",
   "pygments_lexer": "ipython3",
   "version": "3.5.2"
  }
 },
 "nbformat": 4,
 "nbformat_minor": 0
}
